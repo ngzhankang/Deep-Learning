{
  "nbformat": 4,
  "nbformat_minor": 0,
  "metadata": {
    "colab": {
      "name": "Assignment_1.ipynb",
      "provenance": [],
      "toc_visible": true,
      "authorship_tag": "ABX9TyPCu2B6duMgbHm+Lftyfydb",
      "include_colab_link": true
    },
    "kernelspec": {
      "name": "python3",
      "display_name": "Python 3"
    },
    "accelerator": "GPU"
  },
  "cells": [
    {
      "cell_type": "markdown",
      "metadata": {
        "id": "view-in-github",
        "colab_type": "text"
      },
      "source": [
        "<a href=\"https://colab.research.google.com/github/ngzhankang/Deep-Learning/blob/main/Assignment_1.ipynb\" target=\"_parent\"><img src=\"https://colab.research.google.com/assets/colab-badge.svg\" alt=\"Open In Colab\"/></a>"
      ]
    },
    {
      "cell_type": "markdown",
      "metadata": {
        "id": "cgTaLrOvB90e"
      },
      "source": [
        "# Assignment 1\n",
        "Submitted by : P1935727 Ng Zhan Kang<br>\n",
        "Class of DIT/FT/2B/11\n"
      ]
    },
    {
      "cell_type": "markdown",
      "metadata": {
        "id": "dc_pUkkFF9Lg"
      },
      "source": [
        "---\n",
        "---"
      ]
    },
    {
      "cell_type": "markdown",
      "metadata": {
        "id": "vE-S0J3BG-jO"
      },
      "source": [
        "# 1.Setting Up Working Environment In Google Colab"
      ]
    },
    {
      "cell_type": "markdown",
      "metadata": {
        "id": "dEaQJ7Rz88NW"
      },
      "source": [
        "### 1.1 Ensuring 0% Util\n",
        "\n",
        "---\n",
        "\n",
        "Ensure that our slot give by Google is not utilized yet."
      ]
    },
    {
      "cell_type": "code",
      "metadata": {
        "id": "4vU3IPB-9wF6",
        "outputId": "a8e46eec-2809-40f2-c5dc-78a11d709488",
        "colab": {
          "base_uri": "https://localhost:8080/"
        }
      },
      "source": [
        "# to ensure that the current gpu utilization is 0\n",
        "# memory footprint support libraries/code\n",
        "!ln -sf /opt/bin/nvidia-smi /usr/bin/nvidia-smi\n",
        "!pip install gputil\n",
        "!pip install psutil\n",
        "!pip install humanize\n",
        "import psutil\n",
        "import humanize\n",
        "import os\n",
        "import GPUtil as GPU\n",
        "GPUs = GPU.getGPUs()\n",
        "# XXX: only one GPU on Colab and isn’t guaranteed\n",
        "gpu = GPUs[0]\n",
        "def printm():\n",
        " process = psutil.Process(os.getpid())\n",
        " print(\"Gen RAM Free: \" + humanize.naturalsize( psutil.virtual_memory().available ), \" | Proc size: \" + humanize.naturalsize( process.memory_info().rss))\n",
        " print(\"GPU RAM Free: {0:.0f}MB | Used: {1:.0f}MB | Util {2:3.0f}% | Total {3:.0f}MB\".format(gpu.memoryFree, gpu.memoryUsed, gpu.memoryUtil*100, gpu.memoryTotal))\n",
        "printm() "
      ],
      "execution_count": 1,
      "outputs": [
        {
          "output_type": "stream",
          "text": [
            "Collecting gputil\n",
            "  Downloading https://files.pythonhosted.org/packages/ed/0e/5c61eedde9f6c87713e89d794f01e378cfd9565847d4576fa627d758c554/GPUtil-1.4.0.tar.gz\n",
            "Building wheels for collected packages: gputil\n",
            "  Building wheel for gputil (setup.py) ... \u001b[?25l\u001b[?25hdone\n",
            "  Created wheel for gputil: filename=GPUtil-1.4.0-cp36-none-any.whl size=7411 sha256=19656f600ca107a7d89671d64d775fae0de8aba82be8e013a166e8c64d102da2\n",
            "  Stored in directory: /root/.cache/pip/wheels/3d/77/07/80562de4bb0786e5ea186911a2c831fdd0018bda69beab71fd\n",
            "Successfully built gputil\n",
            "Installing collected packages: gputil\n",
            "Successfully installed gputil-1.4.0\n",
            "Requirement already satisfied: psutil in /usr/local/lib/python3.6/dist-packages (5.4.8)\n",
            "Requirement already satisfied: humanize in /usr/local/lib/python3.6/dist-packages (0.5.1)\n",
            "Gen RAM Free: 12.8 GB  | Proc size: 111.5 MB\n",
            "GPU RAM Free: 15079MB | Used: 0MB | Util   0% | Total 15079MB\n"
          ],
          "name": "stdout"
        }
      ]
    },
    {
      "cell_type": "markdown",
      "metadata": {
        "id": "SWjAy1ds9Kns"
      },
      "source": [
        "### 1.2. Forcing Utils To 0% To Get A Clean Cluster\n",
        "\n",
        "---\n",
        "\n",
        "Please do not use this step unless forced to."
      ]
    },
    {
      "cell_type": "code",
      "metadata": {
        "id": "Gqa73iPB93yZ"
      },
      "source": [
        "# if utilization is > 0, run this code(keep running this cell and the above cell till the util number is 0%):\n",
        "# NOTE THAT RUNNING THIS MIGHT KILL GPU SESSION AND RESULT IN DATA LOSS(NOT ADVICABLE TO KEEP ON REUSING)\n",
        "# !kill -9 -1"
      ],
      "execution_count": 2,
      "outputs": []
    },
    {
      "cell_type": "markdown",
      "metadata": {
        "id": "L0aYmZCq8qjQ"
      },
      "source": [
        "---\n",
        "---"
      ]
    },
    {
      "cell_type": "markdown",
      "metadata": {
        "id": "FfVnMSOFGln8"
      },
      "source": [
        "# 2.Ensuring GPU Is Utilized In Environment"
      ]
    },
    {
      "cell_type": "markdown",
      "metadata": {
        "id": "lbDAAbwSG7DN"
      },
      "source": [
        "### 2.1. See the list of available devices\n",
        "\n",
        "---\n",
        "\n",
        "This entire section can be omitted if users are not utilizing GPU at all."
      ]
    },
    {
      "cell_type": "code",
      "metadata": {
        "id": "l6OEWFOMcAM_",
        "outputId": "d117fceb-64d3-427c-8782-68926edc5c51",
        "colab": {
          "base_uri": "https://localhost:8080/"
        }
      },
      "source": [
        "from tensorflow.python.client import device_lib\n",
        "print(device_lib.list_local_devices())"
      ],
      "execution_count": 3,
      "outputs": [
        {
          "output_type": "stream",
          "text": [
            "[name: \"/device:CPU:0\"\n",
            "device_type: \"CPU\"\n",
            "memory_limit: 268435456\n",
            "locality {\n",
            "}\n",
            "incarnation: 15205261443815312062\n",
            ", name: \"/device:XLA_CPU:0\"\n",
            "device_type: \"XLA_CPU\"\n",
            "memory_limit: 17179869184\n",
            "locality {\n",
            "}\n",
            "incarnation: 4197976416124481754\n",
            "physical_device_desc: \"device: XLA_CPU device\"\n",
            ", name: \"/device:XLA_GPU:0\"\n",
            "device_type: \"XLA_GPU\"\n",
            "memory_limit: 17179869184\n",
            "locality {\n",
            "}\n",
            "incarnation: 9898495372310649072\n",
            "physical_device_desc: \"device: XLA_GPU device\"\n",
            ", name: \"/device:GPU:0\"\n",
            "device_type: \"GPU\"\n",
            "memory_limit: 14640891840\n",
            "locality {\n",
            "  bus_id: 1\n",
            "  links {\n",
            "  }\n",
            "}\n",
            "incarnation: 12093249886019536840\n",
            "physical_device_desc: \"device: 0, name: Tesla T4, pci bus id: 0000:00:04.0, compute capability: 7.5\"\n",
            "]\n"
          ],
          "name": "stdout"
        }
      ]
    },
    {
      "cell_type": "code",
      "metadata": {
        "id": "baot31IdcLjO",
        "outputId": "d2aa5307-b05f-40b6-8359-9c79e53e3e1a",
        "colab": {
          "base_uri": "https://localhost:8080/"
        }
      },
      "source": [
        "import tensorflow as tf\n",
        "print(\"Num GPUs Available: \", len(tf.config.experimental.list_physical_devices('GPU')))"
      ],
      "execution_count": 4,
      "outputs": [
        {
          "output_type": "stream",
          "text": [
            "Num GPUs Available:  1\n"
          ],
          "name": "stdout"
        }
      ]
    },
    {
      "cell_type": "code",
      "metadata": {
        "id": "vS-gWw_jcOeh",
        "outputId": "462fd8ea-d254-4f9c-a889-d719ac201549",
        "colab": {
          "base_uri": "https://localhost:8080/",
          "height": 36
        }
      },
      "source": [
        "tf.test.gpu_device_name()"
      ],
      "execution_count": 5,
      "outputs": [
        {
          "output_type": "execute_result",
          "data": {
            "application/vnd.google.colaboratory.intrinsic+json": {
              "type": "string"
            },
            "text/plain": [
              "'/device:GPU:0'"
            ]
          },
          "metadata": {
            "tags": []
          },
          "execution_count": 5
        }
      ]
    },
    {
      "cell_type": "code",
      "metadata": {
        "id": "dmpPA6cY_Qua",
        "outputId": "c2e13c4e-add5-45e9-b827-2df7e9f93d23",
        "colab": {
          "base_uri": "https://localhost:8080/"
        }
      },
      "source": [
        "!nvidia-smi"
      ],
      "execution_count": 6,
      "outputs": [
        {
          "output_type": "stream",
          "text": [
            "Sat Nov 14 15:54:00 2020       \n",
            "+-----------------------------------------------------------------------------+\n",
            "| NVIDIA-SMI 418.67       Driver Version: 418.67       CUDA Version: 10.1     |\n",
            "|-------------------------------+----------------------+----------------------+\n",
            "| GPU  Name        Persistence-M| Bus-Id        Disp.A | Volatile Uncorr. ECC |\n",
            "| Fan  Temp  Perf  Pwr:Usage/Cap|         Memory-Usage | GPU-Util  Compute M. |\n",
            "|===============================+======================+======================|\n",
            "|   0  Tesla T4            Off  | 00000000:00:04.0 Off |                    0 |\n",
            "| N/A   46C    P0    27W /  70W |    227MiB / 15079MiB |      2%      Default |\n",
            "+-------------------------------+----------------------+----------------------+\n",
            "                                                                               \n",
            "+-----------------------------------------------------------------------------+\n",
            "| Processes:                                                       GPU Memory |\n",
            "|  GPU       PID   Type   Process name                             Usage      |\n",
            "|=============================================================================|\n",
            "+-----------------------------------------------------------------------------+\n"
          ],
          "name": "stdout"
        }
      ]
    },
    {
      "cell_type": "markdown",
      "metadata": {
        "id": "F08LAekAHBhq"
      },
      "source": [
        "---\n",
        "---"
      ]
    },
    {
      "cell_type": "markdown",
      "metadata": {
        "id": "Id1KUxFrCnKw"
      },
      "source": [
        "# 3.About The MNIST Dataset (Background Information)"
      ]
    },
    {
      "cell_type": "markdown",
      "metadata": {
        "id": "QiQ-Uvol8ZIp"
      },
      "source": [
        "## 3.1. Background\n",
        "- The MNIST database(Modified National Institute of Standards and Technology database) history came to existence by \n",
        "- The MNIST database of handwritten digits, available from this page, has a training set of 60,000 examples, and a test set of 10,000 examples. It is a subset of a larger set available from NIST. The digits have been size-normalized and centered in a fixed-size image."
      ]
    },
    {
      "cell_type": "markdown",
      "metadata": {
        "id": "DRAg_XY2CsJ3"
      },
      "source": [
        "## 3.2. Classic MNIST Dataset\n",
        "- For this problem, create a CNN for image classification and evaluate the performance of the network\n",
        "- Prepare the data and perform necessary feature engineering\n",
        "- Create **_three models_** \n",
        "- Evaluate the models and pick the best candidate\n",
        "- Form some conclusions"
      ]
    },
    {
      "cell_type": "markdown",
      "metadata": {
        "id": "cSnt3olNIJlH"
      },
      "source": [
        "---\n",
        "---"
      ]
    },
    {
      "cell_type": "markdown",
      "metadata": {
        "id": "1-AF7n6VCwiI"
      },
      "source": [
        "# 4.Data Importing"
      ]
    },
    {
      "cell_type": "markdown",
      "metadata": {
        "id": "4xGz4pqKINfL"
      },
      "source": [
        "### 4.1. Load the libraries\n",
        "\n",
        "---\n",
        "\n",
        "Import the necessary libraries."
      ]
    },
    {
      "cell_type": "code",
      "metadata": {
        "id": "i4GavKz7CzgA"
      },
      "source": [
        "# Suppress Future Warnings\n",
        "import warnings\n",
        "warnings.filterwarnings('ignore')"
      ],
      "execution_count": 7,
      "outputs": []
    },
    {
      "cell_type": "code",
      "metadata": {
        "id": "6OMhNQRPC23r",
        "outputId": "f752e8c9-24d1-423a-8f92-a0596c3135df",
        "colab": {
          "base_uri": "https://localhost:8080/"
        }
      },
      "source": [
        "# check versions of libraries we are going to use\n",
        "%tensorflow_version 2.x\n",
        "import os\n",
        "import tensorflow\n",
        "import sklearn\n",
        "import numpy as np\n",
        "import pandas as pd\n",
        "import seaborn as sns\n",
        "import matplotlib\n",
        "import platform\n",
        "\n",
        "message=\"        Versions        \"\n",
        "print(\"*\"*len(message))\n",
        "print(message)\n",
        "print(\"*\"*len(message))\n",
        "print(\"Tensorflow version={}\".format(tensorflow.__version__))\n",
        "print(\"Keras version={}\".format(tensorflow.keras.__version__))\n",
        "print(\"Sklearn version={}\".format(sklearn.__version__))\n",
        "print(\"Numpy version={}\".format(np.__version__))\n",
        "print(\"Pandas version={}\".format(pd.__version__))\n",
        "print(\"Seaborn version={}\".format(sns.__version__))\n",
        "print(\"Matplotlib version={}\".format(matplotlib.__version__))\n",
        "print(\"Python version={}\".format(platform.python_version()))"
      ],
      "execution_count": 8,
      "outputs": [
        {
          "output_type": "stream",
          "text": [
            "************************\n",
            "        Versions        \n",
            "************************\n",
            "Tensorflow version=2.3.0\n",
            "Keras version=2.4.0\n",
            "Sklearn version=0.22.2.post1\n",
            "Numpy version=1.18.5\n",
            "Pandas version=1.1.4\n",
            "Seaborn version=0.11.0\n",
            "Matplotlib version=3.2.2\n",
            "Python version=3.6.9\n"
          ],
          "name": "stdout"
        }
      ]
    },
    {
      "cell_type": "code",
      "metadata": {
        "id": "yjLekX4z9_nf"
      },
      "source": [
        "# start importing necessary libraries\n",
        "import tensorflow as tf\n",
        "from tensorflow.keras.models import Sequential\n",
        "from tensorflow.keras.layers import Dense, Conv2D, Dropout, Flatten, MaxPooling2D, Activation, BatchNormalization\n",
        "from tensorflow.keras.regularizers import l2\n",
        "from tensorflow.keras.optimizers import RMSprop, Adam\n",
        "\n",
        "from tensorflow.keras.callbacks import EarlyStopping, LearningRateScheduler, History\n",
        "from tensorflow.keras import losses\n",
        "from sklearn.utils import shuffle\n",
        "from sklearn.metrics import confusion_matrix\n",
        "\n",
        "import pandas as pd\n",
        "import matplotlib.pyplot as plt\n",
        "import seaborn as sns\n",
        "import numpy as np\n",
        "import itertools\n",
        "\n",
        "%matplotlib inline"
      ],
      "execution_count": 9,
      "outputs": []
    },
    {
      "cell_type": "code",
      "metadata": {
        "id": "7EwCUvGDH8tH"
      },
      "source": [
        "# fix random seed for reproducibility\n",
        "np.random.seed(5)"
      ],
      "execution_count": 10,
      "outputs": []
    },
    {
      "cell_type": "code",
      "metadata": {
        "id": "pXWoWulRC_sP",
        "outputId": "8c04db71-4bbe-4262-f9f2-3428d9ee8d87",
        "colab": {
          "base_uri": "https://localhost:8080/"
        }
      },
      "source": [
        "# get the dataset from keras library in tensorflow 2.0\n",
        "mnist = tf.keras.datasets.mnist\n",
        "\n",
        "# unpack the dataset to the respective x_train, y_train, x_test and y_test\n",
        "(x_train, y_train), (x_test, y_test) = mnist.load_data()"
      ],
      "execution_count": 11,
      "outputs": [
        {
          "output_type": "stream",
          "text": [
            "Downloading data from https://storage.googleapis.com/tensorflow/tf-keras-datasets/mnist.npz\n",
            "11493376/11490434 [==============================] - 0s 0us/step\n"
          ],
          "name": "stdout"
        }
      ]
    },
    {
      "cell_type": "markdown",
      "metadata": {
        "id": "aLvoYw5FIrJE"
      },
      "source": [
        "<div class=\"alert alert-block alert-info\">\n",
        "    <b>Analysis Summary:</b> MNIST Dataset includes handwritten digits from 0 to 9, and dimensions are 28 by 28 pixels. Each pixels is 8 bits, so its value ranges from to 0 to 255.<p>\n",
        "</div>"
      ]
    },
    {
      "cell_type": "markdown",
      "metadata": {
        "id": "EYcgK0sTFrvZ"
      },
      "source": [
        "### 4.2. Verify the dataset\n",
        "\n",
        "---\n",
        "\n",
        "Verify the credibility of the dataset first by plotting the 1st 25 images from the training set and display the class name below each image."
      ]
    },
    {
      "cell_type": "code",
      "metadata": {
        "id": "YXCBHJQVFsGK",
        "outputId": "c0512687-08e7-4fc4-c0d4-a314989f6a1e",
        "colab": {
          "base_uri": "https://localhost:8080/",
          "height": 589
        }
      },
      "source": [
        "plt.figure(figsize=(10,10))\n",
        "for i in range(25):\n",
        "    plt.subplot(5,5,i+1)\n",
        "    plt.xticks([])\n",
        "    plt.yticks([])\n",
        "    plt.grid(False)\n",
        "    plt.imshow(x_train[i], cmap=plt.cm.binary)\n",
        "    plt.xlabel(y_train[i], color=\"yellow\")\n",
        "plt.show()"
      ],
      "execution_count": 12,
      "outputs": [
        {
          "output_type": "display_data",
          "data": {
            "image/png": "[encoded data removed]",
            "text/plain": [
              "<Figure size 720x720 with 25 Axes>"
            ]
          },
          "metadata": {
            "tags": []
          }
        }
      ]
    },
    {
      "cell_type": "markdown",
      "metadata": {
        "id": "T6lG2VSFF7nC"
      },
      "source": [
        "<div class=\"alert alert-block alert-info\">\n",
        "    <b>Analysis Summary:</b> It seems that the labels matches all the images, which is good! Now let's carry on to get a better insight of the datatset we are going to deal with.<p>\n",
        "</div>"
      ]
    },
    {
      "cell_type": "markdown",
      "metadata": {
        "id": "ARlNpLenHMk-"
      },
      "source": [
        "---\n",
        "---"
      ]
    },
    {
      "cell_type": "markdown",
      "metadata": {
        "id": "34w33z5aHNrb"
      },
      "source": [
        "# 5.Exploratory Data Analysis"
      ]
    },
    {
      "cell_type": "markdown",
      "metadata": {
        "id": "Gkd8sWV_6oht"
      },
      "source": [
        "### 5.1. Basic Data Exploration\n",
        "\n",
        "---\n",
        "\n",
        "Take a peek look at what is inside the `x_train` and the `x_test`."
      ]
    },
    {
      "cell_type": "code",
      "metadata": {
        "id": "M5xOZA3G4HYf",
        "outputId": "7ed34f32-3fd4-4449-b37f-8d2538538c74",
        "colab": {
          "base_uri": "https://localhost:8080/"
        }
      },
      "source": [
        "# take a look at the x_train set first\n",
        "print(x_train.shape)\n",
        "print(y_train.shape)"
      ],
      "execution_count": 13,
      "outputs": [
        {
          "output_type": "stream",
          "text": [
            "(60000, 28, 28)\n",
            "(60000,)\n"
          ],
          "name": "stdout"
        }
      ]
    },
    {
      "cell_type": "code",
      "metadata": {
        "id": "SR9JVfvk62fU",
        "outputId": "2b8b396c-df4d-448b-81db-1320be29ec26",
        "colab": {
          "base_uri": "https://localhost:8080/"
        }
      },
      "source": [
        "# take a look at the x_test set\n",
        "print(x_test.shape)\n",
        "print(y_test.shape)"
      ],
      "execution_count": 14,
      "outputs": [
        {
          "output_type": "stream",
          "text": [
            "(10000, 28, 28)\n",
            "(10000,)\n"
          ],
          "name": "stdout"
        }
      ]
    },
    {
      "cell_type": "code",
      "metadata": {
        "id": "YR66TbQJ6-An",
        "outputId": "e5186577-8aad-4d7a-8fb9-021cbafe1dbf",
        "colab": {
          "base_uri": "https://localhost:8080/",
          "height": 265
        }
      },
      "source": [
        "# grab a random picture to take a look\n",
        "plt.imshow(x_train[5], cmap=plt.cm.binary)\n",
        "plt.show()"
      ],
      "execution_count": 15,
      "outputs": [
        {
          "output_type": "display_data",
          "data": {
            "image/png": "[encoded data removed]",
            "text/plain": [
              "<Figure size 432x288 with 1 Axes>"
            ]
          },
          "metadata": {
            "tags": [],
            "needs_background": "light"
          }
        }
      ]
    },
    {
      "cell_type": "code",
      "metadata": {
        "id": "qQeHiDS47ZVw",
        "outputId": "bfa4f75f-4169-4402-e072-a84889b7f059",
        "colab": {
          "base_uri": "https://localhost:8080/"
        }
      },
      "source": [
        "# get the distinct lables that are found in the entire thing\n",
        "print('Training set unique labels:',np.unique(y_train))\n",
        "print('Test set unique labels:',np.unique(y_test))"
      ],
      "execution_count": 16,
      "outputs": [
        {
          "output_type": "stream",
          "text": [
            "Training set unique labels: [0 1 2 3 4 5 6 7 8 9]\n",
            "Test set unique labels: [0 1 2 3 4 5 6 7 8 9]\n"
          ],
          "name": "stdout"
        }
      ]
    },
    {
      "cell_type": "code",
      "metadata": {
        "id": "s94V4iGA6IgO",
        "outputId": "124d7c4a-604f-4e1b-fee8-c68e5d1e50b7",
        "colab": {
          "base_uri": "https://localhost:8080/"
        }
      },
      "source": [
        "# get the count of the values from 0 to 9\n",
        "unique, counts = np.unique(y_train, return_counts=True)\n",
        "print(np.asarray((unique, counts)).T)"
      ],
      "execution_count": 17,
      "outputs": [
        {
          "output_type": "stream",
          "text": [
            "[[   0 5923]\n",
            " [   1 6742]\n",
            " [   2 5958]\n",
            " [   3 6131]\n",
            " [   4 5842]\n",
            " [   5 5421]\n",
            " [   6 5918]\n",
            " [   7 6265]\n",
            " [   8 5851]\n",
            " [   9 5949]]\n"
          ],
          "name": "stdout"
        }
      ]
    },
    {
      "cell_type": "code",
      "metadata": {
        "id": "PHxX7kx3A0P-",
        "outputId": "766c4db1-1479-4d17-d1b1-1b379e8a2548",
        "colab": {
          "base_uri": "https://localhost:8080/",
          "height": 299
        }
      },
      "source": [
        "# get the distribution of our pixel values\n",
        "fig = plt.figure()\n",
        "plt.subplot(2,1,1)\n",
        "plt.imshow(x_train[0], cmap='gray', interpolation='none')\n",
        "plt.title(\"Digit: {}\".format(y_train[0]))\n",
        "plt.xticks([])\n",
        "plt.yticks([])\n",
        "\n",
        "plt.subplot(2,1,2)\n",
        "plt.hist(x_train[0].reshape(784))\n",
        "plt.title(\"Pixel Value Distribution\")"
      ],
      "execution_count": 18,
      "outputs": [
        {
          "output_type": "execute_result",
          "data": {
            "text/plain": [
              "Text(0.5, 1.0, 'Pixel Value Distribution')"
            ]
          },
          "metadata": {
            "tags": []
          },
          "execution_count": 18
        },
        {
          "output_type": "display_data",
          "data": {
            "image/png": "[encoded data removed]",
            "text/plain": [
              "<Figure size 432x288 with 2 Axes>"
            ]
          },
          "metadata": {
            "tags": [],
            "needs_background": "light"
          }
        }
      ]
    },
    {
      "cell_type": "markdown",
      "metadata": {
        "id": "QIoM0g6UBO-L"
      },
      "source": [
        "<div class=\"alert alert-block alert-info\">\n",
        "    <b>Analysis Summary:</b> From what we can see, the pixel values ranges from 0 to 255, with the majority close to 0, and those close to 255 respresenting the digit.<p>\n",
        "</div>"
      ]
    },
    {
      "cell_type": "markdown",
      "metadata": {
        "id": "UPO-4wQGHnq-"
      },
      "source": [
        "---\n",
        "---"
      ]
    },
    {
      "cell_type": "markdown",
      "metadata": {
        "id": "8e7cOjDtHrpd"
      },
      "source": [
        "# 6.Feature Engineering"
      ]
    },
    {
      "cell_type": "markdown",
      "metadata": {
        "id": "I6PR8lUGIjf7"
      },
      "source": [
        "### 6.1. Normalize Training Data\n",
        "\n",
        "---\n",
        "\n",
        "Normalize the entire training dataset so that there is not much variation."
      ]
    },
    {
      "cell_type": "code",
      "metadata": {
        "id": "dxgG6lH8Igxn",
        "outputId": "fe67311c-d961-4c18-94cd-40764d7feb75",
        "colab": {
          "base_uri": "https://localhost:8080/"
        }
      },
      "source": [
        "# attempt to normalize the entire dataset first from 0-255 to 0-1\n",
        "x_train = x_train / 255\n",
        "x_test = x_test / 255\n",
        "\n",
        "# see the shape of x_train and x_test first\n",
        "print('x_train shape:', x_train.shape)\n",
        "print(x_train.shape[0], 'train samples')\n",
        "print(x_test.shape[0], 'test samples')"
      ],
      "execution_count": 19,
      "outputs": [
        {
          "output_type": "stream",
          "text": [
            "x_train shape: (60000, 28, 28)\n",
            "60000 train samples\n",
            "10000 test samples\n"
          ],
          "name": "stdout"
        }
      ]
    },
    {
      "cell_type": "markdown",
      "metadata": {
        "id": "MpE9BpXTIbsN"
      },
      "source": [
        "### 6.2. Changing Dimension To Match Keras Expectation\n",
        "\n",
        "---\n",
        "\n",
        "Reshape `x_train` and `x_test` to 4 dimensional array for the convolutional layer later on."
      ]
    },
    {
      "cell_type": "code",
      "metadata": {
        "id": "UUNk_StCNAN-",
        "outputId": "a43634ff-c171-4226-e38b-61596133e8cf",
        "colab": {
          "base_uri": "https://localhost:8080/"
        }
      },
      "source": [
        "# flatten 28*28 pixel images to 784 pixels for each image(from a 2D array to a 1D array)\n",
        "num_pixels = x_train.shape[1] * x_train.shape[2]\n",
        "x_train = x_train.reshape(x_train.shape[0], num_pixels).astype('float32')\n",
        "x_test = x_test.reshape(x_test.shape[0], num_pixels).astype('float32')\n",
        "\n",
        "# see the changes\n",
        "print('New x_train shape:', x_train.shape)\n",
        "print(x_train.shape[0], 'train samples')\n",
        "print(x_test.shape[0], 'test samples')"
      ],
      "execution_count": 20,
      "outputs": [
        {
          "output_type": "stream",
          "text": [
            "New x_train shape: (60000, 784)\n",
            "60000 train samples\n",
            "10000 test samples\n"
          ],
          "name": "stdout"
        }
      ]
    },
    {
      "cell_type": "markdown",
      "metadata": {
        "id": "hejHzHbJJslI"
      },
      "source": [
        "### 6.3. Convert To Categorical Data\n",
        "\n",
        "---\n",
        "\n",
        "Convert the labels to categorical data as we do not want the model to think 9 has a higher priority than 0."
      ]
    },
    {
      "cell_type": "code",
      "metadata": {
        "id": "JdB5ywKlJwZs",
        "outputId": "af0cb1e2-18f3-4870-a13c-940657413802",
        "colab": {
          "base_uri": "https://localhost:8080/"
        }
      },
      "source": [
        "# use to_categorical to convert the training and testing dataset labels\n",
        "num_classes = 10 # number of classes (numbers 0 to 9)\n",
        "\n",
        "y_train = tf.keras.utils.to_categorical(y_train, num_classes)\n",
        "y_test = tf.keras.utils.to_categorical(y_test, num_classes)\n",
        "\n",
        "# now lets check again the training and test dataset labels\n",
        "print('y_train:', y_train[0])\n",
        "print('y_test:', y_test[0])"
      ],
      "execution_count": 21,
      "outputs": [
        {
          "output_type": "stream",
          "text": [
            "y_train: [0. 0. 0. 0. 0. 1. 0. 0. 0. 0.]\n",
            "y_test: [0. 0. 0. 0. 0. 0. 0. 1. 0. 0.]\n"
          ],
          "name": "stdout"
        }
      ]
    },
    {
      "cell_type": "markdown",
      "metadata": {
        "id": "mBvx1V2rJ0pt"
      },
      "source": [
        "---\n",
        "---"
      ]
    },
    {
      "cell_type": "markdown",
      "metadata": {
        "id": "rCdKpcVDJ2uP"
      },
      "source": [
        "# 7.Models"
      ]
    },
    {
      "cell_type": "markdown",
      "metadata": {
        "id": "zSE3k8H-J43K"
      },
      "source": [
        "### 7.1. Baseline Model\n",
        "\n",
        "---\n",
        "\n",
        "First, we will setup a baseline model first using Keras Sequential Model."
      ]
    },
    {
      "cell_type": "code",
      "metadata": {
        "id": "H5ZgkP_2Jzp0",
        "outputId": "abc4cc12-8041-447f-924d-35eb2cf9cdfc",
        "colab": {
          "base_uri": "https://localhost:8080/"
        }
      },
      "source": [
        "# create model and give it a name\n",
        "model = Sequential(name=\"sequential_baseline_model\")\n",
        "\n",
        "input_dim = x_train.shape[1]\n",
        "# add 1st fully connected layer (hidden layer)\n",
        "model.add(Dense(num_pixels, input_dim=input_dim, kernel_initializer='uniform', activation='relu'))\n",
        "model.add(Dropout(0.1))\n",
        "\n",
        "# add 2nd fully connected layer (hidden layer)\n",
        "model.add(Dense(num_pixels, kernel_initializer='uniform', activation=tf.nn.relu))\n",
        "\n",
        "# add output layer\n",
        "model.add(Dense(num_classes, kernel_initializer='uniform', activation=tf.nn.softmax))\n",
        "\n",
        "# model summary\n",
        "model.summary()"
      ],
      "execution_count": 22,
      "outputs": [
        {
          "output_type": "stream",
          "text": [
            "Model: \"sequential_baseline_model\"\n",
            "_________________________________________________________________\n",
            "Layer (type)                 Output Shape              Param #   \n",
            "=================================================================\n",
            "dense (Dense)                (None, 784)               615440    \n",
            "_________________________________________________________________\n",
            "dropout (Dropout)            (None, 784)               0         \n",
            "_________________________________________________________________\n",
            "dense_1 (Dense)              (None, 784)               615440    \n",
            "_________________________________________________________________\n",
            "dense_2 (Dense)              (None, 10)                7850      \n",
            "=================================================================\n",
            "Total params: 1,238,730\n",
            "Trainable params: 1,238,730\n",
            "Non-trainable params: 0\n",
            "_________________________________________________________________\n"
          ],
          "name": "stdout"
        }
      ]
    },
    {
      "cell_type": "code",
      "metadata": {
        "id": "L13mqI75NPs-"
      },
      "source": [
        "# implement a learning rate schedule in keras\n",
        "learning_rate = 0.001\n",
        "beta_1 = 0.9\n",
        "beta_2 = 0.999\n",
        "epsilon = 1e-08\n",
        "\n",
        "adam = Adam(lr=learning_rate, beta_1=beta_1, beta_2=beta_2, epsilon=epsilon)"
      ],
      "execution_count": 23,
      "outputs": []
    },
    {
      "cell_type": "code",
      "metadata": {
        "id": "AEf6RDMSSQUU",
        "outputId": "659f5b07-ca57-48e9-a7c4-dd16fadf1b0f",
        "colab": {
          "base_uri": "https://localhost:8080/"
        }
      },
      "source": [
        "# time to optimise the empty baseline model(an empty shell basically) and fit it with our training dataset\n",
        "# passing params into the newly created model and compile it\n",
        "model.compile(optimizer=adam,\n",
        "             loss='categorical_crossentropy',\n",
        "             metrics=['accuracy'])\n",
        "\n",
        "# create batch size\n",
        "batch_size = int(input_dim/100)\n",
        "\n",
        "# train the model\n",
        "history = model.fit(x_train, y_train, validation_split=0.2, epochs=15, batch_size=batch_size, verbose=1)"
      ],
      "execution_count": 24,
      "outputs": [
        {
          "output_type": "stream",
          "text": [
            "Epoch 1/15\n",
            "6858/6858 [==============================] - 21s 3ms/step - loss: 0.2315 - accuracy: 0.9295 - val_loss: 0.1295 - val_accuracy: 0.9630\n",
            "Epoch 2/15\n",
            "6858/6858 [==============================] - 21s 3ms/step - loss: 0.1243 - accuracy: 0.9641 - val_loss: 0.1238 - val_accuracy: 0.9666\n",
            "Epoch 3/15\n",
            "6858/6858 [==============================] - 21s 3ms/step - loss: 0.1018 - accuracy: 0.9718 - val_loss: 0.1116 - val_accuracy: 0.9711\n",
            "Epoch 4/15\n",
            "6858/6858 [==============================] - 21s 3ms/step - loss: 0.0877 - accuracy: 0.9764 - val_loss: 0.1279 - val_accuracy: 0.9728\n",
            "Epoch 5/15\n",
            "6858/6858 [==============================] - 21s 3ms/step - loss: 0.0751 - accuracy: 0.9808 - val_loss: 0.1536 - val_accuracy: 0.9677\n",
            "Epoch 6/15\n",
            "6858/6858 [==============================] - 21s 3ms/step - loss: 0.0716 - accuracy: 0.9815 - val_loss: 0.1336 - val_accuracy: 0.9738\n",
            "Epoch 7/15\n",
            "6858/6858 [==============================] - 21s 3ms/step - loss: 0.0641 - accuracy: 0.9831 - val_loss: 0.1327 - val_accuracy: 0.9772\n",
            "Epoch 8/15\n",
            "6858/6858 [==============================] - 21s 3ms/step - loss: 0.0619 - accuracy: 0.9839 - val_loss: 0.1541 - val_accuracy: 0.9723\n",
            "Epoch 9/15\n",
            "6858/6858 [==============================] - 21s 3ms/step - loss: 0.0558 - accuracy: 0.9859 - val_loss: 0.1523 - val_accuracy: 0.9763\n",
            "Epoch 10/15\n",
            "6858/6858 [==============================] - 21s 3ms/step - loss: 0.0546 - accuracy: 0.9865 - val_loss: 0.1814 - val_accuracy: 0.9710\n",
            "Epoch 11/15\n",
            "6858/6858 [==============================] - 21s 3ms/step - loss: 0.0590 - accuracy: 0.9869 - val_loss: 0.1679 - val_accuracy: 0.9748\n",
            "Epoch 12/15\n",
            "6858/6858 [==============================] - 21s 3ms/step - loss: 0.0551 - accuracy: 0.9875 - val_loss: 0.1726 - val_accuracy: 0.9755\n",
            "Epoch 13/15\n",
            "6858/6858 [==============================] - 21s 3ms/step - loss: 0.0522 - accuracy: 0.9881 - val_loss: 0.1625 - val_accuracy: 0.9753\n",
            "Epoch 14/15\n",
            "6858/6858 [==============================] - 21s 3ms/step - loss: 0.0513 - accuracy: 0.9894 - val_loss: 0.2452 - val_accuracy: 0.9762\n",
            "Epoch 15/15\n",
            "6858/6858 [==============================] - 21s 3ms/step - loss: 0.0443 - accuracy: 0.9902 - val_loss: 0.1964 - val_accuracy: 0.9783\n"
          ],
          "name": "stdout"
        }
      ]
    },
    {
      "cell_type": "code",
      "metadata": {
        "id": "G7mw9nVaSpnz",
        "outputId": "4cfd8d71-0a57-492d-f0ed-22f95c1433a2",
        "colab": {
          "base_uri": "https://localhost:8080/"
        }
      },
      "source": [
        "#print the available history keys for use\n",
        "print(history.history.keys()) "
      ],
      "execution_count": 25,
      "outputs": [
        {
          "output_type": "stream",
          "text": [
            "dict_keys(['loss', 'accuracy', 'val_loss', 'val_accuracy'])\n"
          ],
          "name": "stdout"
        }
      ]
    },
    {
      "cell_type": "code",
      "metadata": {
        "id": "8bB9_0TEVuD5",
        "outputId": "6e10fee4-f6b1-4c6e-8f47-1fa324a03e44",
        "colab": {
          "base_uri": "https://localhost:8080/",
          "height": 297
        }
      },
      "source": [
        "# plotting the accuracy and loss graphs\n",
        "fig = plt.figure()\n",
        "plt.subplot(2,1,1)\n",
        "plt.plot(history.history['accuracy'])\n",
        "plt.plot(history.history['val_accuracy'])\n",
        "plt.title('Model Accuracy')\n",
        "plt.ylabel('accuracy')\n",
        "plt.xlabel('epoch')\n",
        "plt.legend(['Training accuracy', 'Validation accuracy'], loc='best')\n",
        "\n",
        "plt.subplot(2,1,2)\n",
        "plt.plot(history.history['loss'])\n",
        "plt.plot(history.history['val_loss'])\n",
        "plt.title('Model loss')\n",
        "plt.ylabel('loss')\n",
        "plt.xlabel('epoch')\n",
        "plt.legend(['Training loss', 'Validation loss'], loc='best')\n",
        "\n",
        "plt.tight_layout()"
      ],
      "execution_count": 32,
      "outputs": [
        {
          "output_type": "display_data",
          "data": {
            "image/png": "[encoded data removed]",
            "text/plain": [
              "<Figure size 432x288 with 2 Axes>"
            ]
          },
          "metadata": {
            "tags": [],
            "needs_background": "light"
          }
        }
      ]
    },
    {
      "cell_type": "markdown",
      "metadata": {
        "id": "Xco3EGc2WPTi"
      },
      "source": [
        "### 7.2. CNN Model\n",
        "\n",
        "---\n",
        "\n",
        "Next, we will setup a CNN Model."
      ]
    },
    {
      "cell_type": "markdown",
      "metadata": {
        "id": "SaUWUfTPZJ39"
      },
      "source": [
        "<div class=\"alert alert-block alert-info\">\n",
        "    <b>Analysis Summary:</b> We  understand that there are a few main reasons for overfitting in Neural Networks. They are mainly due to the network size, lack of weight regularization and lack of dropouts. In order to reduce (or to  prevent this from happenening), we will implement these 3 main points.<p>\n",
        "</div>"
      ]
    },
    {
      "cell_type": "code",
      "metadata": {
        "id": "K5yWrRR7Obm3"
      },
      "source": [
        "# create model and give it a name\n",
        "model = Sequential(name=\"cnn_model_sequential\")\n",
        "\n",
        "# add 1st convolutional layer\n",
        "model.add(Conv2D(32, (3, 3), input_shape=(28, 28, 1), kernel_initializer='he_uniform', activation='relu'))\n",
        "model.add(MaxPooling2D((2,2))) # add in a maxpooling 2d layer to reduce conputational complexity and overfitting\n",
        "          \n",
        "# add 2nd convolutional layer\n",
        "model.add(Conv2D(64, (3, 3), activation='relu'))\n",
        "model.add(MaxPooling2D((2,2))) # add in a maxpooling 2d layer to reduce conputational complexity and overfitting       \n",
        "\n",
        "# add flatten layer\n",
        "model.add(Flatten()) # flatten prev 2d layer output to extract source from image for fully connected layers\n",
        "\n",
        "# add 1st fully connected layer (hidden layer)\n",
        "model.add(Dense(128))\n",
        "model.add(Dropout(0.5)) # add a dropout layer to drop out some neurons during training to prevent overfitting\n",
        "model.add(Activation('relu')) #dropout before activation function in fully connnect layers\n",
        "\n",
        "# add 2nd fully connected layer (hidden layer)\n",
        "model.add(Dense(50))\n",
        "model.add(Dropout(0.5)) # add a dropout layer to drop out some neurons during training to prevent overfitting\n",
        "model.add(Activation('relu')) #dropout before activation function in fully connnect layers\n",
        "          \n",
        "# add output layer\n",
        "model.add(Dense(num_classes, activation=tf.nn.softmax)) # output layer(10 neurons as we only have 10 numbers(0 to 9))       \n",
        "          \n",
        "# get model summary\n",
        "model.summary()"
      ],
      "execution_count": null,
      "outputs": []
    },
    {
      "cell_type": "code",
      "metadata": {
        "id": "sLLKlKi-ewsG"
      },
      "source": [
        "# reshape x_train and x_test to (n_images, x_shape, y_shape, channels)\n",
        "# we are going to make chanels be 1 as we are not dealing with rgb images.\n",
        "x_train = x_train.reshape(x_train.shape[0], 28, 28, 1)\n",
        "x_test = x_test.reshape(x_test.shape[0], 28, 28, 1)\n",
        "\n",
        "# examine the shape before we feed it in\n",
        "print('New x_train shape:', x_train.shape)\n",
        "print(x_train.shape[0], 'train samples')\n",
        "print(x_test.shape[0], 'test samples')"
      ],
      "execution_count": null,
      "outputs": []
    },
    {
      "cell_type": "code",
      "metadata": {
        "id": "6OpTrZNAeqK4"
      },
      "source": [
        "# time to optimise the empty CNN model(an empty shell basically) and fit it with our training dataset\n",
        "# passing params into the newly created model and compile it\n",
        "model.compile(optimizer='adam',\n",
        "             loss='categorical_crossentropy',\n",
        "             metrics=['accuracy'])\n",
        "\n",
        "# train the model\n",
        "history = model.fit(x_train,y_train, validation_split=0.2, epochs=15, verbose=1, callbacks=[EarlyStopping(monitor='loss', patience=2)])"
      ],
      "execution_count": null,
      "outputs": []
    },
    {
      "cell_type": "code",
      "metadata": {
        "id": "9z8RTDNDfwLs"
      },
      "source": [
        "#print the available history keys for use\n",
        "print(history.history.keys()) "
      ],
      "execution_count": null,
      "outputs": []
    },
    {
      "cell_type": "code",
      "metadata": {
        "id": "8aT0rv8Tf0WC"
      },
      "source": [
        "# plot a accuracy and validation loss graph to see the training and validation loss at each epoch\n",
        "loss = history.history['loss']\n",
        "val_loss = history.history['val_loss']\n",
        "epochs = range(1, len(loss) + 1)\n",
        "plt.plot(epochs, loss, 'y', label='Training loss')\n",
        "plt.plot(epochs, val_loss, 'r', label='Validation loss')\n",
        "plt.title('Training and validation loss')\n",
        "plt.xlabel('Epochs')\n",
        "plt.ylabel('Loss')\n",
        "plt.legend()\n",
        "plt.show()"
      ],
      "execution_count": null,
      "outputs": []
    },
    {
      "cell_type": "code",
      "metadata": {
        "id": "KSJNdv7nf3QY"
      },
      "source": [
        "# plot a accuracy and validation accuracy graph to see the training and validation accuracy at each epoch\n",
        "accuracy = history.history['accuracy']\n",
        "val_accuracy = history.history['val_accuracy']\n",
        "plt.plot(epochs, accuracy, 'y', label='Training Accuracy')\n",
        "plt.plot(epochs, val_accuracy, 'r', label='Validation Accuracy')\n",
        "plt.title('Training and validation accuracy')\n",
        "plt.xlabel('Epochs')\n",
        "plt.ylabel('Accuracy')\n",
        "plt.legend()\n",
        "plt.show()"
      ],
      "execution_count": null,
      "outputs": []
    },
    {
      "cell_type": "markdown",
      "metadata": {
        "id": "ZbCUBdNt1yZ-"
      },
      "source": [
        "### 7.3. CNN Hyper-Parameter Tuned Model\n",
        "\n",
        "---\n",
        "\n",
        "Next, we will setup a CNN Model that has undergone hyper-parameter tuning."
      ]
    },
    {
      "cell_type": "code",
      "metadata": {
        "id": "ar0yEkv9Q6pG",
        "outputId": "5a05d465-c973-4337-b2d4-d3e67a7ef8c3",
        "colab": {
          "base_uri": "https://localhost:8080/"
        }
      },
      "source": [
        "# reshape x_train and x_test to (n_images, x_shape, y_shape, channels)\n",
        "# we are going to make chanels be 1 as we are not dealing with rgb images.\n",
        "x_train = x_train.reshape(x_train.shape[0], 28, 28, 1)\n",
        "x_test = x_test.reshape(x_test.shape[0], 28, 28, 1)\n",
        "\n",
        "# examine the shape before we feed it in\n",
        "print('New x_train shape:', x_train.shape)\n",
        "print(x_train.shape[0], 'train samples')\n",
        "print(x_test.shape[0], 'test samples')"
      ],
      "execution_count": null,
      "outputs": [
        {
          "output_type": "stream",
          "text": [
            "New x_train shape: (60000, 28, 28, 1)\n",
            "60000 train samples\n",
            "10000 test samples\n"
          ],
          "name": "stdout"
        }
      ]
    },
    {
      "cell_type": "code",
      "metadata": {
        "id": "i6zJGUXYXSJM",
        "outputId": "c9df40de-9b22-4e02-da19-640f3febcc24",
        "colab": {
          "base_uri": "https://localhost:8080/"
        }
      },
      "source": [
        "# perform hyper parameter tuning first\n",
        "\n",
        "# create model and give it a name\n",
        "model = Sequential(name=\"cnn_model_hyperParamTuned_sequential\")\n",
        "\n",
        "# add 1st 1+1+1 convolutional layer\n",
        "input_shape = (28, 28, 1) # declare input_shape as this is the 1st layer\n",
        "\n",
        "model.add(Conv2D(32, kernel_size=3, input_shape=input_shape, kernel_initializer='he_uniform', activation='relu'))\n",
        "# Plot mnist instances\n",
        "from keras.datasets import mnist\n",
        "import matplotlib.pyplot as plt\n",
        "# load (downloaded if needed) the MNIST dataset\n",
        "(X_train, y_train), (X_test, y_test) = mnist.load_data()\n",
        "model.add(Conv2D(32, kernel_size=3, kernel_initializer='he_uniform', activation='relu'))\n",
        "model.add(BatchNormalization())\n",
        "\n",
        "model.add(Conv2D(32, kernel_size=5, strides=2, padding='same', kernel_initializer='he_uniform', activation='relu'))\n",
        "model.add(BatchNormalization())\n",
        "\n",
        "# add 2nd 1+1+1 convolutional layer\n",
        "model.add(Conv2D(64, kernel_size=3, kernel_initializer='he_uniform', activation='relu'))\n",
        "model.add(BatchNormalization())\n",
        "\n",
        "model.add(Conv2D(64, kernel_size=3, kernel_initializer='he_uniform', activation='relu'))\n",
        "model.add(BatchNormalization())\n",
        "\n",
        "model.add(Conv2D(64, kernel_size=5, strides=2, padding='same', kernel_initializer='he_uniform', activation='relu'))\n",
        "model.add(BatchNormalization())\n",
        "\n",
        "# add flatten layer\n",
        "model.add(Flatten()) # flatten prev 2d layer output to extract source from image for fully connected layers\n",
        "\n",
        "# add 1st fully connected layer (hidden layer)\n",
        "model.add(Dense(128))\n",
        "model.add(Dropout(0.4)) # add a dropout layer to drop out some neurons during training to prevent overfitting\n",
        "model.add(Activation('relu')) #dropout before activation function in fully connnect layers\n",
        "\n",
        "# # add 2nd fully connected layer (hidden layer)\n",
        "# model.add(Dense(128))\n",
        "# model.add(Dropout(0.4)) # add a dropout layer to drop out some neurons during training to prevent overfitting\n",
        "# model.add(Activation('relu')) #dropout before activation function in fully connnect layers\n",
        "\n",
        "# add output layer\n",
        "model.add(Dense(num_classes, activation=tf.nn.softmax)) # output layer(10 neurons as we only have 10 numbers(0 to 9)) \n",
        "\n",
        "# get the summary of the model\n",
        "model.summary()"
      ],
      "execution_count": null,
      "outputs": [
        {
          "output_type": "stream",
          "text": [
            "Model: \"cnn_model_hyperParamTuned_sequential\"\n",
            "_________________________________________________________________\n",
            "Layer (type)                 Output Shape              Param #   \n",
            "=================================================================\n",
            "conv2d_24 (Conv2D)           (None, 26, 26, 32)        320       \n",
            "_________________________________________________________________\n",
            "batch_normalization_24 (Batc (None, 26, 26, 32)        128       \n",
            "_________________________________________________________________\n",
            "conv2d_25 (Conv2D)           (None, 24, 24, 32)        9248      \n",
            "_________________________________________________________________\n",
            "batch_normalization_25 (Batc (None, 24, 24, 32)        128       \n",
            "_________________________________________________________________\n",
            "conv2d_26 (Conv2D)           (None, 12, 12, 32)        25632     \n",
            "_________________________________________________________________\n",
            "batch_normalization_26 (Batc (None, 12, 12, 32)        128       \n",
            "_________________________________________________________________\n",
            "conv2d_27 (Conv2D)           (None, 10, 10, 64)        18496     \n",
            "_________________________________________________________________\n",
            "batch_normalization_27 (Batc (None, 10, 10, 64)        256       \n",
            "_________________________________________________________________\n",
            "conv2d_28 (Conv2D)           (None, 8, 8, 64)          36928     \n",
            "_________________________________________________________________\n",
            "batch_normalization_28 (Batc (None, 8, 8, 64)          256       \n",
            "_________________________________________________________________\n",
            "conv2d_29 (Conv2D)           (None, 4, 4, 64)          102464    \n",
            "_________________________________________________________________\n",
            "batch_normalization_29 (Batc (None, 4, 4, 64)          256       \n",
            "_________________________________________________________________\n",
            "flatten_4 (Flatten)          (None, 1024)              0         \n",
            "_________________________________________________________________\n",
            "dense_10 (Dense)             (None, 128)               131200    \n",
            "_________________________________________________________________\n",
            "dropout_6 (Dropout)          (None, 128)               0         \n",
            "_________________________________________________________________\n",
            "activation_6 (Activation)    (None, 128)               0         \n",
            "_________________________________________________________________\n",
            "dense_11 (Dense)             (None, 10)                1290      \n",
            "=================================================================\n",
            "Total params: 326,730\n",
            "Trainable params: 326,154\n",
            "Non-trainable params: 576\n",
            "_________________________________________________________________\n"
          ],
          "name": "stdout"
        }
      ]
    },
    {
      "cell_type": "code",
      "metadata": {
        "id": "LxUF2VfW81Bc",
        "outputId": "8e3a8b2e-cd95-4dc4-d4f2-a3e70a1c1533",
        "colab": {
          "base_uri": "https://localhost:8080/"
        }
      },
      "source": [
        "# passing params into the newly created model and compile it\n",
        "model.compile(optimizer='adam',\n",
        "          loss='categorical_crossentropy',\n",
        "          metrics=['accuracy'])\n",
        "  \n",
        "# train the model\n",
        "history = model.fit(x_train,y_train, validation_split=0.2, batch_size=num_pixels, epochs=15, verbose=1, callbacks=[EarlyStopping(monitor='loss', patience=2)])"
      ],
      "execution_count": null,
      "outputs": [
        {
          "output_type": "stream",
          "text": [
            "Epoch 1/15\n",
            " 2/62 [..............................] - ETA: 2s - loss: 2.8647 - accuracy: 0.1614WARNING:tensorflow:Callbacks method `on_train_batch_end` is slow compared to the batch time (batch time: 0.0218s vs `on_train_batch_end` time: 0.0479s). Check your callbacks.\n",
            "62/62 [==============================] - 4s 57ms/step - loss: 0.4124 - accuracy: 0.8722 - val_loss: 0.3493 - val_accuracy: 0.8905\n",
            "Epoch 2/15\n",
            "62/62 [==============================] - 3s 56ms/step - loss: 0.0664 - accuracy: 0.9801 - val_loss: 0.2765 - val_accuracy: 0.9105\n",
            "Epoch 3/15\n",
            "62/62 [==============================] - 3s 55ms/step - loss: 0.0388 - accuracy: 0.9885 - val_loss: 0.1422 - val_accuracy: 0.9575\n",
            "Epoch 4/15\n",
            "62/62 [==============================] - 3s 56ms/step - loss: 0.0267 - accuracy: 0.9918 - val_loss: 0.0936 - val_accuracy: 0.9722\n",
            "Epoch 5/15\n",
            "62/62 [==============================] - 3s 55ms/step - loss: 0.0208 - accuracy: 0.9933 - val_loss: 0.0639 - val_accuracy: 0.9810\n",
            "Epoch 6/15\n",
            "62/62 [==============================] - 3s 55ms/step - loss: 0.0148 - accuracy: 0.9956 - val_loss: 0.0559 - val_accuracy: 0.9843\n",
            "Epoch 7/15\n",
            "62/62 [==============================] - 3s 56ms/step - loss: 0.0110 - accuracy: 0.9970 - val_loss: 0.0385 - val_accuracy: 0.9894\n",
            "Epoch 8/15\n",
            "62/62 [==============================] - 3s 56ms/step - loss: 0.0102 - accuracy: 0.9964 - val_loss: 0.0417 - val_accuracy: 0.9887\n",
            "Epoch 9/15\n",
            "62/62 [==============================] - 3s 55ms/step - loss: 0.0077 - accuracy: 0.9979 - val_loss: 0.0380 - val_accuracy: 0.9908\n",
            "Epoch 10/15\n",
            "62/62 [==============================] - 3s 56ms/step - loss: 0.0063 - accuracy: 0.9981 - val_loss: 0.0446 - val_accuracy: 0.9895\n",
            "Epoch 11/15\n",
            "62/62 [==============================] - 3s 54ms/step - loss: 0.0068 - accuracy: 0.9978 - val_loss: 0.0410 - val_accuracy: 0.9900\n",
            "Epoch 12/15\n",
            "62/62 [==============================] - 3s 55ms/step - loss: 0.0052 - accuracy: 0.9985 - val_loss: 0.0443 - val_accuracy: 0.9892\n",
            "Epoch 13/15\n",
            "62/62 [==============================] - 3s 55ms/step - loss: 0.0052 - accuracy: 0.9983 - val_loss: 0.0463 - val_accuracy: 0.9892\n",
            "Epoch 14/15\n",
            "62/62 [==============================] - 4s 57ms/step - loss: 0.0052 - accuracy: 0.9985 - val_loss: 0.0429 - val_accuracy: 0.9908\n",
            "Epoch 15/15\n",
            "62/62 [==============================] - 3s 55ms/step - loss: 0.0037 - accuracy: 0.9987 - val_loss: 0.0517 - val_accuracy: 0.9890\n"
          ],
          "name": "stdout"
        }
      ]
    },
    {
      "cell_type": "code",
      "metadata": {
        "id": "SYcZQ3UOcZca",
        "outputId": "0255311c-f153-48be-9c5a-a3ddc967a2fe",
        "colab": {
          "base_uri": "https://localhost:8080/"
        }
      },
      "source": [
        "#print the available history keys for use\n",
        "print(history.history.keys()) "
      ],
      "execution_count": null,
      "outputs": [
        {
          "output_type": "stream",
          "text": [
            "dict_keys(['loss', 'accuracy', 'val_loss', 'val_accuracy'])\n"
          ],
          "name": "stdout"
        }
      ]
    },
    {
      "cell_type": "code",
      "metadata": {
        "id": "gU5LfONxeKWI",
        "outputId": "c49a2a45-2ab4-4069-8ed3-6e9586fe8000",
        "colab": {
          "base_uri": "https://localhost:8080/",
          "height": 295
        }
      },
      "source": [
        "# plot a accuracy and validation loss graph to see the training and validation loss at each epoch\n",
        "loss = history.history['loss']\n",
        "val_loss = history.history['val_loss']\n",
        "epochs = range(1, len(loss) + 1)\n",
        "plt.plot(epochs, loss, 'y', label='Training loss')\n",
        "plt.plot(epochs, val_loss, 'r', label='Validation loss')\n",
        "plt.title('Training and validation loss')\n",
        "plt.xlabel('Epochs')\n",
        "plt.ylabel('Loss')\n",
        "plt.legend()\n",
        "plt.show()"
      ],
      "execution_count": null,
      "outputs": [
        {
          "output_type": "display_data",
          "data": {
            "image/png": "[encoded data removed]",
            "text/plain": [
              "<Figure size 432x288 with 1 Axes>"
            ]
          },
          "metadata": {
            "tags": [],
            "needs_background": "light"
          }
        }
      ]
    },
    {
      "cell_type": "code",
      "metadata": {
        "id": "vFIuI75dgRWP",
        "outputId": "f60fa1fa-79b8-4594-9d59-9b5dd76b926f",
        "colab": {
          "base_uri": "https://localhost:8080/",
          "height": 295
        }
      },
      "source": [
        "# plot a accuracy and validation accuracy graph to see the training and validation accuracy at each epoch\n",
        "accuracy = history.history['accuracy']\n",
        "val_accuracy = history.history['val_accuracy']\n",
        "plt.plot(epochs, accuracy, 'y', label='Training Accuracy')\n",
        "plt.plot(epochs, val_accuracy, 'r', label='Validation Accuracy')\n",
        "plt.title('Training and validation accuracy')\n",
        "plt.xlabel('Epochs')\n",
        "plt.ylabel('Accuracy')\n",
        "plt.legend()\n",
        "plt.show()"
      ],
      "execution_count": null,
      "outputs": [
        {
          "output_type": "display_data",
          "data": {
            "image/png": "[encoded data removed]",
            "text/plain": [
              "<Figure size 432x288 with 1 Axes>"
            ]
          },
          "metadata": {
            "tags": [],
            "needs_background": "light"
          }
        }
      ]
    },
    {
      "cell_type": "markdown",
      "metadata": {
        "id": "cgjyqbRTiI3S"
      },
      "source": [
        "### 7.4. CNN Hyper-Parameter Tuned Model\n",
        "\n",
        "---\n",
        "\n",
        "A model that somehow worked best among all."
      ]
    },
    {
      "cell_type": "code",
      "metadata": {
        "id": "CEtRyyYoiKeJ"
      },
      "source": [
        "# Larger CNN Model\n",
        "import numpy\n",
        "import tensorflow as tf\n",
        "from keras.datasets import mnist\n",
        "from keras.models import Sequential\n",
        "from keras.layers import Dense\n",
        "from keras.layers import Dropout\n",
        "from keras.layers import Flatten\n",
        "from keras.layers.convolutional import Conv2D\n",
        "from keras.layers.convolutional import MaxPooling2D\n",
        "from tensorflow.python.keras.layers import Activation, BatchNormalization\n",
        "from tensorflow.python.keras.callbacks import EarlyStopping\n",
        "\n",
        "\n",
        "from keras.utils import np_utils\n",
        "from keras import backend as K\n",
        "\n",
        "# fix random seed for reproducibility\n",
        "seed = 88\n",
        "numpy.random.seed(seed)\n",
        "\n",
        "# get the dataset from keras library in tensorflow 2.0\n",
        "mnist = tf.keras.datasets.mnist\n",
        "\n",
        "# unpack the dataset to the respective x_train, y_train, x_test and y_test\n",
        "(X_train, y_train), (X_test, y_test) = mnist.load_data()\n",
        "\n",
        "# flatten 28*28 images to a 784 vector for each image\n",
        "num_pixels = X_train.shape[1] * X_train.shape[2]\n",
        "X_train = X_train.reshape(X_train.shape[0], num_pixels).astype('float32')\n",
        "X_test = X_test.reshape(X_test.shape[0], num_pixels).astype('float32')\n",
        "\n",
        "# normalize inputs from 0-255 to 0-1\n",
        "X_train = X_train / 255\n",
        "X_test = X_test / 255\n",
        "# one hot encode outputs\n",
        "y_train = np_utils.to_categorical(y_train)\n",
        "y_test = np_utils.to_categorical(y_test)\n",
        "num_classes = y_test.shape[1]\n",
        "\n",
        "\n",
        "X_train = X_train.reshape(X_train.shape[0], 28, 28, 1)\n",
        "X_test = X_test.reshape(X_test.shape[0], 28, 28, 1)\n",
        "\n",
        "# build the model\n",
        "# create model\n",
        "model = Sequential()\n",
        "\n",
        "# add 1st convolutional layer\n",
        "input_shape = (28, 28, 1) # declare input_shape as this is the 1st layer\n",
        "model.add(Conv2D(32, kernel_size=(3,3), input_shape=input_shape, kernel_initializer='he_uniform', activation='relu'))\n",
        "model.add(MaxPooling2D((2,2))) # add in a maxpooling 2d layer to reduce conputational complexity and overfitting\n",
        "model.add(BatchNormalization())\n",
        "          \n",
        "# add 2nd convolutional layer\n",
        "model.add(Conv2D(64, kernel_size=3, activation='relu'))\n",
        "model.add(MaxPooling2D((2,2))) # add in a maxpooling 2d layer to reduce conputational complexity and overfitting      \n",
        "model.add(BatchNormalization())\n",
        "\n",
        "# add 3rd convolutional layer\n",
        "model.add(Conv2D(64, kernel_size=3, activation='relu'))\n",
        "model.add(MaxPooling2D((2,2))) # add in a maxpooling 2d layer to reduce conputational complexity and overfitting      \n",
        "model.add(BatchNormalization())\n",
        "          \n",
        "# add flatten layer\n",
        "model.add(Flatten()) # flatten prev 2d layer output to extract source from image for fully connected layers\n",
        "\n",
        "# add 1st fully connected layer (hidden layer)\n",
        "model.add(Dense(128))\n",
        "model.add(Dropout(0.2)) # add a dropout layer to drop out some neurons during training to prevent overfitting\n",
        "model.add(Activation('relu')) #dropout before activation function in fully connnect layers\n",
        "\n",
        "# add 2nd fully connected layer (hidden layer)\n",
        "model.add(Dense(64))\n",
        "model.add(Dropout(0.2)) # add a dropout layer to drop out some neurons during training to prevent overfitting\n",
        "model.add(Activation('relu')) #dropout before activation function in fully connnect layers     \n",
        "\n",
        "# # add 3rd fully connected layer (hidden layer)\n",
        "# model.add(Dense(64))\n",
        "# model.add(Dropout(0.5)) # add a dropout layer to drop out some neurons during training to prevent overfitting\n",
        "# model.add(Activation('relu')) #dropout before activation function in fully connnect layers\n",
        "\n",
        "# add output layer\n",
        "model.add(Dense(num_classes, activation=tf.nn.softmax)) # output layer(10 neurons as we only have 10 numbers(0 to 9)) \n",
        "\n",
        "# Compile model\n",
        "model.compile(loss='categorical_crossentropy', \n",
        "              optimizer='adam', metrics=['accuracy'])\n",
        "\n",
        "# Fit the model\n",
        "history = model.fit(X_train,y_train, validation_split=0.2, epochs=15, verbose=1, callbacks=[EarlyStopping(monitor='loss', patience=1)])\n",
        "# Final evaluation of the model\n",
        "scores = model.evaluate(X_test, y_test, verbose=0)\n",
        "print(\"CNN Error: %.2f%%\" % (100-scores[1]*100))"
      ],
      "execution_count": null,
      "outputs": []
    },
    {
      "cell_type": "markdown",
      "metadata": {
        "id": "Il5MVQPrXIGb"
      },
      "source": [
        "---\n",
        "---"
      ]
    },
    {
      "cell_type": "markdown",
      "metadata": {
        "id": "IjU3M0fUWcX5"
      },
      "source": [
        "# 8.Test Accuracy, Loss And Results"
      ]
    },
    {
      "cell_type": "markdown",
      "metadata": {
        "id": "Gd6G1OH4WhAv"
      },
      "source": [
        "### 8.1. Baseline Model Result\n",
        "\n",
        "---\n",
        "\n",
        "Get the result for the baseline model."
      ]
    },
    {
      "cell_type": "code",
      "metadata": {
        "id": "tnmmCdUzWdsk",
        "outputId": "858aac47-f793-4cf1-dd40-e8a2b521cc8c",
        "colab": {
          "base_uri": "https://localhost:8080/"
        }
      },
      "source": [
        "# now we shall evaluate the model and see the accuracy\n",
        "loss, accuracy = model.evaluate(x_test,y_test)\n",
        "print(\"Test loss:\", loss)\n",
        "print(\"Test accuracy:\", accuracy)\n",
        "print(\"Baseline Model Accuracy: %.2f%%\" % (accuracy*100))\n",
        "print(\"Baseline Model Error: %.2f%%\" % (100-loss*100))"
      ],
      "execution_count": 33,
      "outputs": [
        {
          "output_type": "stream",
          "text": [
            "313/313 [==============================] - 1s 2ms/step - loss: 0.1903 - accuracy: 0.9791\n",
            "Test loss: 0.19027702510356903\n",
            "Test accuracy: 0.9790999889373779\n",
            "Baseline Model Accuracy: 97.91%\n",
            "Baseline Model Error: 80.97%\n"
          ],
          "name": "stdout"
        }
      ]
    },
    {
      "cell_type": "code",
      "metadata": {
        "id": "46jXBz-KPVwl",
        "outputId": "0c72c312-dddd-4e34-91cb-ef6eb01f67e8",
        "colab": {
          "base_uri": "https://localhost:8080/",
          "height": 311
        }
      },
      "source": [
        "# plot our confusion matrix here to see how many labels got misplaced\n",
        "def plot_confusion_matrix(cm, classes,\n",
        "                          normalize=False,\n",
        "                          title='Confusion matrix',\n",
        "                          cmap=plt.cm.Blues):\n",
        "    \"\"\"\n",
        "    This function prints and plots the confusion matrix.\n",
        "    Normalization can be applied by setting `normalize=True`.\n",
        "    \"\"\"\n",
        "    plt.imshow(cm, interpolation='nearest', cmap=cmap)\n",
        "    plt.title(title)\n",
        "    plt.colorbar()\n",
        "    tick_marks = np.arange(len(classes))\n",
        "    plt.xticks(tick_marks, classes, rotation=45)\n",
        "    plt.yticks(tick_marks, classes)\n",
        "\n",
        "    if normalize:\n",
        "        cm = cm.astype('float') / cm.sum(axis=1)[:, np.newaxis]\n",
        "\n",
        "    thresh = cm.max() / 2.\n",
        "    for i, j in itertools.product(range(cm.shape[0]), range(cm.shape[1])):\n",
        "        plt.text(j, i, cm[i, j],\n",
        "                 horizontalalignment=\"center\",\n",
        "                 color=\"white\" if cm[i, j] > thresh else \"black\")\n",
        "\n",
        "    plt.tight_layout()\n",
        "    plt.ylabel('True label')\n",
        "    plt.xlabel('Predicted label')\n",
        "\n",
        "# Predict the values from the validation dataset\n",
        "Y_pred = model.predict(x_test)\n",
        "# Convert predictions classes to one hot vectors \n",
        "Y_pred_classes = np.argmax(Y_pred,axis = 1) \n",
        "# Convert validation observations to one hot vectors\n",
        "Y_true = np.argmax(y_test,axis = 1) \n",
        "# compute the confusion matrix\n",
        "confusion_mtx = confusion_matrix(Y_true, Y_pred_classes) \n",
        "# plot the confusion matrix\n",
        "plot_confusion_matrix(confusion_mtx, classes = range(10)) "
      ],
      "execution_count": 34,
      "outputs": [
        {
          "output_type": "display_data",
          "data": {
            "image/png": "[encoded data removed]",
            "text/plain": [
              "<Figure size 432x288 with 2 Axes>"
            ]
          },
          "metadata": {
            "tags": [],
            "needs_background": "light"
          }
        }
      ]
    },
    {
      "cell_type": "code",
      "metadata": {
        "id": "zs744xBHSStc",
        "outputId": "4b449da8-d769-42c1-cb00-be8f97522d4b",
        "colab": {
          "base_uri": "https://localhost:8080/",
          "height": 662
        }
      },
      "source": [
        "# Display some error results \n",
        "\n",
        "# Errors are difference between predicted labels and true labels\n",
        "errors = (Y_pred_classes - Y_true != 0)\n",
        "\n",
        "Y_pred_classes_errors = Y_pred_classes[errors]\n",
        "Y_pred_errors = Y_pred[errors]\n",
        "Y_true_errors = Y_true[errors]\n",
        "X_val_errors = x_test[errors]\n",
        "\n",
        "# see which we predicted correctly and which not\n",
        "correct_indices = np.nonzero(Y_pred == y_test)[0]\n",
        "incorrect_indices = np.nonzero(Y_pred != y_test)[0]\n",
        "print()\n",
        "print(len(correct_indices),\" classified correctly\")\n",
        "print(len(incorrect_indices),\" classified incorrectly\")\n",
        "\n",
        "def display_errors(errors_index,img_errors,pred_errors, obs_errors):\n",
        "    \"\"\" This function shows 6 images with their predicted and real labels\"\"\"\n",
        "    n = 0\n",
        "    nrows = 2\n",
        "    ncols = 3\n",
        "    fig, ax = plt.subplots(nrows,ncols,sharex=True,sharey=True)\n",
        "    for row in range(nrows):\n",
        "        for col in range(ncols):\n",
        "            error = errors_index[n]\n",
        "            ax[row,col].imshow((img_errors[error]).reshape((28,28)), cmap=plt.cm.binary)\n",
        "            ax[row,col].set_title(\"Predicted label :{}\\nTrue label :{}\".format(pred_errors[error],obs_errors[error]))\n",
        "            n += 1\n",
        "\n",
        "# Probabilities of the wrong predicted numbers\n",
        "Y_pred_errors_prob = np.max(Y_pred_errors,axis = 1)\n",
        "\n",
        "# Predicted probabilities of the true values in the error set\n",
        "true_prob_errors = np.diagonal(np.take(Y_pred_errors, Y_true_errors, axis=1))\n",
        "\n",
        "# Difference between the probability of the predicted label and the true label\n",
        "delta_pred_true_errors = Y_pred_errors_prob - true_prob_errors\n",
        "\n",
        "# Sorted list of the delta prob errors\n",
        "sorted_dela_errors = np.argsort(delta_pred_true_errors)\n",
        "\n",
        "# Top 6 errors \n",
        "most_important_errors = sorted_dela_errors[-6:]\n",
        "\n",
        "# Show the top 6 errors\n",
        "display_errors(most_important_errors, X_val_errors, Y_pred_classes_errors, Y_true_errors)"
      ],
      "execution_count": 42,
      "outputs": [
        {
          "output_type": "stream",
          "text": [
            "\n",
            "30651  classified correctly\n",
            "69349  classified incorrectly\n"
          ],
          "name": "stdout"
        },
        {
          "output_type": "display_data",
          "data": {
            "image/png": "[encoded data removed]",
            "text/plain": [
              "<Figure size 504x1008 with 6 Axes>"
            ]
          },
          "metadata": {
            "tags": [],
            "needs_background": "light"
          }
        }
      ]
    },
    {
      "cell_type": "markdown",
      "metadata": {
        "id": "hMwQ_4HMeoLN"
      },
      "source": [
        "### 8.2. CNN Model Result\n",
        "\n",
        "---\n",
        "\n",
        "Get the result for the CNN model."
      ]
    },
    {
      "cell_type": "code",
      "metadata": {
        "id": "yGcNmEGEf8I0"
      },
      "source": [
        "# now we shall evaluate the model and see the accuracy\n",
        "score = model.evaluate(x_test,y_test)\n",
        "print(\"Test loss:\", score[0])\n",
        "print(\"Test accuracy:\", score[1])\n",
        "print(\"CNN Model Error: %.2f%%\" % (100-score[1]*100))"
      ],
      "execution_count": null,
      "outputs": []
    },
    {
      "cell_type": "code",
      "metadata": {
        "id": "9tXbqxbpgETQ"
      },
      "source": [
        "# from the above result, we can see that we got an accuracy of 96.7% and a loss of 10.7%, which is not bad but can be better improved.\n",
        "# now we shall try to make individual predictions.\n",
        "\n",
        "# get a random index which we will use it to see what number it is from the test dataset(it shld be a number all the way to 60,000)\n",
        "image_index = 8\n",
        "\n",
        "# see what image it is first\n",
        "plt.imshow(x_test[image_index].reshape(28, 28),cmap=plt.cm.binary) # visually, we identify the number as 6\n",
        "# see the actual label\n",
        "actual_label = (y_test[image_index])\n",
        "print('Actual Label:', actual_label)\n",
        "\n",
        "# now lets try to feed the image_index into x_test and feed it into the trained model\n",
        "pred = model.predict(x_test[image_index].reshape(1, 28, 28, 1))\n",
        "print('Predicted Number:', pred.argmax()) # print out the result"
      ],
      "execution_count": null,
      "outputs": []
    },
    {
      "cell_type": "markdown",
      "metadata": {
        "id": "vU45DXEOf2dz"
      },
      "source": [
        "### 8.3. CNN Hyper-Parameter Tuned Model Result\n",
        "\n",
        "---\n",
        "\n",
        "Get the result for the CNN model that has undergone hyper parameter tuning."
      ]
    },
    {
      "cell_type": "code",
      "metadata": {
        "id": "ShTJVSrtf8LD",
        "outputId": "7613e1ea-ad9c-4c58-f156-97e39f9ff351",
        "colab": {
          "base_uri": "https://localhost:8080/"
        }
      },
      "source": [
        "# now we shall evaluate the model and see the accuracy\n",
        "loss, accuracy = model.evaluate(x_test,y_test)\n",
        "print(\"Test loss:\", loss)\n",
        "print(\"Test accuracy:\", accuracy)\n",
        "print(\"CNN Model Accuracy: %.2f%%\" % (accuracy*100))\n",
        "print(\"CNN Model Error: %.2f%%\" % (100-loss*100))"
      ],
      "execution_count": null,
      "outputs": [
        {
          "output_type": "stream",
          "text": [
            "313/313 [==============================] - 1s 4ms/step - loss: 0.0396 - accuracy: 0.9889\n",
            "Test loss: 0.039604440331459045\n",
            "Test accuracy: 0.9889000058174133\n",
            "CNN Model Accuracy: 98.89%\n",
            "CNN Model Loss: 3.96%\n"
          ],
          "name": "stdout"
        }
      ]
    },
    {
      "cell_type": "code",
      "metadata": {
        "id": "cBMA3CS-f_TQ",
        "outputId": "3be75eec-4515-4ed7-8141-5edd47508951",
        "colab": {
          "base_uri": "https://localhost:8080/",
          "height": 299
        }
      },
      "source": [
        "# from the above result, we can see that we got an accuracy of 96.7% and a loss of 10.7%, which is not bad but can be better improved.\n",
        "# now we shall try to make individual predictions.\n",
        "\n",
        "# get a random index which we will use it to see what number it is from the test dataset(it shld be a number all the way to 60,000)\n",
        "image_index = 8\n",
        "\n",
        "# see what image it is first\n",
        "plt.imshow(x_test[image_index].reshape(28, 28),cmap=plt.cm.binary) # visually, we identify the number as 6\n",
        "# see the actual label\n",
        "actual_label = (y_test[image_index])\n",
        "print('Actual Label:', actual_label)\n",
        "\n",
        "# now lets try to feed the image_index into x_test and feed it into the trained model\n",
        "pred = model.predict(x_test[image_index].reshape(1, 28, 28, 1))\n",
        "print('Predicted Number:', pred.argmax()) # print out the result"
      ],
      "execution_count": null,
      "outputs": [
        {
          "output_type": "stream",
          "text": [
            "Actual Label: [0. 0. 0. 0. 0. 1. 0. 0. 0. 0.]\n",
            "Predicted Number: 5\n"
          ],
          "name": "stdout"
        },
        {
          "output_type": "display_data",
          "data": {
            "image/png": "[encoded data removed]",
            "text/plain": [
              "<Figure size 432x288 with 1 Axes>"
            ]
          },
          "metadata": {
            "tags": [],
            "needs_background": "light"
          }
        }
      ]
    },
    {
      "cell_type": "markdown",
      "metadata": {
        "id": "5PIPpo7sbNRE"
      },
      "source": [
        "---\n",
        "---"
      ]
    },
    {
      "cell_type": "markdown",
      "metadata": {
        "id": "fuJ322WcbQBu"
      },
      "source": [
        "# 9.References"
      ]
    },
    {
      "cell_type": "markdown",
      "metadata": {
        "id": "8WQh8SimbTVS"
      },
      "source": [
        "## Using Google Colab More Efficiently\n",
        "- [Getting the Most Out of Your Google Colab (Tutorial)](https://medium.com/@oribarel/getting-the-most-out-of-your-google-colab-2b0585f82403)\n",
        "- [Using Google Colab with GitHub](https://colab.research.google.com/github/googlecolab/colabtools/blob/master/notebooks/colab-github-demo.ipynb)\n",
        "\n",
        "## Background Research\n",
        "\n",
        "## Selecting CNN Architecture\n",
        "- [Top 10 CNN Architecture](https://towardsdatascience.com/illustrated-10-cnn-architectures-95d78ace614d#676b)\n",
        "- [AlexNet: The Architecture that Challenged CNNs](https://towardsdatascience.com/alexnet-the-architecture-that-challenged-cnns-e406d5297951)\n",
        "- [How to choose CNN Architecture MNIST](https://www.kaggle.com/cdeotte/how-to-choose-cnn-architecture-mnist#What-is-the-best-CNN-architecture-for-MNIST?)\n",
        "\n",
        "## Some Tutorials on how to build a CNN Model\n",
        "- [Building a Custom Convolutional Neural Network in Keras](https://medium.com/@ODSC/building-a-custom-convolutional-neural-network-in-keras-48171163aa7f)\n",
        "- [The Most Intuitive and Easiest Guide for Convolutional Neural Network](https://towardsdatascience.com/the-most-intuitive-and-easiest-guide-for-convolutional-neural-network-3607be47480)\n",
        "- [MNIST with Keras for Beginners(.99457)](https://www.kaggle.com/adityaecdrid/mnist-with-keras-for-beginners-99457)\n",
        "- [Introduction to CNN Keras - Acc 0.997 (top 8%)](https://www.kaggle.com/yassineghouzam/introduction-to-cnn-keras-0-997-top-6)\n",
        "- [Image Classification in 10 Minutes with MNIST Dataset](https://towardsdatascience.com/image-classification-in-10-minutes-with-mnist-dataset-54c35b77a38d)\n",
        "- [How to Develop a CNN for MNIST Handwritten Digit Classification](https://machinelearningmastery.com/how-to-develop-a-convolutional-neural-network-from-scratch-for-mnist-handwritten-digit-classification/#:~:text=The%20MNIST%20dataset%20is%20an,digits%20between%200%20and%209.)\n",
        "- [MNIST Handwritten Digit Recognition in Keras](https://nextjournal.com/gkoehler/digit-recognition-with-keras)\n",
        "\n",
        "## Feature Engineering\n",
        "- [Why Change Data Dimension Before Feeding Into Keras?](https://stackoverflow.com/a/62991238/12347869)\n",
        "- [Properly Setting the Random Seed in ML Experiments. Not as Simple as You Might Imagine](https://medium.com/@ODSC/properly-setting-the-random-seed-in-ml-experiments-not-as-simple-as-you-might-imagine-219969c84752)\n",
        "- [How to get reproducible results in keras](https://stackoverflow.com/questions/32419510/how-to-get-reproducible-results-in-keras)\n",
        "- [How can I obtain reproducible results using Keras during development?](https://keras.io/getting_started/faq/#how-can-i-obtain-reproducible-results-using-keras-during-development)\n",
        "\n",
        "## Building Layers\n",
        "- [What is the default weight initializer in Keras?](https://stackoverflow.com/questions/54011173/what-is-the-default-weight-initializer-in-keras)\n",
        "- [A Gentle Introduction to Pooling Layers for Convolutional Neural Networks](https://machinelearningmastery.com/pooling-layers-for-convolutional-neural-networks/)\n",
        "- [Using the Keras Flatten Operation in CNN Models with Code Examples](https://missinglink.ai/guides/keras/using-keras-flatten-operation-cnn-models-code-examples/)\n",
        "- [Dropout Neural Network Layer In Keras Explained](https://towardsdatascience.com/machine-learning-part-20-dropout-keras-layers-explained-8c9f6dc4c9ab)\n",
        "- [Changing shape of MNIST for tensorflow CNN](https://stackoverflow.com/questions/50549859/changing-shape-of-mnist-for-tensorflow-cnn)\n",
        "\n",
        "## Model Evaluation \n",
        "- [Sparse_categorical_crossentropy vs categorical_crossentropy (keras, accuracy)](https://datascience.stackexchange.com/questions/41921/sparse-categorical-crossentropy-vs-categorical-crossentropy-keras-accuracy)\n",
        "\n",
        "## Hyper Parameter Tuning With Keras Tuner\n",
        "- [Hyperparameter tuning with Keras Tuner](https://blog.tensorflow.org/2020/01/hyperparameter-tuning-with-keras-tuner.html)\n",
        "- [Why is random search better than grid search for machine learning?](https://analyticsindiamag.com/why-is-random-search-better-than-grid-search-for-machine-learning/#:~:text=Random%20search%20is%20a%20technique,to%20yield%20better%20results%20comparatively.)\n",
        "- [Hands on hyperparameter tuning with Keras Tuner](https://www.sicara.ai/blog/hyperparameter-tuning-keras-tuner)\n",
        "- [Keras Tuner Docs](https://keras-team.github.io/keras-tuner/)\n",
        "- [How do you decide the parameters of a Convolutional Neural Network for image classification?](https://stackoverflow.com/questions/24509921/how-do-you-decide-the-parameters-of-a-convolutional-neural-network-for-image-cla#:~:text=The%20Number%20of%20convolutional%20layers,you%20need%20to%20decide%20whether)\n"
      ]
    }
  ]
}