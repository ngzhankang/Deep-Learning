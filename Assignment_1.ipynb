{
  "nbformat": 4,
  "nbformat_minor": 0,
  "metadata": {
    "colab": {
      "name": "Assignment_1.ipynb",
      "provenance": [],
      "authorship_tag": "ABX9TyObFGnmdNS4Dmi3ZiTVcCnf",
      "include_colab_link": true
    },
    "kernelspec": {
      "name": "python3",
      "display_name": "Python 3"
    },
    "accelerator": "GPU"
  },
  "cells": [
    {
      "cell_type": "markdown",
      "metadata": {
        "id": "view-in-github",
        "colab_type": "text"
      },
      "source": [
        "<a href=\"https://colab.research.google.com/github/ngzhankang/Deep-Learning/blob/main/Assignment_1.ipynb\" target=\"_parent\"><img src=\"https://colab.research.google.com/assets/colab-badge.svg\" alt=\"Open In Colab\"/></a>"
      ]
    },
    {
      "cell_type": "markdown",
      "metadata": {
        "id": "cgTaLrOvB90e"
      },
      "source": [
        "# Assignment 1\n",
        "Submitted by : P1935727 Ng Zhan Kang<br>\n",
        "Class of DIT/FT/2B/11"
      ]
    },
    {
      "cell_type": "markdown",
      "metadata": {
        "id": "dc_pUkkFF9Lg"
      },
      "source": [
        "---"
      ]
    },
    {
      "cell_type": "markdown",
      "metadata": {
        "id": "V2Wf_28GF-Mr"
      },
      "source": [
        "---"
      ]
    },
    {
      "cell_type": "markdown",
      "metadata": {
        "id": "uscN7JHCCkKf"
      },
      "source": [
        "# Index\n",
        "1. [Setting Up Working Environment In Google Colab](#Setting-Up-Working-Environment-In-Google-Colab)"
      ]
    },
    {
      "cell_type": "markdown",
      "metadata": {
        "id": "wBZF_lBVGGgd"
      },
      "source": [
        "---"
      ]
    },
    {
      "cell_type": "markdown",
      "metadata": {
        "id": "-WzkdRb5GHnQ"
      },
      "source": [
        "---"
      ]
    },
    {
      "cell_type": "markdown",
      "metadata": {
        "id": "vE-S0J3BG-jO"
      },
      "source": [
        "# Setting Up Working Environment In Google Colab"
      ]
    },
    {
      "cell_type": "code",
      "metadata": {
        "id": "4vU3IPB-9wF6",
        "outputId": "3b3495a9-a42d-4941-94aa-e2fa74754a0b",
        "colab": {
          "base_uri": "https://localhost:8080/",
          "height": 101
        }
      },
      "source": [
        "# to ensure that the current gpu utilization is 0\n",
        "# memory footprint support libraries/code\n",
        "!ln -sf /opt/bin/nvidia-smi /usr/bin/nvidia-smi\n",
        "!pip install gputil\n",
        "!pip install psutil\n",
        "!pip install humanize\n",
        "import psutil\n",
        "import humanize\n",
        "import os\n",
        "import GPUtil as GPU\n",
        "GPUs = GPU.getGPUs()\n",
        "# XXX: only one GPU on Colab and isn’t guaranteed\n",
        "gpu = GPUs[0]\n",
        "def printm():\n",
        " process = psutil.Process(os.getpid())\n",
        " print(\"Gen RAM Free: \" + humanize.naturalsize( psutil.virtual_memory().available ), \" | Proc size: \" + humanize.naturalsize( process.memory_info().rss))\n",
        " print(\"GPU RAM Free: {0:.0f}MB | Used: {1:.0f}MB | Util {2:3.0f}% | Total {3:.0f}MB\".format(gpu.memoryFree, gpu.memoryUsed, gpu.memoryUtil*100, gpu.memoryTotal))\n",
        "printm() "
      ],
      "execution_count": 8,
      "outputs": [
        {
          "output_type": "stream",
          "text": [
            "Requirement already satisfied: gputil in /usr/local/lib/python3.6/dist-packages (1.4.0)\n",
            "Requirement already satisfied: psutil in /usr/local/lib/python3.6/dist-packages (5.4.8)\n",
            "Requirement already satisfied: humanize in /usr/local/lib/python3.6/dist-packages (0.5.1)\n",
            "Gen RAM Free: 12.8 GB  | Proc size: 274.9 MB\n",
            "GPU RAM Free: 15079MB | Used: 0MB | Util   0% | Total 15079MB\n"
          ],
          "name": "stdout"
        }
      ]
    },
    {
      "cell_type": "code",
      "metadata": {
        "id": "Gqa73iPB93yZ"
      },
      "source": [
        "# if utilization is > 0, run this code(keep running this cell and the above cell till the util number is 0%):\n",
        "# NOTE THAT RUNNING THIS MIGHT KILL GPU SESSION AND RESULT IN DATA LOSS(NOT ADVICABLE TO KEEP ON REUSING)\n",
        "!kill -9 -1"
      ],
      "execution_count": null,
      "outputs": []
    },
    {
      "cell_type": "markdown",
      "metadata": {
        "id": "nTqH__TzH9D_"
      },
      "source": [
        "---"
      ]
    },
    {
      "cell_type": "markdown",
      "metadata": {
        "id": "SwYkUGV0H9Be"
      },
      "source": [
        "---"
      ]
    },
    {
      "cell_type": "markdown",
      "metadata": {
        "id": "Id1KUxFrCnKw"
      },
      "source": [
        "# About The MNIST Dataset (Background Information)\n",
        "- BACKGROUND\n",
        "    - The MNIST database(Modified National Institute of Standards and Technology database) history came to existence by \n",
        "    - The MNIST database of handwritten digits, available from this page, has a training set of 60,000 examples, and a test set of 10,000 examples. It is a subset of a larger set available from NIST. The digits have been size-normalized and centered in a fixed-size image.\n"
      ]
    },
    {
      "cell_type": "markdown",
      "metadata": {
        "id": "M4jt0JueIHqz"
      },
      "source": [
        "---"
      ]
    },
    {
      "cell_type": "markdown",
      "metadata": {
        "id": "DRAg_XY2CsJ3"
      },
      "source": [
        "## Classic MNIST Dataset\n",
        "- For this problem, use only 1 target output variable (Survived)\n",
        "- Prepare the data and perform necessary feature engineering\n",
        "- Create **_at least two models_** \n",
        "- Evaluate the models and pick the best candidate\n",
        "- Form some conclusions"
      ]
    },
    {
      "cell_type": "markdown",
      "metadata": {
        "id": "cSnt3olNIJlH"
      },
      "source": [
        "---"
      ]
    },
    {
      "cell_type": "markdown",
      "metadata": {
        "id": "cDq5J1X0IJi7"
      },
      "source": [
        "---"
      ]
    },
    {
      "cell_type": "markdown",
      "metadata": {
        "id": "1-AF7n6VCwiI"
      },
      "source": [
        "# Data Importing"
      ]
    },
    {
      "cell_type": "markdown",
      "metadata": {
        "id": "4xGz4pqKINfL"
      },
      "source": [
        "### 1. Load the libraries\n",
        "\n",
        "---\n",
        "\n",
        "Import the necessary libraries."
      ]
    },
    {
      "cell_type": "code",
      "metadata": {
        "id": "i4GavKz7CzgA"
      },
      "source": [
        "# Suppress Future Warnings\n",
        "import warnings\n",
        "warnings.filterwarnings('ignore')"
      ],
      "execution_count": 4,
      "outputs": []
    },
    {
      "cell_type": "code",
      "metadata": {
        "id": "6OMhNQRPC23r",
        "outputId": "79b8a287-2a8c-4719-a991-0563d443925c",
        "colab": {
          "base_uri": "https://localhost:8080/",
          "height": 151
        }
      },
      "source": [
        "# check versions of libraries we are going to use\n",
        "import torch\n",
        "import numpy as np\n",
        "import pandas as pd\n",
        "import matplotlib\n",
        "import platform\n",
        "\n",
        "message=\"        Versions        \"\n",
        "print(\"*\"*len(message))\n",
        "print(message)\n",
        "print(\"*\"*len(message))\n",
        "print(\"PyTorch version={}\".format(torch.__version__))\n",
        "print(\"Numpy version={}\".format(np.__version__))\n",
        "print(\"Pandas version={}\".format(pd.__version__))\n",
        "print(\"Matplotlib version={}\".format(matplotlib.__version__))\n",
        "print(\"Python version={}\".format(platform.python_version()))"
      ],
      "execution_count": 6,
      "outputs": [
        {
          "output_type": "stream",
          "text": [
            "************************\n",
            "        Versions        \n",
            "************************\n",
            "PyTorch version=1.6.0+cu101\n",
            "Numpy version=1.18.5\n",
            "Pandas version=1.1.2\n",
            "Matplotlib version=3.2.2\n",
            "Python version=3.6.9\n"
          ],
          "name": "stdout"
        }
      ]
    },
    {
      "cell_type": "code",
      "metadata": {
        "id": "yjLekX4z9_nf"
      },
      "source": [
        "# start importing necessary libraries\n",
        "import torch\n",
        "import pandas as pd\n",
        "import matplotlib.pyplot as plt\n",
        "import seaborn as sns\n",
        "import numpy as np"
      ],
      "execution_count": 7,
      "outputs": []
    },
    {
      "cell_type": "code",
      "metadata": {
        "id": "pXWoWulRC_sP"
      },
      "source": [
        "# get the dataset from pytorch library\n"
      ],
      "execution_count": null,
      "outputs": []
    },
    {
      "cell_type": "code",
      "metadata": {
        "id": "Pyhba7zmBwj2"
      },
      "source": [
        ""
      ],
      "execution_count": null,
      "outputs": []
    }
  ]
}