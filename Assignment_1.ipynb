{
  "nbformat": 4,
  "nbformat_minor": 0,
  "metadata": {
    "colab": {
      "name": "Assignment_1.ipynb",
      "provenance": [],
      "toc_visible": true,
      "authorship_tag": "ABX9TyM+S6A90lmADghgAa5jvAPL",
      "include_colab_link": true
    },
    "kernelspec": {
      "name": "python3",
      "display_name": "Python 3"
    },
    "accelerator": "GPU"
  },
  "cells": [
    {
      "cell_type": "markdown",
      "metadata": {
        "id": "view-in-github",
        "colab_type": "text"
      },
      "source": [
        "<a href=\"https://colab.research.google.com/github/ngzhankang/Deep-Learning/blob/main/Assignment_1.ipynb\" target=\"_parent\"><img src=\"https://colab.research.google.com/assets/colab-badge.svg\" alt=\"Open In Colab\"/></a>"
      ]
    },
    {
      "cell_type": "markdown",
      "metadata": {
        "id": "cgTaLrOvB90e"
      },
      "source": [
        "# Assignment 1\n",
        "Submitted by : P1935727 Ng Zhan Kang<br>\n",
        "Class of DIT/FT/2B/11\n"
      ]
    },
    {
      "cell_type": "markdown",
      "metadata": {
        "id": "dc_pUkkFF9Lg"
      },
      "source": [
        "---\n",
        "---"
      ]
    },
    {
      "cell_type": "markdown",
      "metadata": {
        "id": "vE-S0J3BG-jO"
      },
      "source": [
        "# 1.Setting Up Working Environment In Google Colab"
      ]
    },
    {
      "cell_type": "markdown",
      "metadata": {
        "id": "dEaQJ7Rz88NW"
      },
      "source": [
        "### 1.1 Ensuring 0% Util\n",
        "\n",
        "---\n",
        "\n",
        "Ensure that our slot give by Google is not utilized yet."
      ]
    },
    {
      "cell_type": "code",
      "metadata": {
        "id": "4vU3IPB-9wF6",
        "colab": {
          "base_uri": "https://localhost:8080/"
        },
        "outputId": "663af20d-e57b-4172-9d93-a5f7c1968dfb"
      },
      "source": [
        "# to ensure that the current gpu utilization is 0\n",
        "# memory footprint support libraries/code\n",
        "!ln -sf /opt/bin/nvidia-smi /usr/bin/nvidia-smi\n",
        "!pip install gputil\n",
        "!pip install psutil\n",
        "!pip install humanize\n",
        "import psutil\n",
        "import humanize\n",
        "\n",
        "import os\n",
        "import GPUtil as GPU\n",
        "GPUs = GPU.getGPUs()\n",
        "# XXX: only one GPU on Colab and isn’t guaranteed\n",
        "gpu = GPUs[0]\n",
        "def printm():\n",
        " process = psutil.Process(os.getpid())\n",
        " print(\"Gen RAM Free: \" + humanize.naturalsize( psutil.virtual_memory().available ), \" | Proc size: \" + humanize.naturalsize( process.memory_info().rss))\n",
        " print(\"GPU RAM Free: {0:.0f}MB | Used: {1:.0f}MB | Util {2:3.0f}% | Total {3:.0f}MB\".format(gpu.memoryFree, gpu.memoryUsed, gpu.memoryUtil*100, gpu.memoryTotal))\n",
        "printm() "
      ],
      "execution_count": 641,
      "outputs": [
        {
          "output_type": "stream",
          "text": [
            "Requirement already satisfied: gputil in /usr/local/lib/python3.6/dist-packages (1.4.0)\n",
            "Requirement already satisfied: psutil in /usr/local/lib/python3.6/dist-packages (5.4.8)\n",
            "Requirement already satisfied: humanize in /usr/local/lib/python3.6/dist-packages (0.5.1)\n",
            "Gen RAM Free: 10.2 GB  | Proc size: 6.6 GB\n",
            "GPU RAM Free: 10352MB | Used: 4727MB | Util  31% | Total 15079MB\n"
          ],
          "name": "stdout"
        }
      ]
    },
    {
      "cell_type": "markdown",
      "metadata": {
        "id": "SWjAy1ds9Kns"
      },
      "source": [
        "### 1.2. Forcing Utils To 0% To Get A Clean Cluster\n",
        "\n",
        "---\n",
        "\n",
        "Please do not use this step unless forced to."
      ]
    },
    {
      "cell_type": "code",
      "metadata": {
        "id": "Gqa73iPB93yZ"
      },
      "source": [
        "# if utilization is > 0, run this code(keep running this cell and the above cell till the util number is 0%):\n",
        "# NOTE THAT RUNNING THIS MIGHT KILL GPU SESSION AND RESULT IN DATA LOSS(NOT ADVICABLE TO KEEP ON REUSING)\n",
        "# !kill -9 -1"
      ],
      "execution_count": 642,
      "outputs": []
    },
    {
      "cell_type": "markdown",
      "metadata": {
        "id": "L0aYmZCq8qjQ"
      },
      "source": [
        "---\n",
        "---"
      ]
    },
    {
      "cell_type": "markdown",
      "metadata": {
        "id": "FfVnMSOFGln8"
      },
      "source": [
        "# 2.Ensuring GPU Is Utilized In Environment"
      ]
    },
    {
      "cell_type": "markdown",
      "metadata": {
        "id": "lbDAAbwSG7DN"
      },
      "source": [
        "### 2.1. See the list of available devices\n",
        "\n",
        "---\n",
        "\n",
        "This entire section can be omitted if users are not utilizing GPU at all."
      ]
    },
    {
      "cell_type": "code",
      "metadata": {
        "id": "l6OEWFOMcAM_",
        "colab": {
          "base_uri": "https://localhost:8080/"
        },
        "outputId": "23986feb-1d16-4bba-d748-273878c359e7"
      },
      "source": [
        "from tensorflow.python.client import device_lib\n",
        "print(device_lib.list_local_devices())"
      ],
      "execution_count": 643,
      "outputs": [
        {
          "output_type": "stream",
          "text": [
            "[name: \"/device:CPU:0\"\n",
            "device_type: \"CPU\"\n",
            "memory_limit: 268435456\n",
            "locality {\n",
            "}\n",
            "incarnation: 9138659265195474984\n",
            ", name: \"/device:XLA_CPU:0\"\n",
            "device_type: \"XLA_CPU\"\n",
            "memory_limit: 17179869184\n",
            "locality {\n",
            "}\n",
            "incarnation: 10229295973423137304\n",
            "physical_device_desc: \"device: XLA_CPU device\"\n",
            ", name: \"/device:XLA_GPU:0\"\n",
            "device_type: \"XLA_GPU\"\n",
            "memory_limit: 17179869184\n",
            "locality {\n",
            "}\n",
            "incarnation: 4225172679639634497\n",
            "physical_device_desc: \"device: XLA_GPU device\"\n",
            ", name: \"/device:GPU:0\"\n",
            "device_type: \"GPU\"\n",
            "memory_limit: 14640891840\n",
            "locality {\n",
            "  bus_id: 1\n",
            "  links {\n",
            "  }\n",
            "}\n",
            "incarnation: 3575590184490592232\n",
            "physical_device_desc: \"device: 0, name: Tesla T4, pci bus id: 0000:00:04.0, compute capability: 7.5\"\n",
            "]\n"
          ],
          "name": "stdout"
        }
      ]
    },
    {
      "cell_type": "code",
      "metadata": {
        "id": "baot31IdcLjO",
        "colab": {
          "base_uri": "https://localhost:8080/"
        },
        "outputId": "af14dc53-4328-4353-bf5f-10afcb888888"
      },
      "source": [
        "import tensorflow as tf\n",
        "print(\"Num GPUs Available: \", len(tf.config.experimental.list_physical_devices('GPU')))"
      ],
      "execution_count": 644,
      "outputs": [
        {
          "output_type": "stream",
          "text": [
            "Num GPUs Available:  1\n"
          ],
          "name": "stdout"
        }
      ]
    },
    {
      "cell_type": "code",
      "metadata": {
        "id": "vS-gWw_jcOeh",
        "colab": {
          "base_uri": "https://localhost:8080/",
          "height": 35
        },
        "outputId": "23aa4d60-c00b-4d67-94da-51c551b99ea5"
      },
      "source": [
        "tf.test.gpu_device_name()"
      ],
      "execution_count": 645,
      "outputs": [
        {
          "output_type": "execute_result",
          "data": {
            "application/vnd.google.colaboratory.intrinsic+json": {
              "type": "string"
            },
            "text/plain": [
              "'/device:GPU:0'"
            ]
          },
          "metadata": {
            "tags": []
          },
          "execution_count": 645
        }
      ]
    },
    {
      "cell_type": "code",
      "metadata": {
        "id": "dmpPA6cY_Qua",
        "colab": {
          "base_uri": "https://localhost:8080/"
        },
        "outputId": "7945c139-0de9-45e0-e455-c3103a09e1dc"
      },
      "source": [
        "!nvidia-smi"
      ],
      "execution_count": 646,
      "outputs": [
        {
          "output_type": "stream",
          "text": [
            "Sun Nov 22 10:43:45 2020       \n",
            "+-----------------------------------------------------------------------------+\n",
            "| NVIDIA-SMI 418.67       Driver Version: 418.67       CUDA Version: 10.1     |\n",
            "|-------------------------------+----------------------+----------------------+\n",
            "| GPU  Name        Persistence-M| Bus-Id        Disp.A | Volatile Uncorr. ECC |\n",
            "| Fan  Temp  Perf  Pwr:Usage/Cap|         Memory-Usage | GPU-Util  Compute M. |\n",
            "|===============================+======================+======================|\n",
            "|   0  Tesla T4            Off  | 00000000:00:04.0 Off |                    0 |\n",
            "| N/A   74C    P0    34W /  70W |   4727MiB / 15079MiB |      0%      Default |\n",
            "+-------------------------------+----------------------+----------------------+\n",
            "                                                                               \n",
            "+-----------------------------------------------------------------------------+\n",
            "| Processes:                                                       GPU Memory |\n",
            "|  GPU       PID   Type   Process name                             Usage      |\n",
            "|=============================================================================|\n",
            "+-----------------------------------------------------------------------------+\n"
          ],
          "name": "stdout"
        }
      ]
    },
    {
      "cell_type": "markdown",
      "metadata": {
        "id": "F08LAekAHBhq"
      },
      "source": [
        "---\n",
        "---"
      ]
    },
    {
      "cell_type": "markdown",
      "metadata": {
        "id": "Id1KUxFrCnKw"
      },
      "source": [
        "# 3.About The MNIST Dataset (Background Information)"
      ]
    },
    {
      "cell_type": "markdown",
      "metadata": {
        "id": "QiQ-Uvol8ZIp"
      },
      "source": [
        "## 3.1. Background\n",
        "- The MNIST database(Modified National Institute of Standards and Technology database) history came to existence by \n",
        "- The MNIST database of handwritten digits, available from this page, has a training set of 60,000 examples, and a test set of 10,000 examples. It is a subset of a larger set available from NIST. The digits have been size-normalized and centered in a fixed-size image."
      ]
    },
    {
      "cell_type": "markdown",
      "metadata": {
        "id": "DRAg_XY2CsJ3"
      },
      "source": [
        "## 3.2. Classic MNIST Dataset\n",
        "- For this problem, create a CNN for image classification and evaluate the performance of the network\n",
        "- Prepare the data and perform necessary feature engineering\n",
        "- Create **_three models_** \n",
        "- Evaluate the models and pick the best candidate\n",
        "- Form some conclusions"
      ]
    },
    {
      "cell_type": "markdown",
      "metadata": {
        "id": "cSnt3olNIJlH"
      },
      "source": [
        "---\n",
        "---"
      ]
    },
    {
      "cell_type": "markdown",
      "metadata": {
        "id": "1-AF7n6VCwiI"
      },
      "source": [
        "# 4.Data Importing"
      ]
    },
    {
      "cell_type": "markdown",
      "metadata": {
        "id": "4xGz4pqKINfL"
      },
      "source": [
        "### 4.1. Load the libraries\n",
        "\n",
        "---\n",
        "\n",
        "Import the necessary libraries."
      ]
    },
    {
      "cell_type": "code",
      "metadata": {
        "id": "i4GavKz7CzgA"
      },
      "source": [
        "# Suppress Future Warnings\n",
        "import warnings\n",
        "warnings.filterwarnings('ignore')"
      ],
      "execution_count": 647,
      "outputs": []
    },
    {
      "cell_type": "code",
      "metadata": {
        "id": "6OMhNQRPC23r",
        "colab": {
          "base_uri": "https://localhost:8080/"
        },
        "outputId": "778f9954-5047-4d96-b5ab-dd802ec9ec0d"
      },
      "source": [
        "# check versions of libraries we are going to use\n",
        "%tensorflow_version 2.x\n",
        "import os\n",
        "import tensorflow\n",
        "import sklearn\n",
        "import numpy as np\n",
        "import pandas as pd\n",
        "import seaborn as sns\n",
        "import matplotlib\n",
        "import platform\n",
        "\n",
        "message=\"        Versions        \"\n",
        "print(\"*\"*len(message))\n",
        "print(message)\n",
        "print(\"*\"*len(message))\n",
        "print(\"Tensorflow version={}\".format(tensorflow.__version__))\n",
        "print(\"Keras version={}\".format(tensorflow.keras.__version__))\n",
        "print(\"Sklearn version={}\".format(sklearn.__version__))\n",
        "print(\"Numpy version={}\".format(np.__version__))\n",
        "print(\"Pandas version={}\".format(pd.__version__))\n",
        "print(\"Seaborn version={}\".format(sns.__version__))\n",
        "print(\"Matplotlib version={}\".format(matplotlib.__version__))\n",
        "print(\"Python version={}\".format(platform.python_version()))"
      ],
      "execution_count": 648,
      "outputs": [
        {
          "output_type": "stream",
          "text": [
            "************************\n",
            "        Versions        \n",
            "************************\n",
            "Tensorflow version=2.3.0\n",
            "Keras version=2.4.0\n",
            "Sklearn version=0.22.2.post1\n",
            "Numpy version=1.18.5\n",
            "Pandas version=1.1.4\n",
            "Seaborn version=0.11.0\n",
            "Matplotlib version=3.2.2\n",
            "Python version=3.6.9\n"
          ],
          "name": "stdout"
        }
      ]
    },
    {
      "cell_type": "code",
      "metadata": {
        "id": "yjLekX4z9_nf"
      },
      "source": [
        "# start importing necessary libraries\n",
        "import tensorflow as tf\n",
        "from tensorflow.keras.models import Sequential, load_model\n",
        "from tensorflow.keras.layers import Dense, Conv2D, Dropout, Flatten, AveragePooling2D, Activation, BatchNormalization\n",
        "from tensorflow.keras.regularizers import l2\n",
        "from tensorflow.keras.optimizers import Adam\n",
        "\n",
        "from tensorflow.keras.callbacks import EarlyStopping, LearningRateScheduler, History\n",
        "from tensorflow.keras.preprocessing.image import ImageDataGenerator\n",
        "from sklearn.metrics import confusion_matrix\n",
        "from sklearn.model_selection import GridSearchCV\n",
        "from tensorflow.keras.wrappers.scikit_learn import KerasClassifier\n",
        "\n",
        "import pandas as pd\n",
        "import matplotlib.pyplot as plt\n",
        "import seaborn as sns\n",
        "import numpy as np\n",
        "import itertools\n",
        "\n",
        "%matplotlib inline"
      ],
      "execution_count": 649,
      "outputs": []
    },
    {
      "cell_type": "code",
      "metadata": {
        "id": "7EwCUvGDH8tH"
      },
      "source": [
        "# fix random seed for reproducibility\n",
        "np.random.seed(5)"
      ],
      "execution_count": 650,
      "outputs": []
    },
    {
      "cell_type": "code",
      "metadata": {
        "id": "pXWoWulRC_sP"
      },
      "source": [
        "# get the dataset from keras library in tensorflow 2.0\n",
        "mnist = tf.keras.datasets.mnist\n",
        "\n",
        "# unpack the dataset to the respective x_train, y_train, x_test and y_test\n",
        "(x_train, y_train), (x_test, y_test) = mnist.load_data()"
      ],
      "execution_count": 651,
      "outputs": []
    },
    {
      "cell_type": "markdown",
      "metadata": {
        "id": "aLvoYw5FIrJE"
      },
      "source": [
        "<div class=\"alert alert-block alert-info\">\n",
        "    <b>Analysis Summary:</b> MNIST Dataset includes handwritten digits from 0 to 9, and dimensions are 28 by 28 pixels. Each pixels is 8 bits, so its value ranges from to 0 to 255.<p>\n",
        "</div>"
      ]
    },
    {
      "cell_type": "markdown",
      "metadata": {
        "id": "EYcgK0sTFrvZ"
      },
      "source": [
        "### 4.2. Verify the dataset\n",
        "\n",
        "---\n",
        "\n",
        "Verify the credibility of the dataset first by plotting the 1st 25 images from the training set and display the class name below each image."
      ]
    },
    {
      "cell_type": "code",
      "metadata": {
        "id": "YXCBHJQVFsGK",
        "colab": {
          "base_uri": "https://localhost:8080/",
          "height": 589
        },
        "outputId": "2fa964ea-1010-4fd8-d096-ad84b7f6823a"
      },
      "source": [
        "plt.figure(figsize=(10,10))\n",
        "for i in range(25):\n",
        "    plt.subplot(5,5,i+1)\n",
        "    plt.xticks([])\n",
        "    plt.yticks([])\n",
        "    plt.grid(False)\n",
        "    plt.imshow(x_train[i], cmap=plt.cm.binary)\n",
        "    plt.xlabel(y_train[i], color=\"yellow\")\n",
        "plt.show()"
      ],
      "execution_count": 652,
      "outputs": [
        {
          "output_type": "display_data",
          "data": {
            "image/png": "[encoded data removed]",
            "text/plain": [
              "<Figure size 720x720 with 25 Axes>"
            ]
          },
          "metadata": {
            "tags": []
          }
        }
      ]
    },
    {
      "cell_type": "markdown",
      "metadata": {
        "id": "T6lG2VSFF7nC"
      },
      "source": [
        "<div class=\"alert alert-block alert-info\">\n",
        "    <b>Analysis Summary:</b> It seems that the labels matches all the images, which is good! Now let's carry on to get a better insight of the datatset we are going to deal with.<p>\n",
        "</div>"
      ]
    },
    {
      "cell_type": "markdown",
      "metadata": {
        "id": "ARlNpLenHMk-"
      },
      "source": [
        "---\n",
        "---"
      ]
    },
    {
      "cell_type": "markdown",
      "metadata": {
        "id": "34w33z5aHNrb"
      },
      "source": [
        "# 5.Exploratory Data Analysis"
      ]
    },
    {
      "cell_type": "markdown",
      "metadata": {
        "id": "Gkd8sWV_6oht"
      },
      "source": [
        "### 5.1. Basic Data Exploration\n",
        "\n",
        "---\n",
        "\n",
        "Take a peek look at what is inside the `x_train` and the `x_test`."
      ]
    },
    {
      "cell_type": "code",
      "metadata": {
        "id": "M5xOZA3G4HYf",
        "colab": {
          "base_uri": "https://localhost:8080/"
        },
        "outputId": "1808f6a3-c6bc-4aa1-ccd3-43610b39dccc"
      },
      "source": [
        "# take a look at the x_train set first\n",
        "print(x_train.shape)\n",
        "print(y_train.shape)"
      ],
      "execution_count": 653,
      "outputs": [
        {
          "output_type": "stream",
          "text": [
            "(60000, 28, 28)\n",
            "(60000,)\n"
          ],
          "name": "stdout"
        }
      ]
    },
    {
      "cell_type": "code",
      "metadata": {
        "id": "SR9JVfvk62fU",
        "colab": {
          "base_uri": "https://localhost:8080/"
        },
        "outputId": "517c0ac1-a581-473d-fa09-336fcd14ad60"
      },
      "source": [
        "# take a look at the x_test set\n",
        "print(x_test.shape)\n",
        "print(y_test.shape)"
      ],
      "execution_count": 654,
      "outputs": [
        {
          "output_type": "stream",
          "text": [
            "(10000, 28, 28)\n",
            "(10000,)\n"
          ],
          "name": "stdout"
        }
      ]
    },
    {
      "cell_type": "code",
      "metadata": {
        "id": "YR66TbQJ6-An",
        "colab": {
          "base_uri": "https://localhost:8080/",
          "height": 265
        },
        "outputId": "9b3b5db1-8d27-487a-be1b-6250891b936b"
      },
      "source": [
        "# grab a random picture to take a look\n",
        "plt.imshow(x_train[5], cmap=plt.cm.binary)\n",
        "plt.show()"
      ],
      "execution_count": 655,
      "outputs": [
        {
          "output_type": "display_data",
          "data": {
            "image/png": "[encoded data removed]",
            "text/plain": [
              "<Figure size 432x288 with 1 Axes>"
            ]
          },
          "metadata": {
            "tags": [],
            "needs_background": "light"
          }
        }
      ]
    },
    {
      "cell_type": "code",
      "metadata": {
        "id": "qQeHiDS47ZVw",
        "colab": {
          "base_uri": "https://localhost:8080/"
        },
        "outputId": "8fe5a112-6add-4f8d-ef92-6f3b4b7de6c0"
      },
      "source": [
        "# get the distinct lables that are found in the entire thing\n",
        "print('Training set unique labels:',np.unique(y_train))\n",
        "print('Test set unique labels:',np.unique(y_test))"
      ],
      "execution_count": 656,
      "outputs": [
        {
          "output_type": "stream",
          "text": [
            "Training set unique labels: [0 1 2 3 4 5 6 7 8 9]\n",
            "Test set unique labels: [0 1 2 3 4 5 6 7 8 9]\n"
          ],
          "name": "stdout"
        }
      ]
    },
    {
      "cell_type": "code",
      "metadata": {
        "id": "s94V4iGA6IgO",
        "colab": {
          "base_uri": "https://localhost:8080/"
        },
        "outputId": "791a7fc3-3711-48e6-99a8-00f7b785ac00"
      },
      "source": [
        "# get the count of the values from 0 to 9\n",
        "unique, counts = np.unique(y_train, return_counts=True)\n",
        "print(np.asarray((unique, counts)).T)"
      ],
      "execution_count": 657,
      "outputs": [
        {
          "output_type": "stream",
          "text": [
            "[[   0 5923]\n",
            " [   1 6742]\n",
            " [   2 5958]\n",
            " [   3 6131]\n",
            " [   4 5842]\n",
            " [   5 5421]\n",
            " [   6 5918]\n",
            " [   7 6265]\n",
            " [   8 5851]\n",
            " [   9 5949]]\n"
          ],
          "name": "stdout"
        }
      ]
    },
    {
      "cell_type": "code",
      "metadata": {
        "id": "PHxX7kx3A0P-",
        "colab": {
          "base_uri": "https://localhost:8080/",
          "height": 298
        },
        "outputId": "212b95e2-c732-4e8b-cb43-e7dcafee1940"
      },
      "source": [
        "# get the distribution of our pixel values\n",
        "fig = plt.figure()\n",
        "plt.subplot(2,1,1)\n",
        "plt.imshow(x_train[0], cmap='gray', interpolation='none')\n",
        "plt.title(\"Digit: {}\".format(y_train[0]))\n",
        "plt.xticks([])\n",
        "plt.yticks([])\n",
        "\n",
        "plt.subplot(2,1,2)\n",
        "plt.hist(x_train[0].reshape(784))\n",
        "plt.title(\"Pixel Value Distribution\")"
      ],
      "execution_count": 658,
      "outputs": [
        {
          "output_type": "execute_result",
          "data": {
            "text/plain": [
              "Text(0.5, 1.0, 'Pixel Value Distribution')"
            ]
          },
          "metadata": {
            "tags": []
          },
          "execution_count": 658
        },
        {
          "output_type": "display_data",
          "data": {
            "image/png": "[encoded data removed]",
            "text/plain": [
              "<Figure size 432x288 with 2 Axes>"
            ]
          },
          "metadata": {
            "tags": [],
            "needs_background": "light"
          }
        }
      ]
    },
    {
      "cell_type": "markdown",
      "metadata": {
        "id": "QIoM0g6UBO-L"
      },
      "source": [
        "<div class=\"alert alert-block alert-info\">\n",
        "    <b>Analysis Summary:</b> From what we can see, the pixel values ranges from 0 to 255, with the majority close to 0, and those close to 255 respresenting the digit.<p>\n",
        "</div>"
      ]
    },
    {
      "cell_type": "markdown",
      "metadata": {
        "id": "UPO-4wQGHnq-"
      },
      "source": [
        "---\n",
        "---"
      ]
    },
    {
      "cell_type": "markdown",
      "metadata": {
        "id": "8e7cOjDtHrpd"
      },
      "source": [
        "# 6.Feature Engineering"
      ]
    },
    {
      "cell_type": "markdown",
      "metadata": {
        "id": "MpE9BpXTIbsN"
      },
      "source": [
        "### 6.1. Changing Dimension To Match Keras Expectation\n",
        "\n",
        "---\n",
        "\n",
        "Reshape `x_train` and `x_test` to 4 dimensional array for the convolutional layer later on."
      ]
    },
    {
      "cell_type": "code",
      "metadata": {
        "id": "UUNk_StCNAN-",
        "colab": {
          "base_uri": "https://localhost:8080/"
        },
        "outputId": "49f23b23-18bb-4ff2-cfb7-defb94c603ac"
      },
      "source": [
        "# flatten 28*28 pixel images to 784 pixels for each image(from a 2D array to a 1D array)\n",
        "num_pixels = x_train.shape[1] * x_train.shape[2]\n",
        "X_train = x_train.reshape(x_train.shape[0], num_pixels).astype('float32')\n",
        "X_test = x_test.reshape(x_test.shape[0], num_pixels).astype('float32')\n",
        "\n",
        "# see the changes\n",
        "print('New X_train shape:', X_train.shape)\n",
        "print(X_train.shape[0], 'train samples')\n",
        "print(X_test.shape[0], 'test samples')"
      ],
      "execution_count": 659,
      "outputs": [
        {
          "output_type": "stream",
          "text": [
            "New X_train shape: (60000, 784)\n",
            "60000 train samples\n",
            "10000 test samples\n"
          ],
          "name": "stdout"
        }
      ]
    },
    {
      "cell_type": "markdown",
      "metadata": {
        "id": "I6PR8lUGIjf7"
      },
      "source": [
        "### 6.2. Normalize Training Data\n",
        "\n",
        "---\n",
        "\n",
        "Normalize the entire training dataset so that there is not much variation."
      ]
    },
    {
      "cell_type": "code",
      "metadata": {
        "id": "dxgG6lH8Igxn",
        "colab": {
          "base_uri": "https://localhost:8080/"
        },
        "outputId": "86f928bd-70a8-47e9-ed41-39a95f88ac8f"
      },
      "source": [
        "# attempt to normalize the entire dataset first from 0-255 to 0-1\n",
        "X_train /= 255\n",
        "X_test /= 255\n",
        "\n",
        "# see the shape of x_train and x_test first\n",
        "print('X_train shape:', X_train.shape)\n",
        "print('X_test shape:', X_test.shape)\n",
        "print(X_train.shape[0], 'train samples')\n",
        "print(X_test.shape[0], 'test samples')"
      ],
      "execution_count": 660,
      "outputs": [
        {
          "output_type": "stream",
          "text": [
            "X_train shape: (60000, 784)\n",
            "X_test shape: (10000, 784)\n",
            "60000 train samples\n",
            "10000 test samples\n"
          ],
          "name": "stdout"
        }
      ]
    },
    {
      "cell_type": "markdown",
      "metadata": {
        "id": "hejHzHbJJslI"
      },
      "source": [
        "### 6.3. Convert To Categorical Data\n",
        "\n",
        "---\n",
        "\n",
        "Convert the labels to categorical data as we do not want the model to think 9 has a higher priority than 0."
      ]
    },
    {
      "cell_type": "code",
      "metadata": {
        "id": "JdB5ywKlJwZs",
        "colab": {
          "base_uri": "https://localhost:8080/"
        },
        "outputId": "47223c8e-32f2-40a7-949d-995d348dc2ff"
      },
      "source": [
        "# use to_categorical to convert the training and testing dataset labels\n",
        "num_classes = 10 # number of classes (numbers 0 to 9)\n",
        "\n",
        "Y_train = tf.keras.utils.to_categorical(y_train, num_classes)\n",
        "Y_test = tf.keras.utils.to_categorical(y_test, num_classes)\n",
        "\n",
        "# now lets check again the training and test dataset labels\n",
        "print('Y_train:', Y_train[0])\n",
        "print('Y_test:', Y_test[0])"
      ],
      "execution_count": 661,
      "outputs": [
        {
          "output_type": "stream",
          "text": [
            "Y_train: [0. 0. 0. 0. 0. 1. 0. 0. 0. 0.]\n",
            "Y_test: [0. 0. 0. 0. 0. 0. 0. 1. 0. 0.]\n"
          ],
          "name": "stdout"
        }
      ]
    },
    {
      "cell_type": "markdown",
      "metadata": {
        "id": "ODbLowUAmyuL"
      },
      "source": [
        "### 6.4. Transforming to 2D array\n",
        "\n",
        "---\n",
        "\n",
        "We will change the numpy array to a 2D array so that we can feed inside our CNN models."
      ]
    },
    {
      "cell_type": "code",
      "metadata": {
        "id": "bW2ob7tumx_P",
        "colab": {
          "base_uri": "https://localhost:8080/"
        },
        "outputId": "3dc24743-632d-47e8-968e-cb55c2509edc"
      },
      "source": [
        "# reshape x_train and x_test to (n_images, x_shape, y_shape, channels)\n",
        "# we are going to make chanels be 1 as we are not dealing with rgb images.\n",
        "X_train = x_train.reshape(x_train.shape[0], 28, 28, 1)\n",
        "X_test = x_test.reshape(x_test.shape[0], 28, 28, 1)\n",
        "\n",
        "# examine the shape before we feed it in\n",
        "print('New X_train shape:', X_train.shape)\n",
        "print(X_train.shape[0], 'train samples')\n",
        "print(X_test.shape[0], 'test samples')"
      ],
      "execution_count": 662,
      "outputs": [
        {
          "output_type": "stream",
          "text": [
            "New X_train shape: (60000, 28, 28, 1)\n",
            "60000 train samples\n",
            "10000 test samples\n"
          ],
          "name": "stdout"
        }
      ]
    },
    {
      "cell_type": "markdown",
      "metadata": {
        "id": "mBvx1V2rJ0pt"
      },
      "source": [
        "---\n",
        "---"
      ]
    },
    {
      "cell_type": "markdown",
      "metadata": {
        "id": "rCdKpcVDJ2uP"
      },
      "source": [
        "# 7.Models"
      ]
    },
    {
      "cell_type": "markdown",
      "metadata": {
        "id": "zSE3k8H-J43K"
      },
      "source": [
        "### 7.1. Baseline CNN Model\n",
        "\n",
        "---\n",
        "\n",
        "First, we will setup a baseline model using a simple CNN architecture."
      ]
    },
    {
      "cell_type": "code",
      "metadata": {
        "id": "H5ZgkP_2Jzp0",
        "colab": {
          "base_uri": "https://localhost:8080/"
        },
        "outputId": "a4e04557-132f-4ba4-c169-fcf96ad345fd"
      },
      "source": [
        "# create model and give it a name\n",
        "model = Sequential(name=\"sequential_baseline_model\")\n",
        "\n",
        "# Layer 1 Conv2D\n",
        "model.add(Conv2D(filters=32, kernel_size=(3, 3), activation='relu', input_shape=(28, 28, 1)))\n",
        "\n",
        "# Layer 2 Pooling Layer\n",
        "model.add(MaxPooling2D(pool_size=(2, 2)))\n",
        "\n",
        "# Layer 3 Flatten Layer\n",
        "model.add(Flatten())\n",
        "\n",
        "# Layer 4 Fully Connected Layer (Hidden Layer)\n",
        "model.add(Dense(100, kernel_initializer='he_uniform', activation='relu'))\n",
        "\n",
        "# Output layer\n",
        "model.add(Dense(num_classes, activation='softmax'))\n",
        "\n",
        "# model summary\n",
        "model.summary()"
      ],
      "execution_count": 604,
      "outputs": [
        {
          "output_type": "stream",
          "text": [
            "Model: \"sequential_baseline_model\"\n",
            "_________________________________________________________________\n",
            "Layer (type)                 Output Shape              Param #   \n",
            "=================================================================\n",
            "conv2d_32 (Conv2D)           (None, 26, 26, 32)        320       \n",
            "_________________________________________________________________\n",
            "max_pooling2d (MaxPooling2D) (None, 13, 13, 32)        0         \n",
            "_________________________________________________________________\n",
            "flatten_16 (Flatten)         (None, 5408)              0         \n",
            "_________________________________________________________________\n",
            "dense_32 (Dense)             (None, 100)               540900    \n",
            "_________________________________________________________________\n",
            "dense_33 (Dense)             (None, 10)                1010      \n",
            "=================================================================\n",
            "Total params: 542,230\n",
            "Trainable params: 542,230\n",
            "Non-trainable params: 0\n",
            "_________________________________________________________________\n"
          ],
          "name": "stdout"
        }
      ]
    },
    {
      "cell_type": "code",
      "metadata": {
        "id": "L13mqI75NPs-"
      },
      "source": [
        "# implement a learning rate schedule in keras\n",
        "learning_rate = 0.001\n",
        "beta_1 = 0.9\n",
        "beta_2 = 0.999\n",
        "epsilon = 1e-08\n",
        "\n",
        "adam = Adam(lr=learning_rate, beta_1=beta_1, beta_2=beta_2, epsilon=epsilon)"
      ],
      "execution_count": 605,
      "outputs": []
    },
    {
      "cell_type": "code",
      "metadata": {
        "id": "AEf6RDMSSQUU",
        "colab": {
          "base_uri": "https://localhost:8080/"
        },
        "outputId": "30088885-e461-4b17-cf10-c892b2577534"
      },
      "source": [
        "# time to optimise the empty baseline model(an empty shell basically) and fit it with our training dataset\n",
        "# passing params into the newly created model and compile it\n",
        "model.compile(optimizer=adam,\n",
        "             loss='categorical_crossentropy',\n",
        "             metrics=['accuracy'])\n",
        "\n",
        "# train the model\n",
        "history = model.fit(X_train, Y_train, validation_split=0.2, epochs=15, batch_size=32, verbose=1)"
      ],
      "execution_count": 606,
      "outputs": [
        {
          "output_type": "stream",
          "text": [
            "Epoch 1/15\n",
            "1500/1500 [==============================] - 4s 3ms/step - loss: 0.5195 - accuracy: 0.9158 - val_loss: 0.1321 - val_accuracy: 0.9654\n",
            "Epoch 2/15\n",
            "1500/1500 [==============================] - 4s 3ms/step - loss: 0.0964 - accuracy: 0.9719 - val_loss: 0.1032 - val_accuracy: 0.9741\n",
            "Epoch 3/15\n",
            "1500/1500 [==============================] - 4s 3ms/step - loss: 0.0605 - accuracy: 0.9812 - val_loss: 0.0874 - val_accuracy: 0.9782\n",
            "Epoch 4/15\n",
            "1500/1500 [==============================] - 4s 3ms/step - loss: 0.0476 - accuracy: 0.9852 - val_loss: 0.0928 - val_accuracy: 0.9769\n",
            "Epoch 5/15\n",
            "1500/1500 [==============================] - 4s 3ms/step - loss: 0.0399 - accuracy: 0.9877 - val_loss: 0.0999 - val_accuracy: 0.9752\n",
            "Epoch 6/15\n",
            "1500/1500 [==============================] - 4s 3ms/step - loss: 0.0318 - accuracy: 0.9898 - val_loss: 0.1080 - val_accuracy: 0.9778\n",
            "Epoch 7/15\n",
            "1500/1500 [==============================] - 4s 3ms/step - loss: 0.0286 - accuracy: 0.9914 - val_loss: 0.1080 - val_accuracy: 0.9788\n",
            "Epoch 8/15\n",
            "1500/1500 [==============================] - 4s 3ms/step - loss: 0.0241 - accuracy: 0.9929 - val_loss: 0.1329 - val_accuracy: 0.9778\n",
            "Epoch 9/15\n",
            "1500/1500 [==============================] - 4s 3ms/step - loss: 0.0187 - accuracy: 0.9945 - val_loss: 0.1239 - val_accuracy: 0.9773\n",
            "Epoch 10/15\n",
            "1500/1500 [==============================] - 4s 3ms/step - loss: 0.0196 - accuracy: 0.9940 - val_loss: 0.1423 - val_accuracy: 0.9792\n",
            "Epoch 11/15\n",
            "1500/1500 [==============================] - 4s 3ms/step - loss: 0.0166 - accuracy: 0.9954 - val_loss: 0.1567 - val_accuracy: 0.9776\n",
            "Epoch 12/15\n",
            "1500/1500 [==============================] - 4s 3ms/step - loss: 0.0139 - accuracy: 0.9960 - val_loss: 0.1551 - val_accuracy: 0.9774\n",
            "Epoch 13/15\n",
            "1500/1500 [==============================] - 4s 3ms/step - loss: 0.0167 - accuracy: 0.9953 - val_loss: 0.1777 - val_accuracy: 0.9771\n",
            "Epoch 14/15\n",
            "1500/1500 [==============================] - 4s 3ms/step - loss: 0.0141 - accuracy: 0.9957 - val_loss: 0.1713 - val_accuracy: 0.9793\n",
            "Epoch 15/15\n",
            "1500/1500 [==============================] - 4s 3ms/step - loss: 0.0143 - accuracy: 0.9960 - val_loss: 0.1832 - val_accuracy: 0.9793\n"
          ],
          "name": "stdout"
        }
      ]
    },
    {
      "cell_type": "code",
      "metadata": {
        "id": "G7mw9nVaSpnz",
        "colab": {
          "base_uri": "https://localhost:8080/"
        },
        "outputId": "91e03700-436b-4626-a8ea-f685a6a41b01"
      },
      "source": [
        "#print the available history keys for use\n",
        "print(history.history.keys()) "
      ],
      "execution_count": 607,
      "outputs": [
        {
          "output_type": "stream",
          "text": [
            "dict_keys(['loss', 'accuracy', 'val_loss', 'val_accuracy'])\n"
          ],
          "name": "stdout"
        }
      ]
    },
    {
      "cell_type": "code",
      "metadata": {
        "id": "8bB9_0TEVuD5",
        "colab": {
          "base_uri": "https://localhost:8080/",
          "height": 297
        },
        "outputId": "970291ad-79a9-472a-fe21-6fb634065c74"
      },
      "source": [
        "# plotting the accuracy and loss graphs\n",
        "fig = plt.figure()\n",
        "plt.subplot(2,1,1)\n",
        "plt.plot(history.history['accuracy'])\n",
        "plt.plot(history.history['val_accuracy'])\n",
        "plt.title('Model Accuracy')\n",
        "plt.ylabel('accuracy')\n",
        "plt.xlabel('epoch')\n",
        "plt.legend(['Training accuracy', 'Validation accuracy'], loc='best')\n",
        "\n",
        "plt.subplot(2,1,2)\n",
        "plt.plot(history.history['loss'])\n",
        "plt.plot(history.history['val_loss'])\n",
        "plt.title('Model loss')\n",
        "plt.ylabel('loss')\n",
        "plt.xlabel('epoch')\n",
        "plt.legend(['Training loss', 'Validation loss'], loc='best')\n",
        "\n",
        "plt.tight_layout()"
      ],
      "execution_count": 608,
      "outputs": [
        {
          "output_type": "display_data",
          "data": {
            "image/png": "[encoded data removed]",
            "text/plain": [
              "<Figure size 432x288 with 2 Axes>"
            ]
          },
          "metadata": {
            "tags": [],
            "needs_background": "light"
          }
        }
      ]
    },
    {
      "cell_type": "markdown",
      "metadata": {
        "id": "Xco3EGc2WPTi"
      },
      "source": [
        "### 7.2. LeNet-5 CNN Model\n",
        "\n",
        "---\n",
        "\n",
        "Next, we will setup a CNN Model with abit of changes to the  LeNet-5 architecture."
      ]
    },
    {
      "cell_type": "markdown",
      "metadata": {
        "id": "SaUWUfTPZJ39"
      },
      "source": [
        "<div class=\"alert alert-block alert-info\">\n",
        "    <b>Analysis Summary:</b> We  understand that there are a few main reasons for overfitting in Neural Networks. They are mainly due to the network size, lack of weight regularization and lack of dropouts. In order to reduce (or to  prevent this from happenening), we will implement these 3 main points. Here we will implement the modified LeNet-5 Architecture to test out how precise the overall architecture is incuding some of the additional features i feel it is important.<p>\n",
        "</div>"
      ]
    },
    {
      "cell_type": "code",
      "metadata": {
        "id": "K5yWrRR7Obm3",
        "colab": {
          "base_uri": "https://localhost:8080/"
        },
        "outputId": "d936e49f-f70d-409f-efb2-230dcc37635a"
      },
      "source": [
        "# create model and give it a name\n",
        "model = Sequential(name=\"lenet5_cnn_model_sequential\")\n",
        "\n",
        "# Layer 1 Conv2D\n",
        "model.add(Conv2D(filters=150, kernel_size=(5, 5), strides=(1, 1), activation='elu', input_shape=(28, 28, 1), padding='same'))\n",
        "model.add(BatchNormalization())\n",
        "# Layer 2 Pooling Layer\n",
        "model.add(AveragePooling2D(pool_size=(2, 2), strides=(2, 2)))\n",
        "\n",
        "# Layer 3 Conv2D\n",
        "model.add(Conv2D(filters=140, kernel_size=(5, 5), strides=(1, 1), activation='elu', padding='valid'))\n",
        "model.add(BatchNormalization())\n",
        "# Layer 4 Pooling Layer\n",
        "model.add(AveragePooling2D(pool_size=(2, 2), strides=(2, 2)))\n",
        "\n",
        "# Layer 5 Flatten\n",
        "model.add(Flatten())\n",
        "\n",
        "# Layer 6 Fully Connected Layer (Hidden Layer)\n",
        "model.add(Dense(units=120, activation='tanh'))\n",
        "model.add(Dropout(0.2))\n",
        "\n",
        "# Output layer\n",
        "model.add(Dense(units=num_classes, activation='softmax'))\n",
        "\n",
        "# get model summary\n",
        "model.summary()"
      ],
      "execution_count": 634,
      "outputs": [
        {
          "output_type": "stream",
          "text": [
            "Model: \"lenet5_cnn_model_sequential\"\n",
            "_________________________________________________________________\n",
            "Layer (type)                 Output Shape              Param #   \n",
            "=================================================================\n",
            "conv2d_33 (Conv2D)           (None, 28, 28, 150)       3900      \n",
            "_________________________________________________________________\n",
            "batch_normalization_32 (Batc (None, 28, 28, 150)       600       \n",
            "_________________________________________________________________\n",
            "average_pooling2d_32 (Averag (None, 14, 14, 150)       0         \n",
            "_________________________________________________________________\n",
            "conv2d_34 (Conv2D)           (None, 10, 10, 140)       525140    \n",
            "_________________________________________________________________\n",
            "batch_normalization_33 (Batc (None, 10, 10, 140)       560       \n",
            "_________________________________________________________________\n",
            "average_pooling2d_33 (Averag (None, 5, 5, 140)         0         \n",
            "_________________________________________________________________\n",
            "flatten_17 (Flatten)         (None, 3500)              0         \n",
            "_________________________________________________________________\n",
            "dense_34 (Dense)             (None, 120)               420120    \n",
            "_________________________________________________________________\n",
            "dropout_16 (Dropout)         (None, 120)               0         \n",
            "_________________________________________________________________\n",
            "dense_35 (Dense)             (None, 10)                1210      \n",
            "=================================================================\n",
            "Total params: 951,530\n",
            "Trainable params: 950,950\n",
            "Non-trainable params: 580\n",
            "_________________________________________________________________\n"
          ],
          "name": "stdout"
        }
      ]
    },
    {
      "cell_type": "code",
      "metadata": {
        "id": "6OpTrZNAeqK4",
        "colab": {
          "base_uri": "https://localhost:8080/"
        },
        "outputId": "7c19d268-0e49-475f-c157-3ce7968a0791"
      },
      "source": [
        "# time to optimise the empty CNN model(an empty shell basically) and fit it with our training dataset\n",
        "# passing params into the newly created model and compile it\n",
        "model.compile(optimizer='adam',\n",
        "             loss='categorical_crossentropy',\n",
        "             metrics=['accuracy'])\n",
        "\n",
        "# train the model\n",
        "history = model.fit(X_train,Y_train, validation_split=0.2, batch_size=16, epochs=15, verbose=1)"
      ],
      "execution_count": 635,
      "outputs": [
        {
          "output_type": "stream",
          "text": [
            "Epoch 1/15\n",
            "3000/3000 [==============================] - 15s 5ms/step - loss: 0.1174 - accuracy: 0.9645 - val_loss: 0.0610 - val_accuracy: 0.9818\n",
            "Epoch 2/15\n",
            "3000/3000 [==============================] - 15s 5ms/step - loss: 0.0564 - accuracy: 0.9823 - val_loss: 0.0612 - val_accuracy: 0.9811\n",
            "Epoch 3/15\n",
            "3000/3000 [==============================] - 15s 5ms/step - loss: 0.0450 - accuracy: 0.9866 - val_loss: 0.0348 - val_accuracy: 0.9896\n",
            "Epoch 4/15\n",
            "3000/3000 [==============================] - 15s 5ms/step - loss: 0.0371 - accuracy: 0.9879 - val_loss: 0.0340 - val_accuracy: 0.9901\n",
            "Epoch 5/15\n",
            "3000/3000 [==============================] - 15s 5ms/step - loss: 0.0309 - accuracy: 0.9904 - val_loss: 0.0370 - val_accuracy: 0.9898\n",
            "Epoch 6/15\n",
            "3000/3000 [==============================] - 15s 5ms/step - loss: 0.0268 - accuracy: 0.9917 - val_loss: 0.0363 - val_accuracy: 0.9893\n",
            "Epoch 7/15\n",
            "3000/3000 [==============================] - 16s 5ms/step - loss: 0.0230 - accuracy: 0.9929 - val_loss: 0.0350 - val_accuracy: 0.9892\n",
            "Epoch 8/15\n",
            "3000/3000 [==============================] - 15s 5ms/step - loss: 0.0195 - accuracy: 0.9939 - val_loss: 0.0339 - val_accuracy: 0.9909\n",
            "Epoch 9/15\n",
            "3000/3000 [==============================] - 16s 5ms/step - loss: 0.0179 - accuracy: 0.9941 - val_loss: 0.0468 - val_accuracy: 0.9871\n",
            "Epoch 10/15\n",
            "3000/3000 [==============================] - 15s 5ms/step - loss: 0.0165 - accuracy: 0.9943 - val_loss: 0.0279 - val_accuracy: 0.9926\n",
            "Epoch 11/15\n",
            "3000/3000 [==============================] - 16s 5ms/step - loss: 0.0129 - accuracy: 0.9960 - val_loss: 0.0309 - val_accuracy: 0.9920\n",
            "Epoch 12/15\n",
            "3000/3000 [==============================] - 15s 5ms/step - loss: 0.0124 - accuracy: 0.9962 - val_loss: 0.0361 - val_accuracy: 0.9914\n",
            "Epoch 13/15\n",
            "3000/3000 [==============================] - 15s 5ms/step - loss: 0.0113 - accuracy: 0.9965 - val_loss: 0.0306 - val_accuracy: 0.9922\n",
            "Epoch 14/15\n",
            "3000/3000 [==============================] - 16s 5ms/step - loss: 0.0101 - accuracy: 0.9967 - val_loss: 0.0393 - val_accuracy: 0.9908\n",
            "Epoch 15/15\n",
            "3000/3000 [==============================] - 16s 5ms/step - loss: 0.0103 - accuracy: 0.9964 - val_loss: 0.0317 - val_accuracy: 0.9921\n"
          ],
          "name": "stdout"
        }
      ]
    },
    {
      "cell_type": "code",
      "metadata": {
        "id": "9z8RTDNDfwLs",
        "colab": {
          "base_uri": "https://localhost:8080/"
        },
        "outputId": "dccdea11-68cc-495b-e594-729d78e732c0"
      },
      "source": [
        "#print the available history keys for use\n",
        "print(history.history.keys())"
      ],
      "execution_count": 636,
      "outputs": [
        {
          "output_type": "stream",
          "text": [
            "dict_keys(['loss', 'accuracy', 'val_loss', 'val_accuracy'])\n"
          ],
          "name": "stdout"
        }
      ]
    },
    {
      "cell_type": "code",
      "metadata": {
        "id": "HuKEAm28BVFB",
        "colab": {
          "base_uri": "https://localhost:8080/",
          "height": 297
        },
        "outputId": "ede871e7-6513-4db6-eb4d-06debedaa84c"
      },
      "source": [
        "# plotting the accuracy and loss graphs\n",
        "fig = plt.figure()\n",
        "plt.subplot(2,1,1)\n",
        "plt.plot(history.history['accuracy'])\n",
        "plt.plot(history.history['val_accuracy'])\n",
        "plt.title('Model Accuracy')\n",
        "plt.ylabel('accuracy')\n",
        "plt.xlabel('epoch')\n",
        "plt.legend(['Training accuracy', 'Validation accuracy'], loc='best')\n",
        "\n",
        "plt.subplot(2,1,2)\n",
        "plt.plot(history.history['loss'])\n",
        "plt.plot(history.history['val_loss'])\n",
        "plt.title('Model loss')\n",
        "plt.ylabel('loss')\n",
        "plt.xlabel('epoch')\n",
        "plt.legend(['Training loss', 'Validation loss'], loc='best')\n",
        "\n",
        "plt.tight_layout()"
      ],
      "execution_count": 637,
      "outputs": [
        {
          "output_type": "display_data",
          "data": {
            "image/png": "[encoded data removed]",
            "text/plain": [
              "<Figure size 432x288 with 2 Axes>"
            ]
          },
          "metadata": {
            "tags": [],
            "needs_background": "light"
          }
        }
      ]
    },
    {
      "cell_type": "markdown",
      "metadata": {
        "id": "ZbCUBdNt1yZ-"
      },
      "source": [
        "### 7.3. LeNet-5 CNN Hyper-Parameter Tuned Model\n",
        "\n",
        "---\n",
        "\n",
        "Next, we will setup a LeNet-5 CNN Hyper Parameter Tuned Model that has undergone hyper-parameter tuning."
      ]
    },
    {
      "cell_type": "markdown",
      "metadata": {
        "id": "zCuh2Nbmutk_"
      },
      "source": [
        "<div class=\"alert alert-block alert-info\">\n",
        "    <b>Analysis Summary:</b> Now from our 2nd model, it seems that the accuracy score is around 99%, and the model loss is now less than 1%, which is a good indicator that it is a good architecture. Now, we will perform hyper-parameter tuning with some more inclusions like l1 l2 regularizers. Instead of using elu as our activation function, we will try to use SGD instead here.<p>\n",
        "</div>"
      ]
    },
    {
      "cell_type": "code",
      "metadata": {
        "id": "24eOkLnnpVq0"
      },
      "source": [
        "# create a function that creates a model which is required for KerasClassifier so that we can tune hyperparams using cross validation\n",
        "def create_model(init_mode='uniform'):\n",
        "  # define model here\n",
        "\n",
        "  # Instantiate a Sequential model\n",
        "  model = Sequential(name=\"cnn_model_hyperParamTuned_sequential_LeNet\")\n",
        "\n",
        "  # Layer 1 Conv2D\n",
        "  model.add(Conv2D(filters=150, kernel_size=(5, 5), strides=(1, 1), activation='elu', input_shape=(28, 28, 1), padding='same'))\n",
        "  model.add(BatchNormalization())\n",
        "  # Layer 2 Pooling Layer\n",
        "  model.add(AveragePooling2D(pool_size=(2, 2), strides=(2, 2)))\n",
        "\n",
        "  # Layer 3 Conv2D\n",
        "  model.add(Conv2D(filters=140, kernel_size=(5, 5), strides=(1, 1), activation='elu', padding='valid'))\n",
        "  model.add(BatchNormalization())\n",
        "  # Layer 4 Pooling Layer\n",
        "  model.add(AveragePooling2D(pool_size=(2, 2), strides=(2, 2)))\n",
        "\n",
        "  # Layer 5 Flatten\n",
        "  model.add(Flatten())\n",
        "\n",
        "  # Layer 6 Fully Connected Layer (Hidden Layer)\n",
        "  model.add(Dense(units=120, activation='tanh'))\n",
        "  model.add(Dropout(0.2))\n",
        "\n",
        "  # Output layer\n",
        "  model.add(Dense(units=num_classes, activation='softmax'))\n",
        "\n",
        "  # get model summary\n",
        "  model.summary()\n",
        "\n",
        "  # passing params into the newly created model and compile it\n",
        "  model.compile(optimizer='sgd',\n",
        "            loss='categorical_crossentropy',\n",
        "            metrics=['accuracy'])\n",
        "  \n",
        "  return model"
      ],
      "execution_count": 380,
      "outputs": []
    },
    {
      "cell_type": "code",
      "metadata": {
        "id": "VWiLk7zPqIgK"
      },
      "source": [
        "# fit into KerasClassifier\n",
        "model_CV = KerasClassifier(build_fn=create_model, epochs=15,\n",
        "                           batch_size=100, verbose=1)\n",
        "\n",
        "# define the grid search parameters\n",
        "init_mode = ['uniform','normal','glorot_normal', 'glorot_uniform', 'he_normal', 'he_uniform']\n",
        "\n",
        "param_grid = dict(init_mode=init_mode)\n",
        "\n",
        "# fit it into GridSearchCV \n",
        "model = GridSearchCV(estimator=model_CV, param_grid=param_grid, cv=2, verbose=1) #do not put n_jobs when using gpu"
      ],
      "execution_count": 381,
      "outputs": []
    },
    {
      "cell_type": "code",
      "metadata": {
        "id": "2ohG-1qMW84s"
      },
      "source": [
        "# declare decay_rate and learning_rate here\n",
        "learning_rate = 0.1 \n",
        "decay_rate = 0.1\n",
        "\n",
        "# define the learning rate change \n",
        "def exp_decay(epoch):\n",
        "    lrate = learning_rate * np.exp(-decay_rate*epoch)\n",
        "    return lrate\n",
        "    \n",
        "# learning schedule callback\n",
        "loss_history = History()\n",
        "lr_rate = LearningRateScheduler(exp_decay)\n",
        "callbacks_list = [lr_rate]"
      ],
      "execution_count": 382,
      "outputs": []
    },
    {
      "cell_type": "code",
      "metadata": {
        "id": "mcYgsYBOnQ99",
        "colab": {
          "base_uri": "https://localhost:8080/"
        },
        "outputId": "dd1409fc-3bc0-4cb7-ceb3-e045c95441b5"
      },
      "source": [
        "# train the model\n",
        "history = model.fit(X_train, Y_train,\n",
        "                    batch_size=100,\n",
        "                    epochs=15,\n",
        "                    callbacks=[EarlyStopping(monitor='loss', patience=1), callbacks_list],\n",
        "                    verbose=1,\n",
        "                    validation_data=(X_test, Y_test),\n",
        "                    )"
      ],
      "execution_count": null,
      "outputs": [
        {
          "output_type": "stream",
          "text": [
            "Fitting 2 folds for each of 6 candidates, totalling 12 fits\n",
            "Model: \"cnn_model_hyperParamTuned_sequential_LeNet\"\n",
            "_________________________________________________________________\n",
            "Layer (type)                 Output Shape              Param #   \n",
            "=================================================================\n",
            "conv2d_2 (Conv2D)            (None, 28, 28, 150)       3900      \n",
            "_________________________________________________________________\n",
            "batch_normalization_2 (Batch (None, 28, 28, 150)       600       \n",
            "_________________________________________________________________\n",
            "average_pooling2d_2 (Average (None, 14, 14, 150)       0         \n",
            "_________________________________________________________________\n",
            "conv2d_3 (Conv2D)            (None, 10, 10, 140)       525140    \n",
            "_________________________________________________________________\n",
            "batch_normalization_3 (Batch (None, 10, 10, 140)       560       \n",
            "_________________________________________________________________\n",
            "average_pooling2d_3 (Average (None, 5, 5, 140)         0         \n",
            "_________________________________________________________________\n",
            "flatten_1 (Flatten)          (None, 3500)              0         \n",
            "_________________________________________________________________\n",
            "dense_2 (Dense)              (None, 120)               420120    \n",
            "_________________________________________________________________\n",
            "dropout_1 (Dropout)          (None, 120)               0         \n",
            "_________________________________________________________________\n",
            "dense_3 (Dense)              (None, 10)                1210      \n",
            "=================================================================\n",
            "Total params: 951,530\n",
            "Trainable params: 950,950\n",
            "Non-trainable params: 580\n",
            "_________________________________________________________________\n"
          ],
          "name": "stdout"
        },
        {
          "output_type": "stream",
          "text": [
            "[Parallel(n_jobs=1)]: Using backend SequentialBackend with 1 concurrent workers.\n"
          ],
          "name": "stderr"
        },
        {
          "output_type": "stream",
          "text": [
            "Epoch 1/15\n",
            "  1/300 [..............................] - ETA: 0s - loss: 2.8015 - accuracy: 0.0800WARNING:tensorflow:Callbacks method `on_train_batch_end` is slow compared to the batch time (batch time: 0.0070s vs `on_train_batch_end` time: 0.0326s). Check your callbacks.\n",
            "299/300 [============================>.] - ETA: 0s - loss: 0.1961 - accuracy: 0.9440WARNING:tensorflow:Callbacks method `on_test_batch_end` is slow compared to the batch time (batch time: 0.0017s vs `on_test_batch_end` time: 0.0079s). Check your callbacks.\n",
            "300/300 [==============================] - 10s 32ms/step - loss: 0.1958 - accuracy: 0.9441 - val_loss: 0.0533 - val_accuracy: 0.9838\n",
            "Epoch 2/15\n",
            "300/300 [==============================] - 9s 31ms/step - loss: 0.0535 - accuracy: 0.9842 - val_loss: 0.0411 - val_accuracy: 0.9876\n",
            "Epoch 3/15\n",
            "300/300 [==============================] - 9s 31ms/step - loss: 0.0349 - accuracy: 0.9903 - val_loss: 0.0396 - val_accuracy: 0.9872\n",
            "Epoch 4/15\n",
            "300/300 [==============================] - 9s 31ms/step - loss: 0.0273 - accuracy: 0.9924 - val_loss: 0.0323 - val_accuracy: 0.9904\n",
            "Epoch 5/15\n",
            "300/300 [==============================] - 9s 31ms/step - loss: 0.0207 - accuracy: 0.9944 - val_loss: 0.0359 - val_accuracy: 0.9878\n",
            "Epoch 6/15\n",
            "300/300 [==============================] - 9s 31ms/step - loss: 0.0173 - accuracy: 0.9956 - val_loss: 0.0288 - val_accuracy: 0.9913\n",
            "Epoch 7/15\n",
            "300/300 [==============================] - 9s 31ms/step - loss: 0.0143 - accuracy: 0.9966 - val_loss: 0.0300 - val_accuracy: 0.9907\n",
            "Epoch 8/15\n",
            "300/300 [==============================] - 9s 31ms/step - loss: 0.0123 - accuracy: 0.9971 - val_loss: 0.0323 - val_accuracy: 0.9896\n",
            "Epoch 9/15\n",
            "300/300 [==============================] - 9s 31ms/step - loss: 0.0109 - accuracy: 0.9977 - val_loss: 0.0302 - val_accuracy: 0.9903\n",
            "Epoch 10/15\n",
            "300/300 [==============================] - 9s 31ms/step - loss: 0.0089 - accuracy: 0.9982 - val_loss: 0.0277 - val_accuracy: 0.9908\n",
            "Epoch 11/15\n",
            "300/300 [==============================] - 9s 31ms/step - loss: 0.0086 - accuracy: 0.9986 - val_loss: 0.0267 - val_accuracy: 0.9913\n",
            "Epoch 12/15\n",
            "300/300 [==============================] - 9s 31ms/step - loss: 0.0078 - accuracy: 0.9986 - val_loss: 0.0273 - val_accuracy: 0.9912\n",
            "Epoch 13/15\n",
            "300/300 [==============================] - 9s 31ms/step - loss: 0.0068 - accuracy: 0.9991 - val_loss: 0.0257 - val_accuracy: 0.9909\n",
            "Epoch 14/15\n",
            "300/300 [==============================] - 9s 31ms/step - loss: 0.0069 - accuracy: 0.9988 - val_loss: 0.0266 - val_accuracy: 0.9910\n",
            "  1/300 [..............................] - ETA: 2s - loss: 0.0354 - accuracy: 0.9900WARNING:tensorflow:Callbacks method `on_test_batch_end` is slow compared to the batch time (batch time: 0.0042s vs `on_test_batch_end` time: 0.0066s). Check your callbacks.\n",
            "300/300 [==============================] - 3s 11ms/step - loss: 0.0302 - accuracy: 0.9910\n",
            "Model: \"cnn_model_hyperParamTuned_sequential_LeNet\"\n",
            "_________________________________________________________________\n",
            "Layer (type)                 Output Shape              Param #   \n",
            "=================================================================\n",
            "conv2d_4 (Conv2D)            (None, 28, 28, 150)       3900      \n",
            "_________________________________________________________________\n",
            "batch_normalization_4 (Batch (None, 28, 28, 150)       600       \n",
            "_________________________________________________________________\n",
            "average_pooling2d_4 (Average (None, 14, 14, 150)       0         \n",
            "_________________________________________________________________\n",
            "conv2d_5 (Conv2D)            (None, 10, 10, 140)       525140    \n",
            "_________________________________________________________________\n",
            "batch_normalization_5 (Batch (None, 10, 10, 140)       560       \n",
            "_________________________________________________________________\n",
            "average_pooling2d_5 (Average (None, 5, 5, 140)         0         \n",
            "_________________________________________________________________\n",
            "flatten_2 (Flatten)          (None, 3500)              0         \n",
            "_________________________________________________________________\n",
            "dense_4 (Dense)              (None, 120)               420120    \n",
            "_________________________________________________________________\n",
            "dropout_2 (Dropout)          (None, 120)               0         \n",
            "_________________________________________________________________\n",
            "dense_5 (Dense)              (None, 10)                1210      \n",
            "=================================================================\n",
            "Total params: 951,530\n",
            "Trainable params: 950,950\n",
            "Non-trainable params: 580\n",
            "_________________________________________________________________\n",
            "Epoch 1/15\n",
            "  1/300 [..............................] - ETA: 0s - loss: 2.5558 - accuracy: 0.1200WARNING:tensorflow:Callbacks method `on_train_batch_end` is slow compared to the batch time (batch time: 0.0076s vs `on_train_batch_end` time: 0.0189s). Check your callbacks.\n",
            "299/300 [============================>.] - ETA: 0s - loss: 0.1675 - accuracy: 0.9510WARNING:tensorflow:Callbacks method `on_test_batch_end` is slow compared to the batch time (batch time: 0.0015s vs `on_test_batch_end` time: 0.0081s). Check your callbacks.\n",
            "300/300 [==============================] - 9s 32ms/step - loss: 0.1671 - accuracy: 0.9511 - val_loss: 0.0478 - val_accuracy: 0.9849\n",
            "Epoch 2/15\n",
            "300/300 [==============================] - 9s 31ms/step - loss: 0.0490 - accuracy: 0.9853 - val_loss: 0.0374 - val_accuracy: 0.9884\n",
            "Epoch 3/15\n",
            "300/300 [==============================] - 9s 31ms/step - loss: 0.0316 - accuracy: 0.9911 - val_loss: 0.0333 - val_accuracy: 0.9889\n",
            "Epoch 4/15\n",
            "300/300 [==============================] - 9s 31ms/step - loss: 0.0233 - accuracy: 0.9933 - val_loss: 0.0286 - val_accuracy: 0.9900\n",
            "Epoch 5/15\n",
            "300/300 [==============================] - 9s 31ms/step - loss: 0.0186 - accuracy: 0.9952 - val_loss: 0.0295 - val_accuracy: 0.9896\n",
            "Epoch 6/15\n",
            "300/300 [==============================] - 9s 31ms/step - loss: 0.0148 - accuracy: 0.9966 - val_loss: 0.0337 - val_accuracy: 0.9891\n",
            "Epoch 7/15\n",
            "300/300 [==============================] - 9s 31ms/step - loss: 0.0118 - accuracy: 0.9974 - val_loss: 0.0267 - val_accuracy: 0.9909\n",
            "Epoch 8/15\n",
            "300/300 [==============================] - 9s 31ms/step - loss: 0.0101 - accuracy: 0.9981 - val_loss: 0.0246 - val_accuracy: 0.9913\n",
            "Epoch 9/15\n",
            "300/300 [==============================] - 9s 31ms/step - loss: 0.0084 - accuracy: 0.9984 - val_loss: 0.0239 - val_accuracy: 0.9924\n",
            "Epoch 10/15\n",
            "300/300 [==============================] - 9s 31ms/step - loss: 0.0080 - accuracy: 0.9986 - val_loss: 0.0235 - val_accuracy: 0.9918\n",
            "Epoch 11/15\n",
            "300/300 [==============================] - 9s 31ms/step - loss: 0.0071 - accuracy: 0.9991 - val_loss: 0.0253 - val_accuracy: 0.9916\n",
            "Epoch 12/15\n",
            "300/300 [==============================] - 9s 31ms/step - loss: 0.0061 - accuracy: 0.9992 - val_loss: 0.0228 - val_accuracy: 0.9922\n",
            "Epoch 13/15\n",
            "300/300 [==============================] - 9s 31ms/step - loss: 0.0057 - accuracy: 0.9992 - val_loss: 0.0227 - val_accuracy: 0.9917\n",
            "Epoch 14/15\n",
            "300/300 [==============================] - 9s 31ms/step - loss: 0.0054 - accuracy: 0.9992 - val_loss: 0.0219 - val_accuracy: 0.9924\n",
            "Epoch 15/15\n",
            "300/300 [==============================] - 9s 31ms/step - loss: 0.0048 - accuracy: 0.9995 - val_loss: 0.0220 - val_accuracy: 0.9920\n",
            "300/300 [==============================] - 3s 11ms/step - loss: 0.0309 - accuracy: 0.9910\n",
            "Model: \"cnn_model_hyperParamTuned_sequential_LeNet\"\n",
            "_________________________________________________________________\n",
            "Layer (type)                 Output Shape              Param #   \n",
            "=================================================================\n",
            "conv2d_6 (Conv2D)            (None, 28, 28, 150)       3900      \n",
            "_________________________________________________________________\n",
            "batch_normalization_6 (Batch (None, 28, 28, 150)       600       \n",
            "_________________________________________________________________\n",
            "average_pooling2d_6 (Average (None, 14, 14, 150)       0         \n",
            "_________________________________________________________________\n",
            "conv2d_7 (Conv2D)            (None, 10, 10, 140)       525140    \n",
            "_________________________________________________________________\n",
            "batch_normalization_7 (Batch (None, 10, 10, 140)       560       \n",
            "_________________________________________________________________\n",
            "average_pooling2d_7 (Average (None, 5, 5, 140)         0         \n",
            "_________________________________________________________________\n",
            "flatten_3 (Flatten)          (None, 3500)              0         \n",
            "_________________________________________________________________\n",
            "dense_6 (Dense)              (None, 120)               420120    \n",
            "_________________________________________________________________\n",
            "dropout_3 (Dropout)          (None, 120)               0         \n",
            "_________________________________________________________________\n",
            "dense_7 (Dense)              (None, 10)                1210      \n",
            "=================================================================\n",
            "Total params: 951,530\n",
            "Trainable params: 950,950\n",
            "Non-trainable params: 580\n",
            "_________________________________________________________________\n",
            "Epoch 1/15\n",
            "  1/300 [..............................] - ETA: 0s - loss: 2.4281 - accuracy: 0.2300WARNING:tensorflow:Callbacks method `on_train_batch_end` is slow compared to the batch time (batch time: 0.0080s vs `on_train_batch_end` time: 0.0203s). Check your callbacks.\n",
            "299/300 [============================>.] - ETA: 0s - loss: 0.1606 - accuracy: 0.9522WARNING:tensorflow:Callbacks method `on_test_batch_end` is slow compared to the batch time (batch time: 0.0017s vs `on_test_batch_end` time: 0.0081s). Check your callbacks.\n",
            "300/300 [==============================] - 9s 32ms/step - loss: 0.1603 - accuracy: 0.9523 - val_loss: 0.0565 - val_accuracy: 0.9817\n",
            "Epoch 2/15\n",
            "300/300 [==============================] - 9s 31ms/step - loss: 0.0508 - accuracy: 0.9851 - val_loss: 0.0519 - val_accuracy: 0.9839\n",
            "Epoch 3/15\n",
            "300/300 [==============================] - 9s 31ms/step - loss: 0.0358 - accuracy: 0.9900 - val_loss: 0.0408 - val_accuracy: 0.9880\n",
            "Epoch 4/15\n",
            "300/300 [==============================] - 9s 31ms/step - loss: 0.0265 - accuracy: 0.9924 - val_loss: 0.0311 - val_accuracy: 0.9894\n",
            "Epoch 5/15\n",
            "300/300 [==============================] - 9s 31ms/step - loss: 0.0206 - accuracy: 0.9944 - val_loss: 0.0323 - val_accuracy: 0.9893\n",
            "Epoch 6/15\n",
            "300/300 [==============================] - 9s 31ms/step - loss: 0.0181 - accuracy: 0.9951 - val_loss: 0.0303 - val_accuracy: 0.9901\n",
            "Epoch 7/15\n",
            "300/300 [==============================] - 9s 31ms/step - loss: 0.0135 - accuracy: 0.9968 - val_loss: 0.0285 - val_accuracy: 0.9904\n",
            "Epoch 8/15\n",
            "300/300 [==============================] - 9s 31ms/step - loss: 0.0123 - accuracy: 0.9972 - val_loss: 0.0253 - val_accuracy: 0.9916\n",
            "Epoch 9/15\n",
            "300/300 [==============================] - 9s 31ms/step - loss: 0.0106 - accuracy: 0.9980 - val_loss: 0.0266 - val_accuracy: 0.9909\n",
            "Epoch 10/15\n",
            "300/300 [==============================] - 9s 31ms/step - loss: 0.0097 - accuracy: 0.9978 - val_loss: 0.0260 - val_accuracy: 0.9909\n",
            "Epoch 11/15\n",
            "300/300 [==============================] - 9s 31ms/step - loss: 0.0089 - accuracy: 0.9981 - val_loss: 0.0257 - val_accuracy: 0.9913\n",
            "Epoch 12/15\n",
            "300/300 [==============================] - 9s 31ms/step - loss: 0.0074 - accuracy: 0.9989 - val_loss: 0.0256 - val_accuracy: 0.9912\n",
            "Epoch 13/15\n",
            "300/300 [==============================] - 9s 31ms/step - loss: 0.0074 - accuracy: 0.9987 - val_loss: 0.0247 - val_accuracy: 0.9914\n",
            "  1/300 [..............................] - ETA: 2s - loss: 0.0557 - accuracy: 0.9900WARNING:tensorflow:Callbacks method `on_test_batch_end` is slow compared to the batch time (batch time: 0.0029s vs `on_test_batch_end` time: 0.0079s). Check your callbacks.\n",
            "300/300 [==============================] - 3s 11ms/step - loss: 0.0278 - accuracy: 0.9918\n",
            "Model: \"cnn_model_hyperParamTuned_sequential_LeNet\"\n",
            "_________________________________________________________________\n",
            "Layer (type)                 Output Shape              Param #   \n",
            "=================================================================\n",
            "conv2d_8 (Conv2D)            (None, 28, 28, 150)       3900      \n",
            "_________________________________________________________________\n",
            "batch_normalization_8 (Batch (None, 28, 28, 150)       600       \n",
            "_________________________________________________________________\n",
            "average_pooling2d_8 (Average (None, 14, 14, 150)       0         \n",
            "_________________________________________________________________\n",
            "conv2d_9 (Conv2D)            (None, 10, 10, 140)       525140    \n",
            "_________________________________________________________________\n",
            "batch_normalization_9 (Batch (None, 10, 10, 140)       560       \n",
            "_________________________________________________________________\n",
            "average_pooling2d_9 (Average (None, 5, 5, 140)         0         \n",
            "_________________________________________________________________\n",
            "flatten_4 (Flatten)          (None, 3500)              0         \n",
            "_________________________________________________________________\n",
            "dense_8 (Dense)              (None, 120)               420120    \n",
            "_________________________________________________________________\n",
            "dropout_4 (Dropout)          (None, 120)               0         \n",
            "_________________________________________________________________\n",
            "dense_9 (Dense)              (None, 10)                1210      \n",
            "=================================================================\n",
            "Total params: 951,530\n",
            "Trainable params: 950,950\n",
            "Non-trainable params: 580\n",
            "_________________________________________________________________\n",
            "Epoch 1/15\n",
            "  1/300 [..............................] - ETA: 0s - loss: 2.4943 - accuracy: 0.2000WARNING:tensorflow:Callbacks method `on_train_batch_end` is slow compared to the batch time (batch time: 0.0079s vs `on_train_batch_end` time: 0.0202s). Check your callbacks.\n",
            "299/300 [============================>.] - ETA: 0s - loss: 0.1679 - accuracy: 0.9505WARNING:tensorflow:Callbacks method `on_test_batch_end` is slow compared to the batch time (batch time: 0.0020s vs `on_test_batch_end` time: 0.0080s). Check your callbacks.\n",
            "300/300 [==============================] - 9s 31ms/step - loss: 0.1674 - accuracy: 0.9506 - val_loss: 0.0615 - val_accuracy: 0.9804\n",
            "Epoch 2/15\n",
            "300/300 [==============================] - 9s 31ms/step - loss: 0.0480 - accuracy: 0.9864 - val_loss: 0.0426 - val_accuracy: 0.9872\n",
            "Epoch 3/15\n",
            "300/300 [==============================] - 9s 31ms/step - loss: 0.0309 - accuracy: 0.9913 - val_loss: 0.0361 - val_accuracy: 0.9891\n",
            "Epoch 4/15\n",
            "300/300 [==============================] - 9s 31ms/step - loss: 0.0233 - accuracy: 0.9938 - val_loss: 0.0304 - val_accuracy: 0.9892\n",
            "Epoch 5/15\n",
            "300/300 [==============================] - 9s 31ms/step - loss: 0.0181 - accuracy: 0.9951 - val_loss: 0.0308 - val_accuracy: 0.9897\n",
            "Epoch 6/15\n",
            "300/300 [==============================] - 9s 31ms/step - loss: 0.0141 - accuracy: 0.9965 - val_loss: 0.0246 - val_accuracy: 0.9910\n",
            "Epoch 7/15\n",
            "300/300 [==============================] - 9s 31ms/step - loss: 0.0119 - accuracy: 0.9971 - val_loss: 0.0256 - val_accuracy: 0.9906\n",
            "Epoch 8/15\n",
            "300/300 [==============================] - 9s 31ms/step - loss: 0.0091 - accuracy: 0.9982 - val_loss: 0.0238 - val_accuracy: 0.9910\n",
            "Epoch 9/15\n",
            "300/300 [==============================] - 9s 31ms/step - loss: 0.0083 - accuracy: 0.9986 - val_loss: 0.0231 - val_accuracy: 0.9917\n",
            "Epoch 10/15\n",
            "300/300 [==============================] - 9s 31ms/step - loss: 0.0072 - accuracy: 0.9988 - val_loss: 0.0246 - val_accuracy: 0.9911\n",
            "Epoch 11/15\n",
            "300/300 [==============================] - 9s 31ms/step - loss: 0.0066 - accuracy: 0.9990 - val_loss: 0.0228 - val_accuracy: 0.9917\n",
            "Epoch 12/15\n",
            "300/300 [==============================] - 9s 31ms/step - loss: 0.0058 - accuracy: 0.9991 - val_loss: 0.0225 - val_accuracy: 0.9919\n",
            "Epoch 13/15\n",
            "300/300 [==============================] - 9s 31ms/step - loss: 0.0056 - accuracy: 0.9992 - val_loss: 0.0230 - val_accuracy: 0.9918\n",
            "Epoch 14/15\n",
            "300/300 [==============================] - 9s 31ms/step - loss: 0.0052 - accuracy: 0.9995 - val_loss: 0.0228 - val_accuracy: 0.9915\n",
            "Epoch 15/15\n",
            "300/300 [==============================] - 9s 31ms/step - loss: 0.0047 - accuracy: 0.9995 - val_loss: 0.0217 - val_accuracy: 0.9921\n",
            "  1/300 [..............................] - ETA: 2s - loss: 0.0848 - accuracy: 0.9900WARNING:tensorflow:Callbacks method `on_test_batch_end` is slow compared to the batch time (batch time: 0.0027s vs `on_test_batch_end` time: 0.0077s). Check your callbacks.\n",
            "300/300 [==============================] - 3s 11ms/step - loss: 0.0304 - accuracy: 0.9910\n",
            "Model: \"cnn_model_hyperParamTuned_sequential_LeNet\"\n",
            "_________________________________________________________________\n",
            "Layer (type)                 Output Shape              Param #   \n",
            "=================================================================\n",
            "conv2d_10 (Conv2D)           (None, 28, 28, 150)       3900      \n",
            "_________________________________________________________________\n",
            "batch_normalization_10 (Batc (None, 28, 28, 150)       600       \n",
            "_________________________________________________________________\n",
            "average_pooling2d_10 (Averag (None, 14, 14, 150)       0         \n",
            "_________________________________________________________________\n",
            "conv2d_11 (Conv2D)           (None, 10, 10, 140)       525140    \n",
            "_________________________________________________________________\n",
            "batch_normalization_11 (Batc (None, 10, 10, 140)       560       \n",
            "_________________________________________________________________\n",
            "average_pooling2d_11 (Averag (None, 5, 5, 140)         0         \n",
            "_________________________________________________________________\n",
            "flatten_5 (Flatten)          (None, 3500)              0         \n",
            "_________________________________________________________________\n",
            "dense_10 (Dense)             (None, 120)               420120    \n",
            "_________________________________________________________________\n",
            "dropout_5 (Dropout)          (None, 120)               0         \n",
            "_________________________________________________________________\n",
            "dense_11 (Dense)             (None, 10)                1210      \n",
            "=================================================================\n",
            "Total params: 951,530\n",
            "Trainable params: 950,950\n",
            "Non-trainable params: 580\n",
            "_________________________________________________________________\n",
            "Epoch 1/15\n",
            "  1/300 [..............................] - ETA: 0s - loss: 2.7350 - accuracy: 0.1000WARNING:tensorflow:Callbacks method `on_train_batch_end` is slow compared to the batch time (batch time: 0.0085s vs `on_train_batch_end` time: 0.0214s). Check your callbacks.\n",
            "299/300 [============================>.] - ETA: 0s - loss: 0.1832 - accuracy: 0.9468WARNING:tensorflow:Callbacks method `on_test_batch_end` is slow compared to the batch time (batch time: 0.0016s vs `on_test_batch_end` time: 0.0080s). Check your callbacks.\n",
            "300/300 [==============================] - 9s 31ms/step - loss: 0.1829 - accuracy: 0.9468 - val_loss: 0.0627 - val_accuracy: 0.9811\n",
            "Epoch 2/15\n",
            "300/300 [==============================] - 9s 31ms/step - loss: 0.0540 - accuracy: 0.9840 - val_loss: 0.0447 - val_accuracy: 0.9865\n",
            "Epoch 3/15\n",
            "300/300 [==============================] - 9s 31ms/step - loss: 0.0353 - accuracy: 0.9890 - val_loss: 0.0414 - val_accuracy: 0.9867\n",
            "Epoch 4/15\n",
            "300/300 [==============================] - 9s 31ms/step - loss: 0.0279 - accuracy: 0.9920 - val_loss: 0.0308 - val_accuracy: 0.9900\n",
            "Epoch 5/15\n",
            "300/300 [==============================] - 9s 31ms/step - loss: 0.0209 - accuracy: 0.9944 - val_loss: 0.0276 - val_accuracy: 0.9912\n",
            "Epoch 6/15\n",
            "300/300 [==============================] - 9s 31ms/step - loss: 0.0175 - accuracy: 0.9953 - val_loss: 0.0260 - val_accuracy: 0.9921\n",
            "Epoch 7/15\n",
            "300/300 [==============================] - 9s 31ms/step - loss: 0.0141 - accuracy: 0.9965 - val_loss: 0.0268 - val_accuracy: 0.9920\n",
            "Epoch 8/15\n",
            "300/300 [==============================] - 9s 31ms/step - loss: 0.0125 - accuracy: 0.9971 - val_loss: 0.0267 - val_accuracy: 0.9909\n",
            "Epoch 9/15\n",
            "300/300 [==============================] - 9s 31ms/step - loss: 0.0103 - accuracy: 0.9977 - val_loss: 0.0255 - val_accuracy: 0.9912\n",
            "Epoch 10/15\n",
            "300/300 [==============================] - 9s 31ms/step - loss: 0.0093 - accuracy: 0.9981 - val_loss: 0.0255 - val_accuracy: 0.9914\n",
            "Epoch 11/15\n",
            "300/300 [==============================] - 9s 31ms/step - loss: 0.0080 - accuracy: 0.9986 - val_loss: 0.0242 - val_accuracy: 0.9919\n",
            "Epoch 12/15\n",
            "300/300 [==============================] - 9s 31ms/step - loss: 0.0077 - accuracy: 0.9987 - val_loss: 0.0265 - val_accuracy: 0.9911\n",
            "Epoch 13/15\n",
            "300/300 [==============================] - 9s 31ms/step - loss: 0.0067 - accuracy: 0.9990 - val_loss: 0.0237 - val_accuracy: 0.9917\n",
            "Epoch 14/15\n",
            "300/300 [==============================] - 9s 31ms/step - loss: 0.0067 - accuracy: 0.9988 - val_loss: 0.0238 - val_accuracy: 0.9918\n",
            "300/300 [==============================] - 3s 11ms/step - loss: 0.0284 - accuracy: 0.9916\n",
            "Model: \"cnn_model_hyperParamTuned_sequential_LeNet\"\n",
            "_________________________________________________________________\n",
            "Layer (type)                 Output Shape              Param #   \n",
            "=================================================================\n",
            "conv2d_12 (Conv2D)           (None, 28, 28, 150)       3900      \n",
            "_________________________________________________________________\n",
            "batch_normalization_12 (Batc (None, 28, 28, 150)       600       \n",
            "_________________________________________________________________\n",
            "average_pooling2d_12 (Averag (None, 14, 14, 150)       0         \n",
            "_________________________________________________________________\n",
            "conv2d_13 (Conv2D)           (None, 10, 10, 140)       525140    \n",
            "_________________________________________________________________\n",
            "batch_normalization_13 (Batc (None, 10, 10, 140)       560       \n",
            "_________________________________________________________________\n",
            "average_pooling2d_13 (Averag (None, 5, 5, 140)         0         \n",
            "_________________________________________________________________\n",
            "flatten_6 (Flatten)          (None, 3500)              0         \n",
            "_________________________________________________________________\n",
            "dense_12 (Dense)             (None, 120)               420120    \n",
            "_________________________________________________________________\n",
            "dropout_6 (Dropout)          (None, 120)               0         \n",
            "_________________________________________________________________\n",
            "dense_13 (Dense)             (None, 10)                1210      \n",
            "=================================================================\n",
            "Total params: 951,530\n",
            "Trainable params: 950,950\n",
            "Non-trainable params: 580\n",
            "_________________________________________________________________\n",
            "Epoch 1/15\n",
            "  1/300 [..............................] - ETA: 0s - loss: 2.7494 - accuracy: 0.1600WARNING:tensorflow:Callbacks method `on_train_batch_end` is slow compared to the batch time (batch time: 0.0060s vs `on_train_batch_end` time: 0.0209s). Check your callbacks.\n",
            "299/300 [============================>.] - ETA: 0s - loss: 0.1800 - accuracy: 0.9479WARNING:tensorflow:Callbacks method `on_test_batch_end` is slow compared to the batch time (batch time: 0.0018s vs `on_test_batch_end` time: 0.0080s). Check your callbacks.\n",
            "300/300 [==============================] - 10s 32ms/step - loss: 0.1796 - accuracy: 0.9480 - val_loss: 0.0514 - val_accuracy: 0.9847\n",
            "Epoch 2/15\n",
            "300/300 [==============================] - 9s 31ms/step - loss: 0.0463 - accuracy: 0.9871 - val_loss: 0.0449 - val_accuracy: 0.9865\n",
            "Epoch 3/15\n",
            "300/300 [==============================] - 9s 31ms/step - loss: 0.0331 - accuracy: 0.9913 - val_loss: 0.0316 - val_accuracy: 0.9900\n",
            "Epoch 4/15\n",
            "300/300 [==============================] - 9s 31ms/step - loss: 0.0235 - accuracy: 0.9942 - val_loss: 0.0268 - val_accuracy: 0.9908\n",
            "Epoch 5/15\n",
            "300/300 [==============================] - 9s 31ms/step - loss: 0.0177 - accuracy: 0.9953 - val_loss: 0.0272 - val_accuracy: 0.9895\n",
            "Epoch 6/15\n",
            "300/300 [==============================] - 9s 31ms/step - loss: 0.0143 - accuracy: 0.9967 - val_loss: 0.0250 - val_accuracy: 0.9916\n",
            "Epoch 7/15\n",
            "300/300 [==============================] - 9s 31ms/step - loss: 0.0120 - accuracy: 0.9972 - val_loss: 0.0234 - val_accuracy: 0.9922\n",
            "Epoch 8/15\n",
            "300/300 [==============================] - 9s 31ms/step - loss: 0.0102 - accuracy: 0.9979 - val_loss: 0.0225 - val_accuracy: 0.9923\n",
            "Epoch 9/15\n",
            "300/300 [==============================] - 9s 31ms/step - loss: 0.0089 - accuracy: 0.9981 - val_loss: 0.0208 - val_accuracy: 0.9926\n",
            "Epoch 10/15\n",
            "300/300 [==============================] - 9s 31ms/step - loss: 0.0076 - accuracy: 0.9989 - val_loss: 0.0212 - val_accuracy: 0.9925\n",
            "Epoch 11/15\n",
            "300/300 [==============================] - 9s 31ms/step - loss: 0.0063 - accuracy: 0.9991 - val_loss: 0.0227 - val_accuracy: 0.9929\n",
            "Epoch 12/15\n",
            "300/300 [==============================] - 9s 31ms/step - loss: 0.0067 - accuracy: 0.9991 - val_loss: 0.0210 - val_accuracy: 0.9925\n",
            "  1/300 [..............................] - ETA: 2s - loss: 0.0761 - accuracy: 0.9900WARNING:tensorflow:Callbacks method `on_test_batch_end` is slow compared to the batch time (batch time: 0.0032s vs `on_test_batch_end` time: 0.0079s). Check your callbacks.\n",
            "300/300 [==============================] - 3s 11ms/step - loss: 0.0310 - accuracy: 0.9908\n",
            "Model: \"cnn_model_hyperParamTuned_sequential_LeNet\"\n",
            "_________________________________________________________________\n",
            "Layer (type)                 Output Shape              Param #   \n",
            "=================================================================\n",
            "conv2d_14 (Conv2D)           (None, 28, 28, 150)       3900      \n",
            "_________________________________________________________________\n",
            "batch_normalization_14 (Batc (None, 28, 28, 150)       600       \n",
            "_________________________________________________________________\n",
            "average_pooling2d_14 (Averag (None, 14, 14, 150)       0         \n",
            "_________________________________________________________________\n",
            "conv2d_15 (Conv2D)           (None, 10, 10, 140)       525140    \n",
            "_________________________________________________________________\n",
            "batch_normalization_15 (Batc (None, 10, 10, 140)       560       \n",
            "_________________________________________________________________\n",
            "average_pooling2d_15 (Averag (None, 5, 5, 140)         0         \n",
            "_________________________________________________________________\n",
            "flatten_7 (Flatten)          (None, 3500)              0         \n",
            "_________________________________________________________________\n",
            "dense_14 (Dense)             (None, 120)               420120    \n",
            "_________________________________________________________________\n",
            "dropout_7 (Dropout)          (None, 120)               0         \n",
            "_________________________________________________________________\n",
            "dense_15 (Dense)             (None, 10)                1210      \n",
            "=================================================================\n",
            "Total params: 951,530\n",
            "Trainable params: 950,950\n",
            "Non-trainable params: 580\n",
            "_________________________________________________________________\n",
            "Epoch 1/15\n",
            "  1/300 [..............................] - ETA: 0s - loss: 2.6288 - accuracy: 0.1000WARNING:tensorflow:Callbacks method `on_train_batch_end` is slow compared to the batch time (batch time: 0.0093s vs `on_train_batch_end` time: 0.0180s). Check your callbacks.\n",
            "299/300 [============================>.] - ETA: 0s - loss: 0.1770 - accuracy: 0.9479WARNING:tensorflow:Callbacks method `on_test_batch_end` is slow compared to the batch time (batch time: 0.0017s vs `on_test_batch_end` time: 0.0081s). Check your callbacks.\n",
            "300/300 [==============================] - 9s 32ms/step - loss: 0.1770 - accuracy: 0.9479 - val_loss: 0.0850 - val_accuracy: 0.9727\n",
            "Epoch 2/15\n",
            "300/300 [==============================] - 9s 31ms/step - loss: 0.0532 - accuracy: 0.9845 - val_loss: 0.0480 - val_accuracy: 0.9848\n",
            "Epoch 3/15\n",
            "300/300 [==============================] - 9s 31ms/step - loss: 0.0359 - accuracy: 0.9893 - val_loss: 0.0397 - val_accuracy: 0.9883\n",
            "Epoch 4/15\n",
            "300/300 [==============================] - 9s 31ms/step - loss: 0.0270 - accuracy: 0.9925 - val_loss: 0.0369 - val_accuracy: 0.9879\n",
            "Epoch 5/15\n",
            "300/300 [==============================] - 9s 31ms/step - loss: 0.0202 - accuracy: 0.9948 - val_loss: 0.0317 - val_accuracy: 0.9893\n",
            "Epoch 6/15\n",
            "300/300 [==============================] - 9s 31ms/step - loss: 0.0172 - accuracy: 0.9955 - val_loss: 0.0304 - val_accuracy: 0.9894\n",
            "Epoch 7/15\n",
            "300/300 [==============================] - 9s 31ms/step - loss: 0.0143 - accuracy: 0.9966 - val_loss: 0.0327 - val_accuracy: 0.9890\n",
            "Epoch 8/15\n",
            "300/300 [==============================] - 9s 31ms/step - loss: 0.0121 - accuracy: 0.9974 - val_loss: 0.0266 - val_accuracy: 0.9908\n",
            "Epoch 9/15\n",
            "300/300 [==============================] - 9s 31ms/step - loss: 0.0102 - accuracy: 0.9981 - val_loss: 0.0261 - val_accuracy: 0.9910\n",
            "Epoch 10/15\n",
            "300/300 [==============================] - 9s 31ms/step - loss: 0.0089 - accuracy: 0.9982 - val_loss: 0.0263 - val_accuracy: 0.9917\n",
            "Epoch 11/15\n",
            "300/300 [==============================] - 9s 31ms/step - loss: 0.0081 - accuracy: 0.9986 - val_loss: 0.0254 - val_accuracy: 0.9919\n",
            "Epoch 12/15\n",
            "300/300 [==============================] - 9s 31ms/step - loss: 0.0074 - accuracy: 0.9988 - val_loss: 0.0278 - val_accuracy: 0.9906\n",
            "Epoch 13/15\n",
            "300/300 [==============================] - 9s 31ms/step - loss: 0.0072 - accuracy: 0.9989 - val_loss: 0.0250 - val_accuracy: 0.9924\n",
            "Epoch 14/15\n",
            "300/300 [==============================] - 9s 31ms/step - loss: 0.0066 - accuracy: 0.9989 - val_loss: 0.0253 - val_accuracy: 0.9923\n",
            "Epoch 15/15\n",
            "300/300 [==============================] - 9s 31ms/step - loss: 0.0059 - accuracy: 0.9992 - val_loss: 0.0243 - val_accuracy: 0.9921\n",
            "  1/300 [..............................] - ETA: 2s - loss: 0.0452 - accuracy: 0.9900WARNING:tensorflow:Callbacks method `on_test_batch_end` is slow compared to the batch time (batch time: 0.0040s vs `on_test_batch_end` time: 0.0079s). Check your callbacks.\n",
            "300/300 [==============================] - 3s 11ms/step - loss: 0.0277 - accuracy: 0.9918\n",
            "Model: \"cnn_model_hyperParamTuned_sequential_LeNet\"\n",
            "_________________________________________________________________\n",
            "Layer (type)                 Output Shape              Param #   \n",
            "=================================================================\n",
            "conv2d_16 (Conv2D)           (None, 28, 28, 150)       3900      \n",
            "_________________________________________________________________\n",
            "batch_normalization_16 (Batc (None, 28, 28, 150)       600       \n",
            "_________________________________________________________________\n",
            "average_pooling2d_16 (Averag (None, 14, 14, 150)       0         \n",
            "_________________________________________________________________\n",
            "conv2d_17 (Conv2D)           (None, 10, 10, 140)       525140    \n",
            "_________________________________________________________________\n",
            "batch_normalization_17 (Batc (None, 10, 10, 140)       560       \n",
            "_________________________________________________________________\n",
            "average_pooling2d_17 (Averag (None, 5, 5, 140)         0         \n",
            "_________________________________________________________________\n",
            "flatten_8 (Flatten)          (None, 3500)              0         \n",
            "_________________________________________________________________\n",
            "dense_16 (Dense)             (None, 120)               420120    \n",
            "_________________________________________________________________\n",
            "dropout_8 (Dropout)          (None, 120)               0         \n",
            "_________________________________________________________________\n",
            "dense_17 (Dense)             (None, 10)                1210      \n",
            "=================================================================\n",
            "Total params: 951,530\n",
            "Trainable params: 950,950\n",
            "Non-trainable params: 580\n",
            "_________________________________________________________________\n",
            "Epoch 1/15\n",
            "  1/300 [..............................] - ETA: 0s - loss: 2.8400 - accuracy: 0.1300WARNING:tensorflow:Callbacks method `on_train_batch_end` is slow compared to the batch time (batch time: 0.0060s vs `on_train_batch_end` time: 0.0208s). Check your callbacks.\n",
            "299/300 [============================>.] - ETA: 0s - loss: 0.1727 - accuracy: 0.9498WARNING:tensorflow:Callbacks method `on_test_batch_end` is slow compared to the batch time (batch time: 0.0015s vs `on_test_batch_end` time: 0.0082s). Check your callbacks.\n",
            "300/300 [==============================] - 9s 32ms/step - loss: 0.1722 - accuracy: 0.9500 - val_loss: 0.0499 - val_accuracy: 0.9841\n",
            "Epoch 2/15\n",
            "300/300 [==============================] - 9s 31ms/step - loss: 0.0507 - accuracy: 0.9858 - val_loss: 0.0452 - val_accuracy: 0.9859\n",
            "Epoch 3/15\n",
            "300/300 [==============================] - 9s 31ms/step - loss: 0.0331 - accuracy: 0.9910 - val_loss: 0.0589 - val_accuracy: 0.9799\n",
            "Epoch 4/15\n",
            "300/300 [==============================] - 9s 31ms/step - loss: 0.0247 - accuracy: 0.9933 - val_loss: 0.0338 - val_accuracy: 0.9892\n",
            "Epoch 5/15\n",
            "300/300 [==============================] - 9s 31ms/step - loss: 0.0186 - accuracy: 0.9953 - val_loss: 0.0256 - val_accuracy: 0.9908\n",
            "Epoch 6/15\n",
            "300/300 [==============================] - 9s 31ms/step - loss: 0.0149 - accuracy: 0.9963 - val_loss: 0.0252 - val_accuracy: 0.9917\n",
            "Epoch 7/15\n",
            "300/300 [==============================] - 9s 31ms/step - loss: 0.0117 - accuracy: 0.9974 - val_loss: 0.0250 - val_accuracy: 0.9909\n",
            "Epoch 8/15\n",
            "300/300 [==============================] - 9s 31ms/step - loss: 0.0098 - accuracy: 0.9983 - val_loss: 0.0246 - val_accuracy: 0.9917\n",
            "Epoch 9/15\n",
            "300/300 [==============================] - 9s 31ms/step - loss: 0.0088 - accuracy: 0.9984 - val_loss: 0.0236 - val_accuracy: 0.9915\n",
            "Epoch 10/15\n",
            "300/300 [==============================] - 9s 31ms/step - loss: 0.0076 - accuracy: 0.9989 - val_loss: 0.0231 - val_accuracy: 0.9917\n",
            "Epoch 11/15\n",
            "300/300 [==============================] - 9s 31ms/step - loss: 0.0070 - accuracy: 0.9989 - val_loss: 0.0234 - val_accuracy: 0.9914\n",
            "Epoch 12/15\n",
            "300/300 [==============================] - 9s 31ms/step - loss: 0.0066 - accuracy: 0.9990 - val_loss: 0.0236 - val_accuracy: 0.9918\n",
            "Epoch 13/15\n",
            "300/300 [==============================] - 9s 31ms/step - loss: 0.0057 - accuracy: 0.9994 - val_loss: 0.0222 - val_accuracy: 0.9921\n",
            "Epoch 14/15\n",
            "300/300 [==============================] - 9s 31ms/step - loss: 0.0054 - accuracy: 0.9992 - val_loss: 0.0219 - val_accuracy: 0.9923\n",
            "Epoch 15/15\n",
            "300/300 [==============================] - 9s 31ms/step - loss: 0.0050 - accuracy: 0.9992 - val_loss: 0.0226 - val_accuracy: 0.9926\n",
            "300/300 [==============================] - 3s 11ms/step - loss: 0.0315 - accuracy: 0.9906\n",
            "Model: \"cnn_model_hyperParamTuned_sequential_LeNet\"\n",
            "_________________________________________________________________\n",
            "Layer (type)                 Output Shape              Param #   \n",
            "=================================================================\n",
            "conv2d_18 (Conv2D)           (None, 28, 28, 150)       3900      \n",
            "_________________________________________________________________\n",
            "batch_normalization_18 (Batc (None, 28, 28, 150)       600       \n",
            "_________________________________________________________________\n",
            "average_pooling2d_18 (Averag (None, 14, 14, 150)       0         \n",
            "_________________________________________________________________\n",
            "conv2d_19 (Conv2D)           (None, 10, 10, 140)       525140    \n",
            "_________________________________________________________________\n",
            "batch_normalization_19 (Batc (None, 10, 10, 140)       560       \n",
            "_________________________________________________________________\n",
            "average_pooling2d_19 (Averag (None, 5, 5, 140)         0         \n",
            "_________________________________________________________________\n",
            "flatten_9 (Flatten)          (None, 3500)              0         \n",
            "_________________________________________________________________\n",
            "dense_18 (Dense)             (None, 120)               420120    \n",
            "_________________________________________________________________\n",
            "dropout_9 (Dropout)          (None, 120)               0         \n",
            "_________________________________________________________________\n",
            "dense_19 (Dense)             (None, 10)                1210      \n",
            "=================================================================\n",
            "Total params: 951,530\n",
            "Trainable params: 950,950\n",
            "Non-trainable params: 580\n",
            "_________________________________________________________________\n",
            "Epoch 1/15\n",
            "  1/300 [..............................] - ETA: 0s - loss: 3.1342 - accuracy: 0.0200WARNING:tensorflow:Callbacks method `on_train_batch_end` is slow compared to the batch time (batch time: 0.0062s vs `on_train_batch_end` time: 0.0221s). Check your callbacks.\n",
            "299/300 [============================>.] - ETA: 0s - loss: 0.1780 - accuracy: 0.9484WARNING:tensorflow:Callbacks method `on_test_batch_end` is slow compared to the batch time (batch time: 0.0015s vs `on_test_batch_end` time: 0.0079s). Check your callbacks.\n",
            "300/300 [==============================] - 9s 32ms/step - loss: 0.1777 - accuracy: 0.9485 - val_loss: 0.0635 - val_accuracy: 0.9798\n",
            "Epoch 2/15\n",
            "300/300 [==============================] - 9s 31ms/step - loss: 0.0543 - accuracy: 0.9830 - val_loss: 0.0419 - val_accuracy: 0.9874\n",
            "Epoch 3/15\n",
            "300/300 [==============================] - 9s 31ms/step - loss: 0.0361 - accuracy: 0.9892 - val_loss: 0.0428 - val_accuracy: 0.9857\n",
            "Epoch 4/15\n",
            "300/300 [==============================] - 9s 31ms/step - loss: 0.0278 - accuracy: 0.9920 - val_loss: 0.0315 - val_accuracy: 0.9897\n",
            "Epoch 5/15\n",
            "300/300 [==============================] - 9s 31ms/step - loss: 0.0218 - accuracy: 0.9941 - val_loss: 0.0310 - val_accuracy: 0.9896\n",
            "Epoch 6/15\n",
            "300/300 [==============================] - 9s 31ms/step - loss: 0.0175 - accuracy: 0.9954 - val_loss: 0.0287 - val_accuracy: 0.9903\n",
            "Epoch 7/15\n",
            "300/300 [==============================] - 9s 32ms/step - loss: 0.0145 - accuracy: 0.9963 - val_loss: 0.0257 - val_accuracy: 0.9912\n",
            "Epoch 8/15\n",
            "300/300 [==============================] - 9s 32ms/step - loss: 0.0121 - accuracy: 0.9973 - val_loss: 0.0287 - val_accuracy: 0.9909\n",
            "Epoch 9/15\n",
            "300/300 [==============================] - 9s 31ms/step - loss: 0.0110 - accuracy: 0.9977 - val_loss: 0.0236 - val_accuracy: 0.9922\n",
            "Epoch 10/15\n",
            "300/300 [==============================] - 9s 31ms/step - loss: 0.0098 - accuracy: 0.9979 - val_loss: 0.0240 - val_accuracy: 0.9920\n",
            "Epoch 11/15\n",
            "300/300 [==============================] - 9s 31ms/step - loss: 0.0094 - accuracy: 0.9979 - val_loss: 0.0236 - val_accuracy: 0.9919\n",
            "Epoch 12/15\n",
            "300/300 [==============================] - 9s 31ms/step - loss: 0.0079 - accuracy: 0.9987 - val_loss: 0.0236 - val_accuracy: 0.9921\n",
            "Epoch 13/15\n",
            "300/300 [==============================] - 9s 31ms/step - loss: 0.0072 - accuracy: 0.9988 - val_loss: 0.0236 - val_accuracy: 0.9923\n",
            "Epoch 14/15\n",
            "300/300 [==============================] - 9s 31ms/step - loss: 0.0070 - accuracy: 0.9988 - val_loss: 0.0235 - val_accuracy: 0.9921\n",
            "Epoch 15/15\n",
            "300/300 [==============================] - 9s 31ms/step - loss: 0.0067 - accuracy: 0.9991 - val_loss: 0.0232 - val_accuracy: 0.9922\n",
            "  1/300 [..............................] - ETA: 2s - loss: 0.0412 - accuracy: 0.9900WARNING:tensorflow:Callbacks method `on_test_batch_end` is slow compared to the batch time (batch time: 0.0040s vs `on_test_batch_end` time: 0.0083s). Check your callbacks.\n",
            "300/300 [==============================] - 3s 11ms/step - loss: 0.0288 - accuracy: 0.9914\n",
            "Model: \"cnn_model_hyperParamTuned_sequential_LeNet\"\n",
            "_________________________________________________________________\n",
            "Layer (type)                 Output Shape              Param #   \n",
            "=================================================================\n",
            "conv2d_20 (Conv2D)           (None, 28, 28, 150)       3900      \n",
            "_________________________________________________________________\n",
            "batch_normalization_20 (Batc (None, 28, 28, 150)       600       \n",
            "_________________________________________________________________\n",
            "average_pooling2d_20 (Averag (None, 14, 14, 150)       0         \n",
            "_________________________________________________________________\n",
            "conv2d_21 (Conv2D)           (None, 10, 10, 140)       525140    \n",
            "_________________________________________________________________\n",
            "batch_normalization_21 (Batc (None, 10, 10, 140)       560       \n",
            "_________________________________________________________________\n",
            "average_pooling2d_21 (Averag (None, 5, 5, 140)         0         \n",
            "_________________________________________________________________\n",
            "flatten_10 (Flatten)         (None, 3500)              0         \n",
            "_________________________________________________________________\n",
            "dense_20 (Dense)             (None, 120)               420120    \n",
            "_________________________________________________________________\n",
            "dropout_10 (Dropout)         (None, 120)               0         \n",
            "_________________________________________________________________\n",
            "dense_21 (Dense)             (None, 10)                1210      \n",
            "=================================================================\n",
            "Total params: 951,530\n",
            "Trainable params: 950,950\n",
            "Non-trainable params: 580\n",
            "_________________________________________________________________\n",
            "Epoch 1/15\n",
            "299/300 [============================>.] - ETA: 0s - loss: 0.1760 - accuracy: 0.9484WARNING:tensorflow:Callbacks method `on_test_batch_end` is slow compared to the batch time (batch time: 0.0015s vs `on_test_batch_end` time: 0.0082s). Check your callbacks.\n",
            "300/300 [==============================] - 9s 32ms/step - loss: 0.1758 - accuracy: 0.9484 - val_loss: 0.0593 - val_accuracy: 0.9826\n",
            "Epoch 2/15\n",
            "300/300 [==============================] - 9s 31ms/step - loss: 0.0481 - accuracy: 0.9855 - val_loss: 0.0376 - val_accuracy: 0.9884\n",
            "Epoch 3/15\n",
            "300/300 [==============================] - 9s 31ms/step - loss: 0.0320 - accuracy: 0.9910 - val_loss: 0.0360 - val_accuracy: 0.9876\n",
            "Epoch 4/15\n",
            "300/300 [==============================] - 9s 31ms/step - loss: 0.0230 - accuracy: 0.9937 - val_loss: 0.0318 - val_accuracy: 0.9902\n",
            "Epoch 5/15\n",
            "300/300 [==============================] - 9s 31ms/step - loss: 0.0188 - accuracy: 0.9949 - val_loss: 0.0281 - val_accuracy: 0.9900\n",
            "Epoch 6/15\n",
            "300/300 [==============================] - 9s 31ms/step - loss: 0.0140 - accuracy: 0.9970 - val_loss: 0.0268 - val_accuracy: 0.9914\n",
            "Epoch 7/15\n",
            "300/300 [==============================] - 9s 31ms/step - loss: 0.0133 - accuracy: 0.9968 - val_loss: 0.0250 - val_accuracy: 0.9916\n",
            "Epoch 8/15\n",
            "300/300 [==============================] - 9s 31ms/step - loss: 0.0108 - accuracy: 0.9975 - val_loss: 0.0240 - val_accuracy: 0.9924\n",
            "Epoch 9/15\n",
            "300/300 [==============================] - 9s 31ms/step - loss: 0.0089 - accuracy: 0.9980 - val_loss: 0.0249 - val_accuracy: 0.9924\n",
            "Epoch 10/15\n",
            "300/300 [==============================] - 9s 31ms/step - loss: 0.0080 - accuracy: 0.9985 - val_loss: 0.0225 - val_accuracy: 0.9924\n",
            "Epoch 11/15\n",
            "300/300 [==============================] - 9s 31ms/step - loss: 0.0072 - accuracy: 0.9989 - val_loss: 0.0231 - val_accuracy: 0.9926\n",
            "Epoch 12/15\n",
            "300/300 [==============================] - 10s 32ms/step - loss: 0.0063 - accuracy: 0.9990 - val_loss: 0.0232 - val_accuracy: 0.9923\n",
            "Epoch 13/15\n",
            "300/300 [==============================] - 9s 31ms/step - loss: 0.0059 - accuracy: 0.9992 - val_loss: 0.0228 - val_accuracy: 0.9924\n",
            "Epoch 14/15\n",
            "300/300 [==============================] - 9s 31ms/step - loss: 0.0055 - accuracy: 0.9992 - val_loss: 0.0228 - val_accuracy: 0.9926\n",
            "Epoch 15/15\n",
            "300/300 [==============================] - 9s 31ms/step - loss: 0.0053 - accuracy: 0.9993 - val_loss: 0.0227 - val_accuracy: 0.9921\n",
            "  1/300 [..............................] - ETA: 2s - loss: 0.0751 - accuracy: 0.9900WARNING:tensorflow:Callbacks method `on_test_batch_end` is slow compared to the batch time (batch time: 0.0047s vs `on_test_batch_end` time: 0.0085s). Check your callbacks.\n",
            "300/300 [==============================] - 3s 11ms/step - loss: 0.0311 - accuracy: 0.9909\n",
            "Model: \"cnn_model_hyperParamTuned_sequential_LeNet\"\n",
            "_________________________________________________________________\n",
            "Layer (type)                 Output Shape              Param #   \n",
            "=================================================================\n",
            "conv2d_22 (Conv2D)           (None, 28, 28, 150)       3900      \n",
            "_________________________________________________________________\n",
            "batch_normalization_22 (Batc (None, 28, 28, 150)       600       \n",
            "_________________________________________________________________\n",
            "average_pooling2d_22 (Averag (None, 14, 14, 150)       0         \n",
            "_________________________________________________________________\n",
            "conv2d_23 (Conv2D)           (None, 10, 10, 140)       525140    \n",
            "_________________________________________________________________\n",
            "batch_normalization_23 (Batc (None, 10, 10, 140)       560       \n",
            "_________________________________________________________________\n",
            "average_pooling2d_23 (Averag (None, 5, 5, 140)         0         \n",
            "_________________________________________________________________\n",
            "flatten_11 (Flatten)         (None, 3500)              0         \n",
            "_________________________________________________________________\n",
            "dense_22 (Dense)             (None, 120)               420120    \n",
            "_________________________________________________________________\n",
            "dropout_11 (Dropout)         (None, 120)               0         \n",
            "_________________________________________________________________\n",
            "dense_23 (Dense)             (None, 10)                1210      \n",
            "=================================================================\n",
            "Total params: 951,530\n",
            "Trainable params: 950,950\n",
            "Non-trainable params: 580\n",
            "_________________________________________________________________\n",
            "Epoch 1/15\n",
            "  1/300 [..............................] - ETA: 0s - loss: 2.5247 - accuracy: 0.1300WARNING:tensorflow:Callbacks method `on_train_batch_end` is slow compared to the batch time (batch time: 0.0078s vs `on_train_batch_end` time: 0.0200s). Check your callbacks.\n",
            "299/300 [============================>.] - ETA: 0s - loss: 0.1871 - accuracy: 0.9455WARNING:tensorflow:Callbacks method `on_test_batch_end` is slow compared to the batch time (batch time: 0.0015s vs `on_test_batch_end` time: 0.0079s). Check your callbacks.\n",
            "300/300 [==============================] - 9s 32ms/step - loss: 0.1867 - accuracy: 0.9456 - val_loss: 0.0707 - val_accuracy: 0.9788\n",
            "Epoch 2/15\n",
            "300/300 [==============================] - 9s 31ms/step - loss: 0.0524 - accuracy: 0.9844 - val_loss: 0.0403 - val_accuracy: 0.9876\n",
            "Epoch 3/15\n",
            "300/300 [==============================] - 9s 31ms/step - loss: 0.0368 - accuracy: 0.9885 - val_loss: 0.0348 - val_accuracy: 0.9903\n",
            "Epoch 4/15\n",
            "300/300 [==============================] - 9s 31ms/step - loss: 0.0275 - accuracy: 0.9919 - val_loss: 0.0308 - val_accuracy: 0.9889\n",
            "Epoch 5/15\n",
            "300/300 [==============================] - 9s 31ms/step - loss: 0.0218 - accuracy: 0.9937 - val_loss: 0.0313 - val_accuracy: 0.9898\n",
            "Epoch 6/15\n",
            "300/300 [==============================] - 9s 31ms/step - loss: 0.0166 - accuracy: 0.9957 - val_loss: 0.0263 - val_accuracy: 0.9911\n",
            "Epoch 7/15\n",
            "300/300 [==============================] - 9s 31ms/step - loss: 0.0144 - accuracy: 0.9964 - val_loss: 0.0249 - val_accuracy: 0.9919\n",
            "Epoch 8/15\n",
            "300/300 [==============================] - 9s 31ms/step - loss: 0.0116 - accuracy: 0.9977 - val_loss: 0.0234 - val_accuracy: 0.9924\n",
            "Epoch 9/15\n",
            "300/300 [==============================] - 9s 32ms/step - loss: 0.0104 - accuracy: 0.9978 - val_loss: 0.0276 - val_accuracy: 0.9910\n",
            "Epoch 10/15\n",
            "300/300 [==============================] - 10s 32ms/step - loss: 0.0090 - accuracy: 0.9982 - val_loss: 0.0246 - val_accuracy: 0.9915\n",
            "Epoch 11/15\n",
            "300/300 [==============================] - 9s 31ms/step - loss: 0.0081 - accuracy: 0.9986 - val_loss: 0.0233 - val_accuracy: 0.9925\n",
            "Epoch 12/15\n",
            "300/300 [==============================] - 9s 31ms/step - loss: 0.0072 - accuracy: 0.9988 - val_loss: 0.0235 - val_accuracy: 0.9925\n",
            "Epoch 13/15\n",
            "300/300 [==============================] - 9s 31ms/step - loss: 0.0065 - accuracy: 0.9991 - val_loss: 0.0242 - val_accuracy: 0.9927\n",
            "Epoch 14/15\n",
            "300/300 [==============================] - 9s 31ms/step - loss: 0.0066 - accuracy: 0.9987 - val_loss: 0.0238 - val_accuracy: 0.9927\n",
            "  1/300 [..............................] - ETA: 2s - loss: 0.0534 - accuracy: 0.9900WARNING:tensorflow:Callbacks method `on_test_batch_end` is slow compared to the batch time (batch time: 0.0034s vs `on_test_batch_end` time: 0.0110s). Check your callbacks.\n",
            "300/300 [==============================] - 3s 11ms/step - loss: 0.0284 - accuracy: 0.9912\n",
            "Model: \"cnn_model_hyperParamTuned_sequential_LeNet\"\n",
            "_________________________________________________________________\n",
            "Layer (type)                 Output Shape              Param #   \n",
            "=================================================================\n",
            "conv2d_24 (Conv2D)           (None, 28, 28, 150)       3900      \n",
            "_________________________________________________________________\n",
            "batch_normalization_24 (Batc (None, 28, 28, 150)       600       \n",
            "_________________________________________________________________\n",
            "average_pooling2d_24 (Averag (None, 14, 14, 150)       0         \n",
            "_________________________________________________________________\n",
            "conv2d_25 (Conv2D)           (None, 10, 10, 140)       525140    \n",
            "_________________________________________________________________\n",
            "batch_normalization_25 (Batc (None, 10, 10, 140)       560       \n",
            "_________________________________________________________________\n",
            "average_pooling2d_25 (Averag (None, 5, 5, 140)         0         \n",
            "_________________________________________________________________\n",
            "flatten_12 (Flatten)         (None, 3500)              0         \n",
            "_________________________________________________________________\n",
            "dense_24 (Dense)             (None, 120)               420120    \n",
            "_________________________________________________________________\n",
            "dropout_12 (Dropout)         (None, 120)               0         \n",
            "_________________________________________________________________\n",
            "dense_25 (Dense)             (None, 10)                1210      \n",
            "=================================================================\n",
            "Total params: 951,530\n",
            "Trainable params: 950,950\n",
            "Non-trainable params: 580\n",
            "_________________________________________________________________\n",
            "Epoch 1/15\n",
            "  1/300 [..............................] - ETA: 0s - loss: 2.9853 - accuracy: 0.0300WARNING:tensorflow:Callbacks method `on_train_batch_end` is slow compared to the batch time (batch time: 0.0072s vs `on_train_batch_end` time: 0.0210s). Check your callbacks.\n",
            "299/300 [============================>.] - ETA: 0s - loss: 0.1788 - accuracy: 0.9479WARNING:tensorflow:Callbacks method `on_test_batch_end` is slow compared to the batch time (batch time: 0.0015s vs `on_test_batch_end` time: 0.0081s). Check your callbacks.\n",
            "300/300 [==============================] - 10s 32ms/step - loss: 0.1785 - accuracy: 0.9480 - val_loss: 0.0808 - val_accuracy: 0.9746\n",
            "Epoch 2/15\n",
            "300/300 [==============================] - 9s 31ms/step - loss: 0.0510 - accuracy: 0.9851 - val_loss: 0.0742 - val_accuracy: 0.9757\n",
            "Epoch 3/15\n",
            "300/300 [==============================] - 9s 31ms/step - loss: 0.0337 - accuracy: 0.9904 - val_loss: 0.0360 - val_accuracy: 0.9893\n",
            "Epoch 4/15\n",
            "300/300 [==============================] - 9s 31ms/step - loss: 0.0250 - accuracy: 0.9930 - val_loss: 0.0280 - val_accuracy: 0.9899\n",
            "Epoch 5/15\n",
            "300/300 [==============================] - 9s 31ms/step - loss: 0.0186 - accuracy: 0.9952 - val_loss: 0.0250 - val_accuracy: 0.9921\n",
            "Epoch 6/15\n",
            "300/300 [==============================] - 9s 31ms/step - loss: 0.0151 - accuracy: 0.9962 - val_loss: 0.0257 - val_accuracy: 0.9916\n",
            "Epoch 7/15\n",
            "300/300 [==============================] - 9s 31ms/step - loss: 0.0120 - accuracy: 0.9975 - val_loss: 0.0231 - val_accuracy: 0.9919\n",
            "Epoch 8/15\n",
            "300/300 [==============================] - 9s 32ms/step - loss: 0.0101 - accuracy: 0.9982 - val_loss: 0.0222 - val_accuracy: 0.9922\n",
            "Epoch 9/15\n",
            "300/300 [==============================] - 9s 31ms/step - loss: 0.0092 - accuracy: 0.9983 - val_loss: 0.0227 - val_accuracy: 0.9927\n",
            "Epoch 10/15\n",
            "300/300 [==============================] - 9s 31ms/step - loss: 0.0077 - accuracy: 0.9987 - val_loss: 0.0207 - val_accuracy: 0.9933\n",
            "Epoch 11/15\n",
            "300/300 [==============================] - 9s 31ms/step - loss: 0.0069 - accuracy: 0.9989 - val_loss: 0.0217 - val_accuracy: 0.9924\n",
            "Epoch 12/15\n",
            "300/300 [==============================] - 9s 31ms/step - loss: 0.0061 - accuracy: 0.9992 - val_loss: 0.0217 - val_accuracy: 0.9936\n",
            "Epoch 13/15\n",
            "300/300 [==============================] - 9s 31ms/step - loss: 0.0062 - accuracy: 0.9989 - val_loss: 0.0215 - val_accuracy: 0.9932\n",
            "  1/300 [..............................] - ETA: 2s - loss: 0.0671 - accuracy: 0.9900WARNING:tensorflow:Callbacks method `on_test_batch_end` is slow compared to the batch time (batch time: 0.0043s vs `on_test_batch_end` time: 0.0092s). Check your callbacks.\n",
            "300/300 [==============================] - 3s 11ms/step - loss: 0.0320 - accuracy: 0.9904\n",
            "Model: \"cnn_model_hyperParamTuned_sequential_LeNet\"\n",
            "_________________________________________________________________\n",
            "Layer (type)                 Output Shape              Param #   \n",
            "=================================================================\n",
            "conv2d_26 (Conv2D)           (None, 28, 28, 150)       3900      \n",
            "_________________________________________________________________\n",
            "batch_normalization_26 (Batc (None, 28, 28, 150)       600       \n",
            "_________________________________________________________________\n",
            "average_pooling2d_26 (Averag (None, 14, 14, 150)       0         \n",
            "_________________________________________________________________\n",
            "conv2d_27 (Conv2D)           (None, 10, 10, 140)       525140    \n",
            "_________________________________________________________________\n",
            "batch_normalization_27 (Batc (None, 10, 10, 140)       560       \n",
            "_________________________________________________________________\n",
            "average_pooling2d_27 (Averag (None, 5, 5, 140)         0         \n",
            "_________________________________________________________________\n",
            "flatten_13 (Flatten)         (None, 3500)              0         \n",
            "_________________________________________________________________\n",
            "dense_26 (Dense)             (None, 120)               420120    \n",
            "_________________________________________________________________\n",
            "dropout_13 (Dropout)         (None, 120)               0         \n",
            "_________________________________________________________________\n",
            "dense_27 (Dense)             (None, 10)                1210      \n",
            "=================================================================\n",
            "Total params: 951,530\n",
            "Trainable params: 950,950\n",
            "Non-trainable params: 580\n",
            "_________________________________________________________________\n"
          ],
          "name": "stdout"
        },
        {
          "output_type": "stream",
          "text": [
            "[Parallel(n_jobs=1)]: Done  12 out of  12 | elapsed: 27.4min finished\n"
          ],
          "name": "stderr"
        },
        {
          "output_type": "stream",
          "text": [
            "Epoch 1/15\n",
            "  1/600 [..............................] - ETA: 0s - loss: 2.7343 - accuracy: 0.0800WARNING:tensorflow:Callbacks method `on_train_batch_end` is slow compared to the batch time (batch time: 0.0070s vs `on_train_batch_end` time: 0.0217s). Check your callbacks.\n",
            "599/600 [============================>.] - ETA: 0s - loss: 0.1246 - accuracy: 0.9635WARNING:tensorflow:Callbacks method `on_test_batch_end` is slow compared to the batch time (batch time: 0.0018s vs `on_test_batch_end` time: 0.0079s). Check your callbacks.\n",
            "600/600 [==============================] - 18s 30ms/step - loss: 0.1245 - accuracy: 0.9635 - val_loss: 0.0428 - val_accuracy: 0.9854\n",
            "Epoch 2/15\n",
            "600/600 [==============================] - 18s 29ms/step - loss: 0.0380 - accuracy: 0.9882 - val_loss: 0.0356 - val_accuracy: 0.9880\n",
            "Epoch 3/15\n",
            "600/600 [==============================] - 18s 29ms/step - loss: 0.0279 - accuracy: 0.9915 - val_loss: 0.0279 - val_accuracy: 0.9901\n",
            "Epoch 4/15\n",
            "600/600 [==============================] - 18s 29ms/step - loss: 0.0211 - accuracy: 0.9936 - val_loss: 0.0253 - val_accuracy: 0.9921\n",
            "Epoch 5/15\n",
            "600/600 [==============================] - 18s 29ms/step - loss: 0.0166 - accuracy: 0.9951 - val_loss: 0.0202 - val_accuracy: 0.9933\n",
            "Epoch 6/15\n",
            "600/600 [==============================] - 18s 29ms/step - loss: 0.0134 - accuracy: 0.9962 - val_loss: 0.0201 - val_accuracy: 0.9938\n",
            "Epoch 7/15\n",
            "600/600 [==============================] - 18s 29ms/step - loss: 0.0116 - accuracy: 0.9969 - val_loss: 0.0196 - val_accuracy: 0.9927\n",
            "Epoch 8/15\n",
            "600/600 [==============================] - 18s 30ms/step - loss: 0.0101 - accuracy: 0.9971 - val_loss: 0.0187 - val_accuracy: 0.9935\n",
            "Epoch 9/15\n",
            "600/600 [==============================] - 18s 29ms/step - loss: 0.0087 - accuracy: 0.9979 - val_loss: 0.0177 - val_accuracy: 0.9938\n",
            "Epoch 10/15\n",
            "600/600 [==============================] - 18s 29ms/step - loss: 0.0075 - accuracy: 0.9985 - val_loss: 0.0189 - val_accuracy: 0.9939\n",
            "Epoch 11/15\n",
            "600/600 [==============================] - 18s 29ms/step - loss: 0.0067 - accuracy: 0.9987 - val_loss: 0.0175 - val_accuracy: 0.9939\n",
            "Epoch 12/15\n",
            "600/600 [==============================] - 18s 29ms/step - loss: 0.0064 - accuracy: 0.9986 - val_loss: 0.0174 - val_accuracy: 0.9941\n",
            "Epoch 13/15\n",
            "600/600 [==============================] - 18s 29ms/step - loss: 0.0058 - accuracy: 0.9990 - val_loss: 0.0166 - val_accuracy: 0.9941\n",
            "Epoch 14/15\n",
            "600/600 [==============================] - 18s 29ms/step - loss: 0.0053 - accuracy: 0.9990 - val_loss: 0.0165 - val_accuracy: 0.9941\n",
            "Epoch 15/15\n",
            "600/600 [==============================] - 18s 29ms/step - loss: 0.0050 - accuracy: 0.9991 - val_loss: 0.0169 - val_accuracy: 0.9946\n"
          ],
          "name": "stdout"
        }
      ]
    },
    {
      "cell_type": "code",
      "metadata": {
        "id": "BBKMW6C6rKtB",
        "colab": {
          "base_uri": "https://localhost:8080/"
        },
        "outputId": "95b40187-2f99-4ac0-bf88-6d4c834700ba"
      },
      "source": [
        "# print results for the best param grid\n",
        "print(f'Best Accuracy for {history.best_score_} using {history.best_params_}')\n",
        "means = history.cv_results_['mean_test_score']\n",
        "stds = history.cv_results_['std_test_score']\n",
        "params = history.cv_results_['params']\n",
        "\n",
        "for mean, stdev, param in zip(means, stds, params):\n",
        "    print(f' mean={mean:.4}, std={stdev:.4} using {param}')"
      ],
      "execution_count": null,
      "outputs": [
        {
          "output_type": "stream",
          "text": [
            "Best Accuracy for 0.9914166629314423 using {'init_mode': 'normal'}\n",
            " mean=0.991, std=0.0 using {'init_mode': 'uniform'}\n",
            " mean=0.9914, std=0.0003833 using {'init_mode': 'normal'}\n",
            " mean=0.9912, std=0.0004334 using {'init_mode': 'glorot_normal'}\n",
            " mean=0.9912, std=0.0006167 using {'init_mode': 'glorot_uniform'}\n",
            " mean=0.9912, std=0.00025 using {'init_mode': 'he_normal'}\n",
            " mean=0.9908, std=0.0004167 using {'init_mode': 'he_uniform'}\n"
          ],
          "name": "stdout"
        }
      ]
    },
    {
      "cell_type": "code",
      "metadata": {
        "id": "Zw-WT-E9Y3xV",
        "colab": {
          "base_uri": "https://localhost:8080/",
          "height": 295
        },
        "outputId": "24768d53-0532-4e5a-f4a7-ea4b8c949e94"
      },
      "source": [
        "# plot learning rate curve\n",
        "learning_rate = history.best_estimator_.model.history.history['lr']\n",
        "epochs = range(1, len(learning_rate) + 1)\n",
        "plt.plot(epochs, learning_rate)\n",
        "plt.title('Learning rate')\n",
        "plt.xlabel('Epochs')\n",
        "plt.ylabel('Learning rate')\n",
        "plt.show()"
      ],
      "execution_count": null,
      "outputs": [
        {
          "output_type": "display_data",
          "data": {
            "image/png": "[encoded data removed]",
            "text/plain": [
              "<Figure size 432x288 with 1 Axes>"
            ]
          },
          "metadata": {
            "tags": [],
            "needs_background": "light"
          }
        }
      ]
    },
    {
      "cell_type": "code",
      "metadata": {
        "id": "SYcZQ3UOcZca",
        "colab": {
          "base_uri": "https://localhost:8080/"
        },
        "outputId": "a31edf86-978d-4f79-b3f6-e952b182b706"
      },
      "source": [
        "#print the available history keys for use\n",
        "print(history.best_estimator_.model.history.history.keys())"
      ],
      "execution_count": null,
      "outputs": [
        {
          "output_type": "stream",
          "text": [
            "dict_keys(['loss', 'accuracy', 'val_loss', 'val_accuracy', 'lr'])\n"
          ],
          "name": "stdout"
        }
      ]
    },
    {
      "cell_type": "code",
      "metadata": {
        "id": "Oi41O6kVPaAi",
        "colab": {
          "base_uri": "https://localhost:8080/",
          "height": 297
        },
        "outputId": "bae8a3d0-eb1c-4940-b91f-4ca040354105"
      },
      "source": [
        "# plotting the accuracy and loss graphs\n",
        "fig = plt.figure()\n",
        "plt.subplot(2,1,1)\n",
        "plt.plot(history.best_estimator_.model.history.history['accuracy'])\n",
        "plt.plot(history.best_estimator_.model.history.history['val_accuracy'])\n",
        "plt.title('Model Accuracy')\n",
        "plt.ylabel('accuracy')\n",
        "plt.xlabel('epoch')\n",
        "plt.legend(['Training accuracy', 'Validation accuracy'], loc='best')\n",
        "\n",
        "plt.subplot(2,1,2)\n",
        "plt.plot(history.best_estimator_.model.history.history['loss'])\n",
        "plt.plot(history.best_estimator_.model.history.history['val_loss'])\n",
        "plt.title('Model loss')\n",
        "plt.ylabel('loss')\n",
        "plt.xlabel('epoch')\n",
        "plt.legend(['Training loss', 'Validation loss'], loc='best')\n",
        "\n",
        "plt.tight_layout()"
      ],
      "execution_count": null,
      "outputs": [
        {
          "output_type": "display_data",
          "data": {
            "image/png": "[encoded data removed]",
            "text/plain": [
              "<Figure size 432x288 with 2 Axes>"
            ]
          },
          "metadata": {
            "tags": [],
            "needs_background": "light"
          }
        }
      ]
    },
    {
      "cell_type": "markdown",
      "metadata": {
        "id": "7S80LE_uuHZb"
      },
      "source": [
        "<div class=\"alert alert-block alert-info\">\n",
        "    <b>Analysis Summary:</b> From here, we can see that the best weight initializer is normal with an accuracy score of 0.9914166629314423. So what we shall do right now is to use that initializer and refit it into a new model as we cannot use that to evaluate our loss and accuracy using the keras evaluate method. Here, we shall also go and use our ImageDataGenerator and see if we can improve the loss and accuracy score. Also, please re-run from the beginning again before executing from this point onwards.<p>\n",
        "</div>"
      ]
    },
    {
      "cell_type": "code",
      "metadata": {
        "colab": {
          "base_uri": "https://localhost:8080/"
        },
        "id": "JsPHYhj-uu3w",
        "outputId": "c7795074-b778-47c2-ed70-dc66f4b1fb4e"
      },
      "source": [
        "# Instantiate a Sequential model\n",
        "model = Sequential(name=\"cnn_model_hyperParamTuned_sequential_LeNet\")\n",
        "\n",
        "# Layer 1 Conv2D\n",
        "model.add(Conv2D(filters=150, kernel_size=(5, 5), strides=(1, 1), activation='elu', input_shape=(28, 28, 1), padding='same'))\n",
        "model.add(BatchNormalization())\n",
        "# Layer 2 Pooling Layer\n",
        "model.add(AveragePooling2D(pool_size=(2, 2), strides=(2, 2)))\n",
        "\n",
        "# Layer 3 Conv2D\n",
        "model.add(Conv2D(filters=140, kernel_size=(5, 5), strides=(1, 1), activation='elu', padding='valid'))\n",
        "model.add(BatchNormalization())\n",
        "# Layer 4 Pooling Layer\n",
        "model.add(AveragePooling2D(pool_size=(2, 2), strides=(2, 2)))\n",
        "\n",
        "# Layer 5 Flatten\n",
        "model.add(Flatten())\n",
        "\n",
        "# Layer 6 Fully Connected Layer (Hidden Layer)\n",
        "model.add(Dense(units=120, activation='tanh', kernel_initializer='normal', kernel_regularizer=l2(0.1)))\n",
        "model.add(Dropout(0.2))\n",
        "\n",
        "# # Layer 7 Fully Connected Layer (Hidden Layer)\n",
        "# model.add(Dense(units=84, activation='softmax'))\n",
        "\n",
        "# Output layer\n",
        "model.add(Dense(units=num_classes, activation='softmax'))\n",
        "\n",
        "# get model summary\n",
        "model.summary()"
      ],
      "execution_count": 558,
      "outputs": [
        {
          "output_type": "stream",
          "text": [
            "Model: \"cnn_model_hyperParamTuned_sequential_LeNet\"\n",
            "_________________________________________________________________\n",
            "Layer (type)                 Output Shape              Param #   \n",
            "=================================================================\n",
            "conv2d_30 (Conv2D)           (None, 28, 28, 150)       3900      \n",
            "_________________________________________________________________\n",
            "batch_normalization_30 (Batc (None, 28, 28, 150)       600       \n",
            "_________________________________________________________________\n",
            "average_pooling2d_30 (Averag (None, 14, 14, 150)       0         \n",
            "_________________________________________________________________\n",
            "conv2d_31 (Conv2D)           (None, 10, 10, 140)       525140    \n",
            "_________________________________________________________________\n",
            "batch_normalization_31 (Batc (None, 10, 10, 140)       560       \n",
            "_________________________________________________________________\n",
            "average_pooling2d_31 (Averag (None, 5, 5, 140)         0         \n",
            "_________________________________________________________________\n",
            "flatten_15 (Flatten)         (None, 3500)              0         \n",
            "_________________________________________________________________\n",
            "dense_30 (Dense)             (None, 120)               420120    \n",
            "_________________________________________________________________\n",
            "dropout_15 (Dropout)         (None, 120)               0         \n",
            "_________________________________________________________________\n",
            "dense_31 (Dense)             (None, 10)                1210      \n",
            "=================================================================\n",
            "Total params: 951,530\n",
            "Trainable params: 950,950\n",
            "Non-trainable params: 580\n",
            "_________________________________________________________________\n"
          ],
          "name": "stdout"
        }
      ]
    },
    {
      "cell_type": "code",
      "metadata": {
        "id": "sYiiIJ37yTRz"
      },
      "source": [
        "# passing params into the newly created model and compile it\n",
        "model.compile(optimizer='sgd',\n",
        "          loss='categorical_crossentropy',\n",
        "          metrics=['accuracy'])"
      ],
      "execution_count": 559,
      "outputs": []
    },
    {
      "cell_type": "code",
      "metadata": {
        "id": "7LB3NfmauuwQ"
      },
      "source": [
        "# declare decay_rate and learning_rate here\n",
        "learning_rate = 0.1 \n",
        "decay_rate = 0.1\n",
        "\n",
        "# define the learning rate change \n",
        "def exp_decay(epoch):\n",
        "    lrate = learning_rate * np.exp(-decay_rate*epoch)\n",
        "    return lrate\n",
        "    \n",
        "# learning schedule callback\n",
        "loss_history = History()\n",
        "lr_rate = LearningRateScheduler(exp_decay)\n",
        "callbacks_list = [lr_rate]"
      ],
      "execution_count": 560,
      "outputs": []
    },
    {
      "cell_type": "code",
      "metadata": {
        "id": "P46Y1k_M3xyI"
      },
      "source": [
        "# we shall do some ImageDataGenerator here to augment the input data, which can help prevent over-fitting\n",
        "train_gen = ImageDataGenerator(\n",
        "    rotation_range=8,\n",
        "    shear_range=0.3,\n",
        "    zoom_range=0.08,\n",
        "    width_shift_range=0.08,\n",
        "    height_shift_range=0.08,\n",
        "    rescale=1.1\n",
        ")\n",
        "test_gen =  ImageDataGenerator()"
      ],
      "execution_count": 561,
      "outputs": []
    },
    {
      "cell_type": "code",
      "metadata": {
        "id": "iKnBDM5xMRel"
      },
      "source": [
        "# fit the generator to the data first before training\n",
        "train_gen.fit(X_train)"
      ],
      "execution_count": 562,
      "outputs": []
    },
    {
      "cell_type": "code",
      "metadata": {
        "id": "vmbCpifhK7xQ"
      },
      "source": [
        "# TEST\n",
        "# we want to store the augmented data in a numpy array so the next time we run this we do not get a different set of images, which might result in a totally different loss score\n",
        "augmented_data = []\n",
        "num_augmented = 0\n",
        "\n",
        "for X_batch, Y_batch in train_gen.flow(X_train, Y_train, batch_size=100):\n",
        "  augmented_data.append(X_batch)\n",
        "  num_augmented += 100\n",
        "  if num_augmented == X_train.shape[0]:\n",
        "    break\n",
        "\n",
        "# concatenate the augmented data into a numpy array\n",
        "augmented_data = np.concatenate(augmented_data)\n",
        "\n",
        "# create a \"flow\" for the data to flow through\n",
        "# train_generator = train_gen.flow(X_train, Y_train, batch_size=100)\n",
        "test_generator = test_gen.flow(X_test, Y_test, batch_size=100)"
      ],
      "execution_count": 563,
      "outputs": []
    },
    {
      "cell_type": "code",
      "metadata": {
        "id": "X00vN_5L4Eig"
      },
      "source": [
        "# create a \"flow\" for the data to flow through\n",
        "train_generator = train_gen.flow(X_train, Y_train, batch_size=100)\n",
        "test_generator = test_gen.flow(X_test, Y_test, batch_size=100)"
      ],
      "execution_count": 564,
      "outputs": []
    },
    {
      "cell_type": "code",
      "metadata": {
        "colab": {
          "base_uri": "https://localhost:8080/"
        },
        "id": "KmTCwi01yYR5",
        "outputId": "2daddc20-99f7-480b-c283-b6a79df64a39"
      },
      "source": [
        "# train the model(we use .fit since .fit_generator is depreciated already)\n",
        "history = model.fit(train_generator,\n",
        "                    batch_size=640,\n",
        "                    steps_per_epoch=60000//100,\n",
        "                    epochs=60,\n",
        "                    callbacks=[EarlyStopping(monitor='val_loss', patience=5), callbacks_list],\n",
        "                    validation_data=test_generator,\n",
        "                    validation_steps=10000//100,\n",
        "                    verbose=1)"
      ],
      "execution_count": 565,
      "outputs": [
        {
          "output_type": "stream",
          "text": [
            "Epoch 1/60\n",
            "600/600 [==============================] - 18s 30ms/step - loss: 4.8223 - accuracy: 0.9168 - val_loss: 0.1877 - val_accuracy: 0.9744\n",
            "Epoch 2/60\n",
            "600/600 [==============================] - 18s 30ms/step - loss: 0.2298 - accuracy: 0.9606 - val_loss: 0.1652 - val_accuracy: 0.9786\n",
            "Epoch 3/60\n",
            "600/600 [==============================] - 18s 30ms/step - loss: 0.1912 - accuracy: 0.9679 - val_loss: 0.1499 - val_accuracy: 0.9783\n",
            "Epoch 4/60\n",
            "600/600 [==============================] - 18s 30ms/step - loss: 0.1656 - accuracy: 0.9732 - val_loss: 0.1311 - val_accuracy: 0.9816\n",
            "Epoch 5/60\n",
            "600/600 [==============================] - 18s 31ms/step - loss: 0.1558 - accuracy: 0.9743 - val_loss: 0.1460 - val_accuracy: 0.9757\n",
            "Epoch 6/60\n",
            "600/600 [==============================] - 18s 30ms/step - loss: 0.1414 - accuracy: 0.9763 - val_loss: 0.1240 - val_accuracy: 0.9795\n",
            "Epoch 7/60\n",
            "600/600 [==============================] - 18s 31ms/step - loss: 0.1273 - accuracy: 0.9795 - val_loss: 0.1181 - val_accuracy: 0.9798\n",
            "Epoch 8/60\n",
            "600/600 [==============================] - 18s 30ms/step - loss: 0.1188 - accuracy: 0.9811 - val_loss: 0.0970 - val_accuracy: 0.9868\n",
            "Epoch 9/60\n",
            "600/600 [==============================] - 18s 30ms/step - loss: 0.1091 - accuracy: 0.9822 - val_loss: 0.0840 - val_accuracy: 0.9890\n",
            "Epoch 10/60\n",
            "600/600 [==============================] - 18s 30ms/step - loss: 0.1051 - accuracy: 0.9822 - val_loss: 0.0973 - val_accuracy: 0.9855\n",
            "Epoch 11/60\n",
            "600/600 [==============================] - 18s 31ms/step - loss: 0.0968 - accuracy: 0.9840 - val_loss: 0.0781 - val_accuracy: 0.9901\n",
            "Epoch 12/60\n",
            "600/600 [==============================] - 18s 30ms/step - loss: 0.0929 - accuracy: 0.9847 - val_loss: 0.0790 - val_accuracy: 0.9886\n",
            "Epoch 13/60\n",
            "600/600 [==============================] - 18s 30ms/step - loss: 0.0878 - accuracy: 0.9855 - val_loss: 0.0663 - val_accuracy: 0.9910\n",
            "Epoch 14/60\n",
            "600/600 [==============================] - 18s 30ms/step - loss: 0.0838 - accuracy: 0.9861 - val_loss: 0.0664 - val_accuracy: 0.9916\n",
            "Epoch 15/60\n",
            "600/600 [==============================] - 18s 30ms/step - loss: 0.0794 - accuracy: 0.9873 - val_loss: 0.0613 - val_accuracy: 0.9923\n",
            "Epoch 16/60\n",
            "600/600 [==============================] - 18s 30ms/step - loss: 0.0763 - accuracy: 0.9878 - val_loss: 0.0584 - val_accuracy: 0.9916\n",
            "Epoch 17/60\n",
            "600/600 [==============================] - 18s 30ms/step - loss: 0.0732 - accuracy: 0.9877 - val_loss: 0.0621 - val_accuracy: 0.9912\n",
            "Epoch 18/60\n",
            "600/600 [==============================] - 18s 30ms/step - loss: 0.0703 - accuracy: 0.9886 - val_loss: 0.0600 - val_accuracy: 0.9915\n",
            "Epoch 19/60\n",
            "600/600 [==============================] - 18s 30ms/step - loss: 0.0691 - accuracy: 0.9886 - val_loss: 0.0584 - val_accuracy: 0.9907\n",
            "Epoch 20/60\n",
            "600/600 [==============================] - 18s 30ms/step - loss: 0.0671 - accuracy: 0.9888 - val_loss: 0.0535 - val_accuracy: 0.9928\n",
            "Epoch 21/60\n",
            "600/600 [==============================] - 18s 30ms/step - loss: 0.0644 - accuracy: 0.9895 - val_loss: 0.0472 - val_accuracy: 0.9942\n",
            "Epoch 22/60\n",
            "600/600 [==============================] - 18s 31ms/step - loss: 0.0636 - accuracy: 0.9896 - val_loss: 0.0484 - val_accuracy: 0.9931\n",
            "Epoch 23/60\n",
            "600/600 [==============================] - 18s 30ms/step - loss: 0.0616 - accuracy: 0.9900 - val_loss: 0.0510 - val_accuracy: 0.9923\n",
            "Epoch 24/60\n",
            "600/600 [==============================] - 18s 30ms/step - loss: 0.0594 - accuracy: 0.9902 - val_loss: 0.0475 - val_accuracy: 0.9937\n",
            "Epoch 25/60\n",
            "600/600 [==============================] - 18s 30ms/step - loss: 0.0587 - accuracy: 0.9905 - val_loss: 0.0462 - val_accuracy: 0.9930\n",
            "Epoch 26/60\n",
            "600/600 [==============================] - 18s 30ms/step - loss: 0.0583 - accuracy: 0.9909 - val_loss: 0.0475 - val_accuracy: 0.9935\n",
            "Epoch 27/60\n",
            "600/600 [==============================] - 18s 30ms/step - loss: 0.0569 - accuracy: 0.9910 - val_loss: 0.0459 - val_accuracy: 0.9935\n",
            "Epoch 28/60\n",
            "600/600 [==============================] - 18s 30ms/step - loss: 0.0560 - accuracy: 0.9907 - val_loss: 0.0454 - val_accuracy: 0.9938\n",
            "Epoch 29/60\n",
            "600/600 [==============================] - 18s 30ms/step - loss: 0.0563 - accuracy: 0.9908 - val_loss: 0.0453 - val_accuracy: 0.9939\n",
            "Epoch 30/60\n",
            "600/600 [==============================] - 18s 30ms/step - loss: 0.0544 - accuracy: 0.9914 - val_loss: 0.0426 - val_accuracy: 0.9941\n",
            "Epoch 31/60\n",
            "600/600 [==============================] - 18s 30ms/step - loss: 0.0536 - accuracy: 0.9918 - val_loss: 0.0447 - val_accuracy: 0.9939\n",
            "Epoch 32/60\n",
            "600/600 [==============================] - 18s 30ms/step - loss: 0.0543 - accuracy: 0.9911 - val_loss: 0.0428 - val_accuracy: 0.9938\n",
            "Epoch 33/60\n",
            "600/600 [==============================] - 18s 29ms/step - loss: 0.0539 - accuracy: 0.9916 - val_loss: 0.0429 - val_accuracy: 0.9939\n",
            "Epoch 34/60\n",
            "600/600 [==============================] - 17s 29ms/step - loss: 0.0528 - accuracy: 0.9916 - val_loss: 0.0423 - val_accuracy: 0.9942\n",
            "Epoch 35/60\n",
            "600/600 [==============================] - 18s 29ms/step - loss: 0.0533 - accuracy: 0.9918 - val_loss: 0.0412 - val_accuracy: 0.9944\n",
            "Epoch 36/60\n",
            "600/600 [==============================] - 18s 30ms/step - loss: 0.0521 - accuracy: 0.9919 - val_loss: 0.0427 - val_accuracy: 0.9942\n",
            "Epoch 37/60\n",
            "600/600 [==============================] - 18s 30ms/step - loss: 0.0515 - accuracy: 0.9918 - val_loss: 0.0427 - val_accuracy: 0.9939\n",
            "Epoch 38/60\n",
            "600/600 [==============================] - 18s 29ms/step - loss: 0.0519 - accuracy: 0.9916 - val_loss: 0.0414 - val_accuracy: 0.9947\n",
            "Epoch 39/60\n",
            "600/600 [==============================] - 18s 30ms/step - loss: 0.0509 - accuracy: 0.9922 - val_loss: 0.0412 - val_accuracy: 0.9947\n",
            "Epoch 40/60\n",
            "600/600 [==============================] - 18s 30ms/step - loss: 0.0508 - accuracy: 0.9920 - val_loss: 0.0419 - val_accuracy: 0.9944\n",
            "Epoch 41/60\n",
            "600/600 [==============================] - 18s 30ms/step - loss: 0.0508 - accuracy: 0.9923 - val_loss: 0.0411 - val_accuracy: 0.9941\n",
            "Epoch 42/60\n",
            "600/600 [==============================] - 18s 29ms/step - loss: 0.0507 - accuracy: 0.9919 - val_loss: 0.0412 - val_accuracy: 0.9944\n",
            "Epoch 43/60\n",
            "600/600 [==============================] - 17s 29ms/step - loss: 0.0499 - accuracy: 0.9924 - val_loss: 0.0411 - val_accuracy: 0.9946\n",
            "Epoch 44/60\n",
            "600/600 [==============================] - 18s 29ms/step - loss: 0.0505 - accuracy: 0.9919 - val_loss: 0.0420 - val_accuracy: 0.9936\n",
            "Epoch 45/60\n",
            "600/600 [==============================] - 18s 30ms/step - loss: 0.0503 - accuracy: 0.9921 - val_loss: 0.0412 - val_accuracy: 0.9940\n",
            "Epoch 46/60\n",
            "600/600 [==============================] - 18s 30ms/step - loss: 0.0500 - accuracy: 0.9921 - val_loss: 0.0410 - val_accuracy: 0.9943\n",
            "Epoch 47/60\n",
            "600/600 [==============================] - 17s 29ms/step - loss: 0.0491 - accuracy: 0.9924 - val_loss: 0.0411 - val_accuracy: 0.9944\n",
            "Epoch 48/60\n",
            "600/600 [==============================] - 18s 29ms/step - loss: 0.0493 - accuracy: 0.9923 - val_loss: 0.0407 - val_accuracy: 0.9943\n",
            "Epoch 49/60\n",
            "600/600 [==============================] - 18s 30ms/step - loss: 0.0491 - accuracy: 0.9925 - val_loss: 0.0409 - val_accuracy: 0.9945\n",
            "Epoch 50/60\n",
            "600/600 [==============================] - 18s 30ms/step - loss: 0.0492 - accuracy: 0.9927 - val_loss: 0.0408 - val_accuracy: 0.9944\n",
            "Epoch 51/60\n",
            "600/600 [==============================] - 18s 30ms/step - loss: 0.0493 - accuracy: 0.9922 - val_loss: 0.0404 - val_accuracy: 0.9946\n",
            "Epoch 52/60\n",
            "600/600 [==============================] - 18s 30ms/step - loss: 0.0494 - accuracy: 0.9923 - val_loss: 0.0407 - val_accuracy: 0.9944\n",
            "Epoch 53/60\n",
            "600/600 [==============================] - 18s 30ms/step - loss: 0.0488 - accuracy: 0.9923 - val_loss: 0.0403 - val_accuracy: 0.9946\n",
            "Epoch 54/60\n",
            "600/600 [==============================] - 18s 29ms/step - loss: 0.0494 - accuracy: 0.9923 - val_loss: 0.0402 - val_accuracy: 0.9946\n",
            "Epoch 55/60\n",
            "600/600 [==============================] - 17s 29ms/step - loss: 0.0486 - accuracy: 0.9926 - val_loss: 0.0406 - val_accuracy: 0.9942\n",
            "Epoch 56/60\n",
            "600/600 [==============================] - 18s 30ms/step - loss: 0.0487 - accuracy: 0.9926 - val_loss: 0.0404 - val_accuracy: 0.9947\n",
            "Epoch 57/60\n",
            "600/600 [==============================] - 17s 29ms/step - loss: 0.0492 - accuracy: 0.9923 - val_loss: 0.0405 - val_accuracy: 0.9944\n",
            "Epoch 58/60\n",
            "600/600 [==============================] - 18s 30ms/step - loss: 0.0483 - accuracy: 0.9927 - val_loss: 0.0405 - val_accuracy: 0.9942\n",
            "Epoch 59/60\n",
            "600/600 [==============================] - 18s 30ms/step - loss: 0.0484 - accuracy: 0.9925 - val_loss: 0.0405 - val_accuracy: 0.9942\n"
          ],
          "name": "stdout"
        }
      ]
    },
    {
      "cell_type": "code",
      "metadata": {
        "id": "9mRllWhBe7FG"
      },
      "source": [
        "# save our best model here\n",
        "model.save(\"my_hyper_param_cnn_model.h5\")"
      ],
      "execution_count": 573,
      "outputs": []
    },
    {
      "cell_type": "code",
      "metadata": {
        "colab": {
          "base_uri": "https://localhost:8080/",
          "height": 118
        },
        "id": "yAzlw_j48-YM",
        "outputId": "d2465410-1bf3-4f87-eaee-de78d4f61f07"
      },
      "source": [
        "# preview our augmented images here\n",
        "X_train3 = X_train[11,].reshape((1,28,28,1))\n",
        "Y_train3 = Y_train[11,].reshape((1,10))\n",
        "plt.figure(figsize=(15,4.5))\n",
        "for i in range(10):  \n",
        "    plt.subplot(3, 10, i+1)\n",
        "    X_train2, Y_train2 = train_gen.flow(X_train3,Y_train3).next()\n",
        "    plt.imshow(X_train2[0].reshape((28,28)),cmap=plt.cm.binary)\n",
        "    plt.axis('off')\n",
        "    if i==9: X_train3 = X_train[11,].reshape((1,28,28,1))\n",
        "    if i==19: X_train3 = X_train[18,].reshape((1,28,28,1))\n",
        "plt.subplots_adjust(wspace=-0.1, hspace=-0.1)\n",
        "plt.show()"
      ],
      "execution_count": 566,
      "outputs": [
        {
          "output_type": "display_data",
          "data": {
            "image/png": "[encoded data removed]",
            "text/plain": [
              "<Figure size 1080x324 with 10 Axes>"
            ]
          },
          "metadata": {
            "tags": [],
            "needs_background": "light"
          }
        }
      ]
    },
    {
      "cell_type": "code",
      "metadata": {
        "colab": {
          "base_uri": "https://localhost:8080/"
        },
        "id": "yHXqsJLpzzv2",
        "outputId": "876ff5f9-db18-4330-8f19-f6ca0ed5b813"
      },
      "source": [
        "#print the available history keys for use\n",
        "print(history.history.keys())"
      ],
      "execution_count": 567,
      "outputs": [
        {
          "output_type": "stream",
          "text": [
            "dict_keys(['loss', 'accuracy', 'val_loss', 'val_accuracy', 'lr'])\n"
          ],
          "name": "stdout"
        }
      ]
    },
    {
      "cell_type": "code",
      "metadata": {
        "colab": {
          "base_uri": "https://localhost:8080/",
          "height": 295
        },
        "id": "SJZ6MS-pxuK-",
        "outputId": "78e42c06-42ec-4271-c697-05751cc47648"
      },
      "source": [
        "# plot learning rate curve\n",
        "learning_rate = history.history['lr']\n",
        "epochs = range(1, len(learning_rate) + 1)\n",
        "plt.plot(epochs, learning_rate)\n",
        "plt.title('Learning rate')\n",
        "plt.xlabel('Epochs')\n",
        "plt.ylabel('Learning rate')\n",
        "plt.show()"
      ],
      "execution_count": 568,
      "outputs": [
        {
          "output_type": "display_data",
          "data": {
            "image/png": "[encoded data removed]",
            "text/plain": [
              "<Figure size 432x288 with 1 Axes>"
            ]
          },
          "metadata": {
            "tags": [],
            "needs_background": "light"
          }
        }
      ]
    },
    {
      "cell_type": "code",
      "metadata": {
        "colab": {
          "base_uri": "https://localhost:8080/",
          "height": 297
        },
        "id": "-a-jbHpAz32l",
        "outputId": "294a40bf-a19e-4db3-f87f-b67305aad1f0"
      },
      "source": [
        "# plotting the accuracy and loss graphs\n",
        "fig = plt.figure()\n",
        "plt.subplot(2,1,1)\n",
        "plt.plot(history.history['accuracy'])\n",
        "plt.plot(history.history['val_accuracy'])\n",
        "plt.title('Model Accuracy')\n",
        "plt.ylabel('accuracy')\n",
        "plt.xlabel('epoch')\n",
        "plt.legend(['Training accuracy', 'Validation accuracy'], loc='best')\n",
        "\n",
        "plt.subplot(2,1,2)\n",
        "plt.plot(history.history['loss'])\n",
        "plt.plot(history.history['val_loss'])\n",
        "plt.title('Model loss')\n",
        "plt.ylabel('loss')\n",
        "plt.xlabel('epoch')\n",
        "plt.legend(['Training loss', 'Validation loss'], loc='best')\n",
        "\n",
        "plt.tight_layout()"
      ],
      "execution_count": 569,
      "outputs": [
        {
          "output_type": "display_data",
          "data": {
            "image/png": "[encoded data removed]",
            "text/plain": [
              "<Figure size 432x288 with 2 Axes>"
            ]
          },
          "metadata": {
            "tags": [],
            "needs_background": "light"
          }
        }
      ]
    },
    {
      "cell_type": "markdown",
      "metadata": {
        "id": "Il5MVQPrXIGb"
      },
      "source": [
        "---\n",
        "---"
      ]
    },
    {
      "cell_type": "markdown",
      "metadata": {
        "id": "IjU3M0fUWcX5"
      },
      "source": [
        "# 8.Test Accuracy, Loss And Results"
      ]
    },
    {
      "cell_type": "markdown",
      "metadata": {
        "id": "Gd6G1OH4WhAv"
      },
      "source": [
        "### 8.1. Baseline Model Result\n",
        "\n",
        "---\n",
        "\n",
        "Get the result for the baseline model."
      ]
    },
    {
      "cell_type": "code",
      "metadata": {
        "id": "tnmmCdUzWdsk",
        "colab": {
          "base_uri": "https://localhost:8080/"
        },
        "outputId": "2342e694-2767-4438-c0f8-ea8e660fd9f4"
      },
      "source": [
        "# now we shall evaluate the model and see the accuracy\n",
        "loss, accuracy = model.evaluate(X_test,Y_test)\n",
        "print(\"Test loss:\", loss)\n",
        "print(\"Test accuracy:\", accuracy)\n",
        "print(\"Baseline Model Accuracy: %.2f%%\" % (accuracy*100))\n",
        "print(\"Baseline Model Error: %.2f%%\" % (100-accuracy*100))"
      ],
      "execution_count": 609,
      "outputs": [
        {
          "output_type": "stream",
          "text": [
            "313/313 [==============================] - 1s 2ms/step - loss: 0.1735 - accuracy: 0.9787\n",
            "Test loss: 0.1735028624534607\n",
            "Test accuracy: 0.9786999821662903\n",
            "Baseline Model Accuracy: 97.87%\n",
            "Baseline Model Error: 2.13%\n"
          ],
          "name": "stdout"
        }
      ]
    },
    {
      "cell_type": "code",
      "metadata": {
        "id": "46jXBz-KPVwl",
        "colab": {
          "base_uri": "https://localhost:8080/",
          "height": 311
        },
        "outputId": "ca9c66f2-0e8c-41e1-c689-1fc5415ec8a7"
      },
      "source": [
        "# plot our confusion matrix here to see how many labels got misplaced\n",
        "def plot_confusion_matrix(cm, classes,\n",
        "                          normalize=False,\n",
        "                          title='Confusion matrix',\n",
        "                          cmap=plt.cm.Blues):\n",
        "    \"\"\"\n",
        "    This function prints and plots the confusion matrix.\n",
        "    Normalization can be applied by setting `normalize=True`.\n",
        "    \"\"\"\n",
        "    plt.imshow(cm, interpolation='nearest', cmap=cmap)\n",
        "    plt.title(title)\n",
        "    plt.colorbar()\n",
        "    tick_marks = np.arange(len(classes))\n",
        "    plt.xticks(tick_marks, classes, rotation=45)\n",
        "    plt.yticks(tick_marks, classes)\n",
        "\n",
        "    if normalize:\n",
        "        cm = cm.astype('float') / cm.sum(axis=1)[:, np.newaxis]\n",
        "\n",
        "    thresh = cm.max() / 2.\n",
        "    for i, j in itertools.product(range(cm.shape[0]), range(cm.shape[1])):\n",
        "        plt.text(j, i, cm[i, j],\n",
        "                 horizontalalignment=\"center\",\n",
        "                 color=\"white\" if cm[i, j] > thresh else \"black\")\n",
        "\n",
        "    plt.tight_layout()\n",
        "    plt.ylabel('True label')\n",
        "    plt.xlabel('Predicted label')\n",
        "\n",
        "# Predict the values from the validation dataset\n",
        "Y_pred = model.predict(X_test)\n",
        "# Convert predictions classes to one hot vectors \n",
        "Y_pred_classes = np.argmax(Y_pred,axis = 1) \n",
        "# Convert validation observations to one hot vectors\n",
        "Y_true = np.argmax(Y_test,axis = 1) \n",
        "# compute the confusion matrix\n",
        "confusion_mtx = confusion_matrix(Y_true, Y_pred_classes) \n",
        "# plot the confusion matrix\n",
        "plot_confusion_matrix(confusion_mtx, classes = range(10)) "
      ],
      "execution_count": 610,
      "outputs": [
        {
          "output_type": "display_data",
          "data": {
            "image/png": "[encoded data removed]",
            "text/plain": [
              "<Figure size 432x288 with 2 Axes>"
            ]
          },
          "metadata": {
            "tags": [],
            "needs_background": "light"
          }
        }
      ]
    },
    {
      "cell_type": "code",
      "metadata": {
        "id": "zs744xBHSStc",
        "colab": {
          "base_uri": "https://localhost:8080/",
          "height": 347
        },
        "outputId": "c07a3e5a-a21a-4619-a096-9eedcded2134"
      },
      "source": [
        "# Display some error results \n",
        "\n",
        "# Errors are difference between predicted labels and true labels\n",
        "errors = (Y_pred_classes - Y_true != 0)\n",
        "\n",
        "Y_pred_classes_errors = Y_pred_classes[errors]\n",
        "Y_pred_errors = Y_pred[errors]\n",
        "Y_true_errors = Y_true[errors]\n",
        "X_val_errors = X_test[errors]\n",
        "\n",
        "# see which we predicted correctly and which not\n",
        "correct_indices = np.nonzero(Y_pred_classes == y_test)[0]\n",
        "incorrect_indices = np.nonzero(Y_pred_classes != y_test)[0]\n",
        "print()\n",
        "print(len(correct_indices),\" classified correctly\")\n",
        "print(len(incorrect_indices),\" classified incorrectly\")\n",
        "\n",
        "def display_errors(errors_index,img_errors,pred_errors, obs_errors):\n",
        "    \"\"\" This function shows 6 images with their predicted and real labels\"\"\"\n",
        "    n = 0\n",
        "    nrows = 2\n",
        "    ncols = 3\n",
        "    fig, ax = plt.subplots(nrows,ncols,sharex=True,sharey=True)\n",
        "    for row in range(nrows):\n",
        "        for col in range(ncols):\n",
        "            error = errors_index[n]\n",
        "            ax[row,col].imshow((img_errors[error]).reshape((28,28)), cmap=plt.cm.binary)\n",
        "            ax[row,col].set_title(\"Predicted label :{}\\nTrue label :{}\".format(pred_errors[error],obs_errors[error]))\n",
        "            n += 1\n",
        "\n",
        "# Probabilities of the wrong predicted numbers\n",
        "Y_pred_errors_prob = np.max(Y_pred_errors,axis = 1)\n",
        "\n",
        "# Predicted probabilities of the true values in the error set\n",
        "true_prob_errors = np.diagonal(np.take(Y_pred_errors, Y_true_errors, axis=1))\n",
        "\n",
        "# Difference between the probability of the predicted label and the true label\n",
        "delta_pred_true_errors = Y_pred_errors_prob - true_prob_errors\n",
        "\n",
        "# Sorted list of the delta prob errors\n",
        "sorted_dela_errors = np.argsort(delta_pred_true_errors)\n",
        "\n",
        "# Top 6 errors \n",
        "most_important_errors = sorted_dela_errors[-6:]\n",
        "\n",
        "# Show the top 6 errors\n",
        "display_errors(most_important_errors, X_val_errors, Y_pred_classes_errors, Y_true_errors)"
      ],
      "execution_count": 611,
      "outputs": [
        {
          "output_type": "stream",
          "text": [
            "\n",
            "9787  classified correctly\n",
            "213  classified incorrectly\n"
          ],
          "name": "stdout"
        },
        {
          "output_type": "display_data",
          "data": {
            "image/png": "[encoded data removed]",
            "text/plain": [
              "<Figure size 432x288 with 6 Axes>"
            ]
          },
          "metadata": {
            "tags": [],
            "needs_background": "light"
          }
        }
      ]
    },
    {
      "cell_type": "markdown",
      "metadata": {
        "id": "hMwQ_4HMeoLN"
      },
      "source": [
        "### 8.2. CNN Model Result\n",
        "\n",
        "---\n",
        "\n",
        "Get the result for the CNN model."
      ]
    },
    {
      "cell_type": "code",
      "metadata": {
        "id": "yGcNmEGEf8I0",
        "colab": {
          "base_uri": "https://localhost:8080/"
        },
        "outputId": "fa972a6b-f392-4749-fcac-da65eafbfeb6"
      },
      "source": [
        "# now we shall evaluate the model and see the accuracy\n",
        "loss, accuracy = model.evaluate(X_test,Y_test)\n",
        "print(\"Test loss:\", loss)\n",
        "print(\"Test accuracy:\", accuracy)\n",
        "print(\"CNN Model Accuracy: %.2f%%\" % (accuracy*100))\n",
        "print(\"CNN Model Error: %.2f%%\" % (100-accuracy*100))"
      ],
      "execution_count": 638,
      "outputs": [
        {
          "output_type": "stream",
          "text": [
            "313/313 [==============================] - 1s 4ms/step - loss: 0.0288 - accuracy: 0.9921\n",
            "Test loss: 0.028799114748835564\n",
            "Test accuracy: 0.9921000003814697\n",
            "CNN Model Accuracy: 99.21%\n",
            "CNN Model Error: 0.79%\n"
          ],
          "name": "stdout"
        }
      ]
    },
    {
      "cell_type": "code",
      "metadata": {
        "id": "BBnktCXdC-qD",
        "colab": {
          "base_uri": "https://localhost:8080/",
          "height": 311
        },
        "outputId": "f6c5ee01-9c84-42ed-96b9-80eaaf5eb854"
      },
      "source": [
        "# plot our confusion matrix here to see how many labels got misplaced\n",
        "def plot_confusion_matrix(cm, classes,\n",
        "                          normalize=False,\n",
        "                          title='Confusion matrix',\n",
        "                          cmap=plt.cm.Blues):\n",
        "    \"\"\"\n",
        "    This function prints and plots the confusion matrix.\n",
        "    Normalization can be applied by setting `normalize=True`.\n",
        "    \"\"\"\n",
        "    plt.imshow(cm, interpolation='nearest', cmap=cmap)\n",
        "    plt.title(title)\n",
        "    plt.colorbar()\n",
        "    tick_marks = np.arange(len(classes))\n",
        "    plt.xticks(tick_marks, classes, rotation=45)\n",
        "    plt.yticks(tick_marks, classes)\n",
        "\n",
        "    if normalize:\n",
        "        cm = cm.astype('float') / cm.sum(axis=1)[:, np.newaxis]\n",
        "\n",
        "    thresh = cm.max() / 2.\n",
        "    for i, j in itertools.product(range(cm.shape[0]), range(cm.shape[1])):\n",
        "        plt.text(j, i, cm[i, j],\n",
        "                 horizontalalignment=\"center\",\n",
        "                 color=\"white\" if cm[i, j] > thresh else \"black\")\n",
        "\n",
        "    plt.tight_layout()\n",
        "    plt.ylabel('True label')\n",
        "    plt.xlabel('Predicted label')\n",
        "\n",
        "# Predict the values from the validation dataset\n",
        "Y_pred = model.predict(X_test)\n",
        "# Convert predictions classes to one hot vectors \n",
        "Y_pred_classes = np.argmax(Y_pred,axis = 1) \n",
        "# Convert validation observations to one hot vectors\n",
        "Y_true = np.argmax(Y_test,axis = 1) \n",
        "# compute the confusion matrix\n",
        "confusion_mtx = confusion_matrix(Y_true, Y_pred_classes) \n",
        "# plot the confusion matrix\n",
        "plot_confusion_matrix(confusion_mtx, classes = range(10)) "
      ],
      "execution_count": 639,
      "outputs": [
        {
          "output_type": "display_data",
          "data": {
            "image/png": "[encoded data removed]",
            "text/plain": [
              "<Figure size 432x288 with 2 Axes>"
            ]
          },
          "metadata": {
            "tags": [],
            "needs_background": "light"
          }
        }
      ]
    },
    {
      "cell_type": "code",
      "metadata": {
        "id": "bDlH2ZOxDAp7",
        "colab": {
          "base_uri": "https://localhost:8080/",
          "height": 347
        },
        "outputId": "2a52aef5-3343-47c3-c21b-28e9169ee7f5"
      },
      "source": [
        "# Display some error results \n",
        "\n",
        "# Errors are difference between predicted labels and true labels\n",
        "errors = (Y_pred_classes - Y_true != 0)\n",
        "\n",
        "Y_pred_classes_errors = Y_pred_classes[errors]\n",
        "Y_pred_errors = Y_pred[errors]\n",
        "Y_true_errors = Y_true[errors]\n",
        "X_val_errors = X_test[errors]\n",
        "\n",
        "# see which we predicted correctly and which not\n",
        "correct_indices = np.nonzero(Y_pred_classes == y_test)[0]\n",
        "incorrect_indices = np.nonzero(Y_pred_classes != y_test)[0]\n",
        "print()\n",
        "print(len(correct_indices),\" classified correctly\")\n",
        "print(len(incorrect_indices),\" classified incorrectly\")\n",
        "\n",
        "def display_errors(errors_index,img_errors,pred_errors, obs_errors):\n",
        "    \"\"\" This function shows 6 images with their predicted and real labels\"\"\"\n",
        "    n = 0\n",
        "    nrows = 2\n",
        "    ncols = 3\n",
        "    fig, ax = plt.subplots(nrows,ncols,sharex=True,sharey=True)\n",
        "    for row in range(nrows):\n",
        "        for col in range(ncols):\n",
        "            error = errors_index[n]\n",
        "            ax[row,col].imshow((img_errors[error]).reshape((28,28)), cmap=plt.cm.binary)\n",
        "            ax[row,col].set_title(\"Predicted label :{}\\nTrue label :{}\".format(pred_errors[error],obs_errors[error]))\n",
        "            n += 1\n",
        "\n",
        "# Probabilities of the wrong predicted numbers\n",
        "Y_pred_errors_prob = np.max(Y_pred_errors,axis = 1)\n",
        "\n",
        "# Predicted probabilities of the true values in the error set\n",
        "true_prob_errors = np.diagonal(np.take(Y_pred_errors, Y_true_errors, axis=1))\n",
        "\n",
        "# Difference between the probability of the predicted label and the true label\n",
        "delta_pred_true_errors = Y_pred_errors_prob - true_prob_errors\n",
        "\n",
        "# Sorted list of the delta prob errors\n",
        "sorted_dela_errors = np.argsort(delta_pred_true_errors)\n",
        "\n",
        "# Top 6 errors \n",
        "most_important_errors = sorted_dela_errors[-6:]\n",
        "\n",
        "# Show the top 6 errors\n",
        "display_errors(most_important_errors, X_val_errors, Y_pred_classes_errors, Y_true_errors)"
      ],
      "execution_count": 640,
      "outputs": [
        {
          "output_type": "stream",
          "text": [
            "\n",
            "9921  classified correctly\n",
            "79  classified incorrectly\n"
          ],
          "name": "stdout"
        },
        {
          "output_type": "display_data",
          "data": {
            "image/png": "[encoded data removed]",
            "text/plain": [
              "<Figure size 432x288 with 6 Axes>"
            ]
          },
          "metadata": {
            "tags": [],
            "needs_background": "light"
          }
        }
      ]
    },
    {
      "cell_type": "markdown",
      "metadata": {
        "id": "vU45DXEOf2dz"
      },
      "source": [
        "### 8.3. CNN Hyper-Parameter Tuned Model Result\n",
        "\n",
        "---\n",
        "\n",
        "Get the result for the CNN model that has undergone hyper parameter tuning."
      ]
    },
    {
      "cell_type": "code",
      "metadata": {
        "id": "4d8xNjZIf9aB"
      },
      "source": [
        "# load the model if you have save it\n",
        "model = load_model(\"my_hyper_param_cnn_model.h5\")"
      ],
      "execution_count": 663,
      "outputs": []
    },
    {
      "cell_type": "code",
      "metadata": {
        "id": "ShTJVSrtf8LD",
        "colab": {
          "base_uri": "https://localhost:8080/"
        },
        "outputId": "e076c438-ae17-4d3f-8c2d-1e3d7e9582c8"
      },
      "source": [
        "# now we shall evaluate the model and see the accuracy(do not use X_val and Y_val)\n",
        "loss, accuracy = model.evaluate(test_generator)\n",
        "print(\"Test loss:\", loss)\n",
        "print(\"Test accuracy:\", accuracy)\n",
        "print(\"CNN Hyper-Parameter Tuned Model Accuracy: %.2f%%\" % (accuracy*100))\n",
        "print(\"CNN Hyper-Parameter Tuned Model Error: %.2f%%\" % (100-accuracy*100))"
      ],
      "execution_count": 664,
      "outputs": [
        {
          "output_type": "stream",
          "text": [
            "100/100 [==============================] - 1s 7ms/step - loss: 0.0405 - accuracy: 0.9942\n",
            "Test loss: 0.04050024226307869\n",
            "Test accuracy: 0.9941999912261963\n",
            "CNN Hyper-Parameter Tuned Model Accuracy: 99.42%\n",
            "CNN Hyper-Parameter Tuned Model Error: 0.58%\n"
          ],
          "name": "stdout"
        }
      ]
    },
    {
      "cell_type": "code",
      "metadata": {
        "id": "cBMA3CS-f_TQ",
        "colab": {
          "base_uri": "https://localhost:8080/",
          "height": 311
        },
        "outputId": "c4f95ce6-aa17-4179-821a-ddd95b840080"
      },
      "source": [
        "# plot our confusion matrix here to see how many labels got misplaced\n",
        "def plot_confusion_matrix(cm, classes,\n",
        "                          normalize=False,\n",
        "                          title='Confusion matrix',\n",
        "                          cmap=plt.cm.Blues):\n",
        "    \"\"\"\n",
        "    This function prints and plots the confusion matrix.\n",
        "    Normalization can be applied by setting `normalize=True`.\n",
        "    \"\"\"\n",
        "    plt.imshow(cm, interpolation='nearest', cmap=cmap)\n",
        "    plt.title(title)\n",
        "    plt.colorbar()\n",
        "    tick_marks = np.arange(len(classes))\n",
        "    plt.xticks(tick_marks, classes, rotation=45)\n",
        "    plt.yticks(tick_marks, classes)\n",
        "\n",
        "    if normalize:\n",
        "        cm = cm.astype('float') / cm.sum(axis=1)[:, np.newaxis]\n",
        "\n",
        "    thresh = cm.max() / 2.\n",
        "    for i, j in itertools.product(range(cm.shape[0]), range(cm.shape[1])):\n",
        "        plt.text(j, i, cm[i, j],\n",
        "                 horizontalalignment=\"center\",\n",
        "                 color=\"white\" if cm[i, j] > thresh else \"black\")\n",
        "\n",
        "    plt.tight_layout()\n",
        "    plt.ylabel('True label')\n",
        "    plt.xlabel('Predicted label')\n",
        "\n",
        "# Predict the values from the validation dataset\n",
        "Y_pred = model.predict(X_test)\n",
        "# Convert predictions classes to one hot vectors \n",
        "Y_pred_classes = np.argmax(Y_pred,axis = 1) \n",
        "# Convert validation observations to one hot vectors\n",
        "Y_true = np.argmax(Y_test,axis = 1) \n",
        "# compute the confusion matrix\n",
        "confusion_mtx = confusion_matrix(Y_true, Y_pred_classes) \n",
        "# plot the confusion matrix\n",
        "plot_confusion_matrix(confusion_mtx, classes = range(10)) "
      ],
      "execution_count": 665,
      "outputs": [
        {
          "output_type": "display_data",
          "data": {
            "image/png": "[encoded data removed]",
            "text/plain": [
              "<Figure size 432x288 with 2 Axes>"
            ]
          },
          "metadata": {
            "tags": [],
            "needs_background": "light"
          }
        }
      ]
    },
    {
      "cell_type": "code",
      "metadata": {
        "id": "lQb7HFaYQG5d",
        "colab": {
          "base_uri": "https://localhost:8080/",
          "height": 347
        },
        "outputId": "54968ed1-92d1-4a88-f92b-fb53aabfd7b3"
      },
      "source": [
        "# Display some error results \n",
        "\n",
        "# Errors are difference between predicted labels and true labels\n",
        "errors = (Y_pred_classes - Y_true != 0)\n",
        "\n",
        "Y_pred_classes_errors = Y_pred_classes[errors]\n",
        "Y_pred_errors = Y_pred[errors]\n",
        "Y_true_errors = Y_true[errors]\n",
        "X_val_errors = X_test[errors]\n",
        "\n",
        "# see which we predicted correctly and which not\n",
        "correct_indices = np.nonzero(Y_pred_classes == y_test)[0]\n",
        "incorrect_indices = np.nonzero(Y_pred_classes != y_test)[0]\n",
        "print()\n",
        "print(len(correct_indices),\" classified correctly\")\n",
        "print(len(incorrect_indices),\" classified incorrectly\")\n",
        "\n",
        "def display_errors(errors_index,img_errors,pred_errors, obs_errors):\n",
        "    \"\"\" This function shows 6 images with their predicted and real labels\"\"\"\n",
        "    n = 0\n",
        "    nrows = 2\n",
        "    ncols = 3\n",
        "    fig, ax = plt.subplots(nrows,ncols,sharex=True,sharey=True)\n",
        "    for row in range(nrows):\n",
        "        for col in range(ncols):\n",
        "            error = errors_index[n]\n",
        "            ax[row,col].imshow((img_errors[error]).reshape((28,28)), cmap=plt.cm.binary)\n",
        "            ax[row,col].set_title(\"Predicted label :{}\\nTrue label :{}\".format(pred_errors[error],obs_errors[error]))\n",
        "            n += 1\n",
        "\n",
        "# Probabilities of the wrong predicted numbers\n",
        "Y_pred_errors_prob = np.max(Y_pred_errors,axis = 1)\n",
        "\n",
        "# Predicted probabilities of the true values in the error set\n",
        "true_prob_errors = np.diagonal(np.take(Y_pred_errors, Y_true_errors, axis=1))\n",
        "\n",
        "# Difference between the probability of the predicted label and the true label\n",
        "delta_pred_true_errors = Y_pred_errors_prob - true_prob_errors\n",
        "\n",
        "# Sorted list of the delta prob errors\n",
        "sorted_dela_errors = np.argsort(delta_pred_true_errors)\n",
        "\n",
        "# Top 6 errors \n",
        "most_important_errors = sorted_dela_errors[-6:]\n",
        "\n",
        "# Show the top 6 errors\n",
        "display_errors(most_important_errors, X_val_errors, Y_pred_classes_errors, Y_true_errors)"
      ],
      "execution_count": 666,
      "outputs": [
        {
          "output_type": "stream",
          "text": [
            "\n",
            "9942  classified correctly\n",
            "58  classified incorrectly\n"
          ],
          "name": "stdout"
        },
        {
          "output_type": "display_data",
          "data": {
            "image/png": "[encoded data removed]",
            "text/plain": [
              "<Figure size 432x288 with 6 Axes>"
            ]
          },
          "metadata": {
            "tags": [],
            "needs_background": "light"
          }
        }
      ]
    },
    {
      "cell_type": "markdown",
      "metadata": {
        "id": "5PIPpo7sbNRE"
      },
      "source": [
        "---\n",
        "---"
      ]
    },
    {
      "cell_type": "markdown",
      "metadata": {
        "id": "fuJ322WcbQBu"
      },
      "source": [
        "# 9.References"
      ]
    },
    {
      "cell_type": "markdown",
      "metadata": {
        "id": "8WQh8SimbTVS"
      },
      "source": [
        "## Using Google Colab More Efficiently\n",
        "- [Getting the Most Out of Your Google Colab (Tutorial)](https://medium.com/@oribarel/getting-the-most-out-of-your-google-colab-2b0585f82403)\n",
        "- [Using Google Colab with GitHub](https://colab.research.google.com/github/googlecolab/colabtools/blob/master/notebooks/colab-github-demo.ipynb)\n",
        "\n",
        "## Background Research\n",
        "\n",
        "## Selecting CNN Architecture\n",
        "- [Top 10 CNN Architecture](https://towardsdatascience.com/illustrated-10-cnn-architectures-95d78ace614d#676b)\n",
        "- [AlexNet: The Architecture that Challenged CNNs](https://towardsdatascience.com/alexnet-the-architecture-that-challenged-cnns-e406d5297951)\n",
        "- [How to choose CNN Architecture MNIST](https://www.kaggle.com/cdeotte/how-to-choose-cnn-architecture-mnist#What-is-the-best-CNN-architecture-for-MNIST?)\n",
        "- [Convolutional Neural Network Champions —Part 1: LeNet-5 (TensorFlow 2.x)](https://towardsdatascience.com/convolutional-neural-network-champions-part-1-lenet-5-7a8d6eb98df6)\n",
        "- [Understanding and Implementing LeNet-5 CNN Architecture (Deep Learning)](https://towardsdatascience.com/understanding-and-implementing-lenet-5-cnn-architecture-deep-learning-a2d531ebc342)\n",
        "- [Dense or Convolutional Neural Network](https://medium.com/analytics-vidhya/dense-or-convolutional-part-1-c75c59c5b4ad)\n",
        "\n",
        "## Some Tutorials on how to build a CNN Model\n",
        "- [Building a Custom Convolutional Neural Network in Keras](https://medium.com/@ODSC/building-a-custom-convolutional-neural-network-in-keras-48171163aa7f)\n",
        "- [The Most Intuitive and Easiest Guide for Convolutional Neural Network](https://towardsdatascience.com/the-most-intuitive-and-easiest-guide-for-convolutional-neural-network-3607be47480)\n",
        "- [MNIST with Keras for Beginners(.99457)](https://www.kaggle.com/adityaecdrid/mnist-with-keras-for-beginners-99457)\n",
        "- [Introduction to CNN Keras - Acc 0.997 (top 8%)](https://www.kaggle.com/yassineghouzam/introduction-to-cnn-keras-0-997-top-6)\n",
        "- [Image Classification in 10 Minutes with MNIST Dataset](https://towardsdatascience.com/image-classification-in-10-minutes-with-mnist-dataset-54c35b77a38d)\n",
        "- [How to Develop a CNN for MNIST Handwritten Digit Classification](https://machinelearningmastery.com/how-to-develop-a-convolutional-neural-network-from-scratch-for-mnist-handwritten-digit-classification/#:~:text=The%20MNIST%20dataset%20is%20an,digits%20between%200%20and%209.)\n",
        "- [MNIST Handwritten Digit Recognition in Keras](https://nextjournal.com/gkoehler/digit-recognition-with-keras)\n",
        "- [mnist keras early stopping](https://www.kaggle.com/ahmetkorkmaz/mnist-keras-early-stopping)\n",
        "- [Applying Convolutional Neural Network on the MNIST dataset](https://yashk2810.github.io/Applying-Convolutional-Neural-Network-on-the-MNIST-dataset/)\n",
        "\n",
        "## Feature Engineering\n",
        "- [Why Change Data Dimension Before Feeding Into Keras?](https://stackoverflow.com/a/62991238/12347869)\n",
        "- [Properly Setting the Random Seed in ML Experiments. Not as Simple as You Might Imagine](https://medium.com/@ODSC/properly-setting-the-random-seed-in-ml-experiments-not-as-simple-as-you-might-imagine-219969c84752)\n",
        "- [How to get reproducible results in keras](https://stackoverflow.com/questions/32419510/how-to-get-reproducible-results-in-keras)\n",
        "- [How can I obtain reproducible results using Keras during development?](https://keras.io/getting_started/faq/#how-can-i-obtain-reproducible-results-using-keras-during-development)\n",
        "\n",
        "## Building Layers\n",
        "- [What is the default weight initializer in Keras?](https://stackoverflow.com/questions/54011173/what-is-the-default-weight-initializer-in-keras)\n",
        "- [A Gentle Introduction to Pooling Layers for Convolutional Neural Networks](https://machinelearningmastery.com/pooling-layers-for-convolutional-neural-networks/)\n",
        "- [Using the Keras Flatten Operation in CNN Models with Code Examples](https://missinglink.ai/guides/keras/using-keras-flatten-operation-cnn-models-code-examples/)\n",
        "- [Dropout Neural Network Layer In Keras Explained](https://towardsdatascience.com/machine-learning-part-20-dropout-keras-layers-explained-8c9f6dc4c9ab)\n",
        "- [Changing shape of MNIST for tensorflow CNN](https://stackoverflow.com/questions/50549859/changing-shape-of-mnist-for-tensorflow-cnn)\n",
        "\n",
        "## Model Evaluation \n",
        "- [Sparse_categorical_crossentropy vs categorical_crossentropy (keras, accuracy)](https://datascience.stackexchange.com/questions/41921/sparse-categorical-crossentropy-vs-categorical-crossentropy-keras-accuracy)\n",
        "- [Interpretability of Convolutional Neural Networks](https://medium.com/@silvia.casac/interpretability-of-convolutional-neural-networks-c2baaf5f98e9)\n",
        "\n",
        "## Hyper Parameter Tuning With Keras Tuner\n",
        "- [Hyperparameter tuning with Keras Tuner](https://blog.tensorflow.org/2020/01/hyperparameter-tuning-with-keras-tuner.html)\n",
        "- [Why is random search better than grid search for machine learning?](https://analyticsindiamag.com/why-is-random-search-better-than-grid-search-for-machine-learning/#:~:text=Random%20search%20is%20a%20technique,to%20yield%20better%20results%20comparatively.)\n",
        "- [Hands on hyperparameter tuning with Keras Tuner](https://www.sicara.ai/blog/hyperparameter-tuning-keras-tuner)\n",
        "- [Keras Tuner Docs](https://keras-team.github.io/keras-tuner/)\n",
        "- [How do you decide the parameters of a Convolutional Neural Network for image classification?](https://stackoverflow.com/questions/24509921/how-do-you-decide-the-parameters-of-a-convolutional-neural-network-for-image-cla#:~:text=The%20Number%20of%20convolutional%20layers,you%20need%20to%20decide%20whether)\n",
        "- [The use of GridSearchCV in scikit-learn: Keras interface](https://www.programmersought.com/article/4878265809/)"
      ]
    }
  ]
}