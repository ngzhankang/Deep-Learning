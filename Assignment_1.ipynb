{
  "nbformat": 4,
  "nbformat_minor": 0,
  "metadata": {
    "colab": {
      "name": "Assignment_1.ipynb",
      "provenance": [],
      "toc_visible": true,
      "include_colab_link": true
    },
    "kernelspec": {
      "name": "python3",
      "display_name": "Python 3"
    },
    "accelerator": "GPU"
  },
  "cells": [
    {
      "cell_type": "markdown",
      "metadata": {
        "id": "view-in-github",
        "colab_type": "text"
      },
      "source": [
        "<a href=\"https://colab.research.google.com/github/ngzhankang/Deep-Learning/blob/main/Assignment_1.ipynb\" target=\"_parent\"><img src=\"https://colab.research.google.com/assets/colab-badge.svg\" alt=\"Open In Colab\"/></a>"
      ]
    },
    {
      "cell_type": "markdown",
      "metadata": {
        "id": "cgTaLrOvB90e"
      },
      "source": [
        "# Assignment 1\n",
        "Submitted by : P1935727 Ng Zhan Kang<br>\n",
        "Class of DIT/FT/2B/11\n"
      ]
    },
    {
      "cell_type": "markdown",
      "metadata": {
        "id": "dc_pUkkFF9Lg"
      },
      "source": [
        "---\n",
        "---"
      ]
    },
    {
      "cell_type": "markdown",
      "metadata": {
        "id": "vE-S0J3BG-jO"
      },
      "source": [
        "# 1.Setting Up Working Environment In Google Colab"
      ]
    },
    {
      "cell_type": "markdown",
      "metadata": {
        "id": "dEaQJ7Rz88NW"
      },
      "source": [
        "### 1.1 Ensuring 0% Util\n",
        "\n",
        "---\n",
        "\n",
        "Ensure that our slot give by Google is not utilized yet."
      ]
    },
    {
      "cell_type": "code",
      "metadata": {
        "id": "4vU3IPB-9wF6",
        "colab": {
          "base_uri": "https://localhost:8080/"
        },
        "outputId": "b8a7222b-a84d-48b5-f6f3-4662d8c82289"
      },
      "source": [
        "# to ensure that the current gpu utilization is 0\n",
        "# memory footprint support libraries/code\n",
        "!ln -sf /opt/bin/nvidia-smi /usr/bin/nvidia-smi\n",
        "!pip install gputil\n",
        "!pip install psutil\n",
        "!pip install humanize\n",
        "import psutil\n",
        "import humanize\n",
        "\n",
        "import os\n",
        "import GPUtil as GPU\n",
        "GPUs = GPU.getGPUs()\n",
        "# XXX: only one GPU on Colab and isn’t guaranteed\n",
        "gpu = GPUs[0]\n",
        "def printm():\n",
        " process = psutil.Process(os.getpid())\n",
        " print(\"Gen RAM Free: \" + humanize.naturalsize( psutil.virtual_memory().available ), \" | Proc size: \" + humanize.naturalsize( process.memory_info().rss))\n",
        " print(\"GPU RAM Free: {0:.0f}MB | Used: {1:.0f}MB | Util {2:3.0f}% | Total {3:.0f}MB\".format(gpu.memoryFree, gpu.memoryUsed, gpu.memoryUtil*100, gpu.memoryTotal))\n",
        "printm() "
      ],
      "execution_count": 1,
      "outputs": [
        {
          "output_type": "stream",
          "text": [
            "Requirement already satisfied: gputil in /usr/local/lib/python3.6/dist-packages (1.4.0)\n",
            "Requirement already satisfied: psutil in /usr/local/lib/python3.6/dist-packages (5.4.8)\n",
            "Requirement already satisfied: humanize in /usr/local/lib/python3.6/dist-packages (0.5.1)\n",
            "Gen RAM Free: 12.8 GB  | Proc size: 112.0 MB\n",
            "GPU RAM Free: 15079MB | Used: 0MB | Util   0% | Total 15079MB\n"
          ],
          "name": "stdout"
        }
      ]
    },
    {
      "cell_type": "markdown",
      "metadata": {
        "id": "SWjAy1ds9Kns"
      },
      "source": [
        "### 1.2. Forcing Utils To 0% To Get A Clean Cluster\n",
        "\n",
        "---\n",
        "\n",
        "Please do not use this step unless the cluster you are allocated to is quite full."
      ]
    },
    {
      "cell_type": "code",
      "metadata": {
        "id": "Gqa73iPB93yZ"
      },
      "source": [
        "## if utilization is > 0, run this code(keep running this cell and the above cell till the util number is 0%):\n",
        "## NOTE THAT RUNNING THIS MIGHT KILL GPU SESSION AND RESULT IN DATA LOSS(NOT ADVICABLE TO KEEP ON REUSING)\n",
        "# !kill -9 -1"
      ],
      "execution_count": 2,
      "outputs": []
    },
    {
      "cell_type": "markdown",
      "metadata": {
        "id": "L0aYmZCq8qjQ"
      },
      "source": [
        "---\n",
        "---"
      ]
    },
    {
      "cell_type": "markdown",
      "metadata": {
        "id": "FfVnMSOFGln8"
      },
      "source": [
        "# 2.Ensuring GPU Is Utilized In Environment"
      ]
    },
    {
      "cell_type": "markdown",
      "metadata": {
        "id": "lbDAAbwSG7DN"
      },
      "source": [
        "### 2.1. See the list of available devices\n",
        "\n",
        "---\n",
        "\n",
        "This entire section can be omitted if users are not utilizing GPU at all."
      ]
    },
    {
      "cell_type": "code",
      "metadata": {
        "id": "l6OEWFOMcAM_",
        "colab": {
          "base_uri": "https://localhost:8080/"
        },
        "outputId": "5bf79e3c-1eaa-43a2-ee12-9b7b35c9f88d"
      },
      "source": [
        "from tensorflow.python.client import device_lib\n",
        "print(device_lib.list_local_devices())"
      ],
      "execution_count": 3,
      "outputs": [
        {
          "output_type": "stream",
          "text": [
            "[name: \"/device:CPU:0\"\n",
            "device_type: \"CPU\"\n",
            "memory_limit: 268435456\n",
            "locality {\n",
            "}\n",
            "incarnation: 13896216128784511588\n",
            ", name: \"/device:XLA_CPU:0\"\n",
            "device_type: \"XLA_CPU\"\n",
            "memory_limit: 17179869184\n",
            "locality {\n",
            "}\n",
            "incarnation: 1098563288714544265\n",
            "physical_device_desc: \"device: XLA_CPU device\"\n",
            ", name: \"/device:XLA_GPU:0\"\n",
            "device_type: \"XLA_GPU\"\n",
            "memory_limit: 17179869184\n",
            "locality {\n",
            "}\n",
            "incarnation: 13589346031548074869\n",
            "physical_device_desc: \"device: XLA_GPU device\"\n",
            ", name: \"/device:GPU:0\"\n",
            "device_type: \"GPU\"\n",
            "memory_limit: 14640891840\n",
            "locality {\n",
            "  bus_id: 1\n",
            "  links {\n",
            "  }\n",
            "}\n",
            "incarnation: 11817256760893371410\n",
            "physical_device_desc: \"device: 0, name: Tesla T4, pci bus id: 0000:00:04.0, compute capability: 7.5\"\n",
            "]\n"
          ],
          "name": "stdout"
        }
      ]
    },
    {
      "cell_type": "code",
      "metadata": {
        "id": "baot31IdcLjO",
        "colab": {
          "base_uri": "https://localhost:8080/"
        },
        "outputId": "f917c97c-39be-4f48-a582-2c710cbf0b8a"
      },
      "source": [
        "import tensorflow as tf\n",
        "print(\"Num GPUs Available: \", len(tf.config.experimental.list_physical_devices('GPU')))"
      ],
      "execution_count": 4,
      "outputs": [
        {
          "output_type": "stream",
          "text": [
            "Num GPUs Available:  1\n"
          ],
          "name": "stdout"
        }
      ]
    },
    {
      "cell_type": "code",
      "metadata": {
        "id": "vS-gWw_jcOeh",
        "colab": {
          "base_uri": "https://localhost:8080/",
          "height": 35
        },
        "outputId": "e438b7a3-ac4c-4890-e545-ede55990dfcc"
      },
      "source": [
        "tf.test.gpu_device_name()"
      ],
      "execution_count": 5,
      "outputs": [
        {
          "output_type": "execute_result",
          "data": {
            "application/vnd.google.colaboratory.intrinsic+json": {
              "type": "string"
            },
            "text/plain": [
              "'/device:GPU:0'"
            ]
          },
          "metadata": {
            "tags": []
          },
          "execution_count": 5
        }
      ]
    },
    {
      "cell_type": "code",
      "metadata": {
        "id": "dmpPA6cY_Qua",
        "colab": {
          "base_uri": "https://localhost:8080/"
        },
        "outputId": "abcd02a4-a696-4cb1-f78a-0552a5e24c6a"
      },
      "source": [
        "!nvidia-smi"
      ],
      "execution_count": 6,
      "outputs": [
        {
          "output_type": "stream",
          "text": [
            "Thu Nov 26 07:53:16 2020       \n",
            "+-----------------------------------------------------------------------------+\n",
            "| NVIDIA-SMI 418.67       Driver Version: 418.67       CUDA Version: 10.1     |\n",
            "|-------------------------------+----------------------+----------------------+\n",
            "| GPU  Name        Persistence-M| Bus-Id        Disp.A | Volatile Uncorr. ECC |\n",
            "| Fan  Temp  Perf  Pwr:Usage/Cap|         Memory-Usage | GPU-Util  Compute M. |\n",
            "|===============================+======================+======================|\n",
            "|   0  Tesla T4            Off  | 00000000:00:04.0 Off |                    0 |\n",
            "| N/A   59C    P0    28W /  70W |    227MiB / 15079MiB |      7%      Default |\n",
            "+-------------------------------+----------------------+----------------------+\n",
            "                                                                               \n",
            "+-----------------------------------------------------------------------------+\n",
            "| Processes:                                                       GPU Memory |\n",
            "|  GPU       PID   Type   Process name                             Usage      |\n",
            "|=============================================================================|\n",
            "+-----------------------------------------------------------------------------+\n"
          ],
          "name": "stdout"
        }
      ]
    },
    {
      "cell_type": "markdown",
      "metadata": {
        "id": "F08LAekAHBhq"
      },
      "source": [
        "---\n",
        "---"
      ]
    },
    {
      "cell_type": "markdown",
      "metadata": {
        "id": "FjtijIYQjM1R"
      },
      "source": [
        "# 3.Background Information"
      ]
    },
    {
      "cell_type": "markdown",
      "metadata": {
        "id": "Id1KUxFrCnKw"
      },
      "source": [
        "## 3.1. About The MNIST Dataset\n",
        "---\n",
        "\n",
        "- BACKGROUND\n",
        "  - The MNIST database of handwritten digits(Modified National Institute of Standards and Technology database) history came to existence in the late 1980s.\n",
        "  - Also known as a \"Hello World\" exercise for people new to Neural Networks (or deep learning).\n",
        "  - Was an extension of the NIST database, which the training dataset were handwriting originating from American Census Bureau employees, while the test dataset were handwriting taken from American high school students, also known as Special Dataset 3 and Special Dataset 1 respectively.\n",
        "  - The creators of this dataset are **Yann LeCun, Corinna Cortes and Christopher J.C. Burges**.\n",
        "  - The creators felt that NIST datasets was not well-suited for machine learning experiments since the origins of the train and test datasets **came from 2 different groups in the aforementioned point**. Furthermore, the black and white images from NIST were **normalized to fit into a 28 X 28 pixel bounding box and anti-aliased**, which introduced grayscale levels.\n",
        "  - Contains **60,000 training and 10,000 testing images**. Half of the training set and half of the test set were taken from NIST's training dataset, while the other half of the training set and the other half of the test set were taken from NIST's testing dataset.\n",
        "  - Initially used **Support-Vector Machine** to get an error rate of 0.8%.\n",
        "  - Was popular to build new government applications, including the US Department Of Defence, which wants to build an Automated Target Recognition (ATR) and also on the civilian side, from the postal service and IRAS to build an automated process of recognising handwritings for postcodes and others.\n",
        "\n",
        "\n",
        "- BEST PERFORMANCES RECORDED\n",
        "  - The current best record was made in 2018, by researches from Department of System and Information Engineering, University Of Virginia, which announced 0.18% error with simultaneous stacked three kind of neural networks (fully connected, recurrent and convolutional neural networks).\n",
        "  - The original record as per written in [the MNIST dataset main website](http://yann.lecun.com/exdb/mnist/), was a test error rate of 12%, using 1 layer of linear classifier without any preprocessing at all.\n",
        "\n",
        "\n",
        "- ARCHITECTURES\n",
        "  - A notable deep neural network, called convolutional neural network, is a regularized version of multilayer perceptrons. It is one notable image classification algorithm, as it learns the filters, which traditionally were hand-engineered.\n",
        "  - There are many architectures that make use of the basic CNN architecture and then improve on it. Examples are Neocognitron, the origin of CNN architecture, Time delay neural networks and CNN trained by gradient descent.\n",
        "  - LeNet-5, or LeNet is also a architecture that originate from Yann LeCun. It is originally a system to recognise hand-written ZIP Code numbers involved convolutions in which the kernel coefficients had been laboriously hand designed. It usese a 7-level convolutional network that classifies digits, was applied by several banks to recognize hand-written numbers on cheques, digitized in 32x32 pixel images.\n",
        "\n",
        "  - VGGNet was invented by VGG (Visual Geometry Group) from the University Of Oxford. It was a neural network which has proven significant improvement over ZFNet and AlexNet. It was one of the deep learning models that obtained less than 10% of error rate. It was trained on ImageNet dataset, a large dataset of annotated photographs intended for computer vision research. Pictures include cars, plant, flora, plant life, fungus, animal, etc. It have been proven effective for object recognition, but does not work properly for scenes recognition. Also, it uses alot of memory and is computationally time consuming.\n",
        "\n",
        "  - AlexNet was primarily designed by Alex Krizhevsky, and was published with Ilya Sutskever and Krizhevsky's doctoral advisor Geoffrey Hinton, and is a Convolutional Neural Network or CNN. It achieved a top-5 error of 15.3% after competing in ImageNet Large Scale Visual Recognition Challenge, which was 10.8% lower than that of the runner up. It also, just like VGGNet, was trained on ImageNet dataset, and is meant for object recognition.\n",
        "\n",
        "\n",
        "- GRAPHICAL IMAGE\n",
        "\n",
        "  <img src=\"https://files.ifi.uzh.ch/ddis/teaching/bda/tensorflow_keras/img/mlp_1.png\" alt=\"Graphical Image Of CNN with MNIST Dataset\" title=\"MNIST database multilayer perceptron\" />"
      ]
    },
    {
      "cell_type": "markdown",
      "metadata": {
        "id": "DRAg_XY2CsJ3"
      },
      "source": [
        "## 3.2. Classic MNIST Dataset\n",
        "---\n",
        "\n",
        "- For this problem, create a CNN for image classification and evaluate the performance of the network\n",
        "- Prepare the data and perform necessary feature engineering\n",
        "- Create **_four model_**, which the scores should differ from one another significantly.\n",
        "- Record down insights and reasonings.\n",
        "- Form some conclusions."
      ]
    },
    {
      "cell_type": "markdown",
      "metadata": {
        "id": "cSnt3olNIJlH"
      },
      "source": [
        "---\n",
        "---"
      ]
    },
    {
      "cell_type": "markdown",
      "metadata": {
        "id": "1-AF7n6VCwiI"
      },
      "source": [
        "# 4.Data Importing"
      ]
    },
    {
      "cell_type": "markdown",
      "metadata": {
        "id": "4xGz4pqKINfL"
      },
      "source": [
        "### 4.1. Load the libraries\n",
        "\n",
        "---\n",
        "\n",
        "Import the necessary libraries."
      ]
    },
    {
      "cell_type": "code",
      "metadata": {
        "id": "i4GavKz7CzgA"
      },
      "source": [
        "# Suppress Future Warnings\n",
        "import warnings\n",
        "warnings.filterwarnings('ignore')"
      ],
      "execution_count": 7,
      "outputs": []
    },
    {
      "cell_type": "code",
      "metadata": {
        "id": "6OMhNQRPC23r",
        "colab": {
          "base_uri": "https://localhost:8080/"
        },
        "outputId": "ca2d8145-0ae0-4da1-e66e-e11e653b080c"
      },
      "source": [
        "# check versions of libraries we are going to use\n",
        "%tensorflow_version 2.x\n",
        "import os\n",
        "import tensorflow\n",
        "import sklearn\n",
        "import numpy as np\n",
        "import pandas as pd\n",
        "import seaborn as sns\n",
        "import matplotlib\n",
        "import platform\n",
        "\n",
        "message=\"        Versions        \"\n",
        "print(\"*\"*len(message))\n",
        "print(message)\n",
        "print(\"*\"*len(message))\n",
        "print(\"Tensorflow version={}\".format(tensorflow.__version__))\n",
        "print(\"Keras version={}\".format(tensorflow.keras.__version__))\n",
        "print(\"Sklearn version={}\".format(sklearn.__version__))\n",
        "print(\"Numpy version={}\".format(np.__version__))\n",
        "print(\"Pandas version={}\".format(pd.__version__))\n",
        "print(\"Seaborn version={}\".format(sns.__version__))\n",
        "print(\"Matplotlib version={}\".format(matplotlib.__version__))\n",
        "print(\"Python version={}\".format(platform.python_version()))"
      ],
      "execution_count": 8,
      "outputs": [
        {
          "output_type": "stream",
          "text": [
            "************************\n",
            "        Versions        \n",
            "************************\n",
            "Tensorflow version=2.3.0\n",
            "Keras version=2.4.0\n",
            "Sklearn version=0.22.2.post1\n",
            "Numpy version=1.18.5\n",
            "Pandas version=1.1.4\n",
            "Seaborn version=0.11.0\n",
            "Matplotlib version=3.2.2\n",
            "Python version=3.6.9\n"
          ],
          "name": "stdout"
        }
      ]
    },
    {
      "cell_type": "code",
      "metadata": {
        "id": "yjLekX4z9_nf",
        "colab": {
          "base_uri": "https://localhost:8080/"
        },
        "outputId": "a4b8f5be-14ad-4a8d-a4bc-fab78d0cd237"
      },
      "source": [
        "# download the necessary libraries that is not inside keras library\n",
        "!pip install keras-adabound\n",
        "!pip install keras-tuner\n",
        "\n",
        "# start importing necessary libraries\n",
        "import tensorflow as tf\n",
        "from tensorflow.keras.models import Sequential, load_model\n",
        "from tensorflow.keras.layers import Dense, Conv2D, Dropout, Flatten, AveragePooling2D, Activation, BatchNormalization, MaxPooling2D\n",
        "from tensorflow.keras.regularizers import l2\n",
        "from tensorflow.keras.optimizers import Adam\n",
        "\n",
        "from tensorflow.keras.callbacks import EarlyStopping, LearningRateScheduler, History\n",
        "from tensorflow.keras.preprocessing.image import ImageDataGenerator\n",
        "from sklearn.metrics import confusion_matrix, accuracy_score\n",
        "from tensorflow.keras.wrappers.scikit_learn import KerasClassifier\n",
        "\n",
        "from keras_adabound import AdaBound\n",
        "\n",
        "import kerastuner as kt\n",
        "from kerastuner.tuners import Hyperband\n",
        "from kerastuner import HyperModel\n",
        "\n",
        "import pandas as pd\n",
        "import matplotlib.pyplot as plt\n",
        "import seaborn as sns\n",
        "import numpy as np\n",
        "import itertools\n",
        "\n",
        "%matplotlib inline"
      ],
      "execution_count": 9,
      "outputs": [
        {
          "output_type": "stream",
          "text": [
            "Requirement already satisfied: keras-adabound in /usr/local/lib/python3.6/dist-packages (0.6.0)\n",
            "Requirement already satisfied: typeguard in /usr/local/lib/python3.6/dist-packages (from keras-adabound) (2.7.1)\n",
            "Requirement already satisfied: Keras in /usr/local/lib/python3.6/dist-packages (from keras-adabound) (2.4.3)\n",
            "Requirement already satisfied: numpy in /usr/local/lib/python3.6/dist-packages (from keras-adabound) (1.18.5)\n",
            "Requirement already satisfied: scipy>=0.14 in /usr/local/lib/python3.6/dist-packages (from Keras->keras-adabound) (1.4.1)\n",
            "Requirement already satisfied: h5py in /usr/local/lib/python3.6/dist-packages (from Keras->keras-adabound) (2.10.0)\n",
            "Requirement already satisfied: pyyaml in /usr/local/lib/python3.6/dist-packages (from Keras->keras-adabound) (3.13)\n",
            "Requirement already satisfied: six in /usr/local/lib/python3.6/dist-packages (from h5py->Keras->keras-adabound) (1.15.0)\n",
            "Requirement already satisfied: keras-tuner in /usr/local/lib/python3.6/dist-packages (1.0.2)\n",
            "Requirement already satisfied: terminaltables in /usr/local/lib/python3.6/dist-packages (from keras-tuner) (3.1.0)\n",
            "Requirement already satisfied: colorama in /usr/local/lib/python3.6/dist-packages (from keras-tuner) (0.4.4)\n",
            "Requirement already satisfied: scikit-learn in /usr/local/lib/python3.6/dist-packages (from keras-tuner) (0.22.2.post1)\n",
            "Requirement already satisfied: scipy in /usr/local/lib/python3.6/dist-packages (from keras-tuner) (1.4.1)\n",
            "Requirement already satisfied: tqdm in /usr/local/lib/python3.6/dist-packages (from keras-tuner) (4.41.1)\n",
            "Requirement already satisfied: tabulate in /usr/local/lib/python3.6/dist-packages (from keras-tuner) (0.8.7)\n",
            "Requirement already satisfied: future in /usr/local/lib/python3.6/dist-packages (from keras-tuner) (0.16.0)\n",
            "Requirement already satisfied: packaging in /usr/local/lib/python3.6/dist-packages (from keras-tuner) (20.4)\n",
            "Requirement already satisfied: numpy in /usr/local/lib/python3.6/dist-packages (from keras-tuner) (1.18.5)\n",
            "Requirement already satisfied: requests in /usr/local/lib/python3.6/dist-packages (from keras-tuner) (2.23.0)\n",
            "Requirement already satisfied: joblib>=0.11 in /usr/local/lib/python3.6/dist-packages (from scikit-learn->keras-tuner) (0.17.0)\n",
            "Requirement already satisfied: pyparsing>=2.0.2 in /usr/local/lib/python3.6/dist-packages (from packaging->keras-tuner) (2.4.7)\n",
            "Requirement already satisfied: six in /usr/local/lib/python3.6/dist-packages (from packaging->keras-tuner) (1.15.0)\n",
            "Requirement already satisfied: certifi>=2017.4.17 in /usr/local/lib/python3.6/dist-packages (from requests->keras-tuner) (2020.11.8)\n",
            "Requirement already satisfied: urllib3!=1.25.0,!=1.25.1,<1.26,>=1.21.1 in /usr/local/lib/python3.6/dist-packages (from requests->keras-tuner) (1.24.3)\n",
            "Requirement already satisfied: chardet<4,>=3.0.2 in /usr/local/lib/python3.6/dist-packages (from requests->keras-tuner) (3.0.4)\n",
            "Requirement already satisfied: idna<3,>=2.5 in /usr/local/lib/python3.6/dist-packages (from requests->keras-tuner) (2.10)\n"
          ],
          "name": "stdout"
        }
      ]
    },
    {
      "cell_type": "code",
      "metadata": {
        "id": "7EwCUvGDH8tH"
      },
      "source": [
        "# fix random seed for reproducibility\n",
        "np.random.seed(5)"
      ],
      "execution_count": 10,
      "outputs": []
    },
    {
      "cell_type": "code",
      "metadata": {
        "id": "pXWoWulRC_sP"
      },
      "source": [
        "# get the dataset from keras library in tensorflow 2.0\n",
        "mnist = tf.keras.datasets.mnist\n",
        "\n",
        "# unpack the dataset to the respective x_train, y_train, x_test and y_test\n",
        "(x_train, y_train), (x_test, y_test) = mnist.load_data()"
      ],
      "execution_count": 11,
      "outputs": []
    },
    {
      "cell_type": "markdown",
      "metadata": {
        "id": "aLvoYw5FIrJE"
      },
      "source": [
        "<div class=\"alert alert-block alert-info\">\n",
        "    <b>Analysis Summary:</b> MNIST Dataset includes handwritten digits from 0 to 9, and dimensions are 28 by 28 pixels. Each pixels is 8 bits, so its value ranges from to 0 to 255.\n",
        "</div>"
      ]
    },
    {
      "cell_type": "markdown",
      "metadata": {
        "id": "EYcgK0sTFrvZ"
      },
      "source": [
        "### 4.2. Verify the dataset\n",
        "\n",
        "---\n",
        "\n",
        "Verify the credibility of the dataset first by plotting the 1st 25 images from the training set and display the class name below each image."
      ]
    },
    {
      "cell_type": "code",
      "metadata": {
        "id": "YXCBHJQVFsGK",
        "colab": {
          "base_uri": "https://localhost:8080/",
          "height": 589
        },
        "outputId": "9f9463bb-587e-45fb-88bb-d765bd16040a"
      },
      "source": [
        "# plot out some handwritings out so that we can see\n",
        "plt.figure(figsize=(10,10))\n",
        "for i in range(25):\n",
        "    plt.subplot(5,5,i+1)\n",
        "    plt.xticks([])\n",
        "    plt.yticks([])\n",
        "    plt.grid(False)\n",
        "    plt.imshow(x_train[i], cmap=plt.cm.binary)\n",
        "    plt.xlabel(y_train[i], color=\"black\")\n",
        "plt.show()"
      ],
      "execution_count": 12,
      "outputs": [
        {
          "output_type": "display_data",
          "data": {
            "image/png": "[encoded data removed]",
            "text/plain": [
              "<Figure size 720x720 with 25 Axes>"
            ]
          },
          "metadata": {
            "tags": []
          }
        }
      ]
    },
    {
      "cell_type": "markdown",
      "metadata": {
        "id": "T6lG2VSFF7nC"
      },
      "source": [
        "<div class=\"alert alert-block alert-info\">\n",
        "    <b>Analysis Summary:</b> It seems that the labels matches all the images, which is good! Now let's carry on to get a better insight of the datatset we are going to deal with.\n",
        "</div>"
      ]
    },
    {
      "cell_type": "markdown",
      "metadata": {
        "id": "ARlNpLenHMk-"
      },
      "source": [
        "---\n",
        "---"
      ]
    },
    {
      "cell_type": "markdown",
      "metadata": {
        "id": "34w33z5aHNrb"
      },
      "source": [
        "# 5.Exploratory Data Analysis"
      ]
    },
    {
      "cell_type": "markdown",
      "metadata": {
        "id": "Gkd8sWV_6oht"
      },
      "source": [
        "### 5.1. Basic Data Exploration\n",
        "\n",
        "---\n",
        "\n",
        "Take a peek look at what is inside the `x_train` and the `x_test`."
      ]
    },
    {
      "cell_type": "code",
      "metadata": {
        "id": "M5xOZA3G4HYf",
        "colab": {
          "base_uri": "https://localhost:8080/"
        },
        "outputId": "8c432f05-cf2a-43c2-efd4-985bb46a89d4"
      },
      "source": [
        "# take a look at the x_train set first\n",
        "print(x_train.shape)\n",
        "print(y_train.shape)"
      ],
      "execution_count": 13,
      "outputs": [
        {
          "output_type": "stream",
          "text": [
            "(60000, 28, 28)\n",
            "(60000,)\n"
          ],
          "name": "stdout"
        }
      ]
    },
    {
      "cell_type": "code",
      "metadata": {
        "id": "SR9JVfvk62fU",
        "colab": {
          "base_uri": "https://localhost:8080/"
        },
        "outputId": "c530117e-7773-424d-dc5b-dc3ccd048b9d"
      },
      "source": [
        "# take a look at the x_test set\n",
        "print(x_test.shape)\n",
        "print(y_test.shape)"
      ],
      "execution_count": 14,
      "outputs": [
        {
          "output_type": "stream",
          "text": [
            "(10000, 28, 28)\n",
            "(10000,)\n"
          ],
          "name": "stdout"
        }
      ]
    },
    {
      "cell_type": "code",
      "metadata": {
        "id": "YR66TbQJ6-An",
        "colab": {
          "base_uri": "https://localhost:8080/",
          "height": 265
        },
        "outputId": "a8b3ffa8-50d6-47ad-cafa-3e852e8dc0c1"
      },
      "source": [
        "# grab a random picture to take a look\n",
        "plt.imshow(x_train[5], cmap=plt.cm.binary)\n",
        "plt.show()"
      ],
      "execution_count": 15,
      "outputs": [
        {
          "output_type": "display_data",
          "data": {
            "image/png": "[encoded data removed]",
            "text/plain": [
              "<Figure size 432x288 with 1 Axes>"
            ]
          },
          "metadata": {
            "tags": [],
            "needs_background": "light"
          }
        }
      ]
    },
    {
      "cell_type": "code",
      "metadata": {
        "id": "qQeHiDS47ZVw",
        "colab": {
          "base_uri": "https://localhost:8080/"
        },
        "outputId": "4b3a18e4-c16e-4a16-8906-f8816cebb845"
      },
      "source": [
        "# get the distinct lables that are found in the entire thing\n",
        "print('Training set unique labels:',np.unique(y_train))\n",
        "print('Test set unique labels:',np.unique(y_test))"
      ],
      "execution_count": 16,
      "outputs": [
        {
          "output_type": "stream",
          "text": [
            "Training set unique labels: [0 1 2 3 4 5 6 7 8 9]\n",
            "Test set unique labels: [0 1 2 3 4 5 6 7 8 9]\n"
          ],
          "name": "stdout"
        }
      ]
    },
    {
      "cell_type": "code",
      "metadata": {
        "id": "s94V4iGA6IgO",
        "colab": {
          "base_uri": "https://localhost:8080/"
        },
        "outputId": "e2c1cfac-efd6-4471-e45d-9c4a6592a1c0"
      },
      "source": [
        "# get the count of the values from 0 to 9\n",
        "unique, counts = np.unique(y_train, return_counts=True)\n",
        "print(np.asarray((unique, counts)).T)"
      ],
      "execution_count": 17,
      "outputs": [
        {
          "output_type": "stream",
          "text": [
            "[[   0 5923]\n",
            " [   1 6742]\n",
            " [   2 5958]\n",
            " [   3 6131]\n",
            " [   4 5842]\n",
            " [   5 5421]\n",
            " [   6 5918]\n",
            " [   7 6265]\n",
            " [   8 5851]\n",
            " [   9 5949]]\n"
          ],
          "name": "stdout"
        }
      ]
    },
    {
      "cell_type": "code",
      "metadata": {
        "colab": {
          "base_uri": "https://localhost:8080/",
          "height": 267
        },
        "id": "Jlheg3ISzgaC",
        "outputId": "c26dc46a-c3d3-45de-991e-7a0bf5ae6b9f"
      },
      "source": [
        "# countplot for each digits\n",
        "g = sns.countplot(y_train)"
      ],
      "execution_count": 18,
      "outputs": [
        {
          "output_type": "display_data",
          "data": {
            "image/png": "[encoded data removed]",
            "text/plain": [
              "<Figure size 432x288 with 1 Axes>"
            ]
          },
          "metadata": {
            "tags": [],
            "needs_background": "light"
          }
        }
      ]
    },
    {
      "cell_type": "code",
      "metadata": {
        "id": "PHxX7kx3A0P-",
        "colab": {
          "base_uri": "https://localhost:8080/",
          "height": 298
        },
        "outputId": "94d7271e-aa1a-488a-82a0-9a5ff91d0080"
      },
      "source": [
        "# get the distribution of our pixel values\n",
        "fig = plt.figure()\n",
        "plt.subplot(2,1,1)\n",
        "plt.imshow(x_train[0], cmap='gray', interpolation='none')\n",
        "plt.title(\"Digit: {}\".format(y_train[0]))\n",
        "plt.xticks([])\n",
        "plt.yticks([])\n",
        "\n",
        "plt.subplot(2,1,2)\n",
        "plt.hist(x_train[0].reshape(784))\n",
        "plt.title(\"Pixel Value Distribution\")"
      ],
      "execution_count": 19,
      "outputs": [
        {
          "output_type": "execute_result",
          "data": {
            "text/plain": [
              "Text(0.5, 1.0, 'Pixel Value Distribution')"
            ]
          },
          "metadata": {
            "tags": []
          },
          "execution_count": 19
        },
        {
          "output_type": "display_data",
          "data": {
            "image/png": "[encoded data removed]",
            "text/plain": [
              "<Figure size 432x288 with 2 Axes>"
            ]
          },
          "metadata": {
            "tags": [],
            "needs_background": "light"
          }
        }
      ]
    },
    {
      "cell_type": "markdown",
      "metadata": {
        "id": "QIoM0g6UBO-L"
      },
      "source": [
        "<div class=\"alert alert-block alert-info\">\n",
        "    <b>Analysis Summary:</b> From what we can see, the pixel values ranges from 0 to 255, with the majority close to 0, and those close to 255 respresenting the digit.\n",
        "</div>"
      ]
    },
    {
      "cell_type": "markdown",
      "metadata": {
        "id": "UPO-4wQGHnq-"
      },
      "source": [
        "---\n",
        "---"
      ]
    },
    {
      "cell_type": "markdown",
      "metadata": {
        "id": "8e7cOjDtHrpd"
      },
      "source": [
        "# 6.Feature Engineering"
      ]
    },
    {
      "cell_type": "markdown",
      "metadata": {
        "id": "MpE9BpXTIbsN"
      },
      "source": [
        "### 6.1. Changing Dimension To Match Keras Expectation\n",
        "\n",
        "---\n",
        "\n",
        "Reshape `x_train` and `x_test` to 4 dimensional array for the convolutional layer later on."
      ]
    },
    {
      "cell_type": "code",
      "metadata": {
        "id": "UUNk_StCNAN-",
        "colab": {
          "base_uri": "https://localhost:8080/"
        },
        "outputId": "3b63d394-fcb1-4498-925a-aa6e265df3b2"
      },
      "source": [
        "# flatten 28*28 pixel images to 784 pixels for each image(from a 2D array to a 1D array)\n",
        "num_pixels = x_train.shape[1] * x_train.shape[2]\n",
        "X_train = x_train.reshape(x_train.shape[0], num_pixels).astype('float32')\n",
        "X_test = x_test.reshape(x_test.shape[0], num_pixels).astype('float32')\n",
        "\n",
        "# see the changes\n",
        "print('New X_train shape:', X_train.shape)\n",
        "print(X_train.shape[0], 'train samples')\n",
        "print(X_test.shape[0], 'test samples')"
      ],
      "execution_count": 20,
      "outputs": [
        {
          "output_type": "stream",
          "text": [
            "New X_train shape: (60000, 784)\n",
            "60000 train samples\n",
            "10000 test samples\n"
          ],
          "name": "stdout"
        }
      ]
    },
    {
      "cell_type": "markdown",
      "metadata": {
        "id": "I6PR8lUGIjf7"
      },
      "source": [
        "### 6.2. Normalize Training Data\n",
        "\n",
        "---\n",
        "\n",
        "Normalize the entire training dataset so that there is not much variation."
      ]
    },
    {
      "cell_type": "code",
      "metadata": {
        "id": "dxgG6lH8Igxn",
        "colab": {
          "base_uri": "https://localhost:8080/"
        },
        "outputId": "0778a0b0-2a73-46a7-9758-8dc5c2d27a9e"
      },
      "source": [
        "# attempt to normalize the entire dataset first from 0-255 to 0-1\n",
        "X_train /= 255\n",
        "X_test /= 255\n",
        "\n",
        "# see the shape of x_train and x_test first\n",
        "print('X_train shape:', X_train.shape)\n",
        "print('X_test shape:', X_test.shape)\n",
        "print(X_train.shape[0], 'train samples')\n",
        "print(X_test.shape[0], 'test samples')"
      ],
      "execution_count": 21,
      "outputs": [
        {
          "output_type": "stream",
          "text": [
            "X_train shape: (60000, 784)\n",
            "X_test shape: (10000, 784)\n",
            "60000 train samples\n",
            "10000 test samples\n"
          ],
          "name": "stdout"
        }
      ]
    },
    {
      "cell_type": "markdown",
      "metadata": {
        "id": "hejHzHbJJslI"
      },
      "source": [
        "### 6.3. Convert To Categorical Data\n",
        "\n",
        "---\n",
        "\n",
        "Convert the labels to categorical data as we do not want the model to think 9 has a higher priority than 0."
      ]
    },
    {
      "cell_type": "code",
      "metadata": {
        "id": "JdB5ywKlJwZs",
        "colab": {
          "base_uri": "https://localhost:8080/"
        },
        "outputId": "c4a3abe1-f267-4183-aa2a-7751dbf3c6e3"
      },
      "source": [
        "# use to_categorical to convert the training and testing dataset labels\n",
        "num_classes = 10 # number of classes (numbers 0 to 9)\n",
        "\n",
        "Y_train = tf.keras.utils.to_categorical(y_train, num_classes)\n",
        "Y_test = tf.keras.utils.to_categorical(y_test, num_classes)\n",
        "\n",
        "# now lets check again the training and test dataset labels\n",
        "print('Y_train:', Y_train[0])\n",
        "print('Y_test:', Y_test[0])"
      ],
      "execution_count": 22,
      "outputs": [
        {
          "output_type": "stream",
          "text": [
            "Y_train: [0. 0. 0. 0. 0. 1. 0. 0. 0. 0.]\n",
            "Y_test: [0. 0. 0. 0. 0. 0. 0. 1. 0. 0.]\n"
          ],
          "name": "stdout"
        }
      ]
    },
    {
      "cell_type": "markdown",
      "metadata": {
        "id": "gdLqDmm1Vr3p"
      },
      "source": [
        "### 6.4. Transforming to 1D array\n",
        "\n",
        "---\n",
        "\n",
        "We will change the numpy array to a 1D array so that we can feed inside our MLP models."
      ]
    },
    {
      "cell_type": "code",
      "metadata": {
        "id": "3LJiqh03VyJl",
        "colab": {
          "base_uri": "https://localhost:8080/"
        },
        "outputId": "06e63ae3-9131-450f-d9af-8e0348bd8828"
      },
      "source": [
        "# we are going to retain the original 1D shape and put in a new variable so that we will not mess up with the others\n",
        "X_train_MLP = X_train\n",
        "X_test_MLP = X_test\n",
        "\n",
        "# examine the shape before we feed it in\n",
        "print('New X_train_MLP shape:', X_train_MLP.shape)\n",
        "print(X_train_MLP.shape[0], 'train samples')\n",
        "print(X_test_MLP.shape[0], 'test samples')"
      ],
      "execution_count": 23,
      "outputs": [
        {
          "output_type": "stream",
          "text": [
            "New X_train_MLP shape: (60000, 784)\n",
            "60000 train samples\n",
            "10000 test samples\n"
          ],
          "name": "stdout"
        }
      ]
    },
    {
      "cell_type": "markdown",
      "metadata": {
        "id": "ODbLowUAmyuL"
      },
      "source": [
        "### 6.5. Transforming to 2D array\n",
        "\n",
        "---\n",
        "\n",
        "We will change the numpy array to a 2D array so that we can feed inside our CNN models."
      ]
    },
    {
      "cell_type": "code",
      "metadata": {
        "id": "bW2ob7tumx_P",
        "colab": {
          "base_uri": "https://localhost:8080/"
        },
        "outputId": "3855bfed-aa3a-4e8c-f549-118ce46587b6"
      },
      "source": [
        "# reshape x_train and x_test to (n_images, x_shape, y_shape, channels)\n",
        "# we are going to make chanels be 1 as we are not dealing with rgb images.\n",
        "X_train = X_train.reshape(X_train.shape[0], 28, 28, 1)\n",
        "X_test = X_test.reshape(X_test.shape[0], 28, 28, 1)\n",
        "\n",
        "# examine the shape before we feed it in\n",
        "print('New X_train shape:', X_train.shape)\n",
        "print(X_train.shape[0], 'train samples')\n",
        "print(X_test.shape[0], 'test samples')"
      ],
      "execution_count": 24,
      "outputs": [
        {
          "output_type": "stream",
          "text": [
            "New X_train shape: (60000, 28, 28, 1)\n",
            "60000 train samples\n",
            "10000 test samples\n"
          ],
          "name": "stdout"
        }
      ]
    },
    {
      "cell_type": "markdown",
      "metadata": {
        "id": "mBvx1V2rJ0pt"
      },
      "source": [
        "---\n",
        "---"
      ]
    },
    {
      "cell_type": "markdown",
      "metadata": {
        "id": "rCdKpcVDJ2uP"
      },
      "source": [
        "# 7.Models"
      ]
    },
    {
      "cell_type": "markdown",
      "metadata": {
        "id": "d15PQEdNTeem"
      },
      "source": [
        "### 7.1. Baseline MLP Model\n",
        "\n",
        "---\n",
        "\n",
        "First, we will setup a baseline model using a simple MLP architecture."
      ]
    },
    {
      "cell_type": "markdown",
      "metadata": {
        "id": "sCmuAQ5g2AZV"
      },
      "source": [
        "<div class=\"alert alert-block alert-info\">\n",
        "    <b>Analysis Summary:</b> A simple MLP arcitecture does not have any Convolutional Layers. Here we are just playing around with Dense layers and see how good can the score be with MNIST dataset.\n",
        "</div>"
      ]
    },
    {
      "cell_type": "code",
      "metadata": {
        "id": "kA_JDg_1Thsm",
        "colab": {
          "base_uri": "https://localhost:8080/"
        },
        "outputId": "5d8c0352-a3f1-46d1-b6b8-f16eba35ee9d"
      },
      "source": [
        "# create model and give it a name\n",
        "model = Sequential(name=\"mlp_baseline_model\")\n",
        "\n",
        "# Layer 1 Fully Connected Layer (Hidden Layer)\n",
        "model.add(Dense(350, kernel_initializer='normal', activation='relu', input_dim=num_pixels))\n",
        "\n",
        "# Layer 2 Fully Connected Layer (Hidden Layer)\n",
        "model.add(Dense(50, kernel_initializer='normal', activation='relu'))\n",
        "\n",
        "# Output layer\n",
        "model.add(Dense(num_classes, activation='softmax'))\n",
        "\n",
        "# model summary\n",
        "model.summary()"
      ],
      "execution_count": 73,
      "outputs": [
        {
          "output_type": "stream",
          "text": [
            "Model: \"mlp_baseline_model\"\n",
            "_________________________________________________________________\n",
            "Layer (type)                 Output Shape              Param #   \n",
            "=================================================================\n",
            "dense_2 (Dense)              (None, 350)               274750    \n",
            "_________________________________________________________________\n",
            "dense_3 (Dense)              (None, 50)                17550     \n",
            "_________________________________________________________________\n",
            "dense_4 (Dense)              (None, 10)                510       \n",
            "=================================================================\n",
            "Total params: 292,810\n",
            "Trainable params: 292,810\n",
            "Non-trainable params: 0\n",
            "_________________________________________________________________\n"
          ],
          "name": "stdout"
        }
      ]
    },
    {
      "cell_type": "code",
      "metadata": {
        "id": "ton-XC_2W8KE",
        "colab": {
          "base_uri": "https://localhost:8080/"
        },
        "outputId": "a3ac8209-2fa1-41b1-e748-4a0959c6641f"
      },
      "source": [
        "# Configure the model and start training\n",
        "model.compile(loss='categorical_crossentropy', optimizer='adam', metrics=['accuracy'])\n",
        "history = model.fit(X_train_MLP, Y_train, epochs=10, batch_size=200, verbose=1, validation_split=0.2)"
      ],
      "execution_count": 74,
      "outputs": [
        {
          "output_type": "stream",
          "text": [
            "Epoch 1/10\n",
            "240/240 [==============================] - 1s 3ms/step - loss: 0.3901 - accuracy: 0.8924 - val_loss: 0.1803 - val_accuracy: 0.9478\n",
            "Epoch 2/10\n",
            "240/240 [==============================] - 1s 3ms/step - loss: 0.1449 - accuracy: 0.9583 - val_loss: 0.1304 - val_accuracy: 0.9611\n",
            "Epoch 3/10\n",
            "240/240 [==============================] - 1s 3ms/step - loss: 0.0962 - accuracy: 0.9712 - val_loss: 0.1077 - val_accuracy: 0.9680\n",
            "Epoch 4/10\n",
            "240/240 [==============================] - 1s 3ms/step - loss: 0.0679 - accuracy: 0.9800 - val_loss: 0.0919 - val_accuracy: 0.9714\n",
            "Epoch 5/10\n",
            "240/240 [==============================] - 1s 3ms/step - loss: 0.0495 - accuracy: 0.9854 - val_loss: 0.0826 - val_accuracy: 0.9742\n",
            "Epoch 6/10\n",
            "240/240 [==============================] - 1s 3ms/step - loss: 0.0385 - accuracy: 0.9886 - val_loss: 0.0872 - val_accuracy: 0.9732\n",
            "Epoch 7/10\n",
            "240/240 [==============================] - 1s 3ms/step - loss: 0.0281 - accuracy: 0.9922 - val_loss: 0.0786 - val_accuracy: 0.9771\n",
            "Epoch 8/10\n",
            "240/240 [==============================] - 1s 3ms/step - loss: 0.0214 - accuracy: 0.9940 - val_loss: 0.0880 - val_accuracy: 0.9753\n",
            "Epoch 9/10\n",
            "240/240 [==============================] - 1s 3ms/step - loss: 0.0173 - accuracy: 0.9954 - val_loss: 0.0817 - val_accuracy: 0.9774\n",
            "Epoch 10/10\n",
            "240/240 [==============================] - 1s 3ms/step - loss: 0.0122 - accuracy: 0.9969 - val_loss: 0.0882 - val_accuracy: 0.9758\n"
          ],
          "name": "stdout"
        }
      ]
    },
    {
      "cell_type": "code",
      "metadata": {
        "id": "48PC5acXYVfE",
        "colab": {
          "base_uri": "https://localhost:8080/"
        },
        "outputId": "286dbbe0-4746-4bb1-ad4a-cb425b59d012"
      },
      "source": [
        "#print the available history keys for use\n",
        "print(history.history.keys()) "
      ],
      "execution_count": 75,
      "outputs": [
        {
          "output_type": "stream",
          "text": [
            "dict_keys(['loss', 'accuracy', 'val_loss', 'val_accuracy'])\n"
          ],
          "name": "stdout"
        }
      ]
    },
    {
      "cell_type": "code",
      "metadata": {
        "id": "fugX_IoUYXz4",
        "colab": {
          "base_uri": "https://localhost:8080/",
          "height": 297
        },
        "outputId": "d1a7a60b-381b-4baf-c101-0c43455f4726"
      },
      "source": [
        "# plotting the accuracy and loss graphs\n",
        "fig = plt.figure()\n",
        "plt.subplot(2,1,1)\n",
        "plt.plot(history.history['accuracy'])\n",
        "plt.plot(history.history['val_accuracy'])\n",
        "plt.title('Model Accuracy')\n",
        "plt.ylabel('accuracy')\n",
        "plt.xlabel('epoch')\n",
        "plt.legend(['Training accuracy', 'Validation accuracy'], loc='best')\n",
        "\n",
        "plt.subplot(2,1,2)\n",
        "plt.plot(history.history['loss'])\n",
        "plt.plot(history.history['val_loss'])\n",
        "plt.title('Model loss')\n",
        "plt.ylabel('loss')\n",
        "plt.xlabel('epoch')\n",
        "plt.legend(['Training loss', 'Validation loss'], loc='best')\n",
        "\n",
        "plt.tight_layout()"
      ],
      "execution_count": 76,
      "outputs": [
        {
          "output_type": "display_data",
          "data": {
            "image/png": "[encoded data removed]",
            "text/plain": [
              "<Figure size 432x288 with 2 Axes>"
            ]
          },
          "metadata": {
            "tags": [],
            "needs_background": "light"
          }
        }
      ]
    },
    {
      "cell_type": "markdown",
      "metadata": {
        "id": "tUTYnNMV2MYC"
      },
      "source": [
        "<div class=\"alert alert-block alert-info\">\n",
        "    <b>Analysis Summary:</b> So from here, we can see that the training loss and validation loss converged around epoch 1, and the training loss is eventually lesser than the validation loss, hinting overfitting. We will not expect much from this arcitecture and we shall move on to see the results and the test accuracy and model loss.\n",
        "</div>"
      ]
    },
    {
      "cell_type": "markdown",
      "metadata": {
        "id": "zSE3k8H-J43K"
      },
      "source": [
        "### 7.2. Baseline CNN Model\n",
        "\n",
        "---\n",
        "\n",
        "First, we will setup a baseline model using a simple CNN architecture."
      ]
    },
    {
      "cell_type": "markdown",
      "metadata": {
        "id": "-UoxnGMm1NJB"
      },
      "source": [
        "<div class=\"alert alert-block alert-info\">\n",
        "    <b>Analysis Summary:</b> Here, we will try to create a simple CNN model, using relu as our activation  functions for all and adam as our optimizer.\n",
        "</div>"
      ]
    },
    {
      "cell_type": "code",
      "metadata": {
        "id": "H5ZgkP_2Jzp0",
        "colab": {
          "base_uri": "https://localhost:8080/"
        },
        "outputId": "7af9b603-4ee1-4e5b-df78-abb7f5f107d7"
      },
      "source": [
        "# create model and give it a name\n",
        "model = Sequential(name=\"sequential_baseline_model\")\n",
        "\n",
        "# Layer 1 Conv2D\n",
        "model.add(Conv2D(filters=32, kernel_size=(3, 3), activation='relu', input_shape=(28, 28, 1)))\n",
        "# Layer 2 Pooling Layer\n",
        "model.add(MaxPooling2D(pool_size=(2, 2)))\n",
        "\n",
        "# Layer 3 Flatten Layer\n",
        "model.add(Flatten())\n",
        "\n",
        "# Layer 4 Fully Connected Layer (Hidden Layer)\n",
        "model.add(Dense(100, kernel_initializer='he_uniform', activation='relu'))\n",
        "\n",
        "# Output layer\n",
        "model.add(Dense(num_classes, activation='softmax'))\n",
        "\n",
        "# model summary\n",
        "model.summary()"
      ],
      "execution_count": 25,
      "outputs": [
        {
          "output_type": "stream",
          "text": [
            "Model: \"sequential_baseline_model\"\n",
            "_________________________________________________________________\n",
            "Layer (type)                 Output Shape              Param #   \n",
            "=================================================================\n",
            "conv2d (Conv2D)              (None, 26, 26, 32)        320       \n",
            "_________________________________________________________________\n",
            "max_pooling2d (MaxPooling2D) (None, 13, 13, 32)        0         \n",
            "_________________________________________________________________\n",
            "flatten (Flatten)            (None, 5408)              0         \n",
            "_________________________________________________________________\n",
            "dense (Dense)                (None, 100)               540900    \n",
            "_________________________________________________________________\n",
            "dense_1 (Dense)              (None, 10)                1010      \n",
            "=================================================================\n",
            "Total params: 542,230\n",
            "Trainable params: 542,230\n",
            "Non-trainable params: 0\n",
            "_________________________________________________________________\n"
          ],
          "name": "stdout"
        }
      ]
    },
    {
      "cell_type": "code",
      "metadata": {
        "id": "L13mqI75NPs-"
      },
      "source": [
        "# implement a learning rate schedule in keras\n",
        "learning_rate = 0.001\n",
        "beta_1 = 0.9\n",
        "beta_2 = 0.999\n",
        "epsilon = 1e-08\n",
        "\n",
        "adam = Adam(lr=learning_rate, beta_1=beta_1, beta_2=beta_2, epsilon=epsilon)"
      ],
      "execution_count": 26,
      "outputs": []
    },
    {
      "cell_type": "code",
      "metadata": {
        "id": "AEf6RDMSSQUU",
        "colab": {
          "base_uri": "https://localhost:8080/"
        },
        "outputId": "f91f52fe-9b6e-4077-8727-dda342b80ed1"
      },
      "source": [
        "# time to optimise the empty baseline model(an empty shell basically) and fit it with our training dataset\n",
        "# passing params into the newly created model and compile it\n",
        "model.compile(optimizer=adam,\n",
        "             loss='categorical_crossentropy',\n",
        "             metrics=['accuracy'])\n",
        "\n",
        "# train the model\n",
        "history = model.fit(X_train, Y_train, validation_split=0.2, epochs=15, batch_size=32, verbose=1)"
      ],
      "execution_count": 27,
      "outputs": [
        {
          "output_type": "stream",
          "text": [
            "Epoch 1/15\n",
            "1500/1500 [==============================] - 4s 3ms/step - loss: 0.1794 - accuracy: 0.9459 - val_loss: 0.0797 - val_accuracy: 0.9768\n",
            "Epoch 2/15\n",
            "1500/1500 [==============================] - 4s 3ms/step - loss: 0.0592 - accuracy: 0.9819 - val_loss: 0.0591 - val_accuracy: 0.9820\n",
            "Epoch 3/15\n",
            "1500/1500 [==============================] - 4s 3ms/step - loss: 0.0380 - accuracy: 0.9882 - val_loss: 0.0496 - val_accuracy: 0.9852\n",
            "Epoch 4/15\n",
            "1500/1500 [==============================] - 4s 3ms/step - loss: 0.0256 - accuracy: 0.9923 - val_loss: 0.0559 - val_accuracy: 0.9853\n",
            "Epoch 5/15\n",
            "1500/1500 [==============================] - 4s 3ms/step - loss: 0.0179 - accuracy: 0.9939 - val_loss: 0.0556 - val_accuracy: 0.9854\n",
            "Epoch 6/15\n",
            "1500/1500 [==============================] - 4s 3ms/step - loss: 0.0125 - accuracy: 0.9959 - val_loss: 0.0596 - val_accuracy: 0.9852\n",
            "Epoch 7/15\n",
            "1500/1500 [==============================] - 5s 3ms/step - loss: 0.0092 - accuracy: 0.9970 - val_loss: 0.0588 - val_accuracy: 0.9855\n",
            "Epoch 8/15\n",
            "1500/1500 [==============================] - 4s 3ms/step - loss: 0.0082 - accuracy: 0.9970 - val_loss: 0.0643 - val_accuracy: 0.9853\n",
            "Epoch 9/15\n",
            "1500/1500 [==============================] - 4s 3ms/step - loss: 0.0062 - accuracy: 0.9978 - val_loss: 0.0700 - val_accuracy: 0.9847\n",
            "Epoch 10/15\n",
            "1500/1500 [==============================] - 4s 3ms/step - loss: 0.0057 - accuracy: 0.9982 - val_loss: 0.0598 - val_accuracy: 0.9864\n",
            "Epoch 11/15\n",
            "1500/1500 [==============================] - 4s 3ms/step - loss: 0.0046 - accuracy: 0.9985 - val_loss: 0.0623 - val_accuracy: 0.9866\n",
            "Epoch 12/15\n",
            "1500/1500 [==============================] - 4s 3ms/step - loss: 0.0035 - accuracy: 0.9988 - val_loss: 0.0696 - val_accuracy: 0.9853\n",
            "Epoch 13/15\n",
            "1500/1500 [==============================] - 4s 3ms/step - loss: 0.0038 - accuracy: 0.9987 - val_loss: 0.0755 - val_accuracy: 0.9848\n",
            "Epoch 14/15\n",
            "1500/1500 [==============================] - 4s 3ms/step - loss: 0.0030 - accuracy: 0.9989 - val_loss: 0.0706 - val_accuracy: 0.9864\n",
            "Epoch 15/15\n",
            "1500/1500 [==============================] - 4s 3ms/step - loss: 0.0036 - accuracy: 0.9988 - val_loss: 0.0813 - val_accuracy: 0.9859\n"
          ],
          "name": "stdout"
        }
      ]
    },
    {
      "cell_type": "code",
      "metadata": {
        "id": "G7mw9nVaSpnz",
        "colab": {
          "base_uri": "https://localhost:8080/"
        },
        "outputId": "e31544f6-04ca-4aec-93fe-77b074db3a05"
      },
      "source": [
        "#print the available history keys for use\n",
        "print(history.history.keys()) "
      ],
      "execution_count": 28,
      "outputs": [
        {
          "output_type": "stream",
          "text": [
            "dict_keys(['loss', 'accuracy', 'val_loss', 'val_accuracy'])\n"
          ],
          "name": "stdout"
        }
      ]
    },
    {
      "cell_type": "code",
      "metadata": {
        "id": "8bB9_0TEVuD5",
        "colab": {
          "base_uri": "https://localhost:8080/",
          "height": 297
        },
        "outputId": "4432e0cf-0d07-480b-9052-36a53dc711a6"
      },
      "source": [
        "# plotting the accuracy and loss graphs\n",
        "fig = plt.figure()\n",
        "plt.subplot(2,1,1)\n",
        "plt.plot(history.history['accuracy'])\n",
        "plt.plot(history.history['val_accuracy'])\n",
        "plt.title('Model Accuracy')\n",
        "plt.ylabel('accuracy')\n",
        "plt.xlabel('epoch')\n",
        "plt.legend(['Training accuracy', 'Validation accuracy'], loc='best')\n",
        "\n",
        "plt.subplot(2,1,2)\n",
        "plt.plot(history.history['loss'])\n",
        "plt.plot(history.history['val_loss'])\n",
        "plt.title('Model loss')\n",
        "plt.ylabel('loss')\n",
        "plt.xlabel('epoch')\n",
        "plt.legend(['Training loss', 'Validation loss'], loc='best')\n",
        "\n",
        "plt.tight_layout()"
      ],
      "execution_count": 29,
      "outputs": [
        {
          "output_type": "display_data",
          "data": {
            "image/png": "[encoded data removed]",
            "text/plain": [
              "<Figure size 432x288 with 2 Axes>"
            ]
          },
          "metadata": {
            "tags": [],
            "needs_background": "light"
          }
        }
      ]
    },
    {
      "cell_type": "markdown",
      "metadata": {
        "id": "8SGnrf7X1aMW"
      },
      "source": [
        "<div class=\"alert alert-block alert-info\">\n",
        "    <b>Analysis Summary:</b> From here we can see that the training loss and validation loss are not even cconverging at all. The training loss is way lower than the validation loss, a hint of overfitting. Our training accuracy is more accurate than the validation accuracy, which is expected.\n",
        "</div>"
      ]
    },
    {
      "cell_type": "markdown",
      "metadata": {
        "id": "Xco3EGc2WPTi"
      },
      "source": [
        "### 7.3. LeNet-5 CNN Model\n",
        "\n",
        "---\n",
        "\n",
        "Next, we will setup a CNN Model with abit of changes to the  LeNet-5 architecture."
      ]
    },
    {
      "cell_type": "markdown",
      "metadata": {
        "id": "SaUWUfTPZJ39"
      },
      "source": [
        "<div class=\"alert alert-block alert-info\">\n",
        "    <b>Analysis Summary:</b> We  understand that there are a few main reasons for overfitting in Neural Networks. They are mainly due to the network size, lack of weight regularization and lack of dropouts. In order to reduce (or to  prevent this from happenening), we will implement these 3 main points. Here we will implement the modified LeNet-5 Architecture to test out how precise the overall architecture is incuding some of the additional features i feel it is important.\n",
        "</div>"
      ]
    },
    {
      "cell_type": "code",
      "metadata": {
        "id": "K5yWrRR7Obm3",
        "colab": {
          "base_uri": "https://localhost:8080/"
        },
        "outputId": "288f684e-d929-4c5a-eaba-31a68b1914f8"
      },
      "source": [
        "# create model and give it a name\n",
        "model = Sequential(name=\"lenet5_cnn_model_sequential\")\n",
        "\n",
        "# Layer 1 Conv2D\n",
        "model.add(Conv2D(filters=150, kernel_size=(5, 5), strides=(1, 1), activation='relu', input_shape=(28, 28, 1), padding='same'))\n",
        "model.add(BatchNormalization())\n",
        "# Layer 2 Pooling Layer\n",
        "model.add(AveragePooling2D(pool_size=(2, 2), strides=(2, 2)))\n",
        "\n",
        "# Layer 3 Conv2D\n",
        "model.add(Conv2D(filters=140, kernel_size=(5, 5), strides=(1, 1), activation='relu', padding='valid'))\n",
        "model.add(BatchNormalization())\n",
        "# Layer 4 Pooling Layer\n",
        "model.add(AveragePooling2D(pool_size=(2, 2), strides=(2, 2)))\n",
        "\n",
        "# Layer 5 Flatten\n",
        "model.add(Flatten())\n",
        "\n",
        "# Layer 6 Fully Connected Layer (Hidden Layer)\n",
        "model.add(Dense(units=120, activation='relu'))\n",
        "model.add(Dropout(0.2))\n",
        "\n",
        "# Output layer\n",
        "model.add(Dense(units=num_classes, activation='softmax'))\n",
        "\n",
        "# get model summary\n",
        "model.summary()"
      ],
      "execution_count": 414,
      "outputs": [
        {
          "output_type": "stream",
          "text": [
            "Model: \"lenet5_cnn_model_sequential\"\n",
            "_________________________________________________________________\n",
            "Layer (type)                 Output Shape              Param #   \n",
            "=================================================================\n",
            "conv2d_2 (Conv2D)            (None, 28, 28, 150)       3900      \n",
            "_________________________________________________________________\n",
            "batch_normalization_2 (Batch (None, 28, 28, 150)       600       \n",
            "_________________________________________________________________\n",
            "average_pooling2d_2 (Average (None, 14, 14, 150)       0         \n",
            "_________________________________________________________________\n",
            "conv2d_3 (Conv2D)            (None, 10, 10, 140)       525140    \n",
            "_________________________________________________________________\n",
            "batch_normalization_3 (Batch (None, 10, 10, 140)       560       \n",
            "_________________________________________________________________\n",
            "average_pooling2d_3 (Average (None, 5, 5, 140)         0         \n",
            "_________________________________________________________________\n",
            "flatten_1 (Flatten)          (None, 3500)              0         \n",
            "_________________________________________________________________\n",
            "dense_2 (Dense)              (None, 120)               420120    \n",
            "_________________________________________________________________\n",
            "dropout_1 (Dropout)          (None, 120)               0         \n",
            "_________________________________________________________________\n",
            "dense_3 (Dense)              (None, 10)                1210      \n",
            "=================================================================\n",
            "Total params: 951,530\n",
            "Trainable params: 950,950\n",
            "Non-trainable params: 580\n",
            "_________________________________________________________________\n"
          ],
          "name": "stdout"
        }
      ]
    },
    {
      "cell_type": "code",
      "metadata": {
        "id": "6OpTrZNAeqK4",
        "colab": {
          "base_uri": "https://localhost:8080/"
        },
        "outputId": "ae252a14-abc7-4a7d-dc34-d3d17f61ba9f"
      },
      "source": [
        "# time to optimise the empty CNN model(an empty shell basically) and fit it with our training dataset\n",
        "# passing params into the newly created model and compile it\n",
        "model.compile(optimizer=AdaBound(lr=1e-3, final_lr=0.1),\n",
        "             loss='categorical_crossentropy',\n",
        "             metrics=['accuracy'])\n",
        "\n",
        "# train the model\n",
        "history = model.fit(X_train,Y_train, validation_split=0.2, batch_size=16, epochs=15, verbose=1)"
      ],
      "execution_count": 415,
      "outputs": [
        {
          "output_type": "stream",
          "text": [
            "Epoch 1/15\n",
            "3000/3000 [==============================] - 23s 8ms/step - loss: 0.1357 - accuracy: 0.9616 - val_loss: 0.0565 - val_accuracy: 0.9844\n",
            "Epoch 2/15\n",
            "3000/3000 [==============================] - 23s 8ms/step - loss: 0.0486 - accuracy: 0.9871 - val_loss: 0.0429 - val_accuracy: 0.9883\n",
            "Epoch 3/15\n",
            "3000/3000 [==============================] - 22s 7ms/step - loss: 0.0317 - accuracy: 0.9901 - val_loss: 0.0436 - val_accuracy: 0.9881\n",
            "Epoch 4/15\n",
            "3000/3000 [==============================] - 22s 7ms/step - loss: 0.0212 - accuracy: 0.9933 - val_loss: 0.0364 - val_accuracy: 0.9910\n",
            "Epoch 5/15\n",
            "3000/3000 [==============================] - 22s 7ms/step - loss: 0.0172 - accuracy: 0.9946 - val_loss: 0.0384 - val_accuracy: 0.9912\n",
            "Epoch 6/15\n",
            "3000/3000 [==============================] - 22s 7ms/step - loss: 0.0129 - accuracy: 0.9959 - val_loss: 0.0409 - val_accuracy: 0.9913\n",
            "Epoch 7/15\n",
            "3000/3000 [==============================] - 22s 7ms/step - loss: 0.0098 - accuracy: 0.9970 - val_loss: 0.0327 - val_accuracy: 0.9925\n",
            "Epoch 8/15\n",
            "3000/3000 [==============================] - 23s 8ms/step - loss: 0.0060 - accuracy: 0.9980 - val_loss: 0.0364 - val_accuracy: 0.9918\n",
            "Epoch 9/15\n",
            "3000/3000 [==============================] - 22s 7ms/step - loss: 0.0052 - accuracy: 0.9983 - val_loss: 0.0330 - val_accuracy: 0.9933\n",
            "Epoch 10/15\n",
            "3000/3000 [==============================] - 22s 7ms/step - loss: 0.0060 - accuracy: 0.9980 - val_loss: 0.0348 - val_accuracy: 0.9929\n",
            "Epoch 11/15\n",
            "3000/3000 [==============================] - 22s 7ms/step - loss: 0.0044 - accuracy: 0.9984 - val_loss: 0.0346 - val_accuracy: 0.9933\n",
            "Epoch 12/15\n",
            "3000/3000 [==============================] - 22s 7ms/step - loss: 0.0029 - accuracy: 0.9990 - val_loss: 0.0404 - val_accuracy: 0.9925\n",
            "Epoch 13/15\n",
            "3000/3000 [==============================] - 22s 7ms/step - loss: 0.0047 - accuracy: 0.9984 - val_loss: 0.0369 - val_accuracy: 0.9933\n",
            "Epoch 14/15\n",
            "3000/3000 [==============================] - 22s 7ms/step - loss: 0.0035 - accuracy: 0.9989 - val_loss: 0.0354 - val_accuracy: 0.9937\n",
            "Epoch 15/15\n",
            "3000/3000 [==============================] - 22s 7ms/step - loss: 0.0023 - accuracy: 0.9992 - val_loss: 0.0410 - val_accuracy: 0.9936\n"
          ],
          "name": "stdout"
        }
      ]
    },
    {
      "cell_type": "code",
      "metadata": {
        "id": "9z8RTDNDfwLs",
        "colab": {
          "base_uri": "https://localhost:8080/"
        },
        "outputId": "91c8934e-7024-48b7-a2ac-827c5d150e6c"
      },
      "source": [
        "#print the available history keys for use\n",
        "print(history.history.keys())"
      ],
      "execution_count": 416,
      "outputs": [
        {
          "output_type": "stream",
          "text": [
            "dict_keys(['loss', 'accuracy', 'val_loss', 'val_accuracy'])\n"
          ],
          "name": "stdout"
        }
      ]
    },
    {
      "cell_type": "code",
      "metadata": {
        "id": "HuKEAm28BVFB",
        "colab": {
          "base_uri": "https://localhost:8080/",
          "height": 297
        },
        "outputId": "44a28d00-347a-45ea-db51-edbcc2127de3"
      },
      "source": [
        "# plotting the accuracy and loss graphs\n",
        "fig = plt.figure()\n",
        "plt.subplot(2,1,1)\n",
        "plt.plot(history.history['accuracy'])\n",
        "plt.plot(history.history['val_accuracy'])\n",
        "plt.title('Model Accuracy')\n",
        "plt.ylabel('accuracy')\n",
        "plt.xlabel('epoch')\n",
        "plt.legend(['Training accuracy', 'Validation accuracy'], loc='best')\n",
        "\n",
        "plt.subplot(2,1,2)\n",
        "plt.plot(history.history['loss'])\n",
        "plt.plot(history.history['val_loss'])\n",
        "plt.title('Model loss')\n",
        "plt.ylabel('loss')\n",
        "plt.xlabel('epoch')\n",
        "plt.legend(['Training loss', 'Validation loss'], loc='best')\n",
        "\n",
        "plt.tight_layout()"
      ],
      "execution_count": 417,
      "outputs": [
        {
          "output_type": "display_data",
          "data": {
            "image/png": "[encoded data removed]",
            "text/plain": [
              "<Figure size 432x288 with 2 Axes>"
            ]
          },
          "metadata": {
            "tags": [],
            "needs_background": "light"
          }
        }
      ]
    },
    {
      "cell_type": "markdown",
      "metadata": {
        "id": "joZ4opck0qo-"
      },
      "source": [
        "<div class=\"alert alert-block alert-info\">\n",
        "    <b>Analysis Summary:</b> From what we can see here, the training data and the validation data are not converging at all. This is a sign of overfitting as our training loss is much lesser than the validation loss. We could have plotted out a few more epochs to see if it will converge later or not, but we see that there is not much changes after around 6 epochs, and therefore, we dropped that idea. We will try to add in more penalizers and modify the code more to reduce overfitting.\n",
        "</div>"
      ]
    },
    {
      "cell_type": "markdown",
      "metadata": {
        "id": "ZbCUBdNt1yZ-"
      },
      "source": [
        "### 7.4. LeNet-5 CNN Hyper-Parameter Tuned Model\n",
        "\n",
        "---\n",
        "\n",
        "Next, we will setup a LeNet-5 CNN Hyper Parameter Tuned Model that has undergone hyper-parameter tuning."
      ]
    },
    {
      "cell_type": "markdown",
      "metadata": {
        "id": "zCuh2Nbmutk_"
      },
      "source": [
        "<div class=\"alert alert-block alert-info\">\n",
        "    <b>Analysis Summary:</b> Now from our previous model, it seems that the accuracy score is around 99%, and the model loss is now less than 1%, which is a good indicator that it is a good architecture. We will try to use SGD here as our optimizer. Firstly, we will do a HyperBand, a \"twin\" of randomsearch to get the best parameter for the weight initializer. After we get the results, we will then proceed on to fit into the model. In the process, i will use HyperBand to tune the hyperparameter.\n",
        "</div>"
      ]
    },
    {
      "cell_type": "code",
      "metadata": {
        "id": "y2PlFX6mOoJC"
      },
      "source": [
        "# create a hypermodel class to do randomsearch wif kerastuner\n",
        "class CNNHyperModel(HyperModel):\n",
        "  def __init__(self, input_shape, num_classes):\n",
        "    self.input_shape = input_shape\n",
        "    self.num_classes = num_classes\n",
        "\n",
        "  def build(self, hp):\n",
        "    # Instantiate a Sequential model\n",
        "    model = Sequential()\n",
        "\n",
        "    # Layer 1 Conv2D\n",
        "    model.add(Conv2D(filters=150, kernel_size=(5, 5), strides=(1, 1), activation='relu', input_shape=self.input_shape, padding='same'))\n",
        "    model.add(BatchNormalization())\n",
        "    # Layer 2 Pooling Layer\n",
        "    model.add(AveragePooling2D(pool_size=(2, 2), strides=(2, 2)))\n",
        "\n",
        "    # Layer 3 Conv2D\n",
        "    model.add(Conv2D(filters=140, kernel_size=(5, 5), strides=(1, 1), activation='relu', padding='valid'))\n",
        "    model.add(BatchNormalization())\n",
        "    # Layer 4 Pooling Layer\n",
        "    model.add(AveragePooling2D(pool_size=(2, 2), strides=(2, 2)))\n",
        "\n",
        "    # Layer 5 Flatten\n",
        "    model.add(Flatten())\n",
        "\n",
        "    # Layer 6 Fully Connected Layer (Hidden Layer)\n",
        "    model.add(Dense(units=120, \n",
        "                    activation='relu',\n",
        "                    kernel_initializer=hp.Choice(\n",
        "                        'dense_kernel_initalizer',\n",
        "                        values=['uniform','normal','glorot_normal', 'glorot_uniform', 'he_normal', 'he_uniform'],\n",
        "                        default='glorot_uniform'\n",
        "                    )))\n",
        "    model.add(Dropout(0.2))\n",
        "\n",
        "    # Output layer\n",
        "    model.add(Dense(units=self.num_classes, activation='softmax'))\n",
        "\n",
        "    # passing params into the newly created model and compile it\n",
        "    model.compile(optimizer='sgd',\n",
        "              loss='categorical_crossentropy',\n",
        "              metrics=['accuracy'])\n",
        "    \n",
        "    return model"
      ],
      "execution_count": 25,
      "outputs": []
    },
    {
      "cell_type": "code",
      "metadata": {
        "id": "L4QEDR64RkRS"
      },
      "source": [
        "# put in the input shape and the number of classes\n",
        "hypermodel = CNNHyperModel(input_shape=(28, 28, 1), num_classes=num_classes)"
      ],
      "execution_count": 26,
      "outputs": []
    },
    {
      "cell_type": "markdown",
      "metadata": {
        "id": "a6-qjoSz3DU-"
      },
      "source": [
        "<div class=\"alert alert-block alert-info\">\n",
        "    <b>Analysis Summary:</b> We have to declare our directory and project_name for kerastuner to save all the checkpoints at. We will also initiate our HyperBand here after compiling our model.\n",
        "</div>"
      ]
    },
    {
      "cell_type": "code",
      "metadata": {
        "id": "USR8wWXJUEt9"
      },
      "source": [
        "# call yur hyperparameter tuning method\n",
        "tuner = Hyperband(\n",
        "    hypermodel,\n",
        "    max_epochs=60,\n",
        "    objective='val_accuracy',\n",
        "    executions_per_trial=2,\n",
        "    directory='.',\n",
        "    project_name='hyperparam_cnn'\n",
        ")"
      ],
      "execution_count": 28,
      "outputs": []
    },
    {
      "cell_type": "code",
      "metadata": {
        "colab": {
          "base_uri": "https://localhost:8080/"
        },
        "id": "yQ7oGv4hRx47",
        "outputId": "02ad3eda-5e7f-4599-9521-55d98082b0cf"
      },
      "source": [
        "# see the hyperparam to change\n",
        "tuner.search_space_summary()"
      ],
      "execution_count": 29,
      "outputs": [
        {
          "output_type": "stream",
          "text": [
            "Search space summary\n",
            "Default search space size: 1\n",
            "dense_kernel_initalizer (Choice)\n",
            "{'default': 'glorot_uniform', 'conditions': [], 'values': ['uniform', 'normal', 'glorot_normal', 'glorot_uniform', 'he_normal', 'he_uniform'], 'ordered': False}\n"
          ],
          "name": "stdout"
        }
      ]
    },
    {
      "cell_type": "markdown",
      "metadata": {
        "id": "_k6gWsdU3PZg"
      },
      "source": [
        "<div class=\"alert alert-block alert-info\">\n",
        "    <b>Analysis Summary:</b> Here, we can see that our search space are the values, and they are not ordered. 'glorot_uniform' is the default and it will change as the model search for the best param.\n",
        "</div>"
      ]
    },
    {
      "cell_type": "code",
      "metadata": {
        "id": "PEyhYynzW9W4"
      },
      "source": [
        "# declare decay_rate and learning_rate here\n",
        "learning_rate = 0.1 \n",
        "decay_rate = 0.1\n",
        "\n",
        "# define the learning rate change \n",
        "def exp_decay(epoch):\n",
        "    lrate = learning_rate * np.exp(-decay_rate*epoch)\n",
        "    return lrate\n",
        "    \n",
        "# learning schedule callback\n",
        "lr_rate = LearningRateScheduler(exp_decay)\n",
        "callbacks_list = [lr_rate]"
      ],
      "execution_count": 30,
      "outputs": []
    },
    {
      "cell_type": "markdown",
      "metadata": {
        "id": "u4W0tYE-3eWA"
      },
      "source": [
        "<div class=\"alert alert-block alert-info\">\n",
        "    <b>Analysis Summary:</b> We initiate a learning rate here so that our model training is smoother and that it will change the learning rate during training.\n",
        "</div>"
      ]
    },
    {
      "cell_type": "code",
      "metadata": {
        "colab": {
          "base_uri": "https://localhost:8080/"
        },
        "id": "qcBN4dDuTCo6",
        "outputId": "3a9f9f68-cf08-461d-a869-84367a465860"
      },
      "source": [
        "# start the tuning\n",
        "tuner.search(X_train, Y_train, epochs=30, validation_split=0.2, callbacks=[EarlyStopping(monitor='val_loss', patience=5), callbacks_list])"
      ],
      "execution_count": 31,
      "outputs": [
        {
          "output_type": "stream",
          "text": [
            "Trial 6 Complete [00h 00m 58s]\n",
            "val_accuracy: 0.9900000095367432\n",
            "\n",
            "Best val_accuracy So Far: 0.9906249940395355\n",
            "Total elapsed time: 00h 05m 57s\n",
            "INFO:tensorflow:Oracle triggered exit\n"
          ],
          "name": "stdout"
        }
      ]
    },
    {
      "cell_type": "markdown",
      "metadata": {
        "id": "CM-yDcsI4JZs"
      },
      "source": [
        "<div class=\"alert alert-block alert-info\">\n",
        "    <b>Analysis Summary:</b> Once its jobs is done, it will trigger exit and not proceed on to test out more.\n",
        "</div>"
      ]
    },
    {
      "cell_type": "code",
      "metadata": {
        "colab": {
          "base_uri": "https://localhost:8080/"
        },
        "id": "7Xaxj5QHTQ1U",
        "outputId": "20174fab-3a65-4895-a914-6833c4db9c89"
      },
      "source": [
        "# Show a summary of the search\n",
        "tuner.results_summary()"
      ],
      "execution_count": 32,
      "outputs": [
        {
          "output_type": "stream",
          "text": [
            "Results summary\n",
            "Results in ./hyperparam_cnn\n",
            "Showing 10 best trials\n",
            "Objective(name='val_accuracy', direction='max')\n",
            "Trial summary\n",
            "Hyperparameters:\n",
            "dense_kernel_initalizer: glorot_uniform\n",
            "tuner/epochs: 3\n",
            "tuner/initial_epoch: 0\n",
            "tuner/bracket: 3\n",
            "tuner/round: 0\n",
            "Score: 0.9906249940395355\n",
            "Trial summary\n",
            "Hyperparameters:\n",
            "dense_kernel_initalizer: uniform\n",
            "tuner/epochs: 3\n",
            "tuner/initial_epoch: 0\n",
            "tuner/bracket: 3\n",
            "tuner/round: 0\n",
            "Score: 0.9900000095367432\n",
            "Trial summary\n",
            "Hyperparameters:\n",
            "dense_kernel_initalizer: he_uniform\n",
            "tuner/epochs: 3\n",
            "tuner/initial_epoch: 0\n",
            "tuner/bracket: 3\n",
            "tuner/round: 0\n",
            "Score: 0.9897083342075348\n",
            "Trial summary\n",
            "Hyperparameters:\n",
            "dense_kernel_initalizer: glorot_normal\n",
            "tuner/epochs: 3\n",
            "tuner/initial_epoch: 0\n",
            "tuner/bracket: 3\n",
            "tuner/round: 0\n",
            "Score: 0.9886666536331177\n",
            "Trial summary\n",
            "Hyperparameters:\n",
            "dense_kernel_initalizer: normal\n",
            "tuner/epochs: 3\n",
            "tuner/initial_epoch: 0\n",
            "tuner/bracket: 3\n",
            "tuner/round: 0\n",
            "Score: 0.9880416691303253\n",
            "Trial summary\n",
            "Hyperparameters:\n",
            "dense_kernel_initalizer: he_normal\n",
            "tuner/epochs: 3\n",
            "tuner/initial_epoch: 0\n",
            "tuner/bracket: 3\n",
            "tuner/round: 0\n",
            "Score: 0.9846666753292084\n"
          ],
          "name": "stdout"
        }
      ]
    },
    {
      "cell_type": "code",
      "metadata": {
        "id": "X2yXz1Bccibr"
      },
      "source": [
        "# Get the optimal hyperparameters\n",
        "best_hps = tuner.get_best_hyperparameters(num_trials = 1)[0]"
      ],
      "execution_count": 33,
      "outputs": []
    },
    {
      "cell_type": "code",
      "metadata": {
        "id": "4n8z1rqFc4ll"
      },
      "source": [
        "# retrain the model with the optimal hyperparam search\n",
        "# Build the model with the optimal hyperparameters and train it on the data\n",
        "model = tuner.hypermodel.build(best_hps)"
      ],
      "execution_count": 34,
      "outputs": []
    },
    {
      "cell_type": "markdown",
      "metadata": {
        "id": "7S80LE_uuHZb"
      },
      "source": [
        "<div class=\"alert alert-block alert-info\">\n",
        "    <b>Analysis Summary:</b> From here, we can see that the best weight initializer is he_uniform with an accuracy score of 0.9896250069141388. So what we shall do right now is to use that initializer and refit it into a new model as we cannot use that to evaluate our loss and accuracy using the keras evaluate method. Here, we shall also go and use our ImageDataGenerator and see if we can improve the loss and accuracy score.\n",
        "</div>"
      ]
    },
    {
      "cell_type": "code",
      "metadata": {
        "id": "P46Y1k_M3xyI"
      },
      "source": [
        "# we shall do some ImageDataGenerator here to augment the input data, which can help prevent over-fitting as we augment the images\n",
        "datagen = ImageDataGenerator(\n",
        "    rotation_range=8,\n",
        "    shear_range=0.3,\n",
        "    zoom_range=0.08,\n",
        "    width_shift_range=0.08,\n",
        "    height_shift_range=0.08,\n",
        "    rescale=1.1\n",
        ")"
      ],
      "execution_count": 35,
      "outputs": []
    },
    {
      "cell_type": "code",
      "metadata": {
        "id": "iKnBDM5xMRel"
      },
      "source": [
        "# fit the generator to the data first before training\n",
        "datagen.fit(X_train)"
      ],
      "execution_count": 36,
      "outputs": []
    },
    {
      "cell_type": "code",
      "metadata": {
        "colab": {
          "base_uri": "https://localhost:8080/",
          "height": 297
        },
        "id": "_A4_icneMl4Q",
        "outputId": "8a7319fe-5bb4-402f-899a-4ab7b0467947"
      },
      "source": [
        "# preview our augmented images here\n",
        "for X_batch, Y_batch in datagen.flow(X_train, Y_train, batch_size=60000):\n",
        "  for i in range(0, 9):\n",
        "    plt.subplot(330 + 1 + i)\n",
        "    plt.imshow(X_batch[i].reshape(28, 28), cmap=('gray'))\n",
        "  plt.tight_layout()\n",
        "  plt.show()\n",
        "  break\n",
        "\n",
        "# concatenate the augmented data into a numpy array\n",
        "augmented_data_X_train = np.concatenate((X_train, X_batch))\n",
        "augmented_data_Y_train = np.concatenate((Y_train, Y_batch))"
      ],
      "execution_count": 37,
      "outputs": [
        {
          "output_type": "display_data",
          "data": {
            "image/png": "[encoded data removed]",
            "text/plain": [
              "<Figure size 432x288 with 9 Axes>"
            ]
          },
          "metadata": {
            "tags": [],
            "needs_background": "light"
          }
        }
      ]
    },
    {
      "cell_type": "markdown",
      "metadata": {
        "id": "jsGjv4bKKnpL"
      },
      "source": [
        "<div class=\"alert alert-block alert-info\">\n",
        "    <b>Analysis Summary:</b> From here, we add in the new generated digits and concat them with the training dataset.\n",
        "</div>"
      ]
    },
    {
      "cell_type": "code",
      "metadata": {
        "colab": {
          "base_uri": "https://localhost:8080/"
        },
        "id": "KmTCwi01yYR5",
        "outputId": "fe430d6e-f4d2-4d1f-98b6-619e7056c179"
      },
      "source": [
        "# train the model(we use .fit since .fit_generator is depreciated already)\n",
        "history = model.fit(augmented_data_X_train,\n",
        "                    augmented_data_Y_train,\n",
        "                    batch_size=640,\n",
        "                    epochs=60,\n",
        "                    callbacks=[EarlyStopping(monitor='val_loss', patience=5), callbacks_list],\n",
        "                    validation_data=(X_test, Y_test),\n",
        "                    verbose=1)"
      ],
      "execution_count": 38,
      "outputs": [
        {
          "output_type": "stream",
          "text": [
            "Epoch 1/60\n",
            "188/188 [==============================] - 13s 70ms/step - loss: 0.2974 - accuracy: 0.9141 - val_loss: 2.9543 - val_accuracy: 0.1977\n",
            "Epoch 2/60\n",
            "188/188 [==============================] - 13s 68ms/step - loss: 0.0713 - accuracy: 0.9790 - val_loss: 2.5638 - val_accuracy: 0.2338\n",
            "Epoch 3/60\n",
            "188/188 [==============================] - 13s 69ms/step - loss: 0.0498 - accuracy: 0.9850 - val_loss: 0.3540 - val_accuracy: 0.8675\n",
            "Epoch 4/60\n",
            "188/188 [==============================] - 13s 69ms/step - loss: 0.0395 - accuracy: 0.9878 - val_loss: 0.0282 - val_accuracy: 0.9921\n",
            "Epoch 5/60\n",
            "188/188 [==============================] - 13s 68ms/step - loss: 0.0335 - accuracy: 0.9900 - val_loss: 0.0241 - val_accuracy: 0.9929\n",
            "Epoch 6/60\n",
            "188/188 [==============================] - 13s 68ms/step - loss: 0.0292 - accuracy: 0.9912 - val_loss: 0.0188 - val_accuracy: 0.9929\n",
            "Epoch 7/60\n",
            "188/188 [==============================] - 13s 68ms/step - loss: 0.0255 - accuracy: 0.9925 - val_loss: 0.0181 - val_accuracy: 0.9942\n",
            "Epoch 8/60\n",
            "188/188 [==============================] - 13s 68ms/step - loss: 0.0235 - accuracy: 0.9930 - val_loss: 0.0164 - val_accuracy: 0.9943\n",
            "Epoch 9/60\n",
            "188/188 [==============================] - 13s 68ms/step - loss: 0.0216 - accuracy: 0.9935 - val_loss: 0.0170 - val_accuracy: 0.9937\n",
            "Epoch 10/60\n",
            "188/188 [==============================] - 13s 68ms/step - loss: 0.0198 - accuracy: 0.9942 - val_loss: 0.0158 - val_accuracy: 0.9944\n",
            "Epoch 11/60\n",
            "188/188 [==============================] - 13s 68ms/step - loss: 0.0180 - accuracy: 0.9948 - val_loss: 0.0149 - val_accuracy: 0.9944\n",
            "Epoch 12/60\n",
            "188/188 [==============================] - 13s 68ms/step - loss: 0.0175 - accuracy: 0.9949 - val_loss: 0.0147 - val_accuracy: 0.9942\n",
            "Epoch 13/60\n",
            "188/188 [==============================] - 13s 68ms/step - loss: 0.0162 - accuracy: 0.9955 - val_loss: 0.0149 - val_accuracy: 0.9948\n",
            "Epoch 14/60\n",
            "188/188 [==============================] - 13s 68ms/step - loss: 0.0156 - accuracy: 0.9955 - val_loss: 0.0147 - val_accuracy: 0.9951\n",
            "Epoch 15/60\n",
            "188/188 [==============================] - 13s 68ms/step - loss: 0.0151 - accuracy: 0.9959 - val_loss: 0.0141 - val_accuracy: 0.9948\n",
            "Epoch 16/60\n",
            "188/188 [==============================] - 13s 68ms/step - loss: 0.0143 - accuracy: 0.9962 - val_loss: 0.0140 - val_accuracy: 0.9950\n",
            "Epoch 17/60\n",
            "188/188 [==============================] - 13s 68ms/step - loss: 0.0135 - accuracy: 0.9962 - val_loss: 0.0148 - val_accuracy: 0.9944\n",
            "Epoch 18/60\n",
            "188/188 [==============================] - 13s 68ms/step - loss: 0.0133 - accuracy: 0.9963 - val_loss: 0.0141 - val_accuracy: 0.9949\n",
            "Epoch 19/60\n",
            "188/188 [==============================] - 13s 68ms/step - loss: 0.0130 - accuracy: 0.9965 - val_loss: 0.0139 - val_accuracy: 0.9951\n",
            "Epoch 20/60\n",
            "188/188 [==============================] - 13s 68ms/step - loss: 0.0124 - accuracy: 0.9967 - val_loss: 0.0135 - val_accuracy: 0.9949\n",
            "Epoch 21/60\n",
            "188/188 [==============================] - 13s 68ms/step - loss: 0.0124 - accuracy: 0.9968 - val_loss: 0.0135 - val_accuracy: 0.9949\n",
            "Epoch 22/60\n",
            "188/188 [==============================] - 13s 68ms/step - loss: 0.0121 - accuracy: 0.9969 - val_loss: 0.0134 - val_accuracy: 0.9949\n",
            "Epoch 23/60\n",
            "188/188 [==============================] - 13s 69ms/step - loss: 0.0118 - accuracy: 0.9970 - val_loss: 0.0137 - val_accuracy: 0.9950\n",
            "Epoch 24/60\n",
            "188/188 [==============================] - 13s 68ms/step - loss: 0.0116 - accuracy: 0.9968 - val_loss: 0.0136 - val_accuracy: 0.9949\n",
            "Epoch 25/60\n",
            "188/188 [==============================] - 13s 68ms/step - loss: 0.0112 - accuracy: 0.9973 - val_loss: 0.0134 - val_accuracy: 0.9951\n",
            "Epoch 26/60\n",
            "188/188 [==============================] - 13s 68ms/step - loss: 0.0110 - accuracy: 0.9972 - val_loss: 0.0134 - val_accuracy: 0.9949\n",
            "Epoch 27/60\n",
            "188/188 [==============================] - 13s 68ms/step - loss: 0.0111 - accuracy: 0.9971 - val_loss: 0.0132 - val_accuracy: 0.9946\n",
            "Epoch 28/60\n",
            "188/188 [==============================] - 13s 68ms/step - loss: 0.0110 - accuracy: 0.9974 - val_loss: 0.0131 - val_accuracy: 0.9950\n",
            "Epoch 29/60\n",
            "188/188 [==============================] - 13s 68ms/step - loss: 0.0107 - accuracy: 0.9973 - val_loss: 0.0133 - val_accuracy: 0.9949\n",
            "Epoch 30/60\n",
            "188/188 [==============================] - 13s 68ms/step - loss: 0.0106 - accuracy: 0.9974 - val_loss: 0.0132 - val_accuracy: 0.9949\n",
            "Epoch 31/60\n",
            "188/188 [==============================] - 13s 68ms/step - loss: 0.0106 - accuracy: 0.9974 - val_loss: 0.0134 - val_accuracy: 0.9950\n",
            "Epoch 32/60\n",
            "188/188 [==============================] - 13s 68ms/step - loss: 0.0105 - accuracy: 0.9974 - val_loss: 0.0132 - val_accuracy: 0.9951\n",
            "Epoch 33/60\n",
            "188/188 [==============================] - 13s 68ms/step - loss: 0.0104 - accuracy: 0.9974 - val_loss: 0.0132 - val_accuracy: 0.9952\n"
          ],
          "name": "stdout"
        }
      ]
    },
    {
      "cell_type": "code",
      "metadata": {
        "colab": {
          "base_uri": "https://localhost:8080/"
        },
        "id": "yHXqsJLpzzv2",
        "outputId": "78a948d5-8dc0-4af1-8091-e53923d2e085"
      },
      "source": [
        "#print the available history keys for use\n",
        "print(history.history.keys())"
      ],
      "execution_count": 42,
      "outputs": [
        {
          "output_type": "stream",
          "text": [
            "dict_keys(['loss', 'accuracy', 'val_loss', 'val_accuracy', 'lr'])\n"
          ],
          "name": "stdout"
        }
      ]
    },
    {
      "cell_type": "code",
      "metadata": {
        "colab": {
          "base_uri": "https://localhost:8080/",
          "height": 295
        },
        "id": "SJZ6MS-pxuK-",
        "outputId": "7a3cafbd-7325-4470-9487-6ac4788f0fd8"
      },
      "source": [
        "# plot learning rate curve\n",
        "learning_rate = history.history['lr']\n",
        "epochs = range(1, len(learning_rate) + 1)\n",
        "plt.plot(epochs, learning_rate)\n",
        "plt.title('Learning rate')\n",
        "plt.xlabel('Epochs')\n",
        "plt.ylabel('Learning rate')\n",
        "plt.show()"
      ],
      "execution_count": 43,
      "outputs": [
        {
          "output_type": "display_data",
          "data": {
            "image/png": "[encoded data removed]",
            "text/plain": [
              "<Figure size 432x288 with 1 Axes>"
            ]
          },
          "metadata": {
            "tags": [],
            "needs_background": "light"
          }
        }
      ]
    },
    {
      "cell_type": "code",
      "metadata": {
        "colab": {
          "base_uri": "https://localhost:8080/",
          "height": 297
        },
        "id": "-a-jbHpAz32l",
        "outputId": "a3aa3031-e0ec-478d-c39e-473704529744"
      },
      "source": [
        "# plotting the accuracy and loss graphs\n",
        "fig = plt.figure()\n",
        "plt.subplot(2,1,1)\n",
        "plt.plot(history.history['accuracy'])\n",
        "plt.plot(history.history['val_accuracy'])\n",
        "plt.title('Model Accuracy')\n",
        "plt.ylabel('accuracy')\n",
        "plt.xlabel('epoch')\n",
        "plt.legend(['Training accuracy', 'Validation accuracy'], loc='best')\n",
        "\n",
        "plt.subplot(2,1,2)\n",
        "plt.plot(history.history['loss'])\n",
        "plt.plot(history.history['val_loss'])\n",
        "plt.title('Model loss')\n",
        "plt.ylabel('loss')\n",
        "plt.xlabel('epoch')\n",
        "plt.legend(['Training loss', 'Validation loss'], loc='best')\n",
        "\n",
        "plt.tight_layout()"
      ],
      "execution_count": 44,
      "outputs": [
        {
          "output_type": "display_data",
          "data": {
            "image/png": "[encoded data removed]",
            "text/plain": [
              "<Figure size 432x288 with 2 Axes>"
            ]
          },
          "metadata": {
            "tags": [],
            "needs_background": "light"
          }
        }
      ]
    },
    {
      "cell_type": "markdown",
      "metadata": {
        "id": "dbN2VJ3LKuqz"
      },
      "source": [
        "<div class=\"alert alert-block alert-info\">\n",
        "    <b>Analysis Summary:</b> From here, we can see that our training loss and validation loss converge very nicely. This means we have minimized loss effectively.\n",
        "</div>"
      ]
    },
    {
      "cell_type": "markdown",
      "metadata": {
        "id": "Il5MVQPrXIGb"
      },
      "source": [
        "---\n",
        "---"
      ]
    },
    {
      "cell_type": "markdown",
      "metadata": {
        "id": "IjU3M0fUWcX5"
      },
      "source": [
        "# 8.Test Accuracy, Loss And Results"
      ]
    },
    {
      "cell_type": "markdown",
      "metadata": {
        "id": "Fkjxd09IWoqV"
      },
      "source": [
        "### 8.1. MLP Baseline Model Result\n",
        "\n",
        "---\n",
        "\n",
        "Get the result for the MLP baseline model."
      ]
    },
    {
      "cell_type": "code",
      "metadata": {
        "id": "xFoS6DMyWrRb",
        "colab": {
          "base_uri": "https://localhost:8080/"
        },
        "outputId": "0ddb506b-e81c-4b2b-ad29-26e9c6a5f3de"
      },
      "source": [
        "# now we shall evaluate the model and see the accuracy\n",
        "loss, accuracy = model.evaluate(X_test_MLP,Y_test)\n",
        "print(\"Test loss:\", loss)\n",
        "print(\"Test accuracy:\", accuracy)\n",
        "print(\"MLP Baseline Model Accuracy: %.2f%%\" % (accuracy*100))\n",
        "print(\"MLP Baseline Model Error: %.2f%%\" % (100-accuracy*100))"
      ],
      "execution_count": 77,
      "outputs": [
        {
          "output_type": "stream",
          "text": [
            "313/313 [==============================] - 1s 2ms/step - loss: 0.0773 - accuracy: 0.9777\n",
            "Test loss: 0.07730107009410858\n",
            "Test accuracy: 0.9776999950408936\n",
            "MLP Baseline Model Accuracy: 97.77%\n",
            "MLP Baseline Model Error: 2.23%\n"
          ],
          "name": "stdout"
        }
      ]
    },
    {
      "cell_type": "markdown",
      "metadata": {
        "id": "B3p-72FBLC0y"
      },
      "source": [
        "<div class=\"alert alert-block alert-info\">\n",
        "    <b>Analysis Summary:</b> We can see that our baseline model have a error of 2.02% and accuracy of 97.98%. It is quite impressive that just a MLP arcitecture can already result in such high accuracy. But our test loss is 0.06, and we will try to minimize it.\n",
        "</div>"
      ]
    },
    {
      "cell_type": "code",
      "metadata": {
        "id": "s8sDs7hJWtWX",
        "colab": {
          "base_uri": "https://localhost:8080/",
          "height": 729
        },
        "outputId": "27827d74-baba-4fc5-f149-1d01818bb1b7"
      },
      "source": [
        "# plot our confusion matrix here to see how many labels got misplaced\n",
        "def plot_confusion_matrix(cm, classes,\n",
        "                          normalize=False,\n",
        "                          title='Confusion matrix',\n",
        "                          cmap=plt.cm.Blues):\n",
        "    \"\"\"\n",
        "    This function prints and plots the confusion matrix.\n",
        "    Normalization can be applied by setting `normalize=True`.\n",
        "    \"\"\"\n",
        "    plt.figure(figsize=(10, 10)) # Set Figure\n",
        "    plt.imshow(cm, interpolation='nearest', cmap=cmap)\n",
        "    plt.title(title)\n",
        "    plt.colorbar()\n",
        "    tick_marks = np.arange(len(classes))\n",
        "    plt.xticks(tick_marks, classes, rotation=45)\n",
        "    plt.yticks(tick_marks, classes)\n",
        "\n",
        "    if normalize:\n",
        "        cm = cm.astype('float') / cm.sum(axis=1)[:, np.newaxis]\n",
        "\n",
        "    thresh = cm.max() / 2.\n",
        "    for i, j in itertools.product(range(cm.shape[0]), range(cm.shape[1])):\n",
        "        plt.text(j, i, cm[i, j],\n",
        "                 horizontalalignment=\"center\",\n",
        "                 color=\"white\" if cm[i, j] > thresh else \"black\")\n",
        "\n",
        "    plt.tight_layout()\n",
        "    plt.ylabel('True label')\n",
        "    plt.xlabel('Predicted label')\n",
        "\n",
        "# Predict the values from the validation dataset\n",
        "Y_pred = model.predict(X_test_MLP)\n",
        "# Convert predictions classes to one hot vectors \n",
        "Y_pred_classes = np.argmax(Y_pred,axis = 1) \n",
        "# Convert validation observations to one hot vectors\n",
        "Y_true = np.argmax(Y_test,axis = 1) \n",
        "# compute the confusion matrix\n",
        "confusion_mtx = confusion_matrix(Y_true, Y_pred_classes) \n",
        "# plot the confusion matrix\n",
        "plot_confusion_matrix(confusion_mtx, classes = range(10)) "
      ],
      "execution_count": 78,
      "outputs": [
        {
          "output_type": "display_data",
          "data": {
            "image/png": "[encoded data removed]",
            "text/plain": [
              "<Figure size 720x720 with 2 Axes>"
            ]
          },
          "metadata": {
            "tags": [],
            "needs_background": "light"
          }
        }
      ]
    },
    {
      "cell_type": "code",
      "metadata": {
        "id": "KULCyhHSWv1a",
        "colab": {
          "base_uri": "https://localhost:8080/",
          "height": 349
        },
        "outputId": "0722456d-e653-417d-8e19-e7afc22782b4"
      },
      "source": [
        "# Display some error results \n",
        "\n",
        "# Errors are difference between predicted labels and true labels\n",
        "errors = (Y_pred_classes - Y_true != 0)\n",
        "\n",
        "Y_pred_classes_errors = Y_pred_classes[errors]\n",
        "Y_pred_errors = Y_pred[errors]\n",
        "Y_true_errors = Y_true[errors]\n",
        "X_val_errors = X_test_MLP[errors]\n",
        "\n",
        "# see which we predicted correctly and which not\n",
        "correct_indices = np.nonzero(Y_pred_classes == y_test)[0]\n",
        "incorrect_indices = np.nonzero(Y_pred_classes != y_test)[0]\n",
        "print()\n",
        "print(len(correct_indices),\" classified correctly\")\n",
        "print(len(incorrect_indices),\" classified incorrectly\")\n",
        "\n",
        "def display_errors(errors_index,img_errors,pred_errors, obs_errors):\n",
        "    \"\"\" This function shows 6 images with their predicted and real labels\"\"\"\n",
        "    n = 0\n",
        "    nrows = 2\n",
        "    ncols = 3\n",
        "    fig, ax = plt.subplots(nrows,ncols,sharex=True,sharey=True)\n",
        "    for row in range(nrows):\n",
        "        for col in range(ncols):\n",
        "            error = errors_index[n]\n",
        "            ax[row,col].imshow((img_errors[error]).reshape((28,28)), cmap=plt.cm.binary)\n",
        "            ax[row,col].set_title(\"Predicted label :{}\\nTrue label :{}\".format(pred_errors[error],obs_errors[error]))\n",
        "            n += 1\n",
        "    plt.tight_layout()\n",
        "\n",
        "# Probabilities of the wrong predicted numbers\n",
        "Y_pred_errors_prob = np.max(Y_pred_errors,axis = 1)\n",
        "\n",
        "# Predicted probabilities of the true values in the error set\n",
        "true_prob_errors = np.diagonal(np.take(Y_pred_errors, Y_true_errors, axis=1))\n",
        "\n",
        "# Difference between the probability of the predicted label and the true label\n",
        "delta_pred_true_errors = Y_pred_errors_prob - true_prob_errors\n",
        "\n",
        "# Sorted list of the delta prob errors\n",
        "sorted_dela_errors = np.argsort(delta_pred_true_errors)\n",
        "\n",
        "# Top 6 errors \n",
        "most_important_errors = sorted_dela_errors[-6:]\n",
        "\n",
        "# Show the top 6 errors\n",
        "display_errors(most_important_errors, X_val_errors, Y_pred_classes_errors, Y_true_errors)"
      ],
      "execution_count": 79,
      "outputs": [
        {
          "output_type": "stream",
          "text": [
            "\n",
            "9777  classified correctly\n",
            "223  classified incorrectly\n"
          ],
          "name": "stdout"
        },
        {
          "output_type": "display_data",
          "data": {
            "image/png": "[encoded data removed]",
            "text/plain": [
              "<Figure size 432x288 with 6 Axes>"
            ]
          },
          "metadata": {
            "tags": [],
            "needs_background": "light"
          }
        }
      ]
    },
    {
      "cell_type": "markdown",
      "metadata": {
        "id": "FFQjVBe9Lj0Q"
      },
      "source": [
        "<div class=\"alert alert-block alert-info\">\n",
        "    <b>Analysis Summary:</b> From here, we can see that 5 and 9 have been misclassified as 3, and these 2 are the top errors here. We even have 202 classified incorrectly.\n",
        "</div>"
      ]
    },
    {
      "cell_type": "code",
      "metadata": {
        "id": "2GNlRJEExhTd",
        "colab": {
          "base_uri": "https://localhost:8080/",
          "height": 594
        },
        "outputId": "8d715325-b640-4362-fae5-22c8e2675049"
      },
      "source": [
        "# obtain 40 test images\n",
        "images, labels = X_test_MLP[:40], Y_test[:40]\n",
        "\n",
        "# get sample outputs\n",
        "predict = model.predict_on_batch(images)\n",
        "# convert output probabilities to predicted class\n",
        "preds = np.argmax(predict, axis=1)\n",
        "labels = np.argmax(labels, axis=1)\n",
        "\n",
        "# plot the images in the batch, along with predicted and true labels (brackets is true label), non bracket is predicted.\n",
        "fig = plt.figure(figsize=(25, 10))\n",
        "for idx in np.arange(40):\n",
        "    ax = fig.add_subplot(4, 40/4, idx+1, xticks=[], yticks=[])\n",
        "    ax.imshow(images[idx].reshape((28, 28)), cmap='gray')\n",
        "    ax.set_title(\"{} ({})\".format(str(preds[idx]), str(labels[idx])),\n",
        "                 color=(\"green\" if preds[idx]==labels[idx] else \"red\"))"
      ],
      "execution_count": 80,
      "outputs": [
        {
          "output_type": "display_data",
          "data": {
            "image/png": "[encoded data removed]",
            "text/plain": [
              "<Figure size 1800x720 with 40 Axes>"
            ]
          },
          "metadata": {
            "tags": []
          }
        }
      ]
    },
    {
      "cell_type": "markdown",
      "metadata": {
        "id": "Gd6G1OH4WhAv"
      },
      "source": [
        "### 8.2. Baseline Model Result\n",
        "\n",
        "---\n",
        "\n",
        "Get the result for the baseline model."
      ]
    },
    {
      "cell_type": "code",
      "metadata": {
        "id": "tnmmCdUzWdsk",
        "colab": {
          "base_uri": "https://localhost:8080/"
        },
        "outputId": "30766b2c-1101-4c31-87ef-6495d2eb79aa"
      },
      "source": [
        "# now we shall evaluate the model and see the accuracy\n",
        "loss, accuracy = model.evaluate(X_test,Y_test)\n",
        "print(\"Test loss:\", loss)\n",
        "print(\"Test accuracy:\", accuracy)\n",
        "print(\"Baseline Model Accuracy: %.2f%%\" % (accuracy*100))\n",
        "print(\"Baseline Model Error: %.2f%%\" % (100-accuracy*100))"
      ],
      "execution_count": 30,
      "outputs": [
        {
          "output_type": "stream",
          "text": [
            "313/313 [==============================] - 1s 3ms/step - loss: 0.0718 - accuracy: 0.9851\n",
            "Test loss: 0.0717511996626854\n",
            "Test accuracy: 0.9850999712944031\n",
            "Baseline Model Accuracy: 98.51%\n",
            "Baseline Model Error: 1.49%\n"
          ],
          "name": "stdout"
        }
      ]
    },
    {
      "cell_type": "markdown",
      "metadata": {
        "id": "abmOxh1IL5VN"
      },
      "source": [
        "<div class=\"alert alert-block alert-info\">\n",
        "    <b>Analysis Summary:</b> From here, we can see that we have a model error score of 1.54% now, an improvement from the previous model. Our test loss, however, is high this time 0.06 although it is a CNN model. But we improved our model accuracy here.\n",
        "</div>"
      ]
    },
    {
      "cell_type": "code",
      "metadata": {
        "id": "46jXBz-KPVwl",
        "colab": {
          "base_uri": "https://localhost:8080/",
          "height": 729
        },
        "outputId": "3764b964-7ea2-4b98-f689-f2147c0ce772"
      },
      "source": [
        "# plot our confusion matrix here to see how many labels got misplaced\n",
        "def plot_confusion_matrix(cm, classes,\n",
        "                          normalize=False,\n",
        "                          title='Confusion matrix',\n",
        "                          cmap=plt.cm.Blues):\n",
        "    \"\"\"\n",
        "    This function prints and plots the confusion matrix.\n",
        "    Normalization can be applied by setting `normalize=True`.\n",
        "    \"\"\"\n",
        "    plt.figure(figsize=(10, 10)) # Set Figure\n",
        "    plt.imshow(cm, interpolation='nearest', cmap=cmap)\n",
        "    plt.title(title)\n",
        "    plt.colorbar()\n",
        "    tick_marks = np.arange(len(classes))\n",
        "    plt.xticks(tick_marks, classes, rotation=45)\n",
        "    plt.yticks(tick_marks, classes)\n",
        "\n",
        "    if normalize:\n",
        "        cm = cm.astype('float') / cm.sum(axis=1)[:, np.newaxis]\n",
        "\n",
        "    thresh = cm.max() / 2.\n",
        "    for i, j in itertools.product(range(cm.shape[0]), range(cm.shape[1])):\n",
        "        plt.text(j, i, cm[i, j],\n",
        "                 horizontalalignment=\"center\",\n",
        "                 color=\"white\" if cm[i, j] > thresh else \"black\")\n",
        "\n",
        "    plt.tight_layout()\n",
        "    plt.ylabel('True label')\n",
        "    plt.xlabel('Predicted label')\n",
        "\n",
        "# Predict the values from the validation dataset\n",
        "Y_pred = model.predict(X_test)\n",
        "# Convert predictions classes to one hot vectors \n",
        "Y_pred_classes = np.argmax(Y_pred,axis = 1) \n",
        "# Convert validation observations to one hot vectors\n",
        "Y_true = np.argmax(Y_test,axis = 1) \n",
        "# compute the confusion matrix\n",
        "confusion_mtx = confusion_matrix(Y_true, Y_pred_classes) \n",
        "# plot the confusion matrix\n",
        "plot_confusion_matrix(confusion_mtx, classes = range(10)) "
      ],
      "execution_count": 31,
      "outputs": [
        {
          "output_type": "display_data",
          "data": {
            "image/png": "[encoded data removed]",
            "text/plain": [
              "<Figure size 720x720 with 2 Axes>"
            ]
          },
          "metadata": {
            "tags": [],
            "needs_background": "light"
          }
        }
      ]
    },
    {
      "cell_type": "code",
      "metadata": {
        "id": "zs744xBHSStc",
        "colab": {
          "base_uri": "https://localhost:8080/",
          "height": 349
        },
        "outputId": "fa9e9e33-4062-4564-eeda-12be708ebf88"
      },
      "source": [
        "# Display some error results \n",
        "\n",
        "# Errors are difference between predicted labels and true labels\n",
        "errors = (Y_pred_classes - Y_true != 0)\n",
        "\n",
        "Y_pred_classes_errors = Y_pred_classes[errors]\n",
        "Y_pred_errors = Y_pred[errors]\n",
        "Y_true_errors = Y_true[errors]\n",
        "X_val_errors = X_test[errors]\n",
        "\n",
        "# see which we predicted correctly and which not\n",
        "correct_indices = np.nonzero(Y_pred_classes == y_test)[0]\n",
        "incorrect_indices = np.nonzero(Y_pred_classes != y_test)[0]\n",
        "print()\n",
        "print(len(correct_indices),\" classified correctly\")\n",
        "print(len(incorrect_indices),\" classified incorrectly\")\n",
        "\n",
        "def display_errors(errors_index,img_errors,pred_errors, obs_errors):\n",
        "    \"\"\" This function shows 6 images with their predicted and real labels\"\"\"\n",
        "    n = 0\n",
        "    nrows = 2\n",
        "    ncols = 3\n",
        "    fig, ax = plt.subplots(nrows,ncols,sharex=True,sharey=True)\n",
        "    for row in range(nrows):\n",
        "        for col in range(ncols):\n",
        "            error = errors_index[n]\n",
        "            ax[row,col].imshow((img_errors[error]).reshape((28,28)), cmap=plt.cm.binary)\n",
        "            ax[row,col].set_title(\"Predicted label :{}\\nTrue label :{}\".format(pred_errors[error],obs_errors[error]))\n",
        "            n += 1\n",
        "    plt.tight_layout()\n",
        "\n",
        "# Probabilities of the wrong predicted numbers\n",
        "Y_pred_errors_prob = np.max(Y_pred_errors,axis = 1)\n",
        "\n",
        "# Predicted probabilities of the true values in the error set\n",
        "true_prob_errors = np.diagonal(np.take(Y_pred_errors, Y_true_errors, axis=1))\n",
        "\n",
        "# Difference between the probability of the predicted label and the true label\n",
        "delta_pred_true_errors = Y_pred_errors_prob - true_prob_errors\n",
        "\n",
        "# Sorted list of the delta prob errors\n",
        "sorted_dela_errors = np.argsort(delta_pred_true_errors)\n",
        "\n",
        "# Top 6 errors \n",
        "most_important_errors = sorted_dela_errors[-6:]\n",
        "\n",
        "# Show the top 6 errors\n",
        "display_errors(most_important_errors, X_val_errors, Y_pred_classes_errors, Y_true_errors)"
      ],
      "execution_count": 32,
      "outputs": [
        {
          "output_type": "stream",
          "text": [
            "\n",
            "9851  classified correctly\n",
            "149  classified incorrectly\n"
          ],
          "name": "stdout"
        },
        {
          "output_type": "display_data",
          "data": {
            "image/png": "[encoded data removed]",
            "text/plain": [
              "<Figure size 432x288 with 6 Axes>"
            ]
          },
          "metadata": {
            "tags": [],
            "needs_background": "light"
          }
        }
      ]
    },
    {
      "cell_type": "markdown",
      "metadata": {
        "id": "dXHQ7osYL3ja"
      },
      "source": [
        "<div class=\"alert alert-block alert-info\">\n",
        "    <b>Analysis Summary:</b> From here, 3 has been mostly misclassified as 5 in the confusion matrix. For the top 6 errors, we can see that 4 has been misclassified as 6.\n",
        "</div>"
      ]
    },
    {
      "cell_type": "code",
      "metadata": {
        "id": "L1qpUXBIylHc",
        "colab": {
          "base_uri": "https://localhost:8080/",
          "height": 594
        },
        "outputId": "45e9c471-26bc-4762-b442-eb220150b2e4"
      },
      "source": [
        "# obtain 40 test images\n",
        "images, labels = X_test[:40], Y_test[:40]\n",
        "\n",
        "# get sample outputs\n",
        "predict = model.predict_on_batch(images)\n",
        "# convert output probabilities to predicted class\n",
        "preds = np.argmax(predict, axis=1)\n",
        "labels = np.argmax(labels, axis=1)\n",
        "\n",
        "# plot the images in the batch, along with predicted and true labels (brackets is true label), non bracket is predicted.\n",
        "fig = plt.figure(figsize=(25, 10))\n",
        "for idx in np.arange(40):\n",
        "    ax = fig.add_subplot(4, 40/4, idx+1, xticks=[], yticks=[])\n",
        "    ax.imshow(images[idx].reshape((28, 28)), cmap='gray')\n",
        "    ax.set_title(\"{} ({})\".format(str(preds[idx]), str(labels[idx])),\n",
        "                 color=(\"green\" if preds[idx]==labels[idx] else \"red\"))"
      ],
      "execution_count": 33,
      "outputs": [
        {
          "output_type": "display_data",
          "data": {
            "image/png": "[encoded data removed]",
            "text/plain": [
              "<Figure size 1800x720 with 40 Axes>"
            ]
          },
          "metadata": {
            "tags": []
          }
        }
      ]
    },
    {
      "cell_type": "markdown",
      "metadata": {
        "id": "hMwQ_4HMeoLN"
      },
      "source": [
        "### 8.3. Standard CNN Model Result\n",
        "\n",
        "---\n",
        "\n",
        "Get the result for the CNN model."
      ]
    },
    {
      "cell_type": "code",
      "metadata": {
        "id": "yGcNmEGEf8I0",
        "colab": {
          "base_uri": "https://localhost:8080/"
        },
        "outputId": "3a1c16d7-b347-413b-e5d7-9ffcd594c5bd"
      },
      "source": [
        "# now we shall evaluate the model and see the accuracy\n",
        "loss, accuracy = model.evaluate(X_test,Y_test)\n",
        "print(\"Test loss:\", loss)\n",
        "print(\"Test accuracy:\", accuracy)\n",
        "print(\"CNN Model Accuracy: %.2f%%\" % (accuracy*100))\n",
        "print(\"CNN Model Error: %.2f%%\" % (100-accuracy*100))"
      ],
      "execution_count": 418,
      "outputs": [
        {
          "output_type": "stream",
          "text": [
            "313/313 [==============================] - 1s 4ms/step - loss: 0.0290 - accuracy: 0.9941\n",
            "Test loss: 0.02898314781486988\n",
            "Test accuracy: 0.9940999746322632\n",
            "CNN Model Accuracy: 99.41%\n",
            "CNN Model Error: 0.59%\n"
          ],
          "name": "stdout"
        }
      ]
    },
    {
      "cell_type": "markdown",
      "metadata": {
        "id": "nI03D0aZMouG"
      },
      "source": [
        "<div class=\"alert alert-block alert-info\">\n",
        "    <b>Analysis Summary:</b> From here, we have a great improvement not only in test loss, but also the model accuracy and error. We saw a significant drop in the test loss, and our model accuracy got through the 99% mark, with an error rate of around 0.59%.\n",
        "</div>"
      ]
    },
    {
      "cell_type": "code",
      "metadata": {
        "id": "BBnktCXdC-qD",
        "colab": {
          "base_uri": "https://localhost:8080/",
          "height": 729
        },
        "outputId": "b21cb683-afdf-49ed-ca9f-b08dd6956370"
      },
      "source": [
        "# plot our confusion matrix here to see how many labels got misplaced\n",
        "def plot_confusion_matrix(cm, classes,\n",
        "                          normalize=False,\n",
        "                          title='Confusion matrix',\n",
        "                          cmap=plt.cm.Blues):\n",
        "    \"\"\"\n",
        "    This function prints and plots the confusion matrix.\n",
        "    Normalization can be applied by setting `normalize=True`.\n",
        "    \"\"\"\n",
        "    plt.figure(figsize=(10, 10)) # Set Figure\n",
        "    plt.imshow(cm, interpolation='nearest', cmap=cmap)\n",
        "    plt.title(title)\n",
        "    plt.colorbar()\n",
        "    tick_marks = np.arange(len(classes))\n",
        "    plt.xticks(tick_marks, classes, rotation=45)\n",
        "    plt.yticks(tick_marks, classes)\n",
        "\n",
        "    if normalize:\n",
        "        cm = cm.astype('float') / cm.sum(axis=1)[:, np.newaxis]\n",
        "\n",
        "    thresh = cm.max() / 2.\n",
        "    for i, j in itertools.product(range(cm.shape[0]), range(cm.shape[1])):\n",
        "        plt.text(j, i, cm[i, j],\n",
        "                 horizontalalignment=\"center\",\n",
        "                 color=\"white\" if cm[i, j] > thresh else \"black\")\n",
        "\n",
        "    plt.tight_layout()\n",
        "    plt.ylabel('True label')\n",
        "    plt.xlabel('Predicted label')\n",
        "\n",
        "# Predict the values from the validation dataset\n",
        "Y_pred = model.predict(X_test)\n",
        "# Convert predictions classes to one hot vectors \n",
        "Y_pred_classes = np.argmax(Y_pred,axis = 1) \n",
        "# Convert validation observations to one hot vectors\n",
        "Y_true = np.argmax(Y_test,axis = 1) \n",
        "# compute the confusion matrix\n",
        "confusion_mtx = confusion_matrix(Y_true, Y_pred_classes) \n",
        "# plot the confusion matrix\n",
        "plot_confusion_matrix(confusion_mtx, classes = range(10)) "
      ],
      "execution_count": 419,
      "outputs": [
        {
          "output_type": "display_data",
          "data": {
            "image/png": "[encoded data removed]",
            "text/plain": [
              "<Figure size 720x720 with 2 Axes>"
            ]
          },
          "metadata": {
            "tags": [],
            "needs_background": "light"
          }
        }
      ]
    },
    {
      "cell_type": "code",
      "metadata": {
        "id": "bDlH2ZOxDAp7",
        "colab": {
          "base_uri": "https://localhost:8080/",
          "height": 349
        },
        "outputId": "5f5ddd88-a8df-42b8-ace0-217bfbb75b3f"
      },
      "source": [
        "# Display some error results \n",
        "\n",
        "# Errors are difference between predicted labels and true labels\n",
        "errors = (Y_pred_classes - Y_true != 0)\n",
        "\n",
        "Y_pred_classes_errors = Y_pred_classes[errors]\n",
        "Y_pred_errors = Y_pred[errors]\n",
        "Y_true_errors = Y_true[errors]\n",
        "X_val_errors = X_test[errors]\n",
        "\n",
        "# see which we predicted correctly and which not\n",
        "correct_indices = np.nonzero(Y_pred_classes == y_test)[0]\n",
        "incorrect_indices = np.nonzero(Y_pred_classes != y_test)[0]\n",
        "print()\n",
        "print(len(correct_indices),\" classified correctly\")\n",
        "print(len(incorrect_indices),\" classified incorrectly\")\n",
        "\n",
        "def display_errors(errors_index,img_errors,pred_errors, obs_errors):\n",
        "    \"\"\" This function shows 6 images with their predicted and real labels\"\"\"\n",
        "    n = 0\n",
        "    nrows = 2\n",
        "    ncols = 3\n",
        "    fig, ax = plt.subplots(nrows,ncols,sharex=True,sharey=True)\n",
        "    for row in range(nrows):\n",
        "        for col in range(ncols):\n",
        "            error = errors_index[n]\n",
        "            ax[row,col].imshow((img_errors[error]).reshape((28,28)), cmap=plt.cm.binary)\n",
        "            ax[row,col].set_title(\"Predicted label :{}\\nTrue label :{}\".format(pred_errors[error],obs_errors[error]))\n",
        "            n += 1\n",
        "    plt.tight_layout()\n",
        "\n",
        "# Probabilities of the wrong predicted numbers\n",
        "Y_pred_errors_prob = np.max(Y_pred_errors,axis = 1)\n",
        "\n",
        "# Predicted probabilities of the true values in the error set\n",
        "true_prob_errors = np.diagonal(np.take(Y_pred_errors, Y_true_errors, axis=1))\n",
        "\n",
        "# Difference between the probability of the predicted label and the true label\n",
        "delta_pred_true_errors = Y_pred_errors_prob - true_prob_errors\n",
        "\n",
        "# Sorted list of the delta prob errors\n",
        "sorted_dela_errors = np.argsort(delta_pred_true_errors)\n",
        "\n",
        "# Top 6 errors \n",
        "most_important_errors = sorted_dela_errors[-6:]\n",
        "\n",
        "# Show the top 6 errors\n",
        "display_errors(most_important_errors, X_val_errors, Y_pred_classes_errors, Y_true_errors)"
      ],
      "execution_count": 420,
      "outputs": [
        {
          "output_type": "stream",
          "text": [
            "\n",
            "9941  classified correctly\n",
            "59  classified incorrectly\n"
          ],
          "name": "stdout"
        },
        {
          "output_type": "display_data",
          "data": {
            "image/png": "[encoded data removed]",
            "text/plain": [
              "<Figure size 432x288 with 6 Axes>"
            ]
          },
          "metadata": {
            "tags": [],
            "needs_background": "light"
          }
        }
      ]
    },
    {
      "cell_type": "markdown",
      "metadata": {
        "id": "nu-K1-_SM8a7"
      },
      "source": [
        "<div class=\"alert alert-block alert-info\">\n",
        "    <b>Analysis Summary:</b> From here, we can see that once again, 6 has been predicted wrongly as 1. This is inevitable as the handwritting is really bad. We have 5 misclassified as 3 in the confusion matrix here, with 8 numbers misclassified from that.\n",
        "</div>"
      ]
    },
    {
      "cell_type": "code",
      "metadata": {
        "id": "S8AVqOIX0D4K",
        "colab": {
          "base_uri": "https://localhost:8080/",
          "height": 594
        },
        "outputId": "88452bf5-1c4b-4679-c50b-2b076be42e0d"
      },
      "source": [
        "# obtain 40 test images\n",
        "images, labels = X_test[:40], Y_test[:40]\n",
        "\n",
        "# get sample outputs\n",
        "predict = model.predict_on_batch(images)\n",
        "# convert output probabilities to predicted class\n",
        "preds = np.argmax(predict, axis=1)\n",
        "labels = np.argmax(labels, axis=1)\n",
        "\n",
        "# plot the images in the batch, along with predicted and true labels (brackets is true label), non bracket is predicted.\n",
        "fig = plt.figure(figsize=(25, 10))\n",
        "for idx in np.arange(40):\n",
        "    ax = fig.add_subplot(4, 40/4, idx+1, xticks=[], yticks=[])\n",
        "    ax.imshow(images[idx].reshape((28, 28)), cmap='gray')\n",
        "    ax.set_title(\"{} ({})\".format(str(preds[idx]), str(labels[idx])),\n",
        "                 color=(\"green\" if preds[idx]==labels[idx] else \"red\"))"
      ],
      "execution_count": 421,
      "outputs": [
        {
          "output_type": "display_data",
          "data": {
            "image/png": "[encoded data removed]",
            "text/plain": [
              "<Figure size 1800x720 with 40 Axes>"
            ]
          },
          "metadata": {
            "tags": []
          }
        }
      ]
    },
    {
      "cell_type": "markdown",
      "metadata": {
        "id": "vU45DXEOf2dz"
      },
      "source": [
        "### 8.4. CNN Hyper-Parameter Tuned Model Result\n",
        "\n",
        "---\n",
        "\n",
        "Get the result for the CNN model that has undergone hyper parameter tuning."
      ]
    },
    {
      "cell_type": "code",
      "metadata": {
        "id": "ShTJVSrtf8LD",
        "colab": {
          "base_uri": "https://localhost:8080/"
        },
        "outputId": "2744f8f7-c20f-4649-ce88-c0dbe62d8268"
      },
      "source": [
        "# now we shall evaluate the model and see the accuracy(do not use X_val and Y_val)\n",
        "loss, accuracy = model.evaluate(X_test,Y_test)\n",
        "print(\"Test loss:\", loss)\n",
        "print(\"Test accuracy:\", accuracy)\n",
        "print(\"CNN Hyper-Parameter Tuned Model Accuracy: %.2f%%\" % (accuracy*100))\n",
        "print(\"CNN Hyper-Parameter Tuned Model Error: %.2f%%\" % (100-accuracy*100))"
      ],
      "execution_count": 45,
      "outputs": [
        {
          "output_type": "stream",
          "text": [
            "313/313 [==============================] - 1s 4ms/step - loss: 0.0132 - accuracy: 0.9952\n",
            "Test loss: 0.013174046762287617\n",
            "Test accuracy: 0.995199978351593\n",
            "CNN Hyper-Parameter Tuned Model Accuracy: 99.52%\n",
            "CNN Hyper-Parameter Tuned Model Error: 0.48%\n"
          ],
          "name": "stdout"
        }
      ]
    },
    {
      "cell_type": "markdown",
      "metadata": {
        "id": "usM3V1zUNTN1"
      },
      "source": [
        "<div class=\"alert alert-block alert-info\">\n",
        "    <b>Analysis Summary:</b> From here, we can see that our model has broken the 0.4% model error mark and our model accuracy has slightly improved to 99.52%. Our test loss is all time best, with a score of 0.01, which means we have greatly successfully reduce data loss.\n",
        "</div>"
      ]
    },
    {
      "cell_type": "code",
      "metadata": {
        "id": "cBMA3CS-f_TQ",
        "colab": {
          "base_uri": "https://localhost:8080/",
          "height": 729
        },
        "outputId": "df439ee4-0b41-4779-c2e8-4357757c798a"
      },
      "source": [
        "# plot our confusion matrix here to see how many labels got misplaced\n",
        "def plot_confusion_matrix(cm, classes,\n",
        "                          normalize=False,\n",
        "                          title='Confusion matrix',\n",
        "                          cmap=plt.cm.Blues):\n",
        "    \"\"\"\n",
        "    This function prints and plots the confusion matrix.\n",
        "    Normalization can be applied by setting `normalize=True`.\n",
        "    \"\"\"\n",
        "    plt.figure(figsize=(10, 10)) # Set Figure\n",
        "    plt.imshow(cm, interpolation='nearest', cmap=cmap)\n",
        "    plt.title(title)\n",
        "    plt.colorbar()\n",
        "    tick_marks = np.arange(len(classes))\n",
        "    plt.xticks(tick_marks, classes, rotation=45)\n",
        "    plt.yticks(tick_marks, classes)\n",
        "\n",
        "    if normalize:\n",
        "        cm = cm.astype('float') / cm.sum(axis=1)[:, np.newaxis]\n",
        "\n",
        "    thresh = cm.max() / 2.\n",
        "    for i, j in itertools.product(range(cm.shape[0]), range(cm.shape[1])):\n",
        "        plt.text(j, i, cm[i, j],\n",
        "                 horizontalalignment=\"center\",\n",
        "                 color=\"white\" if cm[i, j] > thresh else \"black\")\n",
        "\n",
        "    plt.tight_layout()\n",
        "    plt.ylabel('True label')\n",
        "    plt.xlabel('Predicted label')\n",
        "\n",
        "# Predict the values from the validation dataset\n",
        "Y_pred = model.predict(X_test)\n",
        "# Convert predictions classes to one hot vectors \n",
        "Y_pred_classes = np.argmax(Y_pred,axis = 1) \n",
        "# Convert validation observations to one hot vectors\n",
        "Y_true = np.argmax(Y_test,axis = 1) \n",
        "# compute the confusion matrix\n",
        "confusion_mtx = confusion_matrix(Y_true, Y_pred_classes) \n",
        "# plot the confusion matrix\n",
        "plot_confusion_matrix(confusion_mtx, classes = range(10)) "
      ],
      "execution_count": 46,
      "outputs": [
        {
          "output_type": "display_data",
          "data": {
            "image/png": "[encoded data removed]",
            "text/plain": [
              "<Figure size 720x720 with 2 Axes>"
            ]
          },
          "metadata": {
            "tags": [],
            "needs_background": "light"
          }
        }
      ]
    },
    {
      "cell_type": "code",
      "metadata": {
        "id": "lQb7HFaYQG5d",
        "colab": {
          "base_uri": "https://localhost:8080/",
          "height": 349
        },
        "outputId": "bcbee7a1-1dc4-4115-e7b2-c63d8d1c231d"
      },
      "source": [
        "# Display some error results \n",
        "\n",
        "# Errors are difference between predicted labels and true labels\n",
        "errors = (Y_pred_classes - Y_true != 0)\n",
        "\n",
        "Y_pred_classes_errors = Y_pred_classes[errors]\n",
        "Y_pred_errors = Y_pred[errors]\n",
        "Y_true_errors = Y_true[errors]\n",
        "X_val_errors = X_test[errors]\n",
        "\n",
        "# see which we predicted correctly and which not\n",
        "correct_indices = np.nonzero(Y_pred_classes == y_test)[0]\n",
        "incorrect_indices = np.nonzero(Y_pred_classes != y_test)[0]\n",
        "print()\n",
        "print(len(correct_indices),\" classified correctly\")\n",
        "print(len(incorrect_indices),\" classified incorrectly\")\n",
        "\n",
        "def display_errors(errors_index,img_errors,pred_errors, obs_errors):\n",
        "    \"\"\" This function shows 6 images with their predicted and real labels\"\"\"\n",
        "    n = 0\n",
        "    nrows = 2\n",
        "    ncols = 3\n",
        "    fig, ax = plt.subplots(nrows,ncols,sharex=True,sharey=True)\n",
        "    for row in range(nrows):\n",
        "        for col in range(ncols):\n",
        "            error = errors_index[n]\n",
        "            ax[row,col].imshow((img_errors[error]).reshape((28,28)), cmap=plt.cm.binary)\n",
        "            ax[row,col].set_title(\"Predicted label :{}\\nTrue label :{}\".format(pred_errors[error],obs_errors[error]))\n",
        "            n += 1\n",
        "    plt.tight_layout()\n",
        "\n",
        "# Probabilities of the wrong predicted numbers\n",
        "Y_pred_errors_prob = np.max(Y_pred_errors,axis = 1)\n",
        "\n",
        "# Predicted probabilities of the true values in the error set\n",
        "true_prob_errors = np.diagonal(np.take(Y_pred_errors, Y_true_errors, axis=1))\n",
        "\n",
        "# Difference between the probability of the predicted label and the true label\n",
        "delta_pred_true_errors = Y_pred_errors_prob - true_prob_errors\n",
        "\n",
        "# Sorted list of the delta prob errors\n",
        "sorted_dela_errors = np.argsort(delta_pred_true_errors)\n",
        "\n",
        "# Top 6 errors \n",
        "most_important_errors = sorted_dela_errors[-6:]\n",
        "\n",
        "# Show the top 6 errors\n",
        "display_errors(most_important_errors, X_val_errors, Y_pred_classes_errors, Y_true_errors)"
      ],
      "execution_count": 47,
      "outputs": [
        {
          "output_type": "stream",
          "text": [
            "\n",
            "9952  classified correctly\n",
            "48  classified incorrectly\n"
          ],
          "name": "stdout"
        },
        {
          "output_type": "display_data",
          "data": {
            "image/png": "[encoded data removed]",
            "text/plain": [
              "<Figure size 432x288 with 6 Axes>"
            ]
          },
          "metadata": {
            "tags": [],
            "needs_background": "light"
          }
        }
      ]
    },
    {
      "cell_type": "markdown",
      "metadata": {
        "id": "dM31SOnMNlyJ"
      },
      "source": [
        "<div class=\"alert alert-block alert-info\">\n",
        "    <b>Analysis Summary:</b> From here, we can see that we 6 has be wrongly predicted as 1, with some images not clear, with 2 predicted wrongly as 7 also.We saw a 5 misclassified as 3 in the confusion matrix, with only 5 digits reported wrongly for that.\n",
        "</div>"
      ]
    },
    {
      "cell_type": "code",
      "metadata": {
        "colab": {
          "base_uri": "https://localhost:8080/",
          "height": 594
        },
        "id": "v-dO22bWm81U",
        "outputId": "61240936-e1df-4eb5-e95b-0b65468ddbc3"
      },
      "source": [
        "# obtain 40 test images\n",
        "images, labels = X_test[:40], Y_test[:40]\n",
        "\n",
        "# get sample outputs\n",
        "predict = model.predict_on_batch(images)\n",
        "# convert output probabilities to predicted class\n",
        "preds = np.argmax(predict, axis=1)\n",
        "labels = np.argmax(labels, axis=1)\n",
        "\n",
        "# plot the images in the batch, along with predicted and true labels (brackets is true label), non bracket is predicted.\n",
        "fig = plt.figure(figsize=(25, 10))\n",
        "for idx in np.arange(40):\n",
        "    ax = fig.add_subplot(4, 40/4, idx+1, xticks=[], yticks=[])\n",
        "    ax.imshow(images[idx].reshape((28, 28)), cmap='gray')\n",
        "    ax.set_title(\"{} ({})\".format(str(preds[idx]), str(labels[idx])),\n",
        "                 color=(\"green\" if preds[idx]==labels[idx] else \"red\"))"
      ],
      "execution_count": 48,
      "outputs": [
        {
          "output_type": "display_data",
          "data": {
            "image/png": "[encoded data removed]",
            "text/plain": [
              "<Figure size 1800x720 with 40 Axes>"
            ]
          },
          "metadata": {
            "tags": []
          }
        }
      ]
    },
    {
      "cell_type": "markdown",
      "metadata": {
        "id": "5PIPpo7sbNRE"
      },
      "source": [
        "---\n",
        "---"
      ]
    },
    {
      "cell_type": "markdown",
      "metadata": {
        "id": "LeiM0qQOkzQ-"
      },
      "source": [
        "# 9.Conclusions"
      ]
    },
    {
      "cell_type": "markdown",
      "metadata": {
        "id": "i8TsXvQRk49-"
      },
      "source": [
        "-\tHow is your prediction task defined? And what is the meaning of the output variable?\n",
        "    - __The prediction task is defined as to predict if the handwritten digit issued matches the label for it. The output variable is the prediction of the correct label (from digits 0 to 9) for the respective handwritten images.__"
      ]
    },
    {
      "cell_type": "markdown",
      "metadata": {
        "id": "xdOa-FUxtAtN"
      },
      "source": [
        "-\tHow is the data represented as features?\n",
        "    - __In the MNIST dataset, it contains 60,000 training cases and 10,000 test cases of handwritten digits from 0 to 9. Each image consists of 784 pixels that represent the features of the digits.__"
      ]
    },
    {
      "cell_type": "markdown",
      "metadata": {
        "id": "ziHPeOGtt8my"
      },
      "source": [
        "-\tDid you process the features in any way (e.g. normalization)?\n",
        "    - __Yes. Firstly, i normalized the training dataset by dividing `X_train` and `X_test` with 255, as each value is between 0-255 (single greyscale) so that the values are between 0 and 1. I then went on to do `onehotencoding` on the labels as we do not want the model to think 9 has a higher priority than 0. I also converted it into a 2D array so that the data can be fed into the convolutional layer when i do the model.__"
      ]
    },
    {
      "cell_type": "markdown",
      "metadata": {
        "id": "Kk56lPJPnShT"
      },
      "source": [
        "-\tHow did you select which CNN architecture to use?\n",
        "    - __After doing some research, i found out some well-know CNN models 2 decades ago and some that were created not long ago. As per what i have shared in the background information at the top of the entire notebook, they are the AlexNet, the VGGNet and the LeNet-5 architectures. The AlexNet and the VGGNet both uses the ImageNet dataset to train the architectures although they are also made using the CNN architecture. However, LenNet-5, created by one of the founding fathers of MNIST handwritten dataset, was used to distinguish handwritten digits and digital digits on postmails, and have a different objective to its other 2 counterparts. Also, i have initially tested out AlexNet architecture and the loss was not desirable. Therefore, i have decided to inherit some parts of the LeNet-5 architecture.__"
      ]
    },
    {
      "cell_type": "markdown",
      "metadata": {
        "id": "mrkPXPksqINE"
      },
      "source": [
        "-\tHow did you evaluate the quality of your system?\n",
        "    - __There are 4 main methods which i use to evaluate the quality of my system. Firstly i plotted out a model accuracy and model loss graph to firstly determine if overfitting has occured in my model or not. Next, i use keras `.evaluate()` to see the test loss, accuracy, model errror and model accuracy. I also plotted out a confusion matrix to see the labels and true labels of the correctly distinguised digits and those which are wrong. I also plotted out to show the top 6 wrongly classified digits, and the number of correctly classified digits.__"
      ]
    },
    {
      "cell_type": "markdown",
      "metadata": {
        "id": "WkEvi0oTsPAk"
      },
      "source": [
        "-\tCan you say anything about the errors that the system makes? You may consider a confusion matrix.\n",
        "    - __Yes. So i will begin talking from the 1st model to the 4th model of the confusion matrix of the 4 models. From the 1st model, we can see that although most of the digits are correctly classified to their true labels, but we can see alot of misclassified digits of 8 that are labelled as 3 instead. We also can see that 12 numbers of 3 were misclassified as 5, and 16 digits of 9 were misclassified as 4. And in total, we have around 213 labels classified wrongly.__ \n",
        "    \n",
        "      __Moving on to model 2, we can see that also most of the digits are correctly classified, with 7 wrongly classified true label of 3 being classified as 5, and 6 numbers of 9 being misclassified as 4. In total, we have around 73 labels classified wrongly.__\n",
        "        \n",
        "      __In model 3, we see that at most 7 digits of 9 has been misclassified as 4, with a few negligible ones. In total, we have around 59 labels classified wrongly.__\n",
        "\n",
        "      __Finally in model 4, we can see that 5 has been misclassified as 3, and there are 5 numbers of them misclassified wrongly. The second highest is 4 misclassified as 9, and there are 4 of them misclassified wrongly. In total, we have 48 digits classified wrongly.__"
      ]
    },
    {
      "cell_type": "markdown",
      "metadata": {
        "id": "VxvrAhyHv-2N"
      },
      "source": [
        "- Please show how you have improved the model from the inital performance, e.g. by hyperparemeter tuning, by modifying the network architecture, or by introducting regularization using Dropout, etc.?\n",
        "    - __I used KerasTuner from keras. I used both to find out what is the best weight initalizer for the full connected layer. In the end, i noticed that `glorot_uniform` is the best weight initializer. I also added a keras `LearningRateScheduler` to adjust the learning rate as the number of epochs increases. I also did image augmentation using keras `ImageDataGenerator` by taking some training dataset and modifying the images. All methods aids in preventing the model from overfitting, and also partiall improving the score.__\n",
        "\n",
        "    - MODEL 1: \n",
        "      - MODEL ERROR: 2.23%\n",
        "      - MODEL ACCURACY: 97.77%\n",
        "      - TEST LOSS: 0.07730107009410858\n",
        "\n",
        "    - MODEL 2:\n",
        "      - MODEL ERROR: 1.49%\n",
        "      - MODEL ACCURACY: 98.51%\n",
        "      - TEST LOSS: 0.0717511996626854\n",
        "\n",
        "    - MODEL 3:\n",
        "      - MODEL ERROR: 0.59%\n",
        "      - MODEL ACCURACY: 99.41%\n",
        "      - TEST LOSS: 0.02898314781486988\n",
        "\n",
        "    - MODEL 4:\n",
        "      - MODEL ERROR: 0.48%\n",
        "      - MODEL ACCURACY: 99.52%\n",
        "      - TEST LOSS: 0.013174046762287617"
      ]
    },
    {
      "cell_type": "markdown",
      "metadata": {
        "id": "UKtWZP-3z4Cn"
      },
      "source": [
        "-\tProvide a reference section for any papers, online articles, books, publications that you may have referenced?\n",
        "    - __Please refer to links below.__"
      ]
    },
    {
      "cell_type": "markdown",
      "metadata": {
        "id": "UPvaJzykk3Ms"
      },
      "source": [
        "---\n",
        "---"
      ]
    },
    {
      "cell_type": "markdown",
      "metadata": {
        "id": "8WQh8SimbTVS"
      },
      "source": [
        "# 10.References\n",
        "\n",
        "\n",
        "## Using Google Colab More Efficiently\n",
        "---\n",
        "1. [Getting the Most Out of Your Google Colab (Tutorial)](https://medium.com/@oribarel/getting-the-most-out-of-your-google-colab-2b0585f82403)\n",
        "2. [Using Google Colab with GitHub](https://colab.research.google.com/github/googlecolab/colabtools/blob/master/notebooks/colab-github-demo.ipynb)\n",
        "\n",
        "\n",
        "## Background Research\n",
        "---\n",
        "1. [Gradient-Based Learning Applied to Document Recognition](http://yann.lecun.com/exdb/publis/pdf/lecun-98.pdf)\n",
        "2. [LeNet](https://en.wikipedia.org/wiki/LeNet)\n",
        "3. [The MNIST Database of handwritten digits](http://yann.lecun.com/exdb/mnist/)\n",
        "4. [LeCun et al. (1999): The MNIST Dataset Of Handwritten Digits (Images)](http://www.pymvpa.org/datadb/mnist.html)\n",
        "5. [MNIST Dataset](https://deepai.org/dataset/mnist)\n",
        "6. [MNIST Dataset- Wikipedia](https://en.wikipedia.org/wiki/MNIST_database)\n",
        "7. [The Story of the MNIST Dataset](https://www.youtube.com/watch?v=oKzNUGz21JM&ab_channel=LanderAnalytics)\n",
        "8. [AlexNet: The First CNN to win Image Net](https://www.mygreatlearning.com/blog/alexnet-the-first-cnn-to-win-image-net/#:~:text=AlexNet%20was%20primarily%20designed%20by,%2D5%20error%20of%2015.3%25.)\n",
        "9. [VGG Net](https://en.everybodywiki.com/VGG_Net)\n",
        "\n",
        "\n",
        "## Selecting CNN Architecture\n",
        "---\n",
        "1. [Top 10 CNN Architecture](https://towardsdatascience.com/illustrated-10-cnn-architectures-95d78ace614d#676b)\n",
        "2. [AlexNet: The Architecture that Challenged CNNs](https://towardsdatascience.com/alexnet-the-architecture-that-challenged-cnns-e406d5297951)\n",
        "3. [How to choose CNN Architecture MNIST](https://www.kaggle.com/cdeotte/how-to-choose-cnn-architecture-mnist#What-is-the-best-CNN-architecture-for-MNIST?)\n",
        "4. [Convolutional Neural Network Champions —Part 1: LeNet-5 (TensorFlow 2.x)](https://towardsdatascience.com/convolutional-neural-network-champions-part-1-lenet-5-7a8d6eb98df6)\n",
        "5. [Understanding and Implementing LeNet-5 CNN Architecture (Deep Learning)](https://towardsdatascience.com/understanding-and-implementing-lenet-5-cnn-architecture-deep-learning-a2d531ebc342)\n",
        "6. [Dense or Convolutional Neural Network](https://medium.com/analytics-vidhya/dense-or-convolutional-part-1-c75c59c5b4ad)\n",
        "7. [A Poor Example of Transfer Learning: Applying VGG Pre-trained model with Keras](https://towardsdatascience.com/a-demonstration-of-transfer-learning-of-vgg-convolutional-neural-network-pre-trained-model-with-c9f5b8b1ab0a)\n",
        "\n",
        "\n",
        "## Some Tutorials on how to build a CNN Model and MLP\n",
        "---\n",
        "1. [Building a Custom Convolutional Neural Network in Keras](https://medium.com/@ODSC/building-a-custom-convolutional-neural-network-in-keras-48171163aa7f)\n",
        "2. [The Most Intuitive and Easiest Guide for Convolutional Neural Network](https://towardsdatascience.com/the-most-intuitive-and-easiest-guide-for-convolutional-neural-network-3607be47480)\n",
        "3. [MNIST with Keras for Beginners(.99457)](https://www.kaggle.com/adityaecdrid/mnist-with-keras-for-beginners-99457)\n",
        "4. [Introduction to CNN Keras - Acc 0.997 (top 8%)](https://www.kaggle.com/yassineghouzam/introduction-to-cnn-keras-0-997-top-6)\n",
        "5. [Image Classification in 10 Minutes with MNIST Dataset](https://towardsdatascience.com/image-classification-in-10-minutes-with-mnist-dataset-54c35b77a38d)\n",
        "6. [How to Develop a CNN for MNIST Handwritten Digit Classification](https://machinelearningmastery.com/how-to-develop-a-convolutional-neural-network-from-scratch-for-mnist-handwritten-digit-classification/#:~:text=The%20MNIST%20dataset%20is%20an,digits%20between%200%20and%209.)\n",
        "7. [MNIST Handwritten Digit Recognition in Keras](https://nextjournal.com/gkoehler/digit-recognition-with-keras)\n",
        "8. [mnist keras early stopping](https://www.kaggle.com/ahmetkorkmaz/mnist-keras-early-stopping)\n",
        "9. [Applying Convolutional Neural Network on the MNIST dataset](https://yashk2810.github.io/Applying-Convolutional-Neural-Network-on-the-MNIST-dataset/)\n",
        "10. [Force of Multi-Layer Perceptron](https://dudeperf3ct.github.io/mlp/mnist/2018/10/08/Force-of-Multi-Layer-Perceptron/)\n",
        "11. [Applying Convolutional Neural Network on the MNIST dataset](https://yashk2810.github.io/Applying-Convolutional-Neural-Network-on-the-MNIST-dataset/)\n",
        "\n",
        "## Feature Engineering\n",
        "---\n",
        "1. [Why Change Data Dimension Before Feeding Into Keras?](https://stackoverflow.com/a/62991238/12347869)\n",
        "2. [Properly Setting the Random Seed in ML Experiments. Not as Simple as You Might Imagine](https://medium.com/@ODSC/properly-setting-the-random-seed-in-ml-experiments-not-as-simple-as-you-might-imagine-219969c84752)\n",
        "3. [How to get reproducible results in keras](https://stackoverflow.com/questions/32419510/how-to-get-reproducible-results-in-keras)\n",
        "4. [How can I obtain reproducible results using Keras during development?](https://keras.io/getting_started/faq/#how-can-i-obtain-reproducible-results-using-keras-during-development)\n",
        "\n",
        "\n",
        "## Building Layers\n",
        "---\n",
        "1. [What is the default weight initializer in Keras?](https://stackoverflow.com/questions/54011173/what-is-the-default-weight-initializer-in-keras)\n",
        "2. [A Gentle Introduction to Pooling Layers for Convolutional Neural Networks](https://machinelearningmastery.com/pooling-layers-for-convolutional-neural-networks/)\n",
        "3. [Using the Keras Flatten Operation in CNN Models with Code Examples](https://missinglink.ai/guides/keras/using-keras-flatten-operation-cnn-models-code-examples/)\n",
        "4. [Dropout Neural Network Layer In Keras Explained](https://towardsdatascience.com/machine-learning-part-20-dropout-keras-layers-explained-8c9f6dc4c9ab)\n",
        "5. [Changing shape of MNIST for tensorflow CNN](https://stackoverflow.com/questions/50549859/changing-shape-of-mnist-for-tensorflow-cnn)\n",
        "6. [Keras Conv2D: Working with CNN 2D Convolutions in Keras](https://missinglink.ai/guides/keras/keras-conv2d-working-cnn-2d-convolutions-keras/)\n",
        "\n",
        "\n",
        "## Model Evaluation \n",
        "---\n",
        "1. [Sparse_categorical_crossentropy vs categorical_crossentropy (keras, accuracy)](https://datascience.stackexchange.com/questions/41921/sparse-categorical-crossentropy-vs-categorical-crossentropy-keras-accuracy)\n",
        "2. [Interpretability of Convolutional Neural Networks](https://medium.com/@silvia.casac/interpretability-of-convolutional-neural-networks-c2baaf5f98e9)\n",
        "\n",
        "\n",
        "## Hyper Parameter Tuning With Keras Tuner\n",
        "---\n",
        "1. [Hyperparameter tuning with Keras Tuner](https://blog.tensorflow.org/2020/01/hyperparameter-tuning-with-keras-tuner.html)\n",
        "2. [Why is random search better than grid search for machine learning?](https://analyticsindiamag.com/why-is-random-search-better-than-grid-search-for-machine-learning/#:~:text=Random%20search%20is%20a%20technique,to%20yield%20better%20results%20comparatively.)\n",
        "3. [Hands on hyperparameter tuning with Keras Tuner](https://www.sicara.ai/blog/hyperparameter-tuning-keras-tuner)\n",
        "4. [Keras Tuner Docs](https://keras-team.github.io/keras-tuner/)\n",
        "5. [How do you decide the parameters of a Convolutional Neural Network for image classification?](https://stackoverflow.com/questions/24509921/how-do-you-decide-the-parameters-of-a-convolutional-neural-network-for-image-cla#:~:text=The%20Number%20of%20convolutional%20layers,you%20need%20to%20decide%20whether)\n",
        "6. [Hyper parameter tuning for Keras models with Scikit-Learn library](https://medium.com/swlh/hyper-parameter-tuning-for-keras-models-with-scikit-learn-library-dba47cf41551)\n",
        "7. [How to use L1, L2 and Elastic Net Regularization with Keras?](https://www.machinecurve.com/index.php/2020/01/23/how-to-use-l1-l2-and-elastic-net-regularization-with-keras/)\n",
        "8. [Understanding Adaptive Optimization techniques in Deep learning](https://analyticsindiamag.com/understanding-adaptive-optimization-techniques-in-deep-learning/)\n",
        "9. [Activation Functions Explained - GELU, SELU, ELU, ReLU and more](https://mlfromscratch.com/activation-functions-explained/#elu)\n",
        "10. [Simple Reference Guide for tuning Deep Neural Nets](https://towardsdatascience.com/simple-reference-guide-for-tuning-deep-neural-nets-e2d37d6fa933)\n",
        "11. [Simple Guide to Hyperparameter Tuning in Neural Networks](https://towardsdatascience.com/simple-guide-to-hyperparameter-tuning-in-neural-networks-3fe03dad8594)\n",
        "12. [You Shouldn’t Ignore All These Parameters in Keras’s ImageDataGenerator](https://towardsdatascience.com/you-shouldnt-ignore-all-these-parameters-in-keras-s-imagedatagenerator-eaa0530c76db)"
      ]
    }
  ]
}