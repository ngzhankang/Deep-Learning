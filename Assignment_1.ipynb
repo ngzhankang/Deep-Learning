{
  "nbformat": 4,
  "nbformat_minor": 0,
  "metadata": {
    "colab": {
      "name": "Assignment_1.ipynb",
      "provenance": [],
      "toc_visible": true,
      "authorship_tag": "ABX9TyO2mZrKCnev2B8/JK+O5nDa",
      "include_colab_link": true
    },
    "kernelspec": {
      "name": "python3",
      "display_name": "Python 3"
    },
    "accelerator": "GPU"
  },
  "cells": [
    {
      "cell_type": "markdown",
      "metadata": {
        "id": "view-in-github",
        "colab_type": "text"
      },
      "source": [
        "<a href=\"https://colab.research.google.com/github/ngzhankang/Deep-Learning/blob/main/Assignment_1.ipynb\" target=\"_parent\"><img src=\"https://colab.research.google.com/assets/colab-badge.svg\" alt=\"Open In Colab\"/></a>"
      ]
    },
    {
      "cell_type": "markdown",
      "metadata": {
        "id": "cgTaLrOvB90e"
      },
      "source": [
        "# Assignment 1\n",
        "Submitted by : P1935727 Ng Zhan Kang<br>\n",
        "Class of DIT/FT/2B/11\n"
      ]
    },
    {
      "cell_type": "markdown",
      "metadata": {
        "id": "dc_pUkkFF9Lg"
      },
      "source": [
        "---\n",
        "---"
      ]
    },
    {
      "cell_type": "markdown",
      "metadata": {
        "id": "vE-S0J3BG-jO"
      },
      "source": [
        "# 1.Setting Up Working Environment In Google Colab"
      ]
    },
    {
      "cell_type": "markdown",
      "metadata": {
        "id": "dEaQJ7Rz88NW"
      },
      "source": [
        "### 1.1 Ensuring 0% Util\n",
        "\n",
        "---\n",
        "\n",
        "Ensure that our slot give by Google is not utilized yet."
      ]
    },
    {
      "cell_type": "code",
      "metadata": {
        "id": "4vU3IPB-9wF6",
        "outputId": "44c460b4-fb53-4783-d9ae-78dd0c0ca5d1",
        "colab": {
          "base_uri": "https://localhost:8080/"
        }
      },
      "source": [
        "# to ensure that the current gpu utilization is 0\n",
        "# memory footprint support libraries/code\n",
        "!ln -sf /opt/bin/nvidia-smi /usr/bin/nvidia-smi\n",
        "!pip install gputil\n",
        "!pip install psutil\n",
        "!pip install humanize\n",
        "import psutil\n",
        "import humanize\n",
        "import os\n",
        "import GPUtil as GPU\n",
        "GPUs = GPU.getGPUs()\n",
        "# XXX: only one GPU on Colab and isn’t guaranteed\n",
        "gpu = GPUs[0]\n",
        "def printm():\n",
        " process = psutil.Process(os.getpid())\n",
        " print(\"Gen RAM Free: \" + humanize.naturalsize( psutil.virtual_memory().available ), \" | Proc size: \" + humanize.naturalsize( process.memory_info().rss))\n",
        " print(\"GPU RAM Free: {0:.0f}MB | Used: {1:.0f}MB | Util {2:3.0f}% | Total {3:.0f}MB\".format(gpu.memoryFree, gpu.memoryUsed, gpu.memoryUtil*100, gpu.memoryTotal))\n",
        "printm() "
      ],
      "execution_count": 1,
      "outputs": [
        {
          "output_type": "stream",
          "text": [
            "Requirement already satisfied: gputil in /usr/local/lib/python3.6/dist-packages (1.4.0)\n",
            "Requirement already satisfied: psutil in /usr/local/lib/python3.6/dist-packages (5.4.8)\n",
            "Requirement already satisfied: humanize in /usr/local/lib/python3.6/dist-packages (0.5.1)\n",
            "Gen RAM Free: 12.8 GB  | Proc size: 111.9 MB\n",
            "GPU RAM Free: 15079MB | Used: 0MB | Util   0% | Total 15079MB\n"
          ],
          "name": "stdout"
        }
      ]
    },
    {
      "cell_type": "markdown",
      "metadata": {
        "id": "SWjAy1ds9Kns"
      },
      "source": [
        "### 1.2. Forcing Utils To 0%\n",
        "\n",
        "---\n",
        "\n",
        "Please do not use this step unless forced to."
      ]
    },
    {
      "cell_type": "code",
      "metadata": {
        "id": "Gqa73iPB93yZ"
      },
      "source": [
        "# if utilization is > 0, run this code(keep running this cell and the above cell till the util number is 0%):\n",
        "# NOTE THAT RUNNING THIS MIGHT KILL GPU SESSION AND RESULT IN DATA LOSS(NOT ADVICABLE TO KEEP ON REUSING)\n",
        "# !kill -9 -1"
      ],
      "execution_count": 2,
      "outputs": []
    },
    {
      "cell_type": "markdown",
      "metadata": {
        "id": "L0aYmZCq8qjQ"
      },
      "source": [
        "---\n",
        "---"
      ]
    },
    {
      "cell_type": "markdown",
      "metadata": {
        "id": "FfVnMSOFGln8"
      },
      "source": [
        "# 2.Ensuring GPU Is Utilized In Environment"
      ]
    },
    {
      "cell_type": "markdown",
      "metadata": {
        "id": "lbDAAbwSG7DN"
      },
      "source": [
        "### 2.1. See the list of available devices\n",
        "\n",
        "---\n",
        "\n",
        "This entire section can be omitted if users are not utilizing GPU at all."
      ]
    },
    {
      "cell_type": "code",
      "metadata": {
        "id": "l6OEWFOMcAM_",
        "outputId": "2155d9be-060f-47b5-acee-f6e729f581ff",
        "colab": {
          "base_uri": "https://localhost:8080/"
        }
      },
      "source": [
        "from tensorflow.python.client import device_lib\n",
        "print(device_lib.list_local_devices())"
      ],
      "execution_count": 3,
      "outputs": [
        {
          "output_type": "stream",
          "text": [
            "[name: \"/device:CPU:0\"\n",
            "device_type: \"CPU\"\n",
            "memory_limit: 268435456\n",
            "locality {\n",
            "}\n",
            "incarnation: 6313108424479633407\n",
            ", name: \"/device:XLA_CPU:0\"\n",
            "device_type: \"XLA_CPU\"\n",
            "memory_limit: 17179869184\n",
            "locality {\n",
            "}\n",
            "incarnation: 13340825668415410696\n",
            "physical_device_desc: \"device: XLA_CPU device\"\n",
            ", name: \"/device:XLA_GPU:0\"\n",
            "device_type: \"XLA_GPU\"\n",
            "memory_limit: 17179869184\n",
            "locality {\n",
            "}\n",
            "incarnation: 891755543535353038\n",
            "physical_device_desc: \"device: XLA_GPU device\"\n",
            ", name: \"/device:GPU:0\"\n",
            "device_type: \"GPU\"\n",
            "memory_limit: 14640891840\n",
            "locality {\n",
            "  bus_id: 1\n",
            "  links {\n",
            "  }\n",
            "}\n",
            "incarnation: 2219114746643220124\n",
            "physical_device_desc: \"device: 0, name: Tesla T4, pci bus id: 0000:00:04.0, compute capability: 7.5\"\n",
            "]\n"
          ],
          "name": "stdout"
        }
      ]
    },
    {
      "cell_type": "code",
      "metadata": {
        "id": "baot31IdcLjO",
        "outputId": "ac2892c2-d0d5-4771-f8f5-13a85a53dc06",
        "colab": {
          "base_uri": "https://localhost:8080/"
        }
      },
      "source": [
        "import tensorflow as tf\n",
        "print(\"Num GPUs Available: \", len(tf.config.experimental.list_physical_devices('GPU')))"
      ],
      "execution_count": 4,
      "outputs": [
        {
          "output_type": "stream",
          "text": [
            "Num GPUs Available:  1\n"
          ],
          "name": "stdout"
        }
      ]
    },
    {
      "cell_type": "code",
      "metadata": {
        "id": "vS-gWw_jcOeh",
        "outputId": "baf361f7-9638-4065-cdc3-86046a91ddcd",
        "colab": {
          "base_uri": "https://localhost:8080/",
          "height": 35
        }
      },
      "source": [
        "tf.test.gpu_device_name()"
      ],
      "execution_count": 5,
      "outputs": [
        {
          "output_type": "execute_result",
          "data": {
            "application/vnd.google.colaboratory.intrinsic+json": {
              "type": "string"
            },
            "text/plain": [
              "'/device:GPU:0'"
            ]
          },
          "metadata": {
            "tags": []
          },
          "execution_count": 5
        }
      ]
    },
    {
      "cell_type": "markdown",
      "metadata": {
        "id": "F08LAekAHBhq"
      },
      "source": [
        "---\n",
        "---"
      ]
    },
    {
      "cell_type": "markdown",
      "metadata": {
        "id": "Id1KUxFrCnKw"
      },
      "source": [
        "# 3.About The MNIST Dataset (Background Information)"
      ]
    },
    {
      "cell_type": "markdown",
      "metadata": {
        "id": "QiQ-Uvol8ZIp"
      },
      "source": [
        "## 3.1. Background\n",
        "- The MNIST database(Modified National Institute of Standards and Technology database) history came to existence by \n",
        "- The MNIST database of handwritten digits, available from this page, has a training set of 60,000 examples, and a test set of 10,000 examples. It is a subset of a larger set available from NIST. The digits have been size-normalized and centered in a fixed-size image."
      ]
    },
    {
      "cell_type": "markdown",
      "metadata": {
        "id": "DRAg_XY2CsJ3"
      },
      "source": [
        "## 3.2. Classic MNIST Dataset\n",
        "- For this problem, create a CNN for image classification and evaluate the performance of the network\n",
        "- Prepare the data and perform necessary feature engineering\n",
        "- Create **_three models_** \n",
        "- Evaluate the models and pick the best candidate\n",
        "- Form some conclusions"
      ]
    },
    {
      "cell_type": "markdown",
      "metadata": {
        "id": "cSnt3olNIJlH"
      },
      "source": [
        "---\n",
        "---"
      ]
    },
    {
      "cell_type": "markdown",
      "metadata": {
        "id": "1-AF7n6VCwiI"
      },
      "source": [
        "# 4.Data Importing"
      ]
    },
    {
      "cell_type": "markdown",
      "metadata": {
        "id": "4xGz4pqKINfL"
      },
      "source": [
        "### 4.1. Load the libraries\n",
        "\n",
        "---\n",
        "\n",
        "Import the necessary libraries."
      ]
    },
    {
      "cell_type": "code",
      "metadata": {
        "id": "i4GavKz7CzgA"
      },
      "source": [
        "# Suppress Future Warnings\n",
        "import warnings\n",
        "warnings.filterwarnings('ignore')"
      ],
      "execution_count": 1,
      "outputs": []
    },
    {
      "cell_type": "code",
      "metadata": {
        "id": "6OMhNQRPC23r",
        "outputId": "c5ee9e6c-e59e-4149-cc3a-8a34e8a54709",
        "colab": {
          "base_uri": "https://localhost:8080/"
        }
      },
      "source": [
        "# check versions of libraries we are going to use\n",
        "%tensorflow_version 2.x\n",
        "import os\n",
        "import tensorflow\n",
        "import kerastuner\n",
        "import numpy as np\n",
        "import pandas as pd\n",
        "import seaborn as sns\n",
        "import matplotlib\n",
        "import platform\n",
        "\n",
        "message=\"        Versions        \"\n",
        "print(\"*\"*len(message))\n",
        "print(message)\n",
        "print(\"*\"*len(message))\n",
        "print(\"Tensorflow version={}\".format(tensorflow.__version__))\n",
        "print(\"KerasTuner version={}\".format(kerastuner.__version__))\n",
        "print(\"Numpy version={}\".format(np.__version__))\n",
        "print(\"Pandas version={}\".format(pd.__version__))\n",
        "print(\"Seaborn version={}\".format(sns.__version__))\n",
        "print(\"Matplotlib version={}\".format(matplotlib.__version__))\n",
        "print(\"Python version={}\".format(platform.python_version()))"
      ],
      "execution_count": 2,
      "outputs": [
        {
          "output_type": "stream",
          "text": [
            "************************\n",
            "        Versions        \n",
            "************************\n",
            "Tensorflow version=2.3.0\n",
            "KerasTuner version=1.0.1\n",
            "Numpy version=1.18.5\n",
            "Pandas version=1.1.3\n",
            "Seaborn version=0.11.0\n",
            "Matplotlib version=3.2.2\n",
            "Python version=3.6.9\n"
          ],
          "name": "stdout"
        }
      ]
    },
    {
      "cell_type": "code",
      "metadata": {
        "id": "yjLekX4z9_nf"
      },
      "source": [
        "# start importing necessary libraries\n",
        "import tensorflow as tf\n",
        "from tensorflow.python.keras.models import Sequential\n",
        "from tensorflow.python.keras.layers import Dense, Conv2D, Dropout, Flatten, MaxPooling2D, Activation\n",
        "from tensorflow.python.keras.callbacks import EarlyStopping\n",
        "from kerastuner import HyperModel\n",
        "from kerastuner.tuners import RandomSearch\n",
        "from kerastuner.engine.hyperparameters import HyperParameters\n",
        "\n",
        "import pandas as pd\n",
        "import matplotlib.pyplot as plt\n",
        "import seaborn as sns\n",
        "import numpy as np\n",
        "\n",
        "%matplotlib inline"
      ],
      "execution_count": 3,
      "outputs": []
    },
    {
      "cell_type": "code",
      "metadata": {
        "id": "pXWoWulRC_sP"
      },
      "source": [
        "# fix random seed so that we do not see variation in accuracy each time we run thru \n",
        "seed_value = 88\n",
        "np.random.seed(seed_value)\n",
        "\n",
        "# get the dataset from keras library in tensorflow 2.0\n",
        "mnist = tf.keras.datasets.mnist\n",
        "\n",
        "# unpack the dataset to the respective x_train, y_train, x_test and y_test\n",
        "(x_train, y_train), (x_test, y_test) = mnist.load_data()"
      ],
      "execution_count": 4,
      "outputs": []
    },
    {
      "cell_type": "markdown",
      "metadata": {
        "id": "EYcgK0sTFrvZ"
      },
      "source": [
        "### 4.2. Verify the dataset\n",
        "\n",
        "---\n",
        "\n",
        "Verify the credibility of the dataset first by plotting the 1st 25 images from the training set and display the class name below each image."
      ]
    },
    {
      "cell_type": "code",
      "metadata": {
        "id": "YXCBHJQVFsGK",
        "outputId": "79428f6c-be8e-4011-f255-045229f17954",
        "colab": {
          "base_uri": "https://localhost:8080/",
          "height": 589
        }
      },
      "source": [
        "numbers = ['0','1','2','3','4','5','6','7','8','9']\n",
        "\n",
        "plt.figure(figsize=(10,10))\n",
        "for i in range(25):\n",
        "    plt.subplot(5,5,i+1)\n",
        "    plt.xticks([])\n",
        "    plt.yticks([])\n",
        "    plt.grid(False)\n",
        "    plt.imshow(x_train[i], cmap=plt.cm.binary)\n",
        "    plt.xlabel(numbers[y_train[i]], color=\"yellow\")\n",
        "plt.show()"
      ],
      "execution_count": 5,
      "outputs": [
        {
          "output_type": "display_data",
          "data": {
            "image/png": "[encoded data removed]",
            "text/plain": [
              "<Figure size 720x720 with 25 Axes>"
            ]
          },
          "metadata": {
            "tags": []
          }
        }
      ]
    },
    {
      "cell_type": "markdown",
      "metadata": {
        "id": "T6lG2VSFF7nC"
      },
      "source": [
        "<div class=\"alert alert-block alert-info\">\n",
        "    <b>Analysis Summary:</b> It seems that the labels matches all the images, which is good! Now let's carry on to get a better insight of the datatset we are going to deal with.<p>\n",
        "</div>"
      ]
    },
    {
      "cell_type": "markdown",
      "metadata": {
        "id": "ARlNpLenHMk-"
      },
      "source": [
        "---\n",
        "---"
      ]
    },
    {
      "cell_type": "markdown",
      "metadata": {
        "id": "34w33z5aHNrb"
      },
      "source": [
        "# 5.Exploratory Data Analysis"
      ]
    },
    {
      "cell_type": "markdown",
      "metadata": {
        "id": "Gkd8sWV_6oht"
      },
      "source": [
        "### 5.1. Basic Data Exploration\n",
        "\n",
        "---\n",
        "\n",
        "Take a peek look at what is inside the `x_train` and the `x_test`."
      ]
    },
    {
      "cell_type": "code",
      "metadata": {
        "id": "M5xOZA3G4HYf",
        "outputId": "5992ab05-76a2-4f2f-8854-9d6168c06fe1",
        "colab": {
          "base_uri": "https://localhost:8080/"
        }
      },
      "source": [
        "# take a look at the x_train set first\n",
        "print(x_train.shape)\n",
        "print(y_train.shape)"
      ],
      "execution_count": 6,
      "outputs": [
        {
          "output_type": "stream",
          "text": [
            "(60000, 28, 28)\n",
            "(60000,)\n"
          ],
          "name": "stdout"
        }
      ]
    },
    {
      "cell_type": "code",
      "metadata": {
        "id": "SR9JVfvk62fU",
        "outputId": "37addd37-5a1d-4c15-962a-c67e8d61c8a9",
        "colab": {
          "base_uri": "https://localhost:8080/"
        }
      },
      "source": [
        "# take a look at the x_test set\n",
        "print(x_test.shape)\n",
        "print(y_test.shape)"
      ],
      "execution_count": 7,
      "outputs": [
        {
          "output_type": "stream",
          "text": [
            "(10000, 28, 28)\n",
            "(10000,)\n"
          ],
          "name": "stdout"
        }
      ]
    },
    {
      "cell_type": "code",
      "metadata": {
        "id": "YR66TbQJ6-An",
        "outputId": "5be74827-4c6e-40a6-9e63-eb46d43449ce",
        "colab": {
          "base_uri": "https://localhost:8080/",
          "height": 265
        }
      },
      "source": [
        "# grab a random picture to take a look\n",
        "plt.imshow(x_train[5], cmap=plt.cm.binary)\n",
        "plt.show()"
      ],
      "execution_count": 8,
      "outputs": [
        {
          "output_type": "display_data",
          "data": {
            "image/png": "[encoded data removed]",
            "text/plain": [
              "<Figure size 432x288 with 1 Axes>"
            ]
          },
          "metadata": {
            "tags": [],
            "needs_background": "light"
          }
        }
      ]
    },
    {
      "cell_type": "code",
      "metadata": {
        "id": "qQeHiDS47ZVw",
        "outputId": "c9b3adc7-adaf-479d-927d-cd560b4e92aa",
        "colab": {
          "base_uri": "https://localhost:8080/"
        }
      },
      "source": [
        "# get the distinct lables that are found in the entire thing\n",
        "print('Training set unique labels:',np.unique(y_train))\n",
        "print('Test set unique labels:',np.unique(y_test))"
      ],
      "execution_count": 9,
      "outputs": [
        {
          "output_type": "stream",
          "text": [
            "Training set unique labels: [0 1 2 3 4 5 6 7 8 9]\n",
            "Test set unique labels: [0 1 2 3 4 5 6 7 8 9]\n"
          ],
          "name": "stdout"
        }
      ]
    },
    {
      "cell_type": "code",
      "metadata": {
        "id": "s94V4iGA6IgO",
        "outputId": "da715e8f-0eed-49f1-e719-f628846fdcdf",
        "colab": {
          "base_uri": "https://localhost:8080/"
        }
      },
      "source": [
        "# get the count of the values from 0 to 9\n",
        "unique, counts = np.unique(y_train, return_counts=True)\n",
        "print(np.asarray((unique, counts)).T)"
      ],
      "execution_count": 10,
      "outputs": [
        {
          "output_type": "stream",
          "text": [
            "[[   0 5923]\n",
            " [   1 6742]\n",
            " [   2 5958]\n",
            " [   3 6131]\n",
            " [   4 5842]\n",
            " [   5 5421]\n",
            " [   6 5918]\n",
            " [   7 6265]\n",
            " [   8 5851]\n",
            " [   9 5949]]\n"
          ],
          "name": "stdout"
        }
      ]
    },
    {
      "cell_type": "markdown",
      "metadata": {
        "id": "UPO-4wQGHnq-"
      },
      "source": [
        "---\n",
        "---"
      ]
    },
    {
      "cell_type": "markdown",
      "metadata": {
        "id": "8e7cOjDtHrpd"
      },
      "source": [
        "# 6.Feature Engineering"
      ]
    },
    {
      "cell_type": "markdown",
      "metadata": {
        "id": "MpE9BpXTIbsN"
      },
      "source": [
        "### 6.1. Changing Dimension To Match Keras Expectation\n",
        "\n",
        "---\n",
        "\n",
        "Reshape `x_train` and `x_test` to 4 dimensional array for the convolutional layer later on."
      ]
    },
    {
      "cell_type": "code",
      "metadata": {
        "id": "yrcpIcCiIF6k",
        "outputId": "993fba4c-3b91-4dcc-c5b6-dc5cdb8681bd",
        "colab": {
          "base_uri": "https://localhost:8080/"
        }
      },
      "source": [
        "# see the shape of x_train and x_test first\n",
        "print('x_train shape:', x_train.shape)\n",
        "print(x_train.shape[0], 'train samples')\n",
        "print(x_test.shape[0], 'test samples')"
      ],
      "execution_count": 11,
      "outputs": [
        {
          "output_type": "stream",
          "text": [
            "x_train shape: (60000, 28, 28)\n",
            "60000 train samples\n",
            "10000 test samples\n"
          ],
          "name": "stdout"
        }
      ]
    },
    {
      "cell_type": "code",
      "metadata": {
        "id": "UUNk_StCNAN-"
      },
      "source": [
        "# flatten 28*28 images to a 784 vector for each image\n",
        "num_pixels = x_train.shape[1] * x_train.shape[2]\n",
        "x_train = x_train.reshape(x_train.shape[0], num_pixels).astype('float32')\n",
        "x_test = x_test.reshape(x_test.shape[0], num_pixels).astype('float32')"
      ],
      "execution_count": 12,
      "outputs": []
    },
    {
      "cell_type": "code",
      "metadata": {
        "id": "SdhRaVB9Ifje",
        "outputId": "dbda4ca0-50b0-4fe5-fa70-5477887af1f0",
        "colab": {
          "base_uri": "https://localhost:8080/"
        }
      },
      "source": [
        "# see the changes\n",
        "print('New x_train shape:', x_train.shape)\n",
        "print(x_train.shape[0], 'train samples')\n",
        "print(x_test.shape[0], 'test samples')"
      ],
      "execution_count": 13,
      "outputs": [
        {
          "output_type": "stream",
          "text": [
            "New x_train shape: (60000, 784)\n",
            "60000 train samples\n",
            "10000 test samples\n"
          ],
          "name": "stdout"
        }
      ]
    },
    {
      "cell_type": "markdown",
      "metadata": {
        "id": "I6PR8lUGIjf7"
      },
      "source": [
        "### 6.2. Normalize Training Data\n",
        "\n",
        "---\n",
        "\n",
        "Normalize the entire training dataset so that there is not much variation."
      ]
    },
    {
      "cell_type": "code",
      "metadata": {
        "id": "dxgG6lH8Igxn"
      },
      "source": [
        "# attempt to normalize the entire dataset first from 0-255 to 0-1\n",
        "x_train = x_train / 255\n",
        "x_test = x_test / 255"
      ],
      "execution_count": 14,
      "outputs": []
    },
    {
      "cell_type": "markdown",
      "metadata": {
        "id": "hejHzHbJJslI"
      },
      "source": [
        "### 6.3. Convert To Categorical Data\n",
        "\n",
        "---\n",
        "\n",
        "Convert the labels to categorical data as we do not want the model to think 9 has a higher priority than 0."
      ]
    },
    {
      "cell_type": "code",
      "metadata": {
        "id": "vxob5JCdJpem",
        "outputId": "3c41ce64-e47c-42f9-bce6-2569918a67d6",
        "colab": {
          "base_uri": "https://localhost:8080/"
        }
      },
      "source": [
        "# see what does actually 1 label for the training dataset looks like in a numpy array\n",
        "# get the one from the 1st image\n",
        "print(y_train[0])"
      ],
      "execution_count": 15,
      "outputs": [
        {
          "output_type": "stream",
          "text": [
            "5\n"
          ],
          "name": "stdout"
        }
      ]
    },
    {
      "cell_type": "code",
      "metadata": {
        "id": "lK0AsKgsJvcw",
        "outputId": "54740dd1-7764-4253-d2a0-7d6b08e618e6",
        "colab": {
          "base_uri": "https://localhost:8080/"
        }
      },
      "source": [
        "# see what does actually 1 label for the test dataset looks like in a numpy array\n",
        "# get the one from the 1st image\n",
        "print(y_test[0])"
      ],
      "execution_count": 16,
      "outputs": [
        {
          "output_type": "stream",
          "text": [
            "7\n"
          ],
          "name": "stdout"
        }
      ]
    },
    {
      "cell_type": "code",
      "metadata": {
        "id": "JdB5ywKlJwZs"
      },
      "source": [
        "# use to_categorical to convert the training and testing dataset labels\n",
        "y_train = tf.keras.utils.to_categorical(y_train)\n",
        "y_test = tf.keras.utils.to_categorical(y_test)\n",
        "num_classes = y_test.shape[1]"
      ],
      "execution_count": 17,
      "outputs": []
    },
    {
      "cell_type": "code",
      "metadata": {
        "id": "58s_zZ4hJxne",
        "outputId": "5c46dc98-7f54-4b98-8f61-1f68406e4e65",
        "colab": {
          "base_uri": "https://localhost:8080/"
        }
      },
      "source": [
        "# now lets check again the training dataset labels\n",
        "print(y_train[0])"
      ],
      "execution_count": 18,
      "outputs": [
        {
          "output_type": "stream",
          "text": [
            "[0. 0. 0. 0. 0. 1. 0. 0. 0. 0.]\n"
          ],
          "name": "stdout"
        }
      ]
    },
    {
      "cell_type": "code",
      "metadata": {
        "id": "_BZ0M7vUJyqW",
        "outputId": "bf78424e-c588-44d6-b518-4f5c585d5f87",
        "colab": {
          "base_uri": "https://localhost:8080/"
        }
      },
      "source": [
        "# now lets check again the testing dataset labels\n",
        "print(y_test[0])"
      ],
      "execution_count": 19,
      "outputs": [
        {
          "output_type": "stream",
          "text": [
            "[0. 0. 0. 0. 0. 0. 0. 1. 0. 0.]\n"
          ],
          "name": "stdout"
        }
      ]
    },
    {
      "cell_type": "markdown",
      "metadata": {
        "id": "mBvx1V2rJ0pt"
      },
      "source": [
        "---\n",
        "---"
      ]
    },
    {
      "cell_type": "markdown",
      "metadata": {
        "id": "rCdKpcVDJ2uP"
      },
      "source": [
        "# 7.Models"
      ]
    },
    {
      "cell_type": "markdown",
      "metadata": {
        "id": "zSE3k8H-J43K"
      },
      "source": [
        "### 7.1. Baseline Model\n",
        "\n",
        "---\n",
        "\n",
        "First, we will setup a baseline model first using Keras Sequential Model."
      ]
    },
    {
      "cell_type": "code",
      "metadata": {
        "id": "H5ZgkP_2Jzp0",
        "outputId": "a1f4f8cd-e213-465e-fc02-e1fac3208a9b",
        "colab": {
          "base_uri": "https://localhost:8080/"
        }
      },
      "source": [
        "# create model and give it a name\n",
        "model = Sequential(name=\"baseline_model_sequential\")\n",
        "\n",
        "# add 1st fully connected layer (hidden layer)\n",
        "model.add(Dense(num_pixels, input_dim=num_pixels, kernel_initializer='normal', activation='relu'))\n",
        "\n",
        "# add 2nd fully connected layer (hidden layer)\n",
        "model.add(Dense(256,  kernel_initializer='normal', activation=tf.nn.relu))\n",
        "\n",
        "# add 3rd fully connected layer (hidden layer)\n",
        "model.add(Dense(128,  kernel_initializer='normal', activation=tf.nn.relu))\n",
        "model.add(Dropout(0.5)) # add a dropout layer to drop out some neurons during training to prevent overfitting\n",
        "\n",
        "# add output layer\n",
        "model.add(Dense(num_classes, kernel_initializer='normal', activation=tf.nn.softmax))\n",
        "\n",
        "# model summary\n",
        "model.summary()"
      ],
      "execution_count": 20,
      "outputs": [
        {
          "output_type": "stream",
          "text": [
            "Model: \"baseline_model_sequential\"\n",
            "_________________________________________________________________\n",
            "Layer (type)                 Output Shape              Param #   \n",
            "=================================================================\n",
            "dense (Dense)                (None, 784)               615440    \n",
            "_________________________________________________________________\n",
            "dense_1 (Dense)              (None, 256)               200960    \n",
            "_________________________________________________________________\n",
            "dense_2 (Dense)              (None, 128)               32896     \n",
            "_________________________________________________________________\n",
            "dropout (Dropout)            (None, 128)               0         \n",
            "_________________________________________________________________\n",
            "dense_3 (Dense)              (None, 10)                1290      \n",
            "=================================================================\n",
            "Total params: 850,586\n",
            "Trainable params: 850,586\n",
            "Non-trainable params: 0\n",
            "_________________________________________________________________\n"
          ],
          "name": "stdout"
        }
      ]
    },
    {
      "cell_type": "code",
      "metadata": {
        "id": "AEf6RDMSSQUU",
        "outputId": "6ccdef76-dbdc-4d6d-ee4c-da77df2a24cf",
        "colab": {
          "base_uri": "https://localhost:8080/"
        }
      },
      "source": [
        "# time to optimise the empty baseline model(an empty shell basically) and fit it with our training dataset\n",
        "# passing params into the newly created model and compile it\n",
        "model.compile(optimizer='adam',\n",
        "             loss='categorical_crossentropy',\n",
        "             metrics=['accuracy'])\n",
        "\n",
        "# train the model\n",
        "history = model.fit(x_train, y_train, validation_split=0.2, epochs=15, batch_size=200, verbose=1)"
      ],
      "execution_count": 21,
      "outputs": [
        {
          "output_type": "stream",
          "text": [
            "Epoch 1/15\n",
            "240/240 [==============================] - 1s 4ms/step - loss: 0.3954 - accuracy: 0.8826 - val_loss: 0.1323 - val_accuracy: 0.9607\n",
            "Epoch 2/15\n",
            "240/240 [==============================] - 1s 4ms/step - loss: 0.1353 - accuracy: 0.9615 - val_loss: 0.1063 - val_accuracy: 0.9679\n",
            "Epoch 3/15\n",
            "240/240 [==============================] - 1s 4ms/step - loss: 0.0860 - accuracy: 0.9756 - val_loss: 0.0939 - val_accuracy: 0.9734\n",
            "Epoch 4/15\n",
            "240/240 [==============================] - 1s 4ms/step - loss: 0.0603 - accuracy: 0.9826 - val_loss: 0.0922 - val_accuracy: 0.9744\n",
            "Epoch 5/15\n",
            "240/240 [==============================] - 1s 4ms/step - loss: 0.0470 - accuracy: 0.9863 - val_loss: 0.0875 - val_accuracy: 0.9766\n",
            "Epoch 6/15\n",
            "240/240 [==============================] - 1s 4ms/step - loss: 0.0329 - accuracy: 0.9899 - val_loss: 0.0969 - val_accuracy: 0.9757\n",
            "Epoch 7/15\n",
            "240/240 [==============================] - 1s 4ms/step - loss: 0.0305 - accuracy: 0.9906 - val_loss: 0.0859 - val_accuracy: 0.9778\n",
            "Epoch 8/15\n",
            "240/240 [==============================] - 1s 4ms/step - loss: 0.0257 - accuracy: 0.9923 - val_loss: 0.0950 - val_accuracy: 0.9778\n",
            "Epoch 9/15\n",
            "240/240 [==============================] - 1s 4ms/step - loss: 0.0168 - accuracy: 0.9949 - val_loss: 0.0976 - val_accuracy: 0.9788\n",
            "Epoch 10/15\n",
            "240/240 [==============================] - 1s 4ms/step - loss: 0.0187 - accuracy: 0.9940 - val_loss: 0.1008 - val_accuracy: 0.9785\n",
            "Epoch 11/15\n",
            "240/240 [==============================] - 1s 4ms/step - loss: 0.0149 - accuracy: 0.9955 - val_loss: 0.1052 - val_accuracy: 0.9783\n",
            "Epoch 12/15\n",
            "240/240 [==============================] - 1s 4ms/step - loss: 0.0134 - accuracy: 0.9959 - val_loss: 0.0956 - val_accuracy: 0.9806\n",
            "Epoch 13/15\n",
            "240/240 [==============================] - 1s 4ms/step - loss: 0.0131 - accuracy: 0.9958 - val_loss: 0.0981 - val_accuracy: 0.9797\n",
            "Epoch 14/15\n",
            "240/240 [==============================] - 1s 4ms/step - loss: 0.0102 - accuracy: 0.9967 - val_loss: 0.1105 - val_accuracy: 0.9786\n",
            "Epoch 15/15\n",
            "240/240 [==============================] - 1s 4ms/step - loss: 0.0148 - accuracy: 0.9957 - val_loss: 0.1052 - val_accuracy: 0.9792\n"
          ],
          "name": "stdout"
        }
      ]
    },
    {
      "cell_type": "code",
      "metadata": {
        "id": "G7mw9nVaSpnz",
        "outputId": "fb317ef4-3138-4e47-a231-fe1a2305c95f",
        "colab": {
          "base_uri": "https://localhost:8080/"
        }
      },
      "source": [
        "#print the available history keys for use\n",
        "print(history.history.keys()) "
      ],
      "execution_count": 22,
      "outputs": [
        {
          "output_type": "stream",
          "text": [
            "dict_keys(['loss', 'accuracy', 'val_loss', 'val_accuracy'])\n"
          ],
          "name": "stdout"
        }
      ]
    },
    {
      "cell_type": "code",
      "metadata": {
        "id": "8bB9_0TEVuD5",
        "outputId": "7b58a7db-7dd1-49f1-cd7a-da72cb7536ea",
        "colab": {
          "base_uri": "https://localhost:8080/",
          "height": 295
        }
      },
      "source": [
        "# plot a accuracy and validation loss graph to see the training and validation loss at each epoch\n",
        "loss = history.history['loss']\n",
        "val_loss = history.history['val_loss']\n",
        "epochs = range(1, len(loss) + 1)\n",
        "plt.plot(epochs, loss, 'y', label='Training loss')\n",
        "plt.plot(epochs, val_loss, 'r', label='Validation loss')\n",
        "plt.title('Training and validation loss')\n",
        "plt.xlabel('Epochs')\n",
        "plt.ylabel('Loss')\n",
        "plt.legend()\n",
        "plt.show()"
      ],
      "execution_count": 23,
      "outputs": [
        {
          "output_type": "display_data",
          "data": {
            "image/png": "[encoded data removed]",
            "text/plain": [
              "<Figure size 432x288 with 1 Axes>"
            ]
          },
          "metadata": {
            "tags": [],
            "needs_background": "light"
          }
        }
      ]
    },
    {
      "cell_type": "code",
      "metadata": {
        "id": "oerF-J2eWMON",
        "outputId": "1c57dc42-2bff-44fe-f324-76cf1e0de619",
        "colab": {
          "base_uri": "https://localhost:8080/",
          "height": 295
        }
      },
      "source": [
        "# plot a accuracy and validation accuracy graph to see the training and validation accuracy at each epoch\n",
        "accuracy = history.history['accuracy']\n",
        "val_accuracy = history.history['val_accuracy']\n",
        "plt.plot(epochs, accuracy, 'y', label='Training Accuracy')\n",
        "plt.plot(epochs, val_accuracy, 'r', label='Validation Accuracy')\n",
        "plt.title('Training and validation accuracy')\n",
        "plt.xlabel('Epochs')\n",
        "plt.ylabel('Accuracy')\n",
        "plt.legend()\n",
        "plt.show()"
      ],
      "execution_count": 24,
      "outputs": [
        {
          "output_type": "display_data",
          "data": {
            "image/png": "[encoded data removed]",
            "text/plain": [
              "<Figure size 432x288 with 1 Axes>"
            ]
          },
          "metadata": {
            "tags": [],
            "needs_background": "light"
          }
        }
      ]
    },
    {
      "cell_type": "markdown",
      "metadata": {
        "id": "Xco3EGc2WPTi"
      },
      "source": [
        "### 7.2. CNN Model\n",
        "\n",
        "---\n",
        "\n",
        "Next, we will setup a CNN Model."
      ]
    },
    {
      "cell_type": "code",
      "metadata": {
        "id": "K5yWrRR7Obm3",
        "outputId": "d08c017e-bfde-425e-8ea1-f9584d79646a",
        "colab": {
          "base_uri": "https://localhost:8080/"
        }
      },
      "source": [
        "# create model and give it a name\n",
        "model = Sequential(name=\"cnn_model_sequential\")\n",
        "\n",
        "# add 1st convolutional layer\n",
        "input_shape = (28, 28, 1) # declare input_shape as this is the 1st layer\n",
        "model.add(Conv2D(32, kernel_size=(3,3), input_shape=input_shape, kernel_initializer='he_uniform', activation='relu'))\n",
        "model.add(MaxPooling2D((2,2))) # add in a maxpooling 2d layer to reduce conputational complexity and overfitting\n",
        "          \n",
        "# add 2nd convolutional layer\n",
        "model.add(Conv2D(32, kernel_size=3, activation='relu'))\n",
        "model.add(MaxPooling2D((2,2))) # add in a maxpooling 2d layer to reduce conputational complexity and overfitting       \n",
        "          \n",
        "# add flatten layer\n",
        "model.add(Flatten()) # flatten prev 2d layer output to extract source from image for fully connected layers\n",
        "\n",
        "# add 1st fully connected layer (hidden layer)\n",
        "model.add(Dense(128))\n",
        "model.add(Dropout(0.5)) # add a dropout layer to drop out some neurons during training to prevent overfitting\n",
        "model.add(Activation('relu')) #dropout before activation function in fully connnect layers\n",
        "\n",
        "# add 2nd fully connected layer (hidden layer)\n",
        "model.add(Dense(50))\n",
        "model.add(Dropout(0.5)) # add a dropout layer to drop out some neurons during training to prevent overfitting\n",
        "model.add(Activation('relu')) #dropout before activation function in fully connnect layers\n",
        "          \n",
        "# add output layer\n",
        "model.add(Dense(10, activation=tf.nn.softmax)) # output layer(10 neurons as we only have 10 numbers(0 to 9))       \n",
        "          \n",
        "# get model summary\n",
        "model.summary()"
      ],
      "execution_count": 20,
      "outputs": [
        {
          "output_type": "stream",
          "text": [
            "Model: \"cnn_model_sequential\"\n",
            "_________________________________________________________________\n",
            "Layer (type)                 Output Shape              Param #   \n",
            "=================================================================\n",
            "conv2d (Conv2D)              (None, 26, 26, 32)        320       \n",
            "_________________________________________________________________\n",
            "max_pooling2d (MaxPooling2D) (None, 13, 13, 32)        0         \n",
            "_________________________________________________________________\n",
            "conv2d_1 (Conv2D)            (None, 11, 11, 32)        9248      \n",
            "_________________________________________________________________\n",
            "max_pooling2d_1 (MaxPooling2 (None, 5, 5, 32)          0         \n",
            "_________________________________________________________________\n",
            "flatten (Flatten)            (None, 800)               0         \n",
            "_________________________________________________________________\n",
            "dense (Dense)                (None, 128)               102528    \n",
            "_________________________________________________________________\n",
            "dropout (Dropout)            (None, 128)               0         \n",
            "_________________________________________________________________\n",
            "activation (Activation)      (None, 128)               0         \n",
            "_________________________________________________________________\n",
            "dense_1 (Dense)              (None, 50)                6450      \n",
            "_________________________________________________________________\n",
            "dropout_1 (Dropout)          (None, 50)                0         \n",
            "_________________________________________________________________\n",
            "activation_1 (Activation)    (None, 50)                0         \n",
            "_________________________________________________________________\n",
            "dense_2 (Dense)              (None, 10)                510       \n",
            "=================================================================\n",
            "Total params: 119,056\n",
            "Trainable params: 119,056\n",
            "Non-trainable params: 0\n",
            "_________________________________________________________________\n"
          ],
          "name": "stdout"
        }
      ]
    },
    {
      "cell_type": "code",
      "metadata": {
        "id": "sLLKlKi-ewsG",
        "outputId": "98ec48a7-6bc2-4b7b-d7a7-c0ed877e9da1",
        "colab": {
          "base_uri": "https://localhost:8080/"
        }
      },
      "source": [
        "# reshape x_train and x_test to (n_images, x_shape, y_shape, channels)\n",
        "# we are going to make chanels be 1 as we are not dealing with rgb images.\n",
        "x_train = x_train.reshape(x_train.shape[0], 28, 28, 1)\n",
        "x_test = x_test.reshape(x_test.shape[0], 28, 28, 1)\n",
        "\n",
        "# examine the shape before we feed it in\n",
        "print('New x_train shape:', x_train.shape)\n",
        "print(x_train.shape[0], 'train samples')\n",
        "print(x_test.shape[0], 'test samples')"
      ],
      "execution_count": 21,
      "outputs": [
        {
          "output_type": "stream",
          "text": [
            "New x_train shape: (60000, 28, 28, 1)\n",
            "60000 train samples\n",
            "10000 test samples\n"
          ],
          "name": "stdout"
        }
      ]
    },
    {
      "cell_type": "code",
      "metadata": {
        "id": "6OpTrZNAeqK4",
        "outputId": "b47d2ca7-020c-4e67-88d2-2b892fc20c63",
        "colab": {
          "base_uri": "https://localhost:8080/"
        }
      },
      "source": [
        "# time to optimise the empty CNN model(an empty shell basically) and fit it with our training dataset\n",
        "# passing params into the newly created model and compile it\n",
        "model.compile(optimizer='adam',\n",
        "             loss='categorical_crossentropy',\n",
        "             metrics=['accuracy'])\n",
        "\n",
        "# train the model\n",
        "history = model.fit(x_train,y_train, validation_split=0.2, epochs=15, verbose=1, callbacks=[EarlyStopping(monitor='loss', patience=2)])"
      ],
      "execution_count": 22,
      "outputs": [
        {
          "output_type": "stream",
          "text": [
            "Epoch 1/15\n",
            "1500/1500 [==============================] - 5s 4ms/step - loss: 0.4589 - accuracy: 0.8553 - val_loss: 0.0766 - val_accuracy: 0.9797\n",
            "Epoch 2/15\n",
            "1500/1500 [==============================] - 5s 4ms/step - loss: 0.1553 - accuracy: 0.9599 - val_loss: 0.0552 - val_accuracy: 0.9853\n",
            "Epoch 3/15\n",
            "1500/1500 [==============================] - 5s 3ms/step - loss: 0.1113 - accuracy: 0.9719 - val_loss: 0.0543 - val_accuracy: 0.9856\n",
            "Epoch 4/15\n",
            "1500/1500 [==============================] - 5s 4ms/step - loss: 0.0958 - accuracy: 0.9758 - val_loss: 0.0503 - val_accuracy: 0.9880\n",
            "Epoch 5/15\n",
            "1500/1500 [==============================] - 6s 4ms/step - loss: 0.0858 - accuracy: 0.9777 - val_loss: 0.0503 - val_accuracy: 0.9872\n",
            "Epoch 6/15\n",
            "1500/1500 [==============================] - 6s 4ms/step - loss: 0.0719 - accuracy: 0.9815 - val_loss: 0.0522 - val_accuracy: 0.9886\n",
            "Epoch 7/15\n",
            "1500/1500 [==============================] - 6s 4ms/step - loss: 0.0614 - accuracy: 0.9836 - val_loss: 0.0571 - val_accuracy: 0.9876\n",
            "Epoch 8/15\n",
            "1500/1500 [==============================] - 5s 4ms/step - loss: 0.0602 - accuracy: 0.9848 - val_loss: 0.0562 - val_accuracy: 0.9882\n",
            "Epoch 9/15\n",
            "1500/1500 [==============================] - 5s 3ms/step - loss: 0.0561 - accuracy: 0.9855 - val_loss: 0.0494 - val_accuracy: 0.9898\n",
            "Epoch 10/15\n",
            "1500/1500 [==============================] - 6s 4ms/step - loss: 0.0504 - accuracy: 0.9865 - val_loss: 0.0666 - val_accuracy: 0.9875\n",
            "Epoch 11/15\n",
            "1500/1500 [==============================] - 5s 4ms/step - loss: 0.0504 - accuracy: 0.9866 - val_loss: 0.0572 - val_accuracy: 0.9890\n",
            "Epoch 12/15\n",
            "1500/1500 [==============================] - 6s 4ms/step - loss: 0.0449 - accuracy: 0.9881 - val_loss: 0.0544 - val_accuracy: 0.9892\n",
            "Epoch 13/15\n",
            "1500/1500 [==============================] - 6s 4ms/step - loss: 0.0403 - accuracy: 0.9890 - val_loss: 0.0536 - val_accuracy: 0.9902\n",
            "Epoch 14/15\n",
            "1500/1500 [==============================] - 5s 4ms/step - loss: 0.0384 - accuracy: 0.9896 - val_loss: 0.0531 - val_accuracy: 0.9905\n",
            "Epoch 15/15\n",
            "1500/1500 [==============================] - 5s 4ms/step - loss: 0.0363 - accuracy: 0.9900 - val_loss: 0.0742 - val_accuracy: 0.9878\n"
          ],
          "name": "stdout"
        }
      ]
    },
    {
      "cell_type": "code",
      "metadata": {
        "id": "9z8RTDNDfwLs",
        "outputId": "e50454fe-159e-4046-922e-ff82fcc37741",
        "colab": {
          "base_uri": "https://localhost:8080/"
        }
      },
      "source": [
        "#print the available history keys for use\n",
        "print(history.history.keys()) "
      ],
      "execution_count": 23,
      "outputs": [
        {
          "output_type": "stream",
          "text": [
            "dict_keys(['loss', 'accuracy', 'val_loss', 'val_accuracy'])\n"
          ],
          "name": "stdout"
        }
      ]
    },
    {
      "cell_type": "code",
      "metadata": {
        "id": "8aT0rv8Tf0WC",
        "outputId": "4c4e8529-2f7d-4f83-9dfa-1a48cfc705aa",
        "colab": {
          "base_uri": "https://localhost:8080/",
          "height": 295
        }
      },
      "source": [
        "# plot a accuracy and validation loss graph to see the training and validation loss at each epoch\n",
        "loss = history.history['loss']\n",
        "val_loss = history.history['val_loss']\n",
        "epochs = range(1, len(loss) + 1)\n",
        "plt.plot(epochs, loss, 'y', label='Training loss')\n",
        "plt.plot(epochs, val_loss, 'r', label='Validation loss')\n",
        "plt.title('Training and validation loss')\n",
        "plt.xlabel('Epochs')\n",
        "plt.ylabel('Loss')\n",
        "plt.legend()\n",
        "plt.show()"
      ],
      "execution_count": 24,
      "outputs": [
        {
          "output_type": "display_data",
          "data": {
            "image/png": "[encoded data removed]",
            "text/plain": [
              "<Figure size 432x288 with 1 Axes>"
            ]
          },
          "metadata": {
            "tags": [],
            "needs_background": "light"
          }
        }
      ]
    },
    {
      "cell_type": "code",
      "metadata": {
        "id": "KSJNdv7nf3QY",
        "outputId": "0a0abaa2-a4c5-45bf-f1f6-8ae83114898f",
        "colab": {
          "base_uri": "https://localhost:8080/",
          "height": 295
        }
      },
      "source": [
        "# plot a accuracy and validation accuracy graph to see the training and validation accuracy at each epoch\n",
        "accuracy = history.history['accuracy']\n",
        "val_accuracy = history.history['val_accuracy']\n",
        "plt.plot(epochs, accuracy, 'y', label='Training Accuracy')\n",
        "plt.plot(epochs, val_accuracy, 'r', label='Validation Accuracy')\n",
        "plt.title('Training and validation accuracy')\n",
        "plt.xlabel('Epochs')\n",
        "plt.ylabel('Accuracy')\n",
        "plt.legend()\n",
        "plt.show()"
      ],
      "execution_count": 25,
      "outputs": [
        {
          "output_type": "display_data",
          "data": {
            "image/png": "[encoded data removed]",
            "text/plain": [
              "<Figure size 432x288 with 1 Axes>"
            ]
          },
          "metadata": {
            "tags": [],
            "needs_background": "light"
          }
        }
      ]
    },
    {
      "cell_type": "markdown",
      "metadata": {
        "id": "ZbCUBdNt1yZ-"
      },
      "source": [
        "### 7.3. CNN Hyper-Parameter Tuned Model\n",
        "\n",
        "---\n",
        "\n",
        "Next, we will setup a CNN Model that has undergone hyper-parameter tuning."
      ]
    },
    {
      "cell_type": "code",
      "metadata": {
        "id": "ar0yEkv9Q6pG",
        "outputId": "e34fb0b3-696d-4722-f4ef-1e2b5e7a1275",
        "colab": {
          "base_uri": "https://localhost:8080/"
        }
      },
      "source": [
        "# reshape x_train and x_test to (n_images, x_shape, y_shape, channels)\n",
        "# we are going to make chanels be 1 as we are not dealing with rgb images.\n",
        "x_train = x_train.reshape(x_train.shape[0], 28, 28, 1)\n",
        "x_test = x_test.reshape(x_test.shape[0], 28, 28, 1)\n",
        "\n",
        "# examine the shape before we feed it in\n",
        "print('New x_train shape:', x_train.shape)\n",
        "print(x_train.shape[0], 'train samples')\n",
        "print(x_test.shape[0], 'test samples')"
      ],
      "execution_count": 20,
      "outputs": [
        {
          "output_type": "stream",
          "text": [
            "New x_train shape: (60000, 28, 28, 1)\n",
            "60000 train samples\n",
            "10000 test samples\n"
          ],
          "name": "stdout"
        }
      ]
    },
    {
      "cell_type": "code",
      "metadata": {
        "id": "i6zJGUXYXSJM"
      },
      "source": [
        "# perform hyper parameter tuning first\n",
        "# create a function and call it cnnHyperParam, which takes in parameter called hp\n",
        "def cnnHyperParam(hp):\n",
        "  # create model and give it a name\n",
        "  model = Sequential(name=\"cnn_model_hyperParamTuned_sequential\")\n",
        "\n",
        "  # add 1st convolutional layer\n",
        "  input_shape = (28, 28, 1) # declare input_shape as this is the 1st layer\n",
        "  model.add(Conv2D(hp.Int('units', min_value=32, max_value=512, step=32), kernel_size=(3,3), input_shape=input_shape, kernel_initializer='he_uniform', activation='relu'))\n",
        "  model.add(MaxPooling2D((2,2))) # add in a maxpooling 2d layer to reduce conputational complexity and overfitting\n",
        "\n",
        "  # add 2nd convolutional layer\n",
        "  model.add(Conv2D(hp.Int('units', min_value=32, max_value=512, step=32), kernel_size=3, activation='relu'))\n",
        "  model.add(MaxPooling2D((2,2))) # add in a maxpooling 2d layer to reduce conputational complexity and overfitting \n",
        "\n",
        "  # add 3rd convolutional layer\n",
        "  model.add(Conv2D(hp.Int('units', min_value=32, max_value=512, step=32), kernel_size=3, activation='relu'))\n",
        "  model.add(MaxPooling2D((2,2))) # add in a maxpooling 2d layer to reduce conputational complexity and overfitting\n",
        "\n",
        "  # add flatten layer\n",
        "  model.add(Flatten()) # flatten prev 2d layer output to extract source from image for fully connected layers\n",
        "\n",
        "  # add 1st fully connected layer (hidden layer)\n",
        "  model.add(Dense(units=hp.Int('units', min_value=32, max_value=512, step=32, default=128)))\n",
        "  model.add(Dropout(rate=hp.Float('dropout_3', min_value=0.0, max_value=0.5, default=0.25, step=0.05))) # add a dropout layer to drop out some neurons during training to prevent overfitting\n",
        "  model.add(Activation('relu')) #dropout before activation function in fully connnect layers\n",
        "\n",
        "  # add 2nd fully connected layer (hidden layer)\n",
        "  model.add(Dense(units=hp.Int('units', min_value=32, max_value=512, step=32, default=128)))\n",
        "  model.add(Dropout(rate=hp.Float('dropout_3', min_value=0.0, max_value=0.5, default=0.25, step=0.05))) # add a dropout layer to drop out some neurons during training to prevent overfitting\n",
        "  model.add(Activation('relu')) #dropout before activation function in fully connnect layers\n",
        "\n",
        "  # add output layer\n",
        "  model.add(Dense(10, activation=tf.nn.softmax)) # output layer(10 neurons as we only have 10 numbers(0 to 9)) \n",
        "\n",
        "  # passing params into the newly created model and compile it\n",
        "  model.compile(\n",
        "      optimizer=tf.keras.optimizers.Adam(\n",
        "          hp.Choice('learning_rate',\n",
        "                    values=[1e-2, 1e-3, 1e-4])),\n",
        "              loss='categorical_crossentropy',\n",
        "              metrics=['accuracy'])\n",
        "\n",
        "  return model"
      ],
      "execution_count": 21,
      "outputs": []
    },
    {
      "cell_type": "code",
      "metadata": {
        "id": "SYcZQ3UOcZca",
        "outputId": "c7dbe54b-a984-4060-b1ee-284e07a768d8",
        "colab": {
          "base_uri": "https://localhost:8080/",
          "height": 399
        }
      },
      "source": [
        "# instantiate a tuner\n",
        "tuner = RandomSearch(\n",
        "    cnnHyperParam,\n",
        "    objective='val_accuracy',\n",
        "    max_trials=5,\n",
        "    executions_per_trial=3,\n",
        "    directory='random_search',\n",
        "    project_name='cnnRandomSearchHyperParam'\n",
        ")\n",
        "\n",
        "# get a summary of the search space\n",
        "tuner.search_space_summary()"
      ],
      "execution_count": 22,
      "outputs": [
        {
          "output_type": "display_data",
          "data": {
            "text/html": [
              "<span style=\"color:#4527A0\"><h1 style=\"font-size:18px\">Search space summary</h1></span>"
            ],
            "text/plain": [
              "<IPython.core.display.HTML object>"
            ]
          },
          "metadata": {
            "tags": []
          }
        },
        {
          "output_type": "display_data",
          "data": {
            "text/html": [
              "<span style=\"color:cyan\"> |-Default search space size: 3</span>"
            ],
            "text/plain": [
              "<IPython.core.display.HTML object>"
            ]
          },
          "metadata": {
            "tags": []
          }
        },
        {
          "output_type": "display_data",
          "data": {
            "text/html": [
              "<span style=\"color:#7E57C2\"><h2 style=\"font-size:16px\">units (Int)</h2></span>"
            ],
            "text/plain": [
              "<IPython.core.display.HTML object>"
            ]
          },
          "metadata": {
            "tags": []
          }
        },
        {
          "output_type": "display_data",
          "data": {
            "text/html": [
              "<span style=\"color:cyan\"> |-default: None</span>"
            ],
            "text/plain": [
              "<IPython.core.display.HTML object>"
            ]
          },
          "metadata": {
            "tags": []
          }
        },
        {
          "output_type": "display_data",
          "data": {
            "text/html": [
              "<span style=\"color:blue\"> |-max_value: 512</span>"
            ],
            "text/plain": [
              "<IPython.core.display.HTML object>"
            ]
          },
          "metadata": {
            "tags": []
          }
        },
        {
          "output_type": "display_data",
          "data": {
            "text/html": [
              "<span style=\"color:cyan\"> |-min_value: 32</span>"
            ],
            "text/plain": [
              "<IPython.core.display.HTML object>"
            ]
          },
          "metadata": {
            "tags": []
          }
        },
        {
          "output_type": "display_data",
          "data": {
            "text/html": [
              "<span style=\"color:blue\"> |-sampling: None</span>"
            ],
            "text/plain": [
              "<IPython.core.display.HTML object>"
            ]
          },
          "metadata": {
            "tags": []
          }
        },
        {
          "output_type": "display_data",
          "data": {
            "text/html": [
              "<span style=\"color:cyan\"> |-step: 32</span>"
            ],
            "text/plain": [
              "<IPython.core.display.HTML object>"
            ]
          },
          "metadata": {
            "tags": []
          }
        },
        {
          "output_type": "display_data",
          "data": {
            "text/html": [
              "<span style=\"color:#7E57C2\"><h2 style=\"font-size:16px\">dropout_3 (Float)</h2></span>"
            ],
            "text/plain": [
              "<IPython.core.display.HTML object>"
            ]
          },
          "metadata": {
            "tags": []
          }
        },
        {
          "output_type": "display_data",
          "data": {
            "text/html": [
              "<span style=\"color:cyan\"> |-default: 0.25</span>"
            ],
            "text/plain": [
              "<IPython.core.display.HTML object>"
            ]
          },
          "metadata": {
            "tags": []
          }
        },
        {
          "output_type": "display_data",
          "data": {
            "text/html": [
              "<span style=\"color:blue\"> |-max_value: 0.5</span>"
            ],
            "text/plain": [
              "<IPython.core.display.HTML object>"
            ]
          },
          "metadata": {
            "tags": []
          }
        },
        {
          "output_type": "display_data",
          "data": {
            "text/html": [
              "<span style=\"color:cyan\"> |-min_value: 0.0</span>"
            ],
            "text/plain": [
              "<IPython.core.display.HTML object>"
            ]
          },
          "metadata": {
            "tags": []
          }
        },
        {
          "output_type": "display_data",
          "data": {
            "text/html": [
              "<span style=\"color:blue\"> |-sampling: None</span>"
            ],
            "text/plain": [
              "<IPython.core.display.HTML object>"
            ]
          },
          "metadata": {
            "tags": []
          }
        },
        {
          "output_type": "display_data",
          "data": {
            "text/html": [
              "<span style=\"color:cyan\"> |-step: 0.05</span>"
            ],
            "text/plain": [
              "<IPython.core.display.HTML object>"
            ]
          },
          "metadata": {
            "tags": []
          }
        },
        {
          "output_type": "display_data",
          "data": {
            "text/html": [
              "<span style=\"color:#7E57C2\"><h2 style=\"font-size:16px\">learning_rate (Choice)</h2></span>"
            ],
            "text/plain": [
              "<IPython.core.display.HTML object>"
            ]
          },
          "metadata": {
            "tags": []
          }
        },
        {
          "output_type": "display_data",
          "data": {
            "text/html": [
              "<span style=\"color:cyan\"> |-default: 0.01</span>"
            ],
            "text/plain": [
              "<IPython.core.display.HTML object>"
            ]
          },
          "metadata": {
            "tags": []
          }
        },
        {
          "output_type": "display_data",
          "data": {
            "text/html": [
              "<span style=\"color:blue\"> |-ordered: True</span>"
            ],
            "text/plain": [
              "<IPython.core.display.HTML object>"
            ]
          },
          "metadata": {
            "tags": []
          }
        },
        {
          "output_type": "display_data",
          "data": {
            "text/html": [
              "<span style=\"color:cyan\"> |-values: [0.01, 0.001, 0.0001]</span>"
            ],
            "text/plain": [
              "<IPython.core.display.HTML object>"
            ]
          },
          "metadata": {
            "tags": []
          }
        }
      ]
    },
    {
      "cell_type": "code",
      "metadata": {
        "id": "gU5LfONxeKWI",
        "outputId": "3edb2f37-1549-46b8-e6bd-33627d0130d6",
        "colab": {
          "base_uri": "https://localhost:8080/",
          "height": 1000
        }
      },
      "source": [
        "# start the search for the best hyperparam configuration(this is similar to model.fit() right here...)\n",
        "tuner.search(x_train, y_train, epochs=15, validation_split=0.2)"
      ],
      "execution_count": 23,
      "outputs": [
        {
          "output_type": "stream",
          "text": [
            "Epoch 1/15\n",
            "   1/1500 [..............................] - ETA: 0s - loss: 2.3535 - accuracy: 0.1250WARNING:tensorflow:Callbacks method `on_train_batch_end` is slow compared to the batch time (batch time: 0.0042s vs `on_train_batch_end` time: 0.0143s). Check your callbacks.\n",
            "1498/1500 [============================>.] - ETA: 0s - loss: 0.2239 - accuracy: 0.9332WARNING:tensorflow:Callbacks method `on_test_batch_end` is slow compared to the batch time (batch time: 0.0012s vs `on_test_batch_end` time: 0.0023s). Check your callbacks.\n",
            "1500/1500 [==============================] - 17s 11ms/step - loss: 0.2236 - accuracy: 0.9333 - val_loss: 0.1028 - val_accuracy: 0.9688\n",
            "Epoch 2/15\n",
            "1500/1500 [==============================] - 17s 11ms/step - loss: 0.0850 - accuracy: 0.9764 - val_loss: 0.0773 - val_accuracy: 0.9802\n",
            "Epoch 3/15\n",
            "1500/1500 [==============================] - 17s 11ms/step - loss: 0.0660 - accuracy: 0.9813 - val_loss: 0.0554 - val_accuracy: 0.9857\n",
            "Epoch 4/15\n",
            "1500/1500 [==============================] - 17s 11ms/step - loss: 0.0541 - accuracy: 0.9854 - val_loss: 0.0921 - val_accuracy: 0.9766\n",
            "Epoch 5/15\n",
            "1500/1500 [==============================] - 17s 11ms/step - loss: 0.0428 - accuracy: 0.9880 - val_loss: 0.0772 - val_accuracy: 0.9822\n",
            "Epoch 6/15\n",
            "1500/1500 [==============================] - 17s 12ms/step - loss: 0.0374 - accuracy: 0.9903 - val_loss: 0.0580 - val_accuracy: 0.9880\n",
            "Epoch 7/15\n",
            "1500/1500 [==============================] - 18s 12ms/step - loss: 0.0374 - accuracy: 0.9901 - val_loss: 0.0685 - val_accuracy: 0.9828\n",
            "Epoch 8/15\n",
            "1500/1500 [==============================] - 17s 12ms/step - loss: 0.0309 - accuracy: 0.9924 - val_loss: 0.0757 - val_accuracy: 0.9840\n",
            "Epoch 9/15\n",
            "1500/1500 [==============================] - 17s 12ms/step - loss: 0.0276 - accuracy: 0.9928 - val_loss: 0.0690 - val_accuracy: 0.9858\n",
            "Epoch 10/15\n",
            "1500/1500 [==============================] - 17s 12ms/step - loss: 0.0252 - accuracy: 0.9934 - val_loss: 0.0735 - val_accuracy: 0.9867\n",
            "Epoch 11/15\n",
            "1500/1500 [==============================] - 17s 12ms/step - loss: 0.0251 - accuracy: 0.9939 - val_loss: 0.0729 - val_accuracy: 0.9875\n",
            "Epoch 12/15\n",
            "1500/1500 [==============================] - 17s 12ms/step - loss: 0.0236 - accuracy: 0.9944 - val_loss: 0.0996 - val_accuracy: 0.9847\n",
            "Epoch 13/15\n",
            "1500/1500 [==============================] - 17s 11ms/step - loss: 0.0210 - accuracy: 0.9947 - val_loss: 0.0849 - val_accuracy: 0.9862\n",
            "Epoch 14/15\n",
            "1500/1500 [==============================] - 17s 12ms/step - loss: 0.0219 - accuracy: 0.9948 - val_loss: 0.0844 - val_accuracy: 0.9872\n",
            "Epoch 15/15\n",
            "1500/1500 [==============================] - 18s 12ms/step - loss: 0.0170 - accuracy: 0.9956 - val_loss: 0.0921 - val_accuracy: 0.9884\n",
            "Epoch 1/15\n",
            "   1/1500 [..............................] - ETA: 0s - loss: 2.4352 - accuracy: 0.1875WARNING:tensorflow:Callbacks method `on_train_batch_end` is slow compared to the batch time (batch time: 0.0037s vs `on_train_batch_end` time: 0.0063s). Check your callbacks.\n",
            "1499/1500 [============================>.] - ETA: 0s - loss: 0.2321 - accuracy: 0.9298WARNING:tensorflow:Callbacks method `on_test_batch_end` is slow compared to the batch time (batch time: 0.0016s vs `on_test_batch_end` time: 0.0027s). Check your callbacks.\n",
            "1500/1500 [==============================] - 18s 12ms/step - loss: 0.2319 - accuracy: 0.9299 - val_loss: 0.0693 - val_accuracy: 0.9795\n",
            "Epoch 2/15\n",
            "1500/1500 [==============================] - 17s 12ms/step - loss: 0.0883 - accuracy: 0.9752 - val_loss: 0.0678 - val_accuracy: 0.9797\n",
            "Epoch 3/15\n",
            "1500/1500 [==============================] - 17s 12ms/step - loss: 0.0687 - accuracy: 0.9809 - val_loss: 0.0691 - val_accuracy: 0.9836\n",
            "Epoch 4/15\n",
            "1500/1500 [==============================] - 17s 12ms/step - loss: 0.0584 - accuracy: 0.9844 - val_loss: 0.0668 - val_accuracy: 0.9826\n",
            "Epoch 5/15\n",
            "1500/1500 [==============================] - 17s 12ms/step - loss: 0.0415 - accuracy: 0.9884 - val_loss: 0.0563 - val_accuracy: 0.9869\n",
            "Epoch 6/15\n",
            "1500/1500 [==============================] - 18s 12ms/step - loss: 0.0386 - accuracy: 0.9898 - val_loss: 0.0749 - val_accuracy: 0.9843\n",
            "Epoch 7/15\n",
            "1500/1500 [==============================] - 17s 12ms/step - loss: 0.0356 - accuracy: 0.9905 - val_loss: 0.0681 - val_accuracy: 0.9852\n",
            "Epoch 8/15\n",
            "1500/1500 [==============================] - 17s 12ms/step - loss: 0.0313 - accuracy: 0.9921 - val_loss: 0.0670 - val_accuracy: 0.9861\n",
            "Epoch 9/15\n",
            "1500/1500 [==============================] - 17s 12ms/step - loss: 0.0321 - accuracy: 0.9918 - val_loss: 0.0774 - val_accuracy: 0.9839\n",
            "Epoch 10/15\n",
            "1500/1500 [==============================] - 17s 12ms/step - loss: 0.0270 - accuracy: 0.9931 - val_loss: 0.0753 - val_accuracy: 0.9856\n",
            "Epoch 11/15\n",
            "1500/1500 [==============================] - 17s 12ms/step - loss: 0.0264 - accuracy: 0.9937 - val_loss: 0.0901 - val_accuracy: 0.9846\n",
            "Epoch 12/15\n",
            "1500/1500 [==============================] - 17s 12ms/step - loss: 0.0198 - accuracy: 0.9954 - val_loss: 0.0848 - val_accuracy: 0.9844\n",
            "Epoch 13/15\n",
            "1500/1500 [==============================] - 17s 12ms/step - loss: 0.0215 - accuracy: 0.9948 - val_loss: 0.0747 - val_accuracy: 0.9849\n",
            "Epoch 14/15\n",
            "1500/1500 [==============================] - 17s 12ms/step - loss: 0.0198 - accuracy: 0.9953 - val_loss: 0.0933 - val_accuracy: 0.9869\n",
            "Epoch 15/15\n",
            "1500/1500 [==============================] - 17s 12ms/step - loss: 0.0233 - accuracy: 0.9946 - val_loss: 0.0992 - val_accuracy: 0.9863\n",
            "Epoch 1/15\n",
            "1498/1500 [============================>.] - ETA: 0s - loss: 0.2238 - accuracy: 0.9336WARNING:tensorflow:Callbacks method `on_test_batch_end` is slow compared to the batch time (batch time: 0.0012s vs `on_test_batch_end` time: 0.0024s). Check your callbacks.\n",
            "1500/1500 [==============================] - 18s 12ms/step - loss: 0.2237 - accuracy: 0.9337 - val_loss: 0.0859 - val_accuracy: 0.9731\n",
            "Epoch 2/15\n",
            "1500/1500 [==============================] - 17s 12ms/step - loss: 0.0863 - accuracy: 0.9759 - val_loss: 0.1018 - val_accuracy: 0.9747\n",
            "Epoch 3/15\n",
            "1500/1500 [==============================] - 18s 12ms/step - loss: 0.0672 - accuracy: 0.9817 - val_loss: 0.0712 - val_accuracy: 0.9827\n",
            "Epoch 4/15\n",
            "1500/1500 [==============================] - 18s 12ms/step - loss: 0.0571 - accuracy: 0.9840 - val_loss: 0.0647 - val_accuracy: 0.9834\n",
            "Epoch 5/15\n",
            "1500/1500 [==============================] - 17s 12ms/step - loss: 0.0425 - accuracy: 0.9891 - val_loss: 0.0762 - val_accuracy: 0.9830\n",
            "Epoch 6/15\n",
            "1500/1500 [==============================] - 17s 12ms/step - loss: 0.0397 - accuracy: 0.9891 - val_loss: 0.0705 - val_accuracy: 0.9845\n",
            "Epoch 7/15\n",
            "1500/1500 [==============================] - 18s 12ms/step - loss: 0.0347 - accuracy: 0.9910 - val_loss: 0.0649 - val_accuracy: 0.9868\n",
            "Epoch 8/15\n",
            "1500/1500 [==============================] - 17s 12ms/step - loss: 0.0326 - accuracy: 0.9915 - val_loss: 0.0750 - val_accuracy: 0.9858\n",
            "Epoch 9/15\n",
            "1500/1500 [==============================] - 18s 12ms/step - loss: 0.0261 - accuracy: 0.9930 - val_loss: 0.0567 - val_accuracy: 0.9883\n",
            "Epoch 10/15\n",
            "1500/1500 [==============================] - 17s 12ms/step - loss: 0.0262 - accuracy: 0.9934 - val_loss: 0.0758 - val_accuracy: 0.9853\n",
            "Epoch 11/15\n",
            "1500/1500 [==============================] - 18s 12ms/step - loss: 0.0191 - accuracy: 0.9954 - val_loss: 0.0913 - val_accuracy: 0.9856\n",
            "Epoch 12/15\n",
            "1500/1500 [==============================] - 17s 12ms/step - loss: 0.0224 - accuracy: 0.9946 - val_loss: 0.0862 - val_accuracy: 0.9876\n",
            "Epoch 13/15\n",
            "1500/1500 [==============================] - 17s 12ms/step - loss: 0.0239 - accuracy: 0.9943 - val_loss: 0.1190 - val_accuracy: 0.9837\n",
            "Epoch 14/15\n",
            "1500/1500 [==============================] - 17s 12ms/step - loss: 0.0206 - accuracy: 0.9952 - val_loss: 0.0949 - val_accuracy: 0.9868\n",
            "Epoch 15/15\n",
            "1500/1500 [==============================] - 17s 12ms/step - loss: 0.0215 - accuracy: 0.9952 - val_loss: 0.1146 - val_accuracy: 0.9815\n"
          ],
          "name": "stdout"
        },
        {
          "output_type": "display_data",
          "data": {
            "text/html": [
              "<span style=\"color:#4527A0\"><h1 style=\"font-size:18px\">Trial complete</h1></span>"
            ],
            "text/plain": [
              "<IPython.core.display.HTML object>"
            ]
          },
          "metadata": {
            "tags": []
          }
        },
        {
          "output_type": "display_data",
          "data": {
            "text/html": [
              "<span style=\"color:#4527A0\"><h1 style=\"font-size:18px\">Trial summary</h1></span>"
            ],
            "text/plain": [
              "<IPython.core.display.HTML object>"
            ]
          },
          "metadata": {
            "tags": []
          }
        },
        {
          "output_type": "display_data",
          "data": {
            "text/html": [
              "<span style=\"color:cyan\"> |-Trial ID: bf619726cde91f75bc8e12bf31df9141</span>"
            ],
            "text/plain": [
              "<IPython.core.display.HTML object>"
            ]
          },
          "metadata": {
            "tags": []
          }
        },
        {
          "output_type": "display_data",
          "data": {
            "text/html": [
              "<span style=\"color:cyan\"> |-Score: 0.9878888924916586</span>"
            ],
            "text/plain": [
              "<IPython.core.display.HTML object>"
            ]
          },
          "metadata": {
            "tags": []
          }
        },
        {
          "output_type": "display_data",
          "data": {
            "text/html": [
              "<span style=\"color:cyan\"> |-Best step: 0</span>"
            ],
            "text/plain": [
              "<IPython.core.display.HTML object>"
            ]
          },
          "metadata": {
            "tags": []
          }
        },
        {
          "output_type": "display_data",
          "data": {
            "text/html": [
              "<span style=\"color:#7E57C2\"><h2 style=\"font-size:16px\">Hyperparameters:</h2></span>"
            ],
            "text/plain": [
              "<IPython.core.display.HTML object>"
            ]
          },
          "metadata": {
            "tags": []
          }
        },
        {
          "output_type": "display_data",
          "data": {
            "text/html": [
              "<span style=\"color:cyan\"> |-dropout_3: 0.35000000000000003</span>"
            ],
            "text/plain": [
              "<IPython.core.display.HTML object>"
            ]
          },
          "metadata": {
            "tags": []
          }
        },
        {
          "output_type": "display_data",
          "data": {
            "text/html": [
              "<span style=\"color:blue\"> |-learning_rate: 0.001</span>"
            ],
            "text/plain": [
              "<IPython.core.display.HTML object>"
            ]
          },
          "metadata": {
            "tags": []
          }
        },
        {
          "output_type": "display_data",
          "data": {
            "text/html": [
              "<span style=\"color:cyan\"> |-units: 352</span>"
            ],
            "text/plain": [
              "<IPython.core.display.HTML object>"
            ]
          },
          "metadata": {
            "tags": []
          }
        },
        {
          "output_type": "stream",
          "text": [
            "Epoch 1/15\n",
            "1500/1500 [==============================] - 6s 4ms/step - loss: 0.7134 - accuracy: 0.7918 - val_loss: 0.3224 - val_accuracy: 0.9130\n",
            "Epoch 2/15\n",
            "1500/1500 [==============================] - 6s 4ms/step - loss: 0.4710 - accuracy: 0.8874 - val_loss: 0.2720 - val_accuracy: 0.9376\n",
            "Epoch 3/15\n",
            "1500/1500 [==============================] - 6s 4ms/step - loss: 0.4410 - accuracy: 0.8988 - val_loss: 0.3427 - val_accuracy: 0.9197\n",
            "Epoch 4/15\n",
            "1500/1500 [==============================] - 6s 4ms/step - loss: 0.4471 - accuracy: 0.8997 - val_loss: 0.2487 - val_accuracy: 0.9430\n",
            "Epoch 5/15\n",
            "1500/1500 [==============================] - 6s 4ms/step - loss: 0.4184 - accuracy: 0.9057 - val_loss: 0.2693 - val_accuracy: 0.9433\n",
            "Epoch 6/15\n",
            "1500/1500 [==============================] - 6s 4ms/step - loss: 0.4379 - accuracy: 0.9030 - val_loss: 0.2779 - val_accuracy: 0.9488\n",
            "Epoch 7/15\n",
            "1500/1500 [==============================] - 6s 4ms/step - loss: 0.4195 - accuracy: 0.9083 - val_loss: 0.2723 - val_accuracy: 0.9320\n",
            "Epoch 8/15\n",
            "1500/1500 [==============================] - 6s 4ms/step - loss: 0.4572 - accuracy: 0.8984 - val_loss: 0.2859 - val_accuracy: 0.9343\n",
            "Epoch 9/15\n",
            "1500/1500 [==============================] - 6s 4ms/step - loss: 0.4375 - accuracy: 0.9026 - val_loss: 0.2848 - val_accuracy: 0.9368\n",
            "Epoch 10/15\n",
            "1500/1500 [==============================] - 6s 4ms/step - loss: 0.4685 - accuracy: 0.8968 - val_loss: 0.2971 - val_accuracy: 0.9378\n",
            "Epoch 11/15\n",
            "1500/1500 [==============================] - 6s 4ms/step - loss: 0.4523 - accuracy: 0.8972 - val_loss: 0.2956 - val_accuracy: 0.9353\n",
            "Epoch 12/15\n",
            "1500/1500 [==============================] - 6s 4ms/step - loss: 0.4483 - accuracy: 0.9002 - val_loss: 0.2425 - val_accuracy: 0.9470\n",
            "Epoch 13/15\n",
            "1500/1500 [==============================] - 6s 4ms/step - loss: 0.4540 - accuracy: 0.9005 - val_loss: 0.2468 - val_accuracy: 0.9474\n",
            "Epoch 14/15\n",
            "1500/1500 [==============================] - 6s 4ms/step - loss: 0.4743 - accuracy: 0.8968 - val_loss: 0.2505 - val_accuracy: 0.9454\n",
            "Epoch 15/15\n",
            "1500/1500 [==============================] - 6s 4ms/step - loss: 0.4352 - accuracy: 0.9035 - val_loss: 0.3668 - val_accuracy: 0.9316\n",
            "Epoch 1/15\n",
            "1500/1500 [==============================] - 7s 4ms/step - loss: 0.6160 - accuracy: 0.8322 - val_loss: 0.3664 - val_accuracy: 0.9172\n",
            "Epoch 2/15\n",
            "1500/1500 [==============================] - 6s 4ms/step - loss: 0.4483 - accuracy: 0.8946 - val_loss: 0.2279 - val_accuracy: 0.9435\n",
            "Epoch 3/15\n",
            "1500/1500 [==============================] - 6s 4ms/step - loss: 0.4047 - accuracy: 0.9052 - val_loss: 0.2289 - val_accuracy: 0.9467\n",
            "Epoch 4/15\n",
            "1500/1500 [==============================] - 6s 4ms/step - loss: 0.3996 - accuracy: 0.9082 - val_loss: 0.2512 - val_accuracy: 0.9448\n",
            "Epoch 5/15\n",
            "1500/1500 [==============================] - 6s 4ms/step - loss: 0.3981 - accuracy: 0.9076 - val_loss: 0.2775 - val_accuracy: 0.9406\n",
            "Epoch 6/15\n",
            "1500/1500 [==============================] - 6s 4ms/step - loss: 0.3840 - accuracy: 0.9109 - val_loss: 0.2932 - val_accuracy: 0.9437\n",
            "Epoch 7/15\n",
            "1500/1500 [==============================] - 6s 4ms/step - loss: 0.4306 - accuracy: 0.9030 - val_loss: 0.2861 - val_accuracy: 0.9327\n",
            "Epoch 8/15\n",
            "1500/1500 [==============================] - 6s 4ms/step - loss: 0.3978 - accuracy: 0.9086 - val_loss: 0.2029 - val_accuracy: 0.9567\n",
            "Epoch 9/15\n",
            "1500/1500 [==============================] - 6s 4ms/step - loss: 0.4064 - accuracy: 0.9040 - val_loss: 0.2532 - val_accuracy: 0.9417\n",
            "Epoch 10/15\n",
            "1500/1500 [==============================] - 6s 4ms/step - loss: 0.4373 - accuracy: 0.8977 - val_loss: 0.2873 - val_accuracy: 0.9333\n",
            "Epoch 11/15\n",
            "1500/1500 [==============================] - 6s 4ms/step - loss: 0.4466 - accuracy: 0.8998 - val_loss: 0.2477 - val_accuracy: 0.9467\n",
            "Epoch 12/15\n",
            "1500/1500 [==============================] - 6s 4ms/step - loss: 0.4406 - accuracy: 0.8940 - val_loss: 0.2269 - val_accuracy: 0.9493\n",
            "Epoch 13/15\n",
            "1500/1500 [==============================] - 6s 4ms/step - loss: 0.4447 - accuracy: 0.8965 - val_loss: 0.2409 - val_accuracy: 0.9519\n",
            "Epoch 14/15\n",
            "1500/1500 [==============================] - 6s 4ms/step - loss: 0.4143 - accuracy: 0.9000 - val_loss: 0.3172 - val_accuracy: 0.9448\n",
            "Epoch 15/15\n",
            "1500/1500 [==============================] - 6s 4ms/step - loss: 0.4323 - accuracy: 0.8973 - val_loss: 0.2442 - val_accuracy: 0.9485\n",
            "Epoch 1/15\n",
            "1500/1500 [==============================] - 7s 4ms/step - loss: 0.6322 - accuracy: 0.8268 - val_loss: 0.2363 - val_accuracy: 0.9406\n",
            "Epoch 2/15\n",
            "1500/1500 [==============================] - 6s 4ms/step - loss: 0.4421 - accuracy: 0.8942 - val_loss: 0.2354 - val_accuracy: 0.9414\n",
            "Epoch 3/15\n",
            "1500/1500 [==============================] - 6s 4ms/step - loss: 0.4157 - accuracy: 0.9028 - val_loss: 0.3141 - val_accuracy: 0.9276\n",
            "Epoch 4/15\n",
            "1500/1500 [==============================] - 6s 4ms/step - loss: 0.3926 - accuracy: 0.9094 - val_loss: 0.2357 - val_accuracy: 0.9450\n",
            "Epoch 5/15\n",
            "1500/1500 [==============================] - 6s 4ms/step - loss: 0.4083 - accuracy: 0.9053 - val_loss: 0.2266 - val_accuracy: 0.9426\n",
            "Epoch 6/15\n",
            "1500/1500 [==============================] - 6s 4ms/step - loss: 0.4250 - accuracy: 0.9007 - val_loss: 0.2583 - val_accuracy: 0.9381\n",
            "Epoch 7/15\n",
            "1500/1500 [==============================] - 6s 4ms/step - loss: 0.4391 - accuracy: 0.8984 - val_loss: 0.2322 - val_accuracy: 0.9452\n",
            "Epoch 8/15\n",
            "1500/1500 [==============================] - 6s 4ms/step - loss: 0.4179 - accuracy: 0.9032 - val_loss: 0.2483 - val_accuracy: 0.9475\n",
            "Epoch 9/15\n",
            "1500/1500 [==============================] - 6s 4ms/step - loss: 0.4606 - accuracy: 0.8951 - val_loss: 0.2554 - val_accuracy: 0.9422\n",
            "Epoch 10/15\n",
            "1500/1500 [==============================] - 6s 4ms/step - loss: 0.4278 - accuracy: 0.8998 - val_loss: 0.3507 - val_accuracy: 0.9273\n",
            "Epoch 11/15\n",
            "1500/1500 [==============================] - 6s 4ms/step - loss: 0.4253 - accuracy: 0.9013 - val_loss: 0.2507 - val_accuracy: 0.9457\n",
            "Epoch 12/15\n",
            "1500/1500 [==============================] - 6s 4ms/step - loss: 0.4463 - accuracy: 0.8969 - val_loss: 0.2891 - val_accuracy: 0.9367\n",
            "Epoch 13/15\n",
            "1500/1500 [==============================] - 6s 4ms/step - loss: 0.4699 - accuracy: 0.8918 - val_loss: 0.2412 - val_accuracy: 0.9398\n",
            "Epoch 14/15\n",
            "1500/1500 [==============================] - 6s 4ms/step - loss: 0.4258 - accuracy: 0.9012 - val_loss: 0.2758 - val_accuracy: 0.9490\n",
            "Epoch 15/15\n",
            "1500/1500 [==============================] - 6s 4ms/step - loss: 0.4970 - accuracy: 0.8896 - val_loss: 0.2909 - val_accuracy: 0.9325\n"
          ],
          "name": "stdout"
        },
        {
          "output_type": "display_data",
          "data": {
            "text/html": [
              "<span style=\"color:#4527A0\"><h1 style=\"font-size:18px\">Trial complete</h1></span>"
            ],
            "text/plain": [
              "<IPython.core.display.HTML object>"
            ]
          },
          "metadata": {
            "tags": []
          }
        },
        {
          "output_type": "display_data",
          "data": {
            "text/html": [
              "<span style=\"color:#4527A0\"><h1 style=\"font-size:18px\">Trial summary</h1></span>"
            ],
            "text/plain": [
              "<IPython.core.display.HTML object>"
            ]
          },
          "metadata": {
            "tags": []
          }
        },
        {
          "output_type": "display_data",
          "data": {
            "text/html": [
              "<span style=\"color:cyan\"> |-Trial ID: 46e604d9b1c3872cb1a327ac819fb7e2</span>"
            ],
            "text/plain": [
              "<IPython.core.display.HTML object>"
            ]
          },
          "metadata": {
            "tags": []
          }
        },
        {
          "output_type": "display_data",
          "data": {
            "text/html": [
              "<span style=\"color:cyan\"> |-Score: 0.9514999985694885</span>"
            ],
            "text/plain": [
              "<IPython.core.display.HTML object>"
            ]
          },
          "metadata": {
            "tags": []
          }
        },
        {
          "output_type": "display_data",
          "data": {
            "text/html": [
              "<span style=\"color:cyan\"> |-Best step: 0</span>"
            ],
            "text/plain": [
              "<IPython.core.display.HTML object>"
            ]
          },
          "metadata": {
            "tags": []
          }
        },
        {
          "output_type": "display_data",
          "data": {
            "text/html": [
              "<span style=\"color:#7E57C2\"><h2 style=\"font-size:16px\">Hyperparameters:</h2></span>"
            ],
            "text/plain": [
              "<IPython.core.display.HTML object>"
            ]
          },
          "metadata": {
            "tags": []
          }
        },
        {
          "output_type": "display_data",
          "data": {
            "text/html": [
              "<span style=\"color:cyan\"> |-dropout_3: 0.5</span>"
            ],
            "text/plain": [
              "<IPython.core.display.HTML object>"
            ]
          },
          "metadata": {
            "tags": []
          }
        },
        {
          "output_type": "display_data",
          "data": {
            "text/html": [
              "<span style=\"color:blue\"> |-learning_rate: 0.01</span>"
            ],
            "text/plain": [
              "<IPython.core.display.HTML object>"
            ]
          },
          "metadata": {
            "tags": []
          }
        },
        {
          "output_type": "display_data",
          "data": {
            "text/html": [
              "<span style=\"color:cyan\"> |-units: 96</span>"
            ],
            "text/plain": [
              "<IPython.core.display.HTML object>"
            ]
          },
          "metadata": {
            "tags": []
          }
        },
        {
          "output_type": "stream",
          "text": [
            "Epoch 1/15\n",
            "1500/1500 [==============================] - 5s 4ms/step - loss: 1.5386 - accuracy: 0.4580 - val_loss: 0.6105 - val_accuracy: 0.8605\n",
            "Epoch 2/15\n",
            "1500/1500 [==============================] - 5s 4ms/step - loss: 0.8540 - accuracy: 0.7127 - val_loss: 0.3296 - val_accuracy: 0.9158\n",
            "Epoch 3/15\n",
            "1500/1500 [==============================] - 5s 4ms/step - loss: 0.6373 - accuracy: 0.7927 - val_loss: 0.2338 - val_accuracy: 0.9361\n",
            "Epoch 4/15\n",
            "1500/1500 [==============================] - 6s 4ms/step - loss: 0.5228 - accuracy: 0.8342 - val_loss: 0.2010 - val_accuracy: 0.9399\n",
            "Epoch 5/15\n",
            "1500/1500 [==============================] - 6s 4ms/step - loss: 0.4590 - accuracy: 0.8571 - val_loss: 0.1730 - val_accuracy: 0.9492\n",
            "Epoch 6/15\n",
            "1500/1500 [==============================] - 6s 4ms/step - loss: 0.4105 - accuracy: 0.8728 - val_loss: 0.1586 - val_accuracy: 0.9547\n",
            "Epoch 7/15\n",
            "1500/1500 [==============================] - 5s 4ms/step - loss: 0.3759 - accuracy: 0.8846 - val_loss: 0.1483 - val_accuracy: 0.9570\n",
            "Epoch 8/15\n",
            "1500/1500 [==============================] - 5s 4ms/step - loss: 0.3473 - accuracy: 0.8938 - val_loss: 0.1326 - val_accuracy: 0.9603\n",
            "Epoch 9/15\n",
            "1500/1500 [==============================] - 5s 4ms/step - loss: 0.3238 - accuracy: 0.9009 - val_loss: 0.1304 - val_accuracy: 0.9624\n",
            "Epoch 10/15\n",
            "1500/1500 [==============================] - 5s 4ms/step - loss: 0.3042 - accuracy: 0.9088 - val_loss: 0.1238 - val_accuracy: 0.9661\n",
            "Epoch 11/15\n",
            "1500/1500 [==============================] - 5s 4ms/step - loss: 0.2851 - accuracy: 0.9143 - val_loss: 0.1199 - val_accuracy: 0.9655\n",
            "Epoch 12/15\n",
            "1500/1500 [==============================] - 5s 4ms/step - loss: 0.2770 - accuracy: 0.9184 - val_loss: 0.1125 - val_accuracy: 0.9675\n",
            "Epoch 13/15\n",
            "1500/1500 [==============================] - 5s 4ms/step - loss: 0.2672 - accuracy: 0.9204 - val_loss: 0.1045 - val_accuracy: 0.9699\n",
            "Epoch 14/15\n",
            "1500/1500 [==============================] - 5s 4ms/step - loss: 0.2531 - accuracy: 0.9257 - val_loss: 0.1059 - val_accuracy: 0.9688\n",
            "Epoch 15/15\n",
            "1500/1500 [==============================] - 5s 4ms/step - loss: 0.2417 - accuracy: 0.9273 - val_loss: 0.1022 - val_accuracy: 0.9716\n",
            "Epoch 1/15\n",
            "1500/1500 [==============================] - 6s 4ms/step - loss: 1.6477 - accuracy: 0.4200 - val_loss: 0.7477 - val_accuracy: 0.8411\n",
            "Epoch 2/15\n",
            "1500/1500 [==============================] - 5s 4ms/step - loss: 0.9338 - accuracy: 0.6920 - val_loss: 0.3955 - val_accuracy: 0.9115\n",
            "Epoch 3/15\n",
            "1500/1500 [==============================] - 6s 4ms/step - loss: 0.6910 - accuracy: 0.7833 - val_loss: 0.2658 - val_accuracy: 0.9335\n",
            "Epoch 4/15\n",
            "1500/1500 [==============================] - 5s 4ms/step - loss: 0.5618 - accuracy: 0.8263 - val_loss: 0.2115 - val_accuracy: 0.9450\n",
            "Epoch 5/15\n",
            "1500/1500 [==============================] - 6s 4ms/step - loss: 0.4849 - accuracy: 0.8522 - val_loss: 0.1750 - val_accuracy: 0.9530\n",
            "Epoch 6/15\n",
            "1500/1500 [==============================] - 6s 4ms/step - loss: 0.4347 - accuracy: 0.8683 - val_loss: 0.1540 - val_accuracy: 0.9582\n",
            "Epoch 7/15\n",
            "1500/1500 [==============================] - 6s 4ms/step - loss: 0.3898 - accuracy: 0.8832 - val_loss: 0.1440 - val_accuracy: 0.9605\n",
            "Epoch 8/15\n",
            "1500/1500 [==============================] - 6s 4ms/step - loss: 0.3549 - accuracy: 0.8943 - val_loss: 0.1341 - val_accuracy: 0.9617\n",
            "Epoch 9/15\n",
            "1500/1500 [==============================] - 6s 4ms/step - loss: 0.3272 - accuracy: 0.9032 - val_loss: 0.1244 - val_accuracy: 0.9653\n",
            "Epoch 10/15\n",
            "1500/1500 [==============================] - 5s 4ms/step - loss: 0.3121 - accuracy: 0.9067 - val_loss: 0.1203 - val_accuracy: 0.9661\n",
            "Epoch 11/15\n",
            "1500/1500 [==============================] - 5s 4ms/step - loss: 0.2938 - accuracy: 0.9140 - val_loss: 0.1134 - val_accuracy: 0.9672\n",
            "Epoch 12/15\n",
            "1500/1500 [==============================] - 6s 4ms/step - loss: 0.2770 - accuracy: 0.9190 - val_loss: 0.1048 - val_accuracy: 0.9697\n",
            "Epoch 13/15\n",
            "1500/1500 [==============================] - 6s 4ms/step - loss: 0.2650 - accuracy: 0.9220 - val_loss: 0.1020 - val_accuracy: 0.9707\n",
            "Epoch 14/15\n",
            "1500/1500 [==============================] - 5s 4ms/step - loss: 0.2493 - accuracy: 0.9257 - val_loss: 0.0956 - val_accuracy: 0.9722\n",
            "Epoch 15/15\n",
            "1500/1500 [==============================] - 6s 4ms/step - loss: 0.2433 - accuracy: 0.9282 - val_loss: 0.0923 - val_accuracy: 0.9732\n",
            "Epoch 1/15\n",
            "1500/1500 [==============================] - 5s 4ms/step - loss: 1.7415 - accuracy: 0.3612 - val_loss: 0.7911 - val_accuracy: 0.8385\n",
            "Epoch 2/15\n",
            "1500/1500 [==============================] - 5s 4ms/step - loss: 1.0000 - accuracy: 0.6534 - val_loss: 0.4053 - val_accuracy: 0.9131\n",
            "Epoch 3/15\n",
            "1500/1500 [==============================] - 5s 4ms/step - loss: 0.7575 - accuracy: 0.7438 - val_loss: 0.3013 - val_accuracy: 0.9322\n",
            "Epoch 4/15\n",
            "1500/1500 [==============================] - 5s 4ms/step - loss: 0.6315 - accuracy: 0.7912 - val_loss: 0.2263 - val_accuracy: 0.9424\n",
            "Epoch 5/15\n",
            "1500/1500 [==============================] - 6s 4ms/step - loss: 0.5466 - accuracy: 0.8212 - val_loss: 0.1993 - val_accuracy: 0.9501\n",
            "Epoch 6/15\n",
            "1500/1500 [==============================] - 5s 4ms/step - loss: 0.4927 - accuracy: 0.8405 - val_loss: 0.1688 - val_accuracy: 0.9531\n",
            "Epoch 7/15\n",
            "1500/1500 [==============================] - 5s 4ms/step - loss: 0.4500 - accuracy: 0.8545 - val_loss: 0.1599 - val_accuracy: 0.9567\n",
            "Epoch 8/15\n",
            "1500/1500 [==============================] - 5s 4ms/step - loss: 0.4266 - accuracy: 0.8625 - val_loss: 0.1459 - val_accuracy: 0.9604\n",
            "Epoch 9/15\n",
            "1500/1500 [==============================] - 6s 4ms/step - loss: 0.3950 - accuracy: 0.8726 - val_loss: 0.1314 - val_accuracy: 0.9624\n",
            "Epoch 10/15\n",
            "1500/1500 [==============================] - 5s 4ms/step - loss: 0.3660 - accuracy: 0.8829 - val_loss: 0.1245 - val_accuracy: 0.9639\n",
            "Epoch 11/15\n",
            "1500/1500 [==============================] - 5s 4ms/step - loss: 0.3504 - accuracy: 0.8883 - val_loss: 0.1231 - val_accuracy: 0.9670\n",
            "Epoch 12/15\n",
            "1500/1500 [==============================] - 5s 3ms/step - loss: 0.3395 - accuracy: 0.8930 - val_loss: 0.1180 - val_accuracy: 0.9685\n",
            "Epoch 13/15\n",
            "1500/1500 [==============================] - 5s 4ms/step - loss: 0.3287 - accuracy: 0.8962 - val_loss: 0.1152 - val_accuracy: 0.9654\n",
            "Epoch 14/15\n",
            "1500/1500 [==============================] - 5s 3ms/step - loss: 0.3166 - accuracy: 0.9002 - val_loss: 0.1090 - val_accuracy: 0.9678\n",
            "Epoch 15/15\n",
            "1500/1500 [==============================] - 6s 4ms/step - loss: 0.2976 - accuracy: 0.9065 - val_loss: 0.1009 - val_accuracy: 0.9704\n"
          ],
          "name": "stdout"
        },
        {
          "output_type": "display_data",
          "data": {
            "text/html": [
              "<span style=\"color:#4527A0\"><h1 style=\"font-size:18px\">Trial complete</h1></span>"
            ],
            "text/plain": [
              "<IPython.core.display.HTML object>"
            ]
          },
          "metadata": {
            "tags": []
          }
        },
        {
          "output_type": "display_data",
          "data": {
            "text/html": [
              "<span style=\"color:#4527A0\"><h1 style=\"font-size:18px\">Trial summary</h1></span>"
            ],
            "text/plain": [
              "<IPython.core.display.HTML object>"
            ]
          },
          "metadata": {
            "tags": []
          }
        },
        {
          "output_type": "display_data",
          "data": {
            "text/html": [
              "<span style=\"color:cyan\"> |-Trial ID: b06aa7f08686385a7f65fc55425053bd</span>"
            ],
            "text/plain": [
              "<IPython.core.display.HTML object>"
            ]
          },
          "metadata": {
            "tags": []
          }
        },
        {
          "output_type": "display_data",
          "data": {
            "text/html": [
              "<span style=\"color:cyan\"> |-Score: 0.9717222054799398</span>"
            ],
            "text/plain": [
              "<IPython.core.display.HTML object>"
            ]
          },
          "metadata": {
            "tags": []
          }
        },
        {
          "output_type": "display_data",
          "data": {
            "text/html": [
              "<span style=\"color:cyan\"> |-Best step: 0</span>"
            ],
            "text/plain": [
              "<IPython.core.display.HTML object>"
            ]
          },
          "metadata": {
            "tags": []
          }
        },
        {
          "output_type": "display_data",
          "data": {
            "text/html": [
              "<span style=\"color:#7E57C2\"><h2 style=\"font-size:16px\">Hyperparameters:</h2></span>"
            ],
            "text/plain": [
              "<IPython.core.display.HTML object>"
            ]
          },
          "metadata": {
            "tags": []
          }
        },
        {
          "output_type": "display_data",
          "data": {
            "text/html": [
              "<span style=\"color:cyan\"> |-dropout_3: 0.35000000000000003</span>"
            ],
            "text/plain": [
              "<IPython.core.display.HTML object>"
            ]
          },
          "metadata": {
            "tags": []
          }
        },
        {
          "output_type": "display_data",
          "data": {
            "text/html": [
              "<span style=\"color:blue\"> |-learning_rate: 0.0001</span>"
            ],
            "text/plain": [
              "<IPython.core.display.HTML object>"
            ]
          },
          "metadata": {
            "tags": []
          }
        },
        {
          "output_type": "display_data",
          "data": {
            "text/html": [
              "<span style=\"color:cyan\"> |-units: 32</span>"
            ],
            "text/plain": [
              "<IPython.core.display.HTML object>"
            ]
          },
          "metadata": {
            "tags": []
          }
        },
        {
          "output_type": "stream",
          "text": [
            "Epoch 1/15\n",
            "1500/1500 [==============================] - 6s 4ms/step - loss: 0.9308 - accuracy: 0.6979 - val_loss: 0.1852 - val_accuracy: 0.9493\n",
            "Epoch 2/15\n",
            "1500/1500 [==============================] - 5s 4ms/step - loss: 0.3136 - accuracy: 0.9077 - val_loss: 0.1190 - val_accuracy: 0.9652\n",
            "Epoch 3/15\n",
            "1500/1500 [==============================] - 6s 4ms/step - loss: 0.2191 - accuracy: 0.9373 - val_loss: 0.0957 - val_accuracy: 0.9728\n",
            "Epoch 4/15\n",
            "1500/1500 [==============================] - 6s 4ms/step - loss: 0.1758 - accuracy: 0.9490 - val_loss: 0.0863 - val_accuracy: 0.9743\n",
            "Epoch 5/15\n",
            "1500/1500 [==============================] - 6s 4ms/step - loss: 0.1494 - accuracy: 0.9574 - val_loss: 0.0763 - val_accuracy: 0.9774\n",
            "Epoch 6/15\n",
            "1500/1500 [==============================] - 6s 4ms/step - loss: 0.1307 - accuracy: 0.9628 - val_loss: 0.0668 - val_accuracy: 0.9798\n",
            "Epoch 7/15\n",
            "1500/1500 [==============================] - 6s 4ms/step - loss: 0.1169 - accuracy: 0.9679 - val_loss: 0.0665 - val_accuracy: 0.9804\n",
            "Epoch 8/15\n",
            "1500/1500 [==============================] - 5s 4ms/step - loss: 0.1035 - accuracy: 0.9717 - val_loss: 0.0656 - val_accuracy: 0.9809\n",
            "Epoch 9/15\n",
            "1500/1500 [==============================] - 5s 4ms/step - loss: 0.0965 - accuracy: 0.9723 - val_loss: 0.0618 - val_accuracy: 0.9823\n",
            "Epoch 10/15\n",
            "1500/1500 [==============================] - 6s 4ms/step - loss: 0.0873 - accuracy: 0.9747 - val_loss: 0.0591 - val_accuracy: 0.9824\n",
            "Epoch 11/15\n",
            "1500/1500 [==============================] - 6s 4ms/step - loss: 0.0798 - accuracy: 0.9772 - val_loss: 0.0626 - val_accuracy: 0.9814\n",
            "Epoch 12/15\n",
            "1500/1500 [==============================] - 5s 4ms/step - loss: 0.0753 - accuracy: 0.9783 - val_loss: 0.0557 - val_accuracy: 0.9839\n",
            "Epoch 13/15\n",
            "1500/1500 [==============================] - 6s 4ms/step - loss: 0.0692 - accuracy: 0.9806 - val_loss: 0.0525 - val_accuracy: 0.9853\n",
            "Epoch 14/15\n",
            "1500/1500 [==============================] - 5s 4ms/step - loss: 0.0635 - accuracy: 0.9818 - val_loss: 0.0546 - val_accuracy: 0.9851\n",
            "Epoch 15/15\n",
            "1500/1500 [==============================] - 5s 4ms/step - loss: 0.0590 - accuracy: 0.9830 - val_loss: 0.0537 - val_accuracy: 0.9844\n",
            "Epoch 1/15\n",
            "1500/1500 [==============================] - 6s 4ms/step - loss: 0.9409 - accuracy: 0.6964 - val_loss: 0.2074 - val_accuracy: 0.9427\n",
            "Epoch 2/15\n",
            "1500/1500 [==============================] - 5s 4ms/step - loss: 0.3206 - accuracy: 0.9063 - val_loss: 0.1549 - val_accuracy: 0.9534\n",
            "Epoch 3/15\n",
            "1500/1500 [==============================] - 5s 4ms/step - loss: 0.2310 - accuracy: 0.9353 - val_loss: 0.1050 - val_accuracy: 0.9699\n",
            "Epoch 4/15\n",
            "1500/1500 [==============================] - 6s 4ms/step - loss: 0.1849 - accuracy: 0.9471 - val_loss: 0.0890 - val_accuracy: 0.9732\n",
            "Epoch 5/15\n",
            "1500/1500 [==============================] - 6s 4ms/step - loss: 0.1558 - accuracy: 0.9561 - val_loss: 0.0819 - val_accuracy: 0.9753\n",
            "Epoch 6/15\n",
            "1500/1500 [==============================] - 5s 4ms/step - loss: 0.1381 - accuracy: 0.9609 - val_loss: 0.0829 - val_accuracy: 0.9753\n",
            "Epoch 7/15\n",
            "1500/1500 [==============================] - 5s 4ms/step - loss: 0.1208 - accuracy: 0.9666 - val_loss: 0.0718 - val_accuracy: 0.9797\n",
            "Epoch 8/15\n",
            "1500/1500 [==============================] - 5s 4ms/step - loss: 0.1092 - accuracy: 0.9696 - val_loss: 0.0688 - val_accuracy: 0.9801\n",
            "Epoch 9/15\n",
            "1500/1500 [==============================] - 5s 4ms/step - loss: 0.0999 - accuracy: 0.9726 - val_loss: 0.0606 - val_accuracy: 0.9828\n",
            "Epoch 10/15\n",
            "1500/1500 [==============================] - 5s 4ms/step - loss: 0.0922 - accuracy: 0.9745 - val_loss: 0.0703 - val_accuracy: 0.9800\n",
            "Epoch 11/15\n",
            "1500/1500 [==============================] - 5s 4ms/step - loss: 0.0847 - accuracy: 0.9758 - val_loss: 0.0547 - val_accuracy: 0.9843\n",
            "Epoch 12/15\n",
            "1500/1500 [==============================] - 6s 4ms/step - loss: 0.0766 - accuracy: 0.9778 - val_loss: 0.0539 - val_accuracy: 0.9847\n",
            "Epoch 13/15\n",
            "1500/1500 [==============================] - 5s 4ms/step - loss: 0.0722 - accuracy: 0.9797 - val_loss: 0.0553 - val_accuracy: 0.9846\n",
            "Epoch 14/15\n",
            "1500/1500 [==============================] - 5s 4ms/step - loss: 0.0684 - accuracy: 0.9804 - val_loss: 0.0517 - val_accuracy: 0.9852\n",
            "Epoch 15/15\n",
            "1500/1500 [==============================] - 5s 4ms/step - loss: 0.0643 - accuracy: 0.9818 - val_loss: 0.0505 - val_accuracy: 0.9857\n",
            "Epoch 1/15\n",
            "1500/1500 [==============================] - 6s 4ms/step - loss: 0.9451 - accuracy: 0.6913 - val_loss: 0.2041 - val_accuracy: 0.9437\n",
            "Epoch 2/15\n",
            "1500/1500 [==============================] - 6s 4ms/step - loss: 0.3258 - accuracy: 0.9061 - val_loss: 0.1488 - val_accuracy: 0.9533\n",
            "Epoch 3/15\n",
            "1500/1500 [==============================] - 6s 4ms/step - loss: 0.2263 - accuracy: 0.9362 - val_loss: 0.1027 - val_accuracy: 0.9694\n",
            "Epoch 4/15\n",
            "1500/1500 [==============================] - 6s 4ms/step - loss: 0.1767 - accuracy: 0.9499 - val_loss: 0.0881 - val_accuracy: 0.9743\n",
            "Epoch 5/15\n",
            "1500/1500 [==============================] - 6s 4ms/step - loss: 0.1511 - accuracy: 0.9562 - val_loss: 0.0779 - val_accuracy: 0.9772\n",
            "Epoch 6/15\n",
            "1500/1500 [==============================] - 6s 4ms/step - loss: 0.1283 - accuracy: 0.9631 - val_loss: 0.0742 - val_accuracy: 0.9790\n",
            "Epoch 7/15\n",
            "1500/1500 [==============================] - 5s 4ms/step - loss: 0.1164 - accuracy: 0.9676 - val_loss: 0.0691 - val_accuracy: 0.9787\n",
            "Epoch 8/15\n",
            "1500/1500 [==============================] - 6s 4ms/step - loss: 0.1052 - accuracy: 0.9709 - val_loss: 0.0648 - val_accuracy: 0.9802\n",
            "Epoch 9/15\n",
            "1500/1500 [==============================] - 5s 4ms/step - loss: 0.0990 - accuracy: 0.9718 - val_loss: 0.0650 - val_accuracy: 0.9817\n",
            "Epoch 10/15\n",
            "1500/1500 [==============================] - 6s 4ms/step - loss: 0.0862 - accuracy: 0.9747 - val_loss: 0.0555 - val_accuracy: 0.9843\n",
            "Epoch 11/15\n",
            "1500/1500 [==============================] - 5s 4ms/step - loss: 0.0793 - accuracy: 0.9776 - val_loss: 0.0578 - val_accuracy: 0.9831\n",
            "Epoch 12/15\n",
            "1500/1500 [==============================] - 6s 4ms/step - loss: 0.0733 - accuracy: 0.9793 - val_loss: 0.0626 - val_accuracy: 0.9822\n",
            "Epoch 13/15\n",
            "1500/1500 [==============================] - 6s 4ms/step - loss: 0.0708 - accuracy: 0.9805 - val_loss: 0.0574 - val_accuracy: 0.9839\n",
            "Epoch 14/15\n",
            "1500/1500 [==============================] - 6s 4ms/step - loss: 0.0665 - accuracy: 0.9808 - val_loss: 0.0510 - val_accuracy: 0.9854\n",
            "Epoch 15/15\n",
            "1500/1500 [==============================] - 6s 4ms/step - loss: 0.0614 - accuracy: 0.9826 - val_loss: 0.0520 - val_accuracy: 0.9852\n"
          ],
          "name": "stdout"
        },
        {
          "output_type": "display_data",
          "data": {
            "text/html": [
              "<span style=\"color:#4527A0\"><h1 style=\"font-size:18px\">Trial complete</h1></span>"
            ],
            "text/plain": [
              "<IPython.core.display.HTML object>"
            ]
          },
          "metadata": {
            "tags": []
          }
        },
        {
          "output_type": "display_data",
          "data": {
            "text/html": [
              "<span style=\"color:#4527A0\"><h1 style=\"font-size:18px\">Trial summary</h1></span>"
            ],
            "text/plain": [
              "<IPython.core.display.HTML object>"
            ]
          },
          "metadata": {
            "tags": []
          }
        },
        {
          "output_type": "display_data",
          "data": {
            "text/html": [
              "<span style=\"color:cyan\"> |-Trial ID: cbdaf79b4a35cc59cc93971598f8fb4e</span>"
            ],
            "text/plain": [
              "<IPython.core.display.HTML object>"
            ]
          },
          "metadata": {
            "tags": []
          }
        },
        {
          "output_type": "display_data",
          "data": {
            "text/html": [
              "<span style=\"color:cyan\"> |-Score: 0.9854722221692404</span>"
            ],
            "text/plain": [
              "<IPython.core.display.HTML object>"
            ]
          },
          "metadata": {
            "tags": []
          }
        },
        {
          "output_type": "display_data",
          "data": {
            "text/html": [
              "<span style=\"color:cyan\"> |-Best step: 0</span>"
            ],
            "text/plain": [
              "<IPython.core.display.HTML object>"
            ]
          },
          "metadata": {
            "tags": []
          }
        },
        {
          "output_type": "display_data",
          "data": {
            "text/html": [
              "<span style=\"color:#7E57C2\"><h2 style=\"font-size:16px\">Hyperparameters:</h2></span>"
            ],
            "text/plain": [
              "<IPython.core.display.HTML object>"
            ]
          },
          "metadata": {
            "tags": []
          }
        },
        {
          "output_type": "display_data",
          "data": {
            "text/html": [
              "<span style=\"color:cyan\"> |-dropout_3: 0.30000000000000004</span>"
            ],
            "text/plain": [
              "<IPython.core.display.HTML object>"
            ]
          },
          "metadata": {
            "tags": []
          }
        },
        {
          "output_type": "display_data",
          "data": {
            "text/html": [
              "<span style=\"color:blue\"> |-learning_rate: 0.0001</span>"
            ],
            "text/plain": [
              "<IPython.core.display.HTML object>"
            ]
          },
          "metadata": {
            "tags": []
          }
        },
        {
          "output_type": "display_data",
          "data": {
            "text/html": [
              "<span style=\"color:cyan\"> |-units: 64</span>"
            ],
            "text/plain": [
              "<IPython.core.display.HTML object>"
            ]
          },
          "metadata": {
            "tags": []
          }
        },
        {
          "output_type": "stream",
          "text": [
            "Epoch 1/15\n",
            "1500/1500 [==============================] - ETA: 0s - loss: 0.2145 - accuracy: 0.9357WARNING:tensorflow:Callbacks method `on_test_batch_end` is slow compared to the batch time (batch time: 0.0012s vs `on_test_batch_end` time: 0.0032s). Check your callbacks.\n",
            "1500/1500 [==============================] - 24s 16ms/step - loss: 0.2145 - accuracy: 0.9357 - val_loss: 0.0713 - val_accuracy: 0.9801\n",
            "Epoch 2/15\n",
            "1500/1500 [==============================] - 24s 16ms/step - loss: 0.0883 - accuracy: 0.9754 - val_loss: 0.0712 - val_accuracy: 0.9811\n",
            "Epoch 3/15\n",
            "1500/1500 [==============================] - 24s 16ms/step - loss: 0.0637 - accuracy: 0.9827 - val_loss: 0.0813 - val_accuracy: 0.9794\n",
            "Epoch 4/15\n",
            "1500/1500 [==============================] - 24s 16ms/step - loss: 0.0551 - accuracy: 0.9851 - val_loss: 0.0666 - val_accuracy: 0.9831\n",
            "Epoch 5/15\n",
            "1500/1500 [==============================] - 24s 16ms/step - loss: 0.0462 - accuracy: 0.9881 - val_loss: 0.0614 - val_accuracy: 0.9843\n",
            "Epoch 6/15\n",
            "1500/1500 [==============================] - 24s 16ms/step - loss: 0.0425 - accuracy: 0.9894 - val_loss: 0.0749 - val_accuracy: 0.9836\n",
            "Epoch 7/15\n",
            "1500/1500 [==============================] - 24s 16ms/step - loss: 0.0335 - accuracy: 0.9912 - val_loss: 0.0839 - val_accuracy: 0.9839\n",
            "Epoch 8/15\n",
            "1500/1500 [==============================] - 24s 16ms/step - loss: 0.0318 - accuracy: 0.9915 - val_loss: 0.0796 - val_accuracy: 0.9837\n",
            "Epoch 9/15\n",
            "1500/1500 [==============================] - 24s 16ms/step - loss: 0.0282 - accuracy: 0.9931 - val_loss: 0.1031 - val_accuracy: 0.9847\n",
            "Epoch 10/15\n",
            "1500/1500 [==============================] - 24s 16ms/step - loss: 0.0301 - accuracy: 0.9925 - val_loss: 0.0917 - val_accuracy: 0.9826\n",
            "Epoch 11/15\n",
            "1500/1500 [==============================] - 24s 16ms/step - loss: 0.0243 - accuracy: 0.9944 - val_loss: 0.0845 - val_accuracy: 0.9834\n",
            "Epoch 12/15\n",
            "1500/1500 [==============================] - 24s 16ms/step - loss: 0.0199 - accuracy: 0.9955 - val_loss: 0.0834 - val_accuracy: 0.9870\n",
            "Epoch 13/15\n",
            "1500/1500 [==============================] - 24s 16ms/step - loss: 0.0206 - accuracy: 0.9951 - val_loss: 0.0981 - val_accuracy: 0.9858\n",
            "Epoch 14/15\n",
            "1500/1500 [==============================] - 24s 16ms/step - loss: 0.0207 - accuracy: 0.9955 - val_loss: 0.1035 - val_accuracy: 0.9863\n",
            "Epoch 15/15\n",
            "1500/1500 [==============================] - 24s 16ms/step - loss: 0.0187 - accuracy: 0.9956 - val_loss: 0.1537 - val_accuracy: 0.9834\n",
            "Epoch 1/15\n",
            "   1/1500 [..............................] - ETA: 0s - loss: 2.5876 - accuracy: 0.0938WARNING:tensorflow:Callbacks method `on_train_batch_end` is slow compared to the batch time (batch time: 0.0026s vs `on_train_batch_end` time: 0.0101s). Check your callbacks.\n",
            "1500/1500 [==============================] - ETA: 0s - loss: 0.2135 - accuracy: 0.9356WARNING:tensorflow:Callbacks method `on_test_batch_end` is slow compared to the batch time (batch time: 0.0012s vs `on_test_batch_end` time: 0.0033s). Check your callbacks.\n",
            "1500/1500 [==============================] - 24s 16ms/step - loss: 0.2135 - accuracy: 0.9356 - val_loss: 0.0901 - val_accuracy: 0.9726\n",
            "Epoch 2/15\n",
            "1500/1500 [==============================] - 24s 16ms/step - loss: 0.0814 - accuracy: 0.9769 - val_loss: 0.0807 - val_accuracy: 0.9783\n",
            "Epoch 3/15\n",
            "1500/1500 [==============================] - 24s 16ms/step - loss: 0.0658 - accuracy: 0.9813 - val_loss: 0.0746 - val_accuracy: 0.9813\n",
            "Epoch 4/15\n",
            "1500/1500 [==============================] - 24s 16ms/step - loss: 0.0551 - accuracy: 0.9841 - val_loss: 0.0636 - val_accuracy: 0.9823\n",
            "Epoch 5/15\n",
            "1500/1500 [==============================] - 24s 16ms/step - loss: 0.0450 - accuracy: 0.9879 - val_loss: 0.0941 - val_accuracy: 0.9799\n",
            "Epoch 6/15\n",
            "1500/1500 [==============================] - 24s 16ms/step - loss: 0.0419 - accuracy: 0.9886 - val_loss: 0.0701 - val_accuracy: 0.9859\n",
            "Epoch 7/15\n",
            "1500/1500 [==============================] - 24s 16ms/step - loss: 0.0336 - accuracy: 0.9907 - val_loss: 0.0756 - val_accuracy: 0.9856\n",
            "Epoch 8/15\n",
            "1500/1500 [==============================] - 24s 16ms/step - loss: 0.0341 - accuracy: 0.9911 - val_loss: 0.0835 - val_accuracy: 0.9837\n",
            "Epoch 9/15\n",
            "1500/1500 [==============================] - 24s 16ms/step - loss: 0.0284 - accuracy: 0.9927 - val_loss: 0.0816 - val_accuracy: 0.9845\n",
            "Epoch 10/15\n",
            "1500/1500 [==============================] - 24s 16ms/step - loss: 0.0304 - accuracy: 0.9922 - val_loss: 0.0807 - val_accuracy: 0.9852\n",
            "Epoch 11/15\n",
            "1500/1500 [==============================] - 24s 16ms/step - loss: 0.0236 - accuracy: 0.9941 - val_loss: 0.1000 - val_accuracy: 0.9852\n",
            "Epoch 12/15\n",
            "1500/1500 [==============================] - 24s 16ms/step - loss: 0.0277 - accuracy: 0.9936 - val_loss: 0.0851 - val_accuracy: 0.9851\n",
            "Epoch 13/15\n",
            "1500/1500 [==============================] - 24s 16ms/step - loss: 0.0222 - accuracy: 0.9948 - val_loss: 0.0724 - val_accuracy: 0.9885\n",
            "Epoch 14/15\n",
            "1500/1500 [==============================] - 24s 16ms/step - loss: 0.0211 - accuracy: 0.9952 - val_loss: 0.0972 - val_accuracy: 0.9874\n",
            "Epoch 15/15\n",
            "1500/1500 [==============================] - 24s 16ms/step - loss: 0.0203 - accuracy: 0.9957 - val_loss: 0.1068 - val_accuracy: 0.9867\n",
            "Epoch 1/15\n",
            "   1/1500 [..............................] - ETA: 0s - loss: 2.4912 - accuracy: 0.0625WARNING:tensorflow:Callbacks method `on_train_batch_end` is slow compared to the batch time (batch time: 0.0047s vs `on_train_batch_end` time: 0.0092s). Check your callbacks.\n",
            "1497/1500 [============================>.] - ETA: 0s - loss: 0.2170 - accuracy: 0.9349WARNING:tensorflow:Callbacks method `on_test_batch_end` is slow compared to the batch time (batch time: 0.0016s vs `on_test_batch_end` time: 0.0031s). Check your callbacks.\n",
            "1500/1500 [==============================] - 24s 16ms/step - loss: 0.2169 - accuracy: 0.9350 - val_loss: 0.0810 - val_accuracy: 0.9757\n",
            "Epoch 2/15\n",
            "1500/1500 [==============================] - 24s 16ms/step - loss: 0.0870 - accuracy: 0.9762 - val_loss: 0.0740 - val_accuracy: 0.9797\n",
            "Epoch 3/15\n",
            "1500/1500 [==============================] - 24s 16ms/step - loss: 0.0668 - accuracy: 0.9818 - val_loss: 0.0855 - val_accuracy: 0.9793\n",
            "Epoch 4/15\n",
            "1500/1500 [==============================] - 24s 16ms/step - loss: 0.0582 - accuracy: 0.9839 - val_loss: 0.1078 - val_accuracy: 0.9758\n",
            "Epoch 5/15\n",
            "1500/1500 [==============================] - 24s 16ms/step - loss: 0.0473 - accuracy: 0.9875 - val_loss: 0.0697 - val_accuracy: 0.9833\n",
            "Epoch 6/15\n",
            "1500/1500 [==============================] - 24s 16ms/step - loss: 0.0398 - accuracy: 0.9892 - val_loss: 0.0887 - val_accuracy: 0.9807\n",
            "Epoch 7/15\n",
            "1500/1500 [==============================] - 24s 16ms/step - loss: 0.0357 - accuracy: 0.9905 - val_loss: 0.0588 - val_accuracy: 0.9864\n",
            "Epoch 8/15\n",
            "1500/1500 [==============================] - 24s 16ms/step - loss: 0.0335 - accuracy: 0.9913 - val_loss: 0.0767 - val_accuracy: 0.9852\n",
            "Epoch 9/15\n",
            "1500/1500 [==============================] - 24s 16ms/step - loss: 0.0243 - accuracy: 0.9927 - val_loss: 0.0775 - val_accuracy: 0.9857\n",
            "Epoch 10/15\n",
            "1500/1500 [==============================] - 24s 16ms/step - loss: 0.0275 - accuracy: 0.9933 - val_loss: 0.0755 - val_accuracy: 0.9874\n",
            "Epoch 11/15\n",
            "1500/1500 [==============================] - 24s 16ms/step - loss: 0.0222 - accuracy: 0.9943 - val_loss: 0.0879 - val_accuracy: 0.9862\n",
            "Epoch 12/15\n",
            "1500/1500 [==============================] - 24s 16ms/step - loss: 0.0256 - accuracy: 0.9938 - val_loss: 0.0834 - val_accuracy: 0.9865\n",
            "Epoch 13/15\n",
            "1500/1500 [==============================] - 24s 16ms/step - loss: 0.0253 - accuracy: 0.9942 - val_loss: 0.0814 - val_accuracy: 0.9870\n",
            "Epoch 14/15\n",
            "1500/1500 [==============================] - 24s 16ms/step - loss: 0.0163 - accuracy: 0.9959 - val_loss: 0.0999 - val_accuracy: 0.9842\n",
            "Epoch 15/15\n",
            "1500/1500 [==============================] - 24s 16ms/step - loss: 0.0188 - accuracy: 0.9959 - val_loss: 0.2091 - val_accuracy: 0.9792\n"
          ],
          "name": "stdout"
        },
        {
          "output_type": "display_data",
          "data": {
            "text/html": [
              "<span style=\"color:#4527A0\"><h1 style=\"font-size:18px\">Trial complete</h1></span>"
            ],
            "text/plain": [
              "<IPython.core.display.HTML object>"
            ]
          },
          "metadata": {
            "tags": []
          }
        },
        {
          "output_type": "display_data",
          "data": {
            "text/html": [
              "<span style=\"color:#4527A0\"><h1 style=\"font-size:18px\">Trial summary</h1></span>"
            ],
            "text/plain": [
              "<IPython.core.display.HTML object>"
            ]
          },
          "metadata": {
            "tags": []
          }
        },
        {
          "output_type": "display_data",
          "data": {
            "text/html": [
              "<span style=\"color:cyan\"> |-Trial ID: 6e4b7d84871e7138a99111e940c64d5b</span>"
            ],
            "text/plain": [
              "<IPython.core.display.HTML object>"
            ]
          },
          "metadata": {
            "tags": []
          }
        },
        {
          "output_type": "display_data",
          "data": {
            "text/html": [
              "<span style=\"color:cyan\"> |-Score: 0.9876388907432556</span>"
            ],
            "text/plain": [
              "<IPython.core.display.HTML object>"
            ]
          },
          "metadata": {
            "tags": []
          }
        },
        {
          "output_type": "display_data",
          "data": {
            "text/html": [
              "<span style=\"color:cyan\"> |-Best step: 0</span>"
            ],
            "text/plain": [
              "<IPython.core.display.HTML object>"
            ]
          },
          "metadata": {
            "tags": []
          }
        },
        {
          "output_type": "display_data",
          "data": {
            "text/html": [
              "<span style=\"color:#7E57C2\"><h2 style=\"font-size:16px\">Hyperparameters:</h2></span>"
            ],
            "text/plain": [
              "<IPython.core.display.HTML object>"
            ]
          },
          "metadata": {
            "tags": []
          }
        },
        {
          "output_type": "display_data",
          "data": {
            "text/html": [
              "<span style=\"color:cyan\"> |-dropout_3: 0.30000000000000004</span>"
            ],
            "text/plain": [
              "<IPython.core.display.HTML object>"
            ]
          },
          "metadata": {
            "tags": []
          }
        },
        {
          "output_type": "display_data",
          "data": {
            "text/html": [
              "<span style=\"color:blue\"> |-learning_rate: 0.001</span>"
            ],
            "text/plain": [
              "<IPython.core.display.HTML object>"
            ]
          },
          "metadata": {
            "tags": []
          }
        },
        {
          "output_type": "display_data",
          "data": {
            "text/html": [
              "<span style=\"color:cyan\"> |-units: 448</span>"
            ],
            "text/plain": [
              "<IPython.core.display.HTML object>"
            ]
          },
          "metadata": {
            "tags": []
          }
        },
        {
          "output_type": "stream",
          "text": [
            "INFO:tensorflow:Oracle triggered exit\n"
          ],
          "name": "stdout"
        }
      ]
    },
    {
      "cell_type": "code",
      "metadata": {
        "id": "opxfiR5FgN1o"
      },
      "source": [
        "#print the available history keys for use\n",
        "print(tuner.history.keys())"
      ],
      "execution_count": null,
      "outputs": []
    },
    {
      "cell_type": "code",
      "metadata": {
        "id": "vFIuI75dgRWP"
      },
      "source": [
        "# plot a accuracy and validation loss graph to see the training and validation loss at each epoch\n",
        "loss = tuner.history['loss']\n",
        "val_loss = tuner.history['val_loss']\n",
        "epochs = range(1, len(loss) + 1)\n",
        "plt.plot(epochs, loss, 'y', label='Training loss')\n",
        "plt.plot(epochs, val_loss, 'r', label='Validation loss')\n",
        "plt.title('Training and validation loss')\n",
        "plt.xlabel('Epochs')\n",
        "plt.ylabel('Loss')\n",
        "plt.legend()\n",
        "plt.show()"
      ],
      "execution_count": null,
      "outputs": []
    },
    {
      "cell_type": "code",
      "metadata": {
        "id": "m381K2JggaBT"
      },
      "source": [
        "# plot a accuracy and validation accuracy graph to see the training and validation accuracy at each epoch\n",
        "accuracy = tuner.history['accuracy']\n",
        "val_accuracy = tuner.history['val_accuracy']\n",
        "plt.plot(epochs, accuracy, 'y', label='Training Accuracy')\n",
        "plt.plot(epochs, val_accuracy, 'r', label='Validation Accuracy')\n",
        "plt.title('Training and validation accuracy')\n",
        "plt.xlabel('Epochs')\n",
        "plt.ylabel('Accuracy')\n",
        "plt.legend()\n",
        "plt.show()"
      ],
      "execution_count": null,
      "outputs": []
    },
    {
      "cell_type": "code",
      "metadata": {
        "id": "0KaJmMT1fYgT",
        "outputId": "c9694ebf-fa23-4fd0-cd54-1e602ac2e884",
        "colab": {
          "base_uri": "https://localhost:8080/",
          "height": 1000
        }
      },
      "source": [
        "# get the summary of the search\n",
        "tuner.results_summary()\n",
        "\n",
        "# get the best model\n",
        "model3 = tuner.get_best_models(num_models=1)[0]"
      ],
      "execution_count": 31,
      "outputs": [
        {
          "output_type": "display_data",
          "data": {
            "text/html": [
              "<span style=\"color:#4527A0\"><h1 style=\"font-size:18px\">Results summary</h1></span>"
            ],
            "text/plain": [
              "<IPython.core.display.HTML object>"
            ]
          },
          "metadata": {
            "tags": []
          }
        },
        {
          "output_type": "display_data",
          "data": {
            "text/html": [
              "<span style=\"color:cyan\"> |-Results in random_search/cnnRandomSearchHyperParam</span>"
            ],
            "text/plain": [
              "<IPython.core.display.HTML object>"
            ]
          },
          "metadata": {
            "tags": []
          }
        },
        {
          "output_type": "display_data",
          "data": {
            "text/html": [
              "<span style=\"color:cyan\"> |-Showing 10 best trials</span>"
            ],
            "text/plain": [
              "<IPython.core.display.HTML object>"
            ]
          },
          "metadata": {
            "tags": []
          }
        },
        {
          "output_type": "display_data",
          "data": {
            "text/html": [
              "<span style=\"color:cyan\"> |-Objective(name='val_accuracy', direction='max')</span>"
            ],
            "text/plain": [
              "<IPython.core.display.HTML object>"
            ]
          },
          "metadata": {
            "tags": []
          }
        },
        {
          "output_type": "display_data",
          "data": {
            "text/html": [
              "<span style=\"color:#4527A0\"><h1 style=\"font-size:18px\">Trial summary</h1></span>"
            ],
            "text/plain": [
              "<IPython.core.display.HTML object>"
            ]
          },
          "metadata": {
            "tags": []
          }
        },
        {
          "output_type": "display_data",
          "data": {
            "text/html": [
              "<span style=\"color:cyan\"> |-Trial ID: bf619726cde91f75bc8e12bf31df9141</span>"
            ],
            "text/plain": [
              "<IPython.core.display.HTML object>"
            ]
          },
          "metadata": {
            "tags": []
          }
        },
        {
          "output_type": "display_data",
          "data": {
            "text/html": [
              "<span style=\"color:cyan\"> |-Score: 0.9878888924916586</span>"
            ],
            "text/plain": [
              "<IPython.core.display.HTML object>"
            ]
          },
          "metadata": {
            "tags": []
          }
        },
        {
          "output_type": "display_data",
          "data": {
            "text/html": [
              "<span style=\"color:cyan\"> |-Best step: 0</span>"
            ],
            "text/plain": [
              "<IPython.core.display.HTML object>"
            ]
          },
          "metadata": {
            "tags": []
          }
        },
        {
          "output_type": "display_data",
          "data": {
            "text/html": [
              "<span style=\"color:#7E57C2\"><h2 style=\"font-size:16px\">Hyperparameters:</h2></span>"
            ],
            "text/plain": [
              "<IPython.core.display.HTML object>"
            ]
          },
          "metadata": {
            "tags": []
          }
        },
        {
          "output_type": "display_data",
          "data": {
            "text/html": [
              "<span style=\"color:cyan\"> |-dropout_3: 0.35000000000000003</span>"
            ],
            "text/plain": [
              "<IPython.core.display.HTML object>"
            ]
          },
          "metadata": {
            "tags": []
          }
        },
        {
          "output_type": "display_data",
          "data": {
            "text/html": [
              "<span style=\"color:blue\"> |-learning_rate: 0.001</span>"
            ],
            "text/plain": [
              "<IPython.core.display.HTML object>"
            ]
          },
          "metadata": {
            "tags": []
          }
        },
        {
          "output_type": "display_data",
          "data": {
            "text/html": [
              "<span style=\"color:cyan\"> |-units: 352</span>"
            ],
            "text/plain": [
              "<IPython.core.display.HTML object>"
            ]
          },
          "metadata": {
            "tags": []
          }
        },
        {
          "output_type": "display_data",
          "data": {
            "text/html": [
              "<span style=\"color:#4527A0\"><h1 style=\"font-size:18px\">Trial summary</h1></span>"
            ],
            "text/plain": [
              "<IPython.core.display.HTML object>"
            ]
          },
          "metadata": {
            "tags": []
          }
        },
        {
          "output_type": "display_data",
          "data": {
            "text/html": [
              "<span style=\"color:cyan\"> |-Trial ID: 6e4b7d84871e7138a99111e940c64d5b</span>"
            ],
            "text/plain": [
              "<IPython.core.display.HTML object>"
            ]
          },
          "metadata": {
            "tags": []
          }
        },
        {
          "output_type": "display_data",
          "data": {
            "text/html": [
              "<span style=\"color:cyan\"> |-Score: 0.9876388907432556</span>"
            ],
            "text/plain": [
              "<IPython.core.display.HTML object>"
            ]
          },
          "metadata": {
            "tags": []
          }
        },
        {
          "output_type": "display_data",
          "data": {
            "text/html": [
              "<span style=\"color:cyan\"> |-Best step: 0</span>"
            ],
            "text/plain": [
              "<IPython.core.display.HTML object>"
            ]
          },
          "metadata": {
            "tags": []
          }
        },
        {
          "output_type": "display_data",
          "data": {
            "text/html": [
              "<span style=\"color:#7E57C2\"><h2 style=\"font-size:16px\">Hyperparameters:</h2></span>"
            ],
            "text/plain": [
              "<IPython.core.display.HTML object>"
            ]
          },
          "metadata": {
            "tags": []
          }
        },
        {
          "output_type": "display_data",
          "data": {
            "text/html": [
              "<span style=\"color:cyan\"> |-dropout_3: 0.30000000000000004</span>"
            ],
            "text/plain": [
              "<IPython.core.display.HTML object>"
            ]
          },
          "metadata": {
            "tags": []
          }
        },
        {
          "output_type": "display_data",
          "data": {
            "text/html": [
              "<span style=\"color:blue\"> |-learning_rate: 0.001</span>"
            ],
            "text/plain": [
              "<IPython.core.display.HTML object>"
            ]
          },
          "metadata": {
            "tags": []
          }
        },
        {
          "output_type": "display_data",
          "data": {
            "text/html": [
              "<span style=\"color:cyan\"> |-units: 448</span>"
            ],
            "text/plain": [
              "<IPython.core.display.HTML object>"
            ]
          },
          "metadata": {
            "tags": []
          }
        },
        {
          "output_type": "display_data",
          "data": {
            "text/html": [
              "<span style=\"color:#4527A0\"><h1 style=\"font-size:18px\">Trial summary</h1></span>"
            ],
            "text/plain": [
              "<IPython.core.display.HTML object>"
            ]
          },
          "metadata": {
            "tags": []
          }
        },
        {
          "output_type": "display_data",
          "data": {
            "text/html": [
              "<span style=\"color:cyan\"> |-Trial ID: cbdaf79b4a35cc59cc93971598f8fb4e</span>"
            ],
            "text/plain": [
              "<IPython.core.display.HTML object>"
            ]
          },
          "metadata": {
            "tags": []
          }
        },
        {
          "output_type": "display_data",
          "data": {
            "text/html": [
              "<span style=\"color:cyan\"> |-Score: 0.9854722221692404</span>"
            ],
            "text/plain": [
              "<IPython.core.display.HTML object>"
            ]
          },
          "metadata": {
            "tags": []
          }
        },
        {
          "output_type": "display_data",
          "data": {
            "text/html": [
              "<span style=\"color:cyan\"> |-Best step: 0</span>"
            ],
            "text/plain": [
              "<IPython.core.display.HTML object>"
            ]
          },
          "metadata": {
            "tags": []
          }
        },
        {
          "output_type": "display_data",
          "data": {
            "text/html": [
              "<span style=\"color:#7E57C2\"><h2 style=\"font-size:16px\">Hyperparameters:</h2></span>"
            ],
            "text/plain": [
              "<IPython.core.display.HTML object>"
            ]
          },
          "metadata": {
            "tags": []
          }
        },
        {
          "output_type": "display_data",
          "data": {
            "text/html": [
              "<span style=\"color:cyan\"> |-dropout_3: 0.30000000000000004</span>"
            ],
            "text/plain": [
              "<IPython.core.display.HTML object>"
            ]
          },
          "metadata": {
            "tags": []
          }
        },
        {
          "output_type": "display_data",
          "data": {
            "text/html": [
              "<span style=\"color:blue\"> |-learning_rate: 0.0001</span>"
            ],
            "text/plain": [
              "<IPython.core.display.HTML object>"
            ]
          },
          "metadata": {
            "tags": []
          }
        },
        {
          "output_type": "display_data",
          "data": {
            "text/html": [
              "<span style=\"color:cyan\"> |-units: 64</span>"
            ],
            "text/plain": [
              "<IPython.core.display.HTML object>"
            ]
          },
          "metadata": {
            "tags": []
          }
        },
        {
          "output_type": "display_data",
          "data": {
            "text/html": [
              "<span style=\"color:#4527A0\"><h1 style=\"font-size:18px\">Trial summary</h1></span>"
            ],
            "text/plain": [
              "<IPython.core.display.HTML object>"
            ]
          },
          "metadata": {
            "tags": []
          }
        },
        {
          "output_type": "display_data",
          "data": {
            "text/html": [
              "<span style=\"color:cyan\"> |-Trial ID: b06aa7f08686385a7f65fc55425053bd</span>"
            ],
            "text/plain": [
              "<IPython.core.display.HTML object>"
            ]
          },
          "metadata": {
            "tags": []
          }
        },
        {
          "output_type": "display_data",
          "data": {
            "text/html": [
              "<span style=\"color:cyan\"> |-Score: 0.9717222054799398</span>"
            ],
            "text/plain": [
              "<IPython.core.display.HTML object>"
            ]
          },
          "metadata": {
            "tags": []
          }
        },
        {
          "output_type": "display_data",
          "data": {
            "text/html": [
              "<span style=\"color:cyan\"> |-Best step: 0</span>"
            ],
            "text/plain": [
              "<IPython.core.display.HTML object>"
            ]
          },
          "metadata": {
            "tags": []
          }
        },
        {
          "output_type": "display_data",
          "data": {
            "text/html": [
              "<span style=\"color:#7E57C2\"><h2 style=\"font-size:16px\">Hyperparameters:</h2></span>"
            ],
            "text/plain": [
              "<IPython.core.display.HTML object>"
            ]
          },
          "metadata": {
            "tags": []
          }
        },
        {
          "output_type": "display_data",
          "data": {
            "text/html": [
              "<span style=\"color:cyan\"> |-dropout_3: 0.35000000000000003</span>"
            ],
            "text/plain": [
              "<IPython.core.display.HTML object>"
            ]
          },
          "metadata": {
            "tags": []
          }
        },
        {
          "output_type": "display_data",
          "data": {
            "text/html": [
              "<span style=\"color:blue\"> |-learning_rate: 0.0001</span>"
            ],
            "text/plain": [
              "<IPython.core.display.HTML object>"
            ]
          },
          "metadata": {
            "tags": []
          }
        },
        {
          "output_type": "display_data",
          "data": {
            "text/html": [
              "<span style=\"color:cyan\"> |-units: 32</span>"
            ],
            "text/plain": [
              "<IPython.core.display.HTML object>"
            ]
          },
          "metadata": {
            "tags": []
          }
        },
        {
          "output_type": "display_data",
          "data": {
            "text/html": [
              "<span style=\"color:#4527A0\"><h1 style=\"font-size:18px\">Trial summary</h1></span>"
            ],
            "text/plain": [
              "<IPython.core.display.HTML object>"
            ]
          },
          "metadata": {
            "tags": []
          }
        },
        {
          "output_type": "display_data",
          "data": {
            "text/html": [
              "<span style=\"color:cyan\"> |-Trial ID: 46e604d9b1c3872cb1a327ac819fb7e2</span>"
            ],
            "text/plain": [
              "<IPython.core.display.HTML object>"
            ]
          },
          "metadata": {
            "tags": []
          }
        },
        {
          "output_type": "display_data",
          "data": {
            "text/html": [
              "<span style=\"color:cyan\"> |-Score: 0.9514999985694885</span>"
            ],
            "text/plain": [
              "<IPython.core.display.HTML object>"
            ]
          },
          "metadata": {
            "tags": []
          }
        },
        {
          "output_type": "display_data",
          "data": {
            "text/html": [
              "<span style=\"color:cyan\"> |-Best step: 0</span>"
            ],
            "text/plain": [
              "<IPython.core.display.HTML object>"
            ]
          },
          "metadata": {
            "tags": []
          }
        },
        {
          "output_type": "display_data",
          "data": {
            "text/html": [
              "<span style=\"color:#7E57C2\"><h2 style=\"font-size:16px\">Hyperparameters:</h2></span>"
            ],
            "text/plain": [
              "<IPython.core.display.HTML object>"
            ]
          },
          "metadata": {
            "tags": []
          }
        },
        {
          "output_type": "display_data",
          "data": {
            "text/html": [
              "<span style=\"color:cyan\"> |-dropout_3: 0.5</span>"
            ],
            "text/plain": [
              "<IPython.core.display.HTML object>"
            ]
          },
          "metadata": {
            "tags": []
          }
        },
        {
          "output_type": "display_data",
          "data": {
            "text/html": [
              "<span style=\"color:blue\"> |-learning_rate: 0.01</span>"
            ],
            "text/plain": [
              "<IPython.core.display.HTML object>"
            ]
          },
          "metadata": {
            "tags": []
          }
        },
        {
          "output_type": "display_data",
          "data": {
            "text/html": [
              "<span style=\"color:cyan\"> |-units: 96</span>"
            ],
            "text/plain": [
              "<IPython.core.display.HTML object>"
            ]
          },
          "metadata": {
            "tags": []
          }
        },
        {
          "output_type": "stream",
          "text": [
            "WARNING:tensorflow:Unresolved object in checkpoint: (root).optimizer.iter\n",
            "WARNING:tensorflow:Unresolved object in checkpoint: (root).optimizer.beta_1\n",
            "WARNING:tensorflow:Unresolved object in checkpoint: (root).optimizer.beta_2\n",
            "WARNING:tensorflow:Unresolved object in checkpoint: (root).optimizer.decay\n",
            "WARNING:tensorflow:Unresolved object in checkpoint: (root).optimizer.learning_rate\n",
            "WARNING:tensorflow:A checkpoint was restored (e.g. tf.train.Checkpoint.restore or tf.keras.Model.load_weights) but not all checkpointed values were used. See above for specific issues. Use expect_partial() on the load status object, e.g. tf.train.Checkpoint.restore(...).expect_partial(), to silence these warnings, or use assert_consumed() to make the check explicit. See https://www.tensorflow.org/guide/checkpoint#loading_mechanics for details.\n"
          ],
          "name": "stdout"
        }
      ]
    },
    {
      "cell_type": "markdown",
      "metadata": {
        "id": "Il5MVQPrXIGb"
      },
      "source": [
        "---\n",
        "---"
      ]
    },
    {
      "cell_type": "markdown",
      "metadata": {
        "id": "IjU3M0fUWcX5"
      },
      "source": [
        "# 8.Test Accuracy, Loss And Results"
      ]
    },
    {
      "cell_type": "markdown",
      "metadata": {
        "id": "Gd6G1OH4WhAv"
      },
      "source": [
        "### 8.1. Baseline Model Result\n",
        "\n",
        "---\n",
        "\n",
        "Get the result for the baseline model."
      ]
    },
    {
      "cell_type": "code",
      "metadata": {
        "id": "tnmmCdUzWdsk",
        "outputId": "9b6ecf45-e2fe-4266-ea0e-f7739479a9c0",
        "colab": {
          "base_uri": "https://localhost:8080/"
        }
      },
      "source": [
        "# now we shall evaluate the model and see the accuracy\n",
        "score = model.evaluate(x_test,y_test, verbose=1)\n",
        "print(\"Test loss:\", score[0])\n",
        "print(\"Test accuracy:\", score[1])\n",
        "print(\"BaseLine Model Error: %.2f%%\" % (100-score[1]*100))"
      ],
      "execution_count": 25,
      "outputs": [
        {
          "output_type": "stream",
          "text": [
            "313/313 [==============================] - 1s 3ms/step - loss: 0.0864 - accuracy: 0.9811\n",
            "Test loss: 0.08635707944631577\n",
            "Test accuracy: 0.9811000227928162\n",
            "BaseLine Model Error: 1.89%\n"
          ],
          "name": "stdout"
        }
      ]
    },
    {
      "cell_type": "code",
      "metadata": {
        "id": "hRjW__19ZQGK",
        "outputId": "d6242615-f10f-44fc-c12e-4e5042283c0a",
        "colab": {
          "base_uri": "https://localhost:8080/",
          "height": 298
        }
      },
      "source": [
        "# get a random index which we will use it to see what number it is from the test dataset(it shld be a number all the way to 60,000)\n",
        "image_index = 8\n",
        "\n",
        "# see what image it is first\n",
        "plt.imshow(x_test[image_index].reshape(28, 28),cmap=plt.cm.binary) # visually, we identify the number as 6\n",
        "# see the actual label\n",
        "actual_label = (y_test[image_index])\n",
        "print('Actual Label:', actual_label)\n",
        "\n",
        "# now lets try to feed the image_index into x_test and feed it into the trained model\n",
        "pred = model.predict(x_test[image_index].reshape(1,-1)) # changing it to a 1d array first\n",
        "print('Predicted Number:', pred.argmax()) # print out the result"
      ],
      "execution_count": 26,
      "outputs": [
        {
          "output_type": "stream",
          "text": [
            "Actual Label: [0. 0. 0. 0. 0. 1. 0. 0. 0. 0.]\n",
            "Predicted Number: 5\n"
          ],
          "name": "stdout"
        },
        {
          "output_type": "display_data",
          "data": {
            "image/png": "[encoded data removed]",
            "text/plain": [
              "<Figure size 432x288 with 1 Axes>"
            ]
          },
          "metadata": {
            "tags": [],
            "needs_background": "light"
          }
        }
      ]
    },
    {
      "cell_type": "markdown",
      "metadata": {
        "id": "hMwQ_4HMeoLN"
      },
      "source": [
        "### 8.2. CNN Model Result\n",
        "\n",
        "---\n",
        "\n",
        "Get the result for the CNN model."
      ]
    },
    {
      "cell_type": "code",
      "metadata": {
        "id": "yGcNmEGEf8I0"
      },
      "source": [
        "# now we shall evaluate the model and see the accuracy\n",
        "score = model.evaluate(x_test,y_test)\n",
        "print(\"Test loss:\", score[0])\n",
        "print(\"Test accuracy:\", score[1])\n",
        "print(\"CNN Model Error: %.2f%%\" % (100-score[1]*100))"
      ],
      "execution_count": null,
      "outputs": []
    },
    {
      "cell_type": "code",
      "metadata": {
        "id": "9tXbqxbpgETQ"
      },
      "source": [
        "# from the above result, we can see that we got an accuracy of 96.7% and a loss of 10.7%, which is not bad but can be better improved.\n",
        "# now we shall try to make individual predictions.\n",
        "\n",
        "# get a random index which we will use it to see what number it is from the test dataset(it shld be a number all the way to 60,000)\n",
        "image_index = 8\n",
        "\n",
        "# see what image it is first\n",
        "plt.imshow(x_test[image_index].reshape(28, 28),cmap=plt.cm.binary) # visually, we identify the number as 6\n",
        "# see the actual label\n",
        "actual_label = (y_test[image_index])\n",
        "print('Actual Label:', actual_label)\n",
        "\n",
        "# now lets try to feed the image_index into x_test and feed it into the trained model\n",
        "pred = model.predict(x_test[image_index].reshape(1, 28, 28, 1))\n",
        "print('Predicted Number:', pred.argmax()) # print out the result"
      ],
      "execution_count": null,
      "outputs": []
    },
    {
      "cell_type": "markdown",
      "metadata": {
        "id": "vU45DXEOf2dz"
      },
      "source": [
        "### 8.3. CNN Hyper-Parameter Tuned Model Result\n",
        "\n",
        "---\n",
        "\n",
        "Get the result for the CNN model that has undergone hyper parameter tuning."
      ]
    },
    {
      "cell_type": "code",
      "metadata": {
        "id": "ShTJVSrtf8LD",
        "outputId": "678e62e5-3956-4553-a3b8-31425ad8689f",
        "colab": {
          "base_uri": "https://localhost:8080/"
        }
      },
      "source": [
        "# now we shall evaluate the model and see the accuracy\n",
        "loss, accuracy = model3.evaluate(x_test,y_test)\n",
        "print(\"Test loss:\", loss)\n",
        "print(\"Test accuracy:\", accuracy)\n",
        "print(\"CNN Model Error: %.2f%%\" % (100-accuracy*100))"
      ],
      "execution_count": 32,
      "outputs": [
        {
          "output_type": "stream",
          "text": [
            "313/313 [==============================] - 2s 5ms/step - loss: 0.1004 - accuracy: 0.9875\n",
            "Test loss: 0.10036817193031311\n",
            "Test accuracy: 0.987500011920929\n",
            "CNN Model Error: 1.25%\n"
          ],
          "name": "stdout"
        }
      ]
    },
    {
      "cell_type": "code",
      "metadata": {
        "id": "cBMA3CS-f_TQ",
        "outputId": "2237e2f0-c363-4878-c363-e361dd18ae8e",
        "colab": {
          "base_uri": "https://localhost:8080/",
          "height": 298
        }
      },
      "source": [
        "# from the above result, we can see that we got an accuracy of 96.7% and a loss of 10.7%, which is not bad but can be better improved.\n",
        "# now we shall try to make individual predictions.\n",
        "\n",
        "# get a random index which we will use it to see what number it is from the test dataset(it shld be a number all the way to 60,000)\n",
        "image_index = 8\n",
        "\n",
        "# see what image it is first\n",
        "plt.imshow(x_test[image_index].reshape(28, 28),cmap=plt.cm.binary) # visually, we identify the number as 6\n",
        "# see the actual label\n",
        "actual_label = (y_test[image_index])\n",
        "print('Actual Label:', actual_label)\n",
        "\n",
        "# now lets try to feed the image_index into x_test and feed it into the trained model\n",
        "pred = model3.predict(x_test[image_index].reshape(1, 28, 28, 1))\n",
        "print('Predicted Number:', pred.argmax()) # print out the result"
      ],
      "execution_count": 34,
      "outputs": [
        {
          "output_type": "stream",
          "text": [
            "Actual Label: [0. 0. 0. 0. 0. 1. 0. 0. 0. 0.]\n",
            "Predicted Number: 5\n"
          ],
          "name": "stdout"
        },
        {
          "output_type": "display_data",
          "data": {
            "image/png": "[encoded data removed]",
            "text/plain": [
              "<Figure size 432x288 with 1 Axes>"
            ]
          },
          "metadata": {
            "tags": [],
            "needs_background": "light"
          }
        }
      ]
    },
    {
      "cell_type": "markdown",
      "metadata": {
        "id": "5PIPpo7sbNRE"
      },
      "source": [
        "---\n",
        "---"
      ]
    },
    {
      "cell_type": "markdown",
      "metadata": {
        "id": "fuJ322WcbQBu"
      },
      "source": [
        "# 9.References"
      ]
    },
    {
      "cell_type": "markdown",
      "metadata": {
        "id": "8WQh8SimbTVS"
      },
      "source": [
        "## Using Google Colab More Efficiently\n",
        "- [Getting the Most Out of Your Google Colab (Tutorial)](https://medium.com/@oribarel/getting-the-most-out-of-your-google-colab-2b0585f82403)\n",
        "- [Using Google Colab with GitHub](https://colab.research.google.com/github/googlecolab/colabtools/blob/master/notebooks/colab-github-demo.ipynb)\n",
        "\n",
        "## Background Research\n",
        "\n",
        "## Selecting CNN Architecture\n",
        "- [Top 10 CNN Architecture](https://towardsdatascience.com/illustrated-10-cnn-architectures-95d78ace614d#676b)\n",
        "- [AlexNet: The Architecture that Challenged CNNs](https://towardsdatascience.com/alexnet-the-architecture-that-challenged-cnns-e406d5297951)\n",
        "- [How to choose CNN Architecture MNIST](https://www.kaggle.com/cdeotte/how-to-choose-cnn-architecture-mnist#What-is-the-best-CNN-architecture-for-MNIST?)\n",
        "\n",
        "## Some Tutorials on how to build a CNN Model\n",
        "- [Building a Custom Convolutional Neural Network in Keras](https://medium.com/@ODSC/building-a-custom-convolutional-neural-network-in-keras-48171163aa7f)\n",
        "- [The Most Intuitive and Easiest Guide for Convolutional Neural Network](https://towardsdatascience.com/the-most-intuitive-and-easiest-guide-for-convolutional-neural-network-3607be47480)\n",
        "- [MNIST with Keras for Beginners(.99457)](https://www.kaggle.com/adityaecdrid/mnist-with-keras-for-beginners-99457)\n",
        "- [Image Classification in 10 Minutes with MNIST Dataset](https://towardsdatascience.com/image-classification-in-10-minutes-with-mnist-dataset-54c35b77a38d)\n",
        "- [How to Develop a CNN for MNIST Handwritten Digit Classification](https://machinelearningmastery.com/how-to-develop-a-convolutional-neural-network-from-scratch-for-mnist-handwritten-digit-classification/#:~:text=The%20MNIST%20dataset%20is%20an,digits%20between%200%20and%209.)\n",
        "\n",
        "## Feature Engineering\n",
        "- [Why Change Data Dimension Before Feeding Into Keras?](https://stackoverflow.com/a/62991238/12347869)\n",
        "- [Properly Setting the Random Seed in ML Experiments. Not as Simple as You Might Imagine](https://medium.com/@ODSC/properly-setting-the-random-seed-in-ml-experiments-not-as-simple-as-you-might-imagine-219969c84752)\n",
        "- [How to get reproducible results in keras](https://stackoverflow.com/questions/32419510/how-to-get-reproducible-results-in-keras)\n",
        "- [How can I obtain reproducible results using Keras during development?](https://keras.io/getting_started/faq/#how-can-i-obtain-reproducible-results-using-keras-during-development)\n",
        "\n",
        "## Building Layers\n",
        "- [What is the default weight initializer in Keras?](https://stackoverflow.com/questions/54011173/what-is-the-default-weight-initializer-in-keras)\n",
        "- [A Gentle Introduction to Pooling Layers for Convolutional Neural Networks](https://machinelearningmastery.com/pooling-layers-for-convolutional-neural-networks/)\n",
        "- [Using the Keras Flatten Operation in CNN Models with Code Examples](https://missinglink.ai/guides/keras/using-keras-flatten-operation-cnn-models-code-examples/)\n",
        "- [Dropout Neural Network Layer In Keras Explained](https://towardsdatascience.com/machine-learning-part-20-dropout-keras-layers-explained-8c9f6dc4c9ab)\n",
        "- [Changing shape of MNIST for tensorflow CNN](https://stackoverflow.com/questions/50549859/changing-shape-of-mnist-for-tensorflow-cnn)\n",
        "\n",
        "## Model Evaluation \n",
        "- [Sparse_categorical_crossentropy vs categorical_crossentropy (keras, accuracy)](https://datascience.stackexchange.com/questions/41921/sparse-categorical-crossentropy-vs-categorical-crossentropy-keras-accuracy)\n",
        "\n",
        "## Hyper Parameter Tuning With Keras Tuner\n",
        "- [Hyperparameter tuning with Keras Tuner](https://blog.tensorflow.org/2020/01/hyperparameter-tuning-with-keras-tuner.html)\n",
        "- [Why is random search better than grid search for machine learning?](https://analyticsindiamag.com/why-is-random-search-better-than-grid-search-for-machine-learning/#:~:text=Random%20search%20is%20a%20technique,to%20yield%20better%20results%20comparatively.)"
      ]
    }
  ]
}