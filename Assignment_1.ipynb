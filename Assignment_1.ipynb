{
  "nbformat": 4,
  "nbformat_minor": 0,
  "metadata": {
    "colab": {
      "name": "Assignment_1.ipynb",
      "provenance": [],
      "authorship_tag": "ABX9TyO3yUp44mVzdDKk4xfmz3wr",
      "include_colab_link": true
    },
    "kernelspec": {
      "name": "python3",
      "display_name": "Python 3"
    },
    "accelerator": "GPU"
  },
  "cells": [
    {
      "cell_type": "markdown",
      "metadata": {
        "id": "view-in-github",
        "colab_type": "text"
      },
      "source": [
        "<a href=\"https://colab.research.google.com/github/ngzhankang/Deep-Learning/blob/main/Assignment_1.ipynb\" target=\"_parent\"><img src=\"https://colab.research.google.com/assets/colab-badge.svg\" alt=\"Open In Colab\"/></a>"
      ]
    },
    {
      "cell_type": "code",
      "metadata": {
        "id": "4vU3IPB-9wF6",
        "outputId": "e8c16616-c809-4701-b4e7-7a11720d9b01",
        "colab": {
          "base_uri": "https://localhost:8080/",
          "height": 101
        }
      },
      "source": [
        "# to ensure that the current gpu utilization is 0\n",
        "\n",
        "# memory footprint support libraries/code\n",
        "!ln -sf /opt/bin/nvidia-smi /usr/bin/nvidia-smi\n",
        "!pip install gputil\n",
        "!pip install psutil\n",
        "!pip install humanize\n",
        "import psutil\n",
        "import humanize\n",
        "import os\n",
        "import GPUtil as GPU\n",
        "GPUs = GPU.getGPUs()\n",
        "# XXX: only one GPU on Colab and isn’t guaranteed\n",
        "gpu = GPUs[0]\n",
        "def printm():\n",
        " process = psutil.Process(os.getpid())\n",
        " print(\"Gen RAM Free: \" + humanize.naturalsize( psutil.virtual_memory().available ), \" | Proc size: \" + humanize.naturalsize( process.memory_info().rss))\n",
        " print(\"GPU RAM Free: {0:.0f}MB | Used: {1:.0f}MB | Util {2:3.0f}% | Total {3:.0f}MB\".format(gpu.memoryFree, gpu.memoryUsed, gpu.memoryUtil*100, gpu.memoryTotal))\n",
        "printm() "
      ],
      "execution_count": 2,
      "outputs": [
        {
          "output_type": "stream",
          "text": [
            "Requirement already satisfied: gputil in /usr/local/lib/python3.6/dist-packages (1.4.0)\n",
            "Requirement already satisfied: psutil in /usr/local/lib/python3.6/dist-packages (5.4.8)\n",
            "Requirement already satisfied: humanize in /usr/local/lib/python3.6/dist-packages (0.5.1)\n",
            "Gen RAM Free: 12.8 GB  | Proc size: 113.3 MB\n",
            "GPU RAM Free: 15079MB | Used: 0MB | Util   0% | Total 15079MB\n"
          ],
          "name": "stdout"
        }
      ]
    },
    {
      "cell_type": "code",
      "metadata": {
        "id": "Gqa73iPB93yZ"
      },
      "source": [
        "# if utilization is > 0, run this code(keep running this cell and the above cell till the util number is 0%):\n",
        "# NOTE THAT RUNNING THIS MIGHT KILL GPU SESSION AND RESULT IN DATA LOSS\n",
        "!kill -9 -1"
      ],
      "execution_count": null,
      "outputs": []
    },
    {
      "cell_type": "markdown",
      "metadata": {
        "id": "cgTaLrOvB90e"
      },
      "source": [
        "# Assignment 1\n",
        "Submitted by : P1935727 Ng Zhan Kang<br>\n",
        "Class of DIT/FT/2B/11\n"
      ]
    },
    {
      "cell_type": "markdown",
      "metadata": {
        "id": "uscN7JHCCkKf"
      },
      "source": [
        "# Index\n",
        "1. [About The RMS Titanic (Background Information)](#About-The-RMS-Titanic-(Background-Information))\n",
        "2. [Data Importing](#Data-Importing)\n",
        "3. [Exploratory Data Analysis](#Exploratory-Data-Analysis)\n",
        "4. [Data Preparation](#Data-Preparation)<br>\n",
        "    4.1. [Handle missing data](#Handle-missing-data)<br>\n",
        "    4.2. [Converting Features (Feature Selection)](#Converting-Features-(Feature-Selection))<br>\n",
        "    4.3. [Correcting Data](#Correcting-Data)<br>\n",
        "    4.3. [Drop Columns](#Drop-Columns)<br>\n",
        "5. [Model Training](#Model-Training)<br>\n",
        "    5.1. [Split Data into Train and Test Sets](#Split-Data-into-Train-and-Test-Sets)<br>\n",
        "    5.2. [Train Model with Algorithm: Logistics Regression](#Train-Model-with-Algorithm:-Logistics-Regression)<br>\n",
        "    5.3. [Train Model with Algorithm: Random Forest Classifier](#Train-Model-with-Algorithm:-Random-Forest-Classifier)<br>\n",
        "    5.4. [Train Model with Algorithm: Nu-support vector Classification (NSVC)](#Train-Model-with-Algorithm:-Nu-support-vector-Classification-(NSVC))<br>\n",
        "    5.5. [Train Model with Algorithm: Gaussian Naive Bayes](#Train-Model-with-Algorithm:-Gaussian-Naive-Bayes)<br>\n",
        "6. [Score and Evaluate Model](#Score-and-Evaluate-Model)<br>\n",
        "    6.1. [Score Model and Evaluate Model with: Logistics Regression](#Score-Model-and-Evaluate-Model-with:-Logistics-Regression)<br>\n",
        "    6.2. [Score Model and Evaluate Model with: Random Forest Classifier](#Score-Model-and-Evaluate-Model-with:-Random-Forest-Classifier)<br>\n",
        "    6.3. [Score Model and Evaluate Model with: Nu-support vector Classification (NSVC)](#Score-Model-and-Evaluate-Model-with:-Nu-support-vector-Classification-(NSVC))<br>\n",
        "    6.4. [Score Model and Evaluate Model with: Gaussian Naive Bayes](#Score-Model-and-Evaluate-Model-with:-Gaussian-Naive-Bayes)<br>\n",
        "7. [Submitting to Kaggle](#Submitting-to-Kaggle)<br>\n",
        "    7.1. [Stupid Baseline (Everyone Dies)](#Stupid-Baseline-(Everyone-Dies))<br>\n",
        "    7.2. [Data Preparation for the test.csv](#Data-Preparation-for-the-test.csv)<br>\n",
        "    7.3. [Prediction with Logistics Regression Trained Model](#Prediction-with-Logistics-Regression-Trained-Model)<br>\n",
        "    7.4. [Prediction with Random Forest Classifier Trained Model](#Prediction-with-Random-Forest-Classifier-Trained-Model)<br>\n",
        "    7.5. [Prediction with Nu-support vector Classification (NSVC) Trained Model](#Prediction-with-Nu-support-vector-Classification-(NSVC)-Trained-Model)<br>\n",
        "    7.6. [Prediction with Gaussian Naive Bayes Trained Model](#Prediction-with-Gaussian-Naive-Bayes-Trained-Model)<br>\n",
        "8. [Conclusions](#Conclusions)\n",
        "9. [References](#References)"
      ]
    },
    {
      "cell_type": "markdown",
      "metadata": {
        "id": "Id1KUxFrCnKw"
      },
      "source": [
        "# About The RMS Titanic (Background Information)\n",
        "- BACKGROUND\n",
        "    - Owned by White Star Line, a British shipping company which was one of the most prominent shipping lines in the world providing passenger and cargo shipping between the British Empire and the United States.\n",
        "    - Was one of the 3 Olympic-class ocean liners(namely RMS Olympic, RMS Titanic and HMHS Britannic).\n",
        "    - It's original name was in fact \"Number 401\" and design was based on the revised design of \"Olympic\".\n",
        "    - Was built by the Harland and Wolff shipyard in Belfast, Northern Ireland.\n",
        "    - Was commanded by Captain Edward Smith, who would eventually sink down with the ship.\n",
        "    - Was the largest ship afloat at the time she entered service, which was 1911.\n",
        "    - Launched on 31 May 1911, laid down on 31 March 1909.\n",
        "    - Port of registry is at Liverpool, United Kingdom.\n",
        "    - Cost to build was GB£1.5 million, or SGD 266 million in SGD in 2020.\n",
        "    - Maiden voyage was on 10 April 1912.\n",
        "    - Sunk on 14 April 1912 23:40PM (Ship's time) and sank 2h 40 min later on 15 April 1912, 5 days from her maiden voyage due to a collison against an iceberg.\n",
        "\n",
        "\n",
        "- FEATURES\n",
        "    - Powered by steam engines and 4-cylinders, with a total power output of 34000kW.\n",
        "    - Heated by burning coal.\n",
        "    - Included a steam-driven electical plant, capable of producing more power than an average city power station of the time, and was used to provide electricity for the ship.\n",
        "    - Was notably the 'unsinkable' due to the interior of the ship subdivided into 16 primary compartments divided into 15 bulkheads extended above the waterline, which 11 vertically closing waterthight doors could seal off the compartments in the event of an   emergency.\n",
        "    - Had her own waterworks capable of heating and pumping water to all parts of the vessel via complex pipes and valves. The first class cabins were fitted with additional electical heaters.\n",
        "    - Able to accomodate 833 1st class passengers, 614 2nd class passengers and 1006 3rd class passengers. In total a capacity of 2453 passengers. In fact, her max capacity is 3547 according to most of her original configuration documents.\n",
        "    - Have a total of 20 lifeboats(14 wooden Harland & Wolff lifeboats, capacity of 65ppl),(4 Engelhardt boats, capacity of 47ppl), 2 emergency cutters(like a middle sized sailcraft) that can hold 40 ppl.\n",
        "    - Have the capacity to carry 64 lifeboats in fact, enough to carry 4000 passengers, more than her actual capacity.\n",
        "    - At that time, lifeboats were **intended to ferry survivors from a sinking ship to a rescuing ship, not keep afloat the whole population or power them to the shore.**\n",
        "    \n",
        "    \n",
        "- MAIDEN VOYAGE\n",
        "    - Liverpool was registered as her home port.\n",
        "    - Was intended to be the 1st of the many trans-Atlantic crossing between Southampton and New York via Cherbough and Queesntownon westbound runs, returning via Plymouth in England while eastbound.\n",
        "    - Had around 885 crew members on board, which are not permanent crew, which many were casual workers who only came abroad the ship a few hours before she sailed to  Southampton.\n",
        "    - Captain Edward Smith, who was transferred from the *Olympic* to take command for *Titanic*, was the ship commander.\n",
        "    - 97% of the crew were male, with 23 of them just females.\n",
        "    - Total passengers are around 1,317 people: 324 in First Class, 284 in Second Class, and 709 in Third Class. Of these, 869 (66%) were male and 447 (34%) female. There were 107 children aboard, the largest number of whom were in Third Class. The ship was considerably under capacity on her maiden voyage, as she could accommodate 2,453 passengers—833 First Class, 614 Second Class, and 1,006 Third Class.\n",
        "    - Notable passengers are American millionaire John Jacob Astor IV, who unfortunately did not survive and his wife Madeleine Force Astor, who survived the disaster.\n",
        "    - There were 3 ports that Titanic collected its passenger. The 1st port was Southampton Terminus railway station, alongside Titanic's berth, where the majority 3rd class passengers were to board, and the 1st and 2nd class passengers also boarded.\n",
        "    - The 2nd port was Cherbourg and Queenstown where additonal passengers were picked up.\n",
        "    - Titanic started her maiden voyage at noon, as scheduled.\n",
        "    \n",
        "    \n",
        "- ATLANTIC CROSSING\n",
        "    - Titanic was planned to arrive at New York Pier 59, or modern Chelsea Piers in NYC on the morning of 17 April. She travelled roughly 2643 nautical miles in total from Queenstown to Nantucket Shoals Light where she made her fatal contact with an iceberg.\n",
        "    - If Titanic were to not meet with an accident, it would only take a mere 193 nautical miles more to Ambrose Light and finally New York Harbour.\n",
        "    - There had been series or warning made by ships in the area of the Grand Banks of Newfoundland, near to where drifting ice were spotted. But the Titanic decided to still steam at full speed, which was a common practice back then. Ships were also operated close to full speed. Ice was posed to be little danger to large vessels, or at least not disastrous.\n",
        "    \n",
        "    \n",
        "- SINKING\n",
        "    - At 23:40 on April 14, Frederick Fleet, the lookout spotted a iceberg immediately ahead of Titanic and alerted the bridge. First Officer William Murdoch ordered the ship to be steered around the obstacle and the engines to be stopped, but it was too late for the starboard side of Titanic struck the iceberg, creating a series of holes below the waterline, causing water to seep in. Soon , 5 of the ship's watertight compartments were breached. It soon became clear that the ship was doomed, as she could not survive more than four compartments being flooded. Titanic began sinking bow-first, with water spilling from compartment to compartment as her angle in the water became steeper.\n",
        "    - Crew members were not prepared to handle such accidents. Titanic only had enough lifeboats to carry about half of those on board. Some lifeboats were launched only barely half-full, even if they could have rescued more passengers. Third-class passengers were largely left to fend for themselves, causing many of them to become trapped below decks as the ship filled with water.\n",
        "    - The \"women and children first\" protocol was generally followed when loading the lifeboats, and most of the male passengers and crew were left aboard.\n",
        "    - Distress signals were sent by wireless, rockets, and lamp, but none of the ships that responded was near enough to reach Titanic before she sank. The SS Californian, which was the last to have been in contact before the collision, saw Titanic's flares but failed to assist.\n",
        "    - A radio operator on board the Birma, for instance, estimated that it would be 6 a.m. before the liner could arrive at the scene.\n",
        "  \n",
        "  \n",
        "- SURVIVORS\n",
        "    - About 710 people survived the disaster and were conveyed by Carpathia to New York, Titanic's original destination, while at least 1,500 people lost their lives.\n",
        "    - Fewer than a third of those aboard Titanic survived the disaster. Some survivors died shortly afterwards; injuries and the effects of exposure caused the deaths of several of those brought aboard Carpathia.\n",
        "    - The last living survivor, Millvina Dean from England, who at only nine weeks old was the youngest passenger on board, died aged 97 on 31 May 2009.\n",
        "    \n",
        "    \n",
        "- GRAPHICAL IMAGE\n",
        "    <img src=\"https://images.squarespace-cdn.com/content/5006453fe4b09ef2252ba068/1351660113175-514SN9PXFWB9N2MNB8DV/TItanic-Survival-Infographic.jpg?format=1500w&content-type=image%2Fjpeg\" alt=\"Graphical Image Of How Titanic Sunk\" title=\"Title text\" />\n"
      ]
    },
    {
      "cell_type": "markdown",
      "metadata": {
        "id": "DRAg_XY2CsJ3"
      },
      "source": [
        "## Titanic\n",
        "- For this problem, use only 1 target output variable (Survived)\n",
        "- Prepare the data and perform necessary feature engineering\n",
        "- Create **_at least two models_** \n",
        "- Evaluate the models and pick the best candidate\n",
        "- Form some conclusions"
      ]
    },
    {
      "cell_type": "markdown",
      "metadata": {
        "id": "1-AF7n6VCwiI"
      },
      "source": [
        "# Data Importing"
      ]
    },
    {
      "cell_type": "code",
      "metadata": {
        "id": "i4GavKz7CzgA"
      },
      "source": [
        "# Suppress Future Warnings\n",
        "import warnings\n",
        "warnings.filterwarnings('ignore')"
      ],
      "execution_count": 4,
      "outputs": []
    },
    {
      "cell_type": "code",
      "metadata": {
        "id": "6OMhNQRPC23r",
        "outputId": "79b8a287-2a8c-4719-a991-0563d443925c",
        "colab": {
          "base_uri": "https://localhost:8080/",
          "height": 151
        }
      },
      "source": [
        "# check versions of libraries we are going to use\n",
        "import torch\n",
        "import numpy as np\n",
        "import pandas as pd\n",
        "import matplotlib\n",
        "import platform\n",
        "\n",
        "message=\"        Versions        \"\n",
        "print(\"*\"*len(message))\n",
        "print(message)\n",
        "print(\"*\"*len(message))\n",
        "print(\"PyTorch version={}\".format(torch.__version__))\n",
        "print(\"Numpy version={}\".format(np.__version__))\n",
        "print(\"Pandas version={}\".format(pd.__version__))\n",
        "print(\"Matplotlib version={}\".format(matplotlib.__version__))\n",
        "print(\"Python version={}\".format(platform.python_version()))"
      ],
      "execution_count": 6,
      "outputs": [
        {
          "output_type": "stream",
          "text": [
            "************************\n",
            "        Versions        \n",
            "************************\n",
            "PyTorch version=1.6.0+cu101\n",
            "Numpy version=1.18.5\n",
            "Pandas version=1.1.2\n",
            "Matplotlib version=3.2.2\n",
            "Python version=3.6.9\n"
          ],
          "name": "stdout"
        }
      ]
    },
    {
      "cell_type": "code",
      "metadata": {
        "id": "yjLekX4z9_nf"
      },
      "source": [
        "# start importing necessary libraries\n",
        "import torch\n",
        "import pandas as pd\n",
        "import matplotlib.pyplot as plt\n",
        "import seaborn as sns\n",
        "import numpy as np"
      ],
      "execution_count": 7,
      "outputs": []
    },
    {
      "cell_type": "code",
      "metadata": {
        "id": "pXWoWulRC_sP"
      },
      "source": [
        "# get the dataset from pytorch library\n"
      ],
      "execution_count": null,
      "outputs": []
    },
    {
      "cell_type": "code",
      "metadata": {
        "id": "Pyhba7zmBwj2"
      },
      "source": [
        ""
      ],
      "execution_count": null,
      "outputs": []
    }
  ]
}