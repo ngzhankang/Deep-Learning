{
  "nbformat": 4,
  "nbformat_minor": 0,
  "metadata": {
    "colab": {
      "name": "Assignment_1.ipynb",
      "provenance": [],
      "toc_visible": true,
      "authorship_tag": "ABX9TyNqZHUZ6tR4o1pTNEi27vx7",
      "include_colab_link": true
    },
    "kernelspec": {
      "name": "python3",
      "display_name": "Python 3"
    },
    "accelerator": "GPU"
  },
  "cells": [
    {
      "cell_type": "markdown",
      "metadata": {
        "id": "view-in-github",
        "colab_type": "text"
      },
      "source": [
        "<a href=\"https://colab.research.google.com/github/ngzhankang/Deep-Learning/blob/main/Assignment_1.ipynb\" target=\"_parent\"><img src=\"https://colab.research.google.com/assets/colab-badge.svg\" alt=\"Open In Colab\"/></a>"
      ]
    },
    {
      "cell_type": "markdown",
      "metadata": {
        "id": "cgTaLrOvB90e"
      },
      "source": [
        "# Assignment 1\n",
        "Submitted by : P1935727 Ng Zhan Kang<br>\n",
        "Class of DIT/FT/2B/11\n"
      ]
    },
    {
      "cell_type": "markdown",
      "metadata": {
        "id": "dc_pUkkFF9Lg"
      },
      "source": [
        "---\n",
        "---"
      ]
    },
    {
      "cell_type": "markdown",
      "metadata": {
        "id": "vE-S0J3BG-jO"
      },
      "source": [
        "# 1.Setting Up Working Environment In Google Colab"
      ]
    },
    {
      "cell_type": "markdown",
      "metadata": {
        "id": "dEaQJ7Rz88NW"
      },
      "source": [
        "### 1.1 Ensuring 0% Util\n",
        "\n",
        "---\n",
        "\n",
        "Ensure that our slot give by Google is not utilized yet."
      ]
    },
    {
      "cell_type": "code",
      "metadata": {
        "id": "4vU3IPB-9wF6",
        "outputId": "cb6d4b60-f22e-474a-b316-6f1928af8b3c",
        "colab": {
          "base_uri": "https://localhost:8080/"
        }
      },
      "source": [
        "# to ensure that the current gpu utilization is 0\n",
        "# memory footprint support libraries/code\n",
        "!ln -sf /opt/bin/nvidia-smi /usr/bin/nvidia-smi\n",
        "!pip install gputil\n",
        "!pip install psutil\n",
        "!pip install humanize\n",
        "import psutil\n",
        "import humanize\n",
        "import os\n",
        "import GPUtil as GPU\n",
        "GPUs = GPU.getGPUs()\n",
        "# XXX: only one GPU on Colab and isn’t guaranteed\n",
        "gpu = GPUs[0]\n",
        "def printm():\n",
        " process = psutil.Process(os.getpid())\n",
        " print(\"Gen RAM Free: \" + humanize.naturalsize( psutil.virtual_memory().available ), \" | Proc size: \" + humanize.naturalsize( process.memory_info().rss))\n",
        " print(\"GPU RAM Free: {0:.0f}MB | Used: {1:.0f}MB | Util {2:3.0f}% | Total {3:.0f}MB\".format(gpu.memoryFree, gpu.memoryUsed, gpu.memoryUtil*100, gpu.memoryTotal))\n",
        "printm() "
      ],
      "execution_count": 1,
      "outputs": [
        {
          "output_type": "stream",
          "text": [
            "Requirement already satisfied: gputil in /usr/local/lib/python3.6/dist-packages (1.4.0)\n",
            "Requirement already satisfied: psutil in /usr/local/lib/python3.6/dist-packages (5.4.8)\n",
            "Requirement already satisfied: humanize in /usr/local/lib/python3.6/dist-packages (0.5.1)\n",
            "Gen RAM Free: 12.8 GB  | Proc size: 111.6 MB\n",
            "GPU RAM Free: 15079MB | Used: 0MB | Util   0% | Total 15079MB\n"
          ],
          "name": "stdout"
        }
      ]
    },
    {
      "cell_type": "markdown",
      "metadata": {
        "id": "SWjAy1ds9Kns"
      },
      "source": [
        "### 1.2. Forcing Utils To 0%\n",
        "\n",
        "---\n",
        "\n",
        "Please do not use this step unless forced to."
      ]
    },
    {
      "cell_type": "code",
      "metadata": {
        "id": "Gqa73iPB93yZ"
      },
      "source": [
        "# if utilization is > 0, run this code(keep running this cell and the above cell till the util number is 0%):\n",
        "# NOTE THAT RUNNING THIS MIGHT KILL GPU SESSION AND RESULT IN DATA LOSS(NOT ADVICABLE TO KEEP ON REUSING)\n",
        "# !kill -9 -1"
      ],
      "execution_count": 2,
      "outputs": []
    },
    {
      "cell_type": "markdown",
      "metadata": {
        "id": "L0aYmZCq8qjQ"
      },
      "source": [
        "---\n",
        "---"
      ]
    },
    {
      "cell_type": "markdown",
      "metadata": {
        "id": "FfVnMSOFGln8"
      },
      "source": [
        "# 2.Ensuring GPU Is Utilized In Environment"
      ]
    },
    {
      "cell_type": "markdown",
      "metadata": {
        "id": "lbDAAbwSG7DN"
      },
      "source": [
        "### 2.1. See the list of available devices\n",
        "\n",
        "---\n",
        "\n",
        "This entire section can be omitted if users are not utilizing GPU at all."
      ]
    },
    {
      "cell_type": "code",
      "metadata": {
        "id": "l6OEWFOMcAM_",
        "outputId": "dc9efb8b-3a8e-48ae-b2ab-78eeaac53240",
        "colab": {
          "base_uri": "https://localhost:8080/"
        }
      },
      "source": [
        "from tensorflow.python.client import device_lib\n",
        "print(device_lib.list_local_devices())"
      ],
      "execution_count": 2,
      "outputs": [
        {
          "output_type": "stream",
          "text": [
            "[name: \"/device:CPU:0\"\n",
            "device_type: \"CPU\"\n",
            "memory_limit: 268435456\n",
            "locality {\n",
            "}\n",
            "incarnation: 13762373830761629002\n",
            ", name: \"/device:XLA_CPU:0\"\n",
            "device_type: \"XLA_CPU\"\n",
            "memory_limit: 17179869184\n",
            "locality {\n",
            "}\n",
            "incarnation: 15029062950070732463\n",
            "physical_device_desc: \"device: XLA_CPU device\"\n",
            ", name: \"/device:XLA_GPU:0\"\n",
            "device_type: \"XLA_GPU\"\n",
            "memory_limit: 17179869184\n",
            "locality {\n",
            "}\n",
            "incarnation: 12616570579967405312\n",
            "physical_device_desc: \"device: XLA_GPU device\"\n",
            ", name: \"/device:GPU:0\"\n",
            "device_type: \"GPU\"\n",
            "memory_limit: 14640891840\n",
            "locality {\n",
            "  bus_id: 1\n",
            "  links {\n",
            "  }\n",
            "}\n",
            "incarnation: 16548995636371011360\n",
            "physical_device_desc: \"device: 0, name: Tesla T4, pci bus id: 0000:00:04.0, compute capability: 7.5\"\n",
            "]\n"
          ],
          "name": "stdout"
        }
      ]
    },
    {
      "cell_type": "code",
      "metadata": {
        "id": "baot31IdcLjO",
        "outputId": "697b0f8b-1743-41d4-fd20-d9de1362ddd5",
        "colab": {
          "base_uri": "https://localhost:8080/"
        }
      },
      "source": [
        "import tensorflow as tf\n",
        "print(\"Num GPUs Available: \", len(tf.config.experimental.list_physical_devices('GPU')))"
      ],
      "execution_count": 3,
      "outputs": [
        {
          "output_type": "stream",
          "text": [
            "Num GPUs Available:  1\n"
          ],
          "name": "stdout"
        }
      ]
    },
    {
      "cell_type": "code",
      "metadata": {
        "id": "vS-gWw_jcOeh",
        "outputId": "e81563be-7015-4c48-b6c1-a99cae3c715c",
        "colab": {
          "base_uri": "https://localhost:8080/",
          "height": 35
        }
      },
      "source": [
        "tf.test.gpu_device_name()"
      ],
      "execution_count": 4,
      "outputs": [
        {
          "output_type": "execute_result",
          "data": {
            "application/vnd.google.colaboratory.intrinsic+json": {
              "type": "string"
            },
            "text/plain": [
              "'/device:GPU:0'"
            ]
          },
          "metadata": {
            "tags": []
          },
          "execution_count": 4
        }
      ]
    },
    {
      "cell_type": "markdown",
      "metadata": {
        "id": "F08LAekAHBhq"
      },
      "source": [
        "---\n",
        "---"
      ]
    },
    {
      "cell_type": "markdown",
      "metadata": {
        "id": "Id1KUxFrCnKw"
      },
      "source": [
        "# 3.About The MNIST Dataset (Background Information)"
      ]
    },
    {
      "cell_type": "markdown",
      "metadata": {
        "id": "QiQ-Uvol8ZIp"
      },
      "source": [
        "## 3.1. Background\n",
        "- The MNIST database(Modified National Institute of Standards and Technology database) history came to existence by \n",
        "- The MNIST database of handwritten digits, available from this page, has a training set of 60,000 examples, and a test set of 10,000 examples. It is a subset of a larger set available from NIST. The digits have been size-normalized and centered in a fixed-size image."
      ]
    },
    {
      "cell_type": "markdown",
      "metadata": {
        "id": "DRAg_XY2CsJ3"
      },
      "source": [
        "## 3.2. Classic MNIST Dataset\n",
        "- For this problem, use only 1 target output variable (Survived)\n",
        "- Prepare the data and perform necessary feature engineering\n",
        "- Create **_at least two models_** \n",
        "- Evaluate the models and pick the best candidate\n",
        "- Form some conclusions"
      ]
    },
    {
      "cell_type": "markdown",
      "metadata": {
        "id": "cSnt3olNIJlH"
      },
      "source": [
        "---\n",
        "---"
      ]
    },
    {
      "cell_type": "markdown",
      "metadata": {
        "id": "1-AF7n6VCwiI"
      },
      "source": [
        "# 4.Data Importing"
      ]
    },
    {
      "cell_type": "markdown",
      "metadata": {
        "id": "4xGz4pqKINfL"
      },
      "source": [
        "### 4.1. Load the libraries\n",
        "\n",
        "---\n",
        "\n",
        "Import the necessary libraries."
      ]
    },
    {
      "cell_type": "code",
      "metadata": {
        "id": "i4GavKz7CzgA"
      },
      "source": [
        "# Suppress Future Warnings\n",
        "import warnings\n",
        "warnings.filterwarnings('ignore')"
      ],
      "execution_count": 5,
      "outputs": []
    },
    {
      "cell_type": "code",
      "metadata": {
        "id": "6OMhNQRPC23r",
        "outputId": "94fc0aac-ff48-497c-e6b6-dbe59f1543f9",
        "colab": {
          "base_uri": "https://localhost:8080/"
        }
      },
      "source": [
        "# check versions of libraries we are going to use\n",
        "%tensorflow_version 2.x\n",
        "import os\n",
        "import tensorflow\n",
        "import kerastuner\n",
        "import numpy as np\n",
        "import pandas as pd\n",
        "import seaborn as sns\n",
        "import matplotlib\n",
        "import platform\n",
        "\n",
        "message=\"        Versions        \"\n",
        "print(\"*\"*len(message))\n",
        "print(message)\n",
        "print(\"*\"*len(message))\n",
        "print(\"Tensorflow version={}\".format(tensorflow.__version__))\n",
        "print(\"KerasTuner version={}\".format(kerastuner.__version__))\n",
        "print(\"Numpy version={}\".format(np.__version__))\n",
        "print(\"Pandas version={}\".format(pd.__version__))\n",
        "print(\"Seaborn version={}\".format(sns.__version__))\n",
        "print(\"Matplotlib version={}\".format(matplotlib.__version__))\n",
        "print(\"Python version={}\".format(platform.python_version()))"
      ],
      "execution_count": 6,
      "outputs": [
        {
          "output_type": "stream",
          "text": [
            "************************\n",
            "        Versions        \n",
            "************************\n",
            "Tensorflow version=2.3.0\n",
            "KerasTuner version=1.0.1\n",
            "Numpy version=1.18.5\n",
            "Pandas version=1.1.3\n",
            "Seaborn version=0.11.0\n",
            "Matplotlib version=3.2.2\n",
            "Python version=3.6.9\n"
          ],
          "name": "stdout"
        }
      ]
    },
    {
      "cell_type": "code",
      "metadata": {
        "id": "yjLekX4z9_nf"
      },
      "source": [
        "# start importing necessary libraries\n",
        "import tensorflow as tf\n",
        "from tensorflow.python.keras.models import Sequential\n",
        "from tensorflow.python.keras.layers import Dense, Conv2D, Dropout, Flatten, MaxPooling2D, Activation\n",
        "from tensorflow.python.keras.callbacks import EarlyStopping\n",
        "from kerastuner.tuners import RandomSearch\n",
        "from kerastuner.engine.hyperparameters import HyperParameters\n",
        "\n",
        "import pandas as pd\n",
        "import matplotlib.pyplot as plt\n",
        "import seaborn as sns\n",
        "import numpy as np\n",
        "\n",
        "%matplotlib inline"
      ],
      "execution_count": 7,
      "outputs": []
    },
    {
      "cell_type": "code",
      "metadata": {
        "id": "pXWoWulRC_sP"
      },
      "source": [
        "# fix random seed so that we do not see variation in accuracy each time we run thru \n",
        "seed_value = 88\n",
        "np.random.seed(seed_value)\n",
        "\n",
        "# get the dataset from keras library in tensorflow 2.0\n",
        "mnist = tf.keras.datasets.mnist\n",
        "\n",
        "# unpack the dataset to the respective x_train, y_train, x_test and y_test\n",
        "(x_train, y_train), (x_test, y_test) = mnist.load_data()"
      ],
      "execution_count": 8,
      "outputs": []
    },
    {
      "cell_type": "markdown",
      "metadata": {
        "id": "EYcgK0sTFrvZ"
      },
      "source": [
        "### 4.2. Verify the dataset\n",
        "\n",
        "---\n",
        "\n",
        "Verify the credibility of the dataset first by plotting the 1st 25 images from the training set and display the class name below each image."
      ]
    },
    {
      "cell_type": "code",
      "metadata": {
        "id": "YXCBHJQVFsGK",
        "outputId": "6b2588d4-6d61-49fa-b993-54f193d939c7",
        "colab": {
          "base_uri": "https://localhost:8080/",
          "height": 589
        }
      },
      "source": [
        "numbers = ['0','1','2','3','4','5','6','7','8','9']\n",
        "\n",
        "plt.figure(figsize=(10,10))\n",
        "for i in range(25):\n",
        "    plt.subplot(5,5,i+1)\n",
        "    plt.xticks([])\n",
        "    plt.yticks([])\n",
        "    plt.grid(False)\n",
        "    plt.imshow(x_train[i], cmap=plt.cm.binary)\n",
        "    plt.xlabel(numbers[y_train[i]], color=\"yellow\")\n",
        "plt.show()"
      ],
      "execution_count": 9,
      "outputs": [
        {
          "output_type": "display_data",
          "data": {
            "image/png": "[encoded data removed]",
            "text/plain": [
              "<Figure size 720x720 with 25 Axes>"
            ]
          },
          "metadata": {
            "tags": []
          }
        }
      ]
    },
    {
      "cell_type": "markdown",
      "metadata": {
        "id": "T6lG2VSFF7nC"
      },
      "source": [
        "<div class=\"alert alert-block alert-info\">\n",
        "    <b>Analysis Summary:</b> It seems that the labels matches all the images, which is good! Now let's carry on to get a better insight of the datatset we are going to deal with.<p>\n",
        "</div>"
      ]
    },
    {
      "cell_type": "markdown",
      "metadata": {
        "id": "ARlNpLenHMk-"
      },
      "source": [
        "---\n",
        "---"
      ]
    },
    {
      "cell_type": "markdown",
      "metadata": {
        "id": "34w33z5aHNrb"
      },
      "source": [
        "# 5.Exploratory Data Analysis"
      ]
    },
    {
      "cell_type": "markdown",
      "metadata": {
        "id": "Gkd8sWV_6oht"
      },
      "source": [
        "### 5.1. Basic Data Exploration\n",
        "\n",
        "---\n",
        "\n",
        "Take a peek look at what is inside the `x_train` and the `x_test`."
      ]
    },
    {
      "cell_type": "code",
      "metadata": {
        "id": "M5xOZA3G4HYf",
        "outputId": "f0bac56b-ed1c-44e0-fbc8-eb3b927131d5",
        "colab": {
          "base_uri": "https://localhost:8080/"
        }
      },
      "source": [
        "# take a look at the x_train set first\n",
        "print(x_train.shape)\n",
        "print(y_train.shape)"
      ],
      "execution_count": 10,
      "outputs": [
        {
          "output_type": "stream",
          "text": [
            "(60000, 28, 28)\n",
            "(60000,)\n"
          ],
          "name": "stdout"
        }
      ]
    },
    {
      "cell_type": "code",
      "metadata": {
        "id": "SR9JVfvk62fU",
        "outputId": "232c0444-c8c4-4938-e155-ac1123d31a8c",
        "colab": {
          "base_uri": "https://localhost:8080/"
        }
      },
      "source": [
        "# take a look at the x_test set\n",
        "print(x_test.shape)\n",
        "print(y_test.shape)"
      ],
      "execution_count": 11,
      "outputs": [
        {
          "output_type": "stream",
          "text": [
            "(10000, 28, 28)\n",
            "(10000,)\n"
          ],
          "name": "stdout"
        }
      ]
    },
    {
      "cell_type": "code",
      "metadata": {
        "id": "YR66TbQJ6-An",
        "outputId": "4379493a-0315-41bf-b92d-5e59662008c4",
        "colab": {
          "base_uri": "https://localhost:8080/",
          "height": 265
        }
      },
      "source": [
        "# grab a random picture to take a look\n",
        "plt.imshow(x_train[5], cmap=plt.cm.binary)\n",
        "plt.show()"
      ],
      "execution_count": 12,
      "outputs": [
        {
          "output_type": "display_data",
          "data": {
            "image/png": "[encoded data removed]",
            "text/plain": [
              "<Figure size 432x288 with 1 Axes>"
            ]
          },
          "metadata": {
            "tags": [],
            "needs_background": "light"
          }
        }
      ]
    },
    {
      "cell_type": "code",
      "metadata": {
        "id": "qQeHiDS47ZVw",
        "outputId": "6c258c18-4e1d-4668-8a4e-65bcab17168b",
        "colab": {
          "base_uri": "https://localhost:8080/"
        }
      },
      "source": [
        "# get the distinct lables that are found in the entire thing\n",
        "print('Training set unique labels:',np.unique(y_train))\n",
        "print('Test set unique labels:',np.unique(y_test))"
      ],
      "execution_count": 13,
      "outputs": [
        {
          "output_type": "stream",
          "text": [
            "Training set unique labels: [0 1 2 3 4 5 6 7 8 9]\n",
            "Test set unique labels: [0 1 2 3 4 5 6 7 8 9]\n"
          ],
          "name": "stdout"
        }
      ]
    },
    {
      "cell_type": "code",
      "metadata": {
        "id": "s94V4iGA6IgO",
        "outputId": "84ba9dcf-f1e1-43c1-9c5d-de5c4dfa7187",
        "colab": {
          "base_uri": "https://localhost:8080/"
        }
      },
      "source": [
        "# get the count of the values from 0 to 9\n",
        "unique, counts = np.unique(y_train, return_counts=True)\n",
        "print(np.asarray((unique, counts)).T)"
      ],
      "execution_count": 14,
      "outputs": [
        {
          "output_type": "stream",
          "text": [
            "[[   0 5923]\n",
            " [   1 6742]\n",
            " [   2 5958]\n",
            " [   3 6131]\n",
            " [   4 5842]\n",
            " [   5 5421]\n",
            " [   6 5918]\n",
            " [   7 6265]\n",
            " [   8 5851]\n",
            " [   9 5949]]\n"
          ],
          "name": "stdout"
        }
      ]
    },
    {
      "cell_type": "markdown",
      "metadata": {
        "id": "UPO-4wQGHnq-"
      },
      "source": [
        "---\n",
        "---"
      ]
    },
    {
      "cell_type": "markdown",
      "metadata": {
        "id": "8e7cOjDtHrpd"
      },
      "source": [
        "# 6.Feature Engineering"
      ]
    },
    {
      "cell_type": "markdown",
      "metadata": {
        "id": "MpE9BpXTIbsN"
      },
      "source": [
        "### 6.1. Changing Dimension To Match Keras Expectation\n",
        "\n",
        "---\n",
        "\n",
        "Reshape `x_train` and `x_test` to 4 dimensional array for the convolutional layer later on."
      ]
    },
    {
      "cell_type": "code",
      "metadata": {
        "id": "yrcpIcCiIF6k",
        "outputId": "5d6ab6bd-ddf1-43c4-87ef-edf72ae7cd3e",
        "colab": {
          "base_uri": "https://localhost:8080/"
        }
      },
      "source": [
        "# see the shape of x_train and x_test first\n",
        "print('x_train shape:', x_train.shape)\n",
        "print(x_train.shape[0], 'train samples')\n",
        "print(x_test.shape[0], 'test samples')"
      ],
      "execution_count": 15,
      "outputs": [
        {
          "output_type": "stream",
          "text": [
            "x_train shape: (60000, 28, 28)\n",
            "60000 train samples\n",
            "10000 test samples\n"
          ],
          "name": "stdout"
        }
      ]
    },
    {
      "cell_type": "code",
      "metadata": {
        "id": "UUNk_StCNAN-"
      },
      "source": [
        "# flatten 28*28 images to a 784 vector for each image\n",
        "num_pixels = x_train.shape[1] * x_train.shape[2]\n",
        "x_train = x_train.reshape(x_train.shape[0], num_pixels).astype('float32')\n",
        "x_test = x_test.reshape(x_test.shape[0], num_pixels).astype('float32')"
      ],
      "execution_count": 16,
      "outputs": []
    },
    {
      "cell_type": "code",
      "metadata": {
        "id": "SdhRaVB9Ifje",
        "outputId": "cf2a5ce7-a60f-4afc-f991-67a0f8e2bc23",
        "colab": {
          "base_uri": "https://localhost:8080/"
        }
      },
      "source": [
        "# see the changes\n",
        "print('New x_train shape:', x_train.shape)\n",
        "print(x_train.shape[0], 'train samples')\n",
        "print(x_test.shape[0], 'test samples')"
      ],
      "execution_count": 17,
      "outputs": [
        {
          "output_type": "stream",
          "text": [
            "New x_train shape: (60000, 784)\n",
            "60000 train samples\n",
            "10000 test samples\n"
          ],
          "name": "stdout"
        }
      ]
    },
    {
      "cell_type": "markdown",
      "metadata": {
        "id": "I6PR8lUGIjf7"
      },
      "source": [
        "### 6.2. Normalize Training Data\n",
        "\n",
        "---\n",
        "\n",
        "Normalize the entire training dataset so that there is not much variation."
      ]
    },
    {
      "cell_type": "code",
      "metadata": {
        "id": "dxgG6lH8Igxn"
      },
      "source": [
        "# attempt to normalize the entire dataset first from 0-255 to 0-1\n",
        "x_train = x_train / 255\n",
        "x_test = x_test / 255"
      ],
      "execution_count": 18,
      "outputs": []
    },
    {
      "cell_type": "markdown",
      "metadata": {
        "id": "hejHzHbJJslI"
      },
      "source": [
        "### 6.3. Convert To Categorical Data\n",
        "\n",
        "---\n",
        "\n",
        "Convert the labels to categorical data as we do not want the model to think 9 has a higher priority than 0."
      ]
    },
    {
      "cell_type": "code",
      "metadata": {
        "id": "vxob5JCdJpem",
        "outputId": "ee885bd4-0f6e-4eb1-98a2-560145ea7781",
        "colab": {
          "base_uri": "https://localhost:8080/"
        }
      },
      "source": [
        "# see what does actually 1 label for the training dataset looks like in a numpy array\n",
        "# get the one from the 1st image\n",
        "print(y_train[0])"
      ],
      "execution_count": 19,
      "outputs": [
        {
          "output_type": "stream",
          "text": [
            "5\n"
          ],
          "name": "stdout"
        }
      ]
    },
    {
      "cell_type": "code",
      "metadata": {
        "id": "lK0AsKgsJvcw",
        "outputId": "228c252e-a5db-4576-b3ea-4e2b204285c1",
        "colab": {
          "base_uri": "https://localhost:8080/"
        }
      },
      "source": [
        "# see what does actually 1 label for the test dataset looks like in a numpy array\n",
        "# get the one from the 1st image\n",
        "print(y_test[0])"
      ],
      "execution_count": 20,
      "outputs": [
        {
          "output_type": "stream",
          "text": [
            "7\n"
          ],
          "name": "stdout"
        }
      ]
    },
    {
      "cell_type": "code",
      "metadata": {
        "id": "JdB5ywKlJwZs"
      },
      "source": [
        "# use to_categorical to convert the training and testing dataset labels\n",
        "y_train = tf.keras.utils.to_categorical(y_train)\n",
        "y_test = tf.keras.utils.to_categorical(y_test)\n",
        "num_classes = y_test.shape[1]"
      ],
      "execution_count": 21,
      "outputs": []
    },
    {
      "cell_type": "code",
      "metadata": {
        "id": "58s_zZ4hJxne",
        "outputId": "db634a26-1321-4147-d02d-889ef875245c",
        "colab": {
          "base_uri": "https://localhost:8080/"
        }
      },
      "source": [
        "# now lets check again the training dataset labels\n",
        "print(y_train[0])"
      ],
      "execution_count": 22,
      "outputs": [
        {
          "output_type": "stream",
          "text": [
            "[0. 0. 0. 0. 0. 1. 0. 0. 0. 0.]\n"
          ],
          "name": "stdout"
        }
      ]
    },
    {
      "cell_type": "code",
      "metadata": {
        "id": "_BZ0M7vUJyqW",
        "outputId": "61760e43-00b5-4a77-faf1-a35427f5a0f3",
        "colab": {
          "base_uri": "https://localhost:8080/"
        }
      },
      "source": [
        "# now lets check again the testing dataset labels\n",
        "print(y_test[0])"
      ],
      "execution_count": 23,
      "outputs": [
        {
          "output_type": "stream",
          "text": [
            "[0. 0. 0. 0. 0. 0. 0. 1. 0. 0.]\n"
          ],
          "name": "stdout"
        }
      ]
    },
    {
      "cell_type": "markdown",
      "metadata": {
        "id": "mBvx1V2rJ0pt"
      },
      "source": [
        "---\n",
        "---"
      ]
    },
    {
      "cell_type": "markdown",
      "metadata": {
        "id": "rCdKpcVDJ2uP"
      },
      "source": [
        "# 7.Models"
      ]
    },
    {
      "cell_type": "markdown",
      "metadata": {
        "id": "zSE3k8H-J43K"
      },
      "source": [
        "### 7.1. Baseline Model\n",
        "\n",
        "---\n",
        "\n",
        "First, we will setup a baseline model first using Keras Sequential Model."
      ]
    },
    {
      "cell_type": "code",
      "metadata": {
        "id": "H5ZgkP_2Jzp0",
        "outputId": "fa6525ea-f6dc-4783-929e-a6ceff8985b8",
        "colab": {
          "base_uri": "https://localhost:8080/"
        }
      },
      "source": [
        "# create model and give it a name\n",
        "model = Sequential(name=\"baseline_model_sequential\")\n",
        "\n",
        "# add 1st fully connected layer (hidden layer)\n",
        "model.add(Dense(num_pixels, input_dim=num_pixels, kernel_initializer='normal', activation='relu'))\n",
        "\n",
        "# add 2nd fully connected layer (hidden layer)\n",
        "model.add(Dense(256,  kernel_initializer='normal', activation=tf.nn.relu))\n",
        "\n",
        "# add 3rd fully connected layer (hidden layer)\n",
        "model.add(Dense(128,  kernel_initializer='normal', activation=tf.nn.relu))\n",
        "model.add(Dropout(0.5)) # add a dropout layer to drop out some neurons during training to prevent overfitting\n",
        "\n",
        "# add output layer\n",
        "model.add(Dense(num_classes, kernel_initializer='normal', activation=tf.nn.softmax))\n",
        "\n",
        "# model summary\n",
        "model.summary()"
      ],
      "execution_count": 24,
      "outputs": [
        {
          "output_type": "stream",
          "text": [
            "Model: \"baseline_model_sequential\"\n",
            "_________________________________________________________________\n",
            "Layer (type)                 Output Shape              Param #   \n",
            "=================================================================\n",
            "dense (Dense)                (None, 784)               615440    \n",
            "_________________________________________________________________\n",
            "dense_1 (Dense)              (None, 256)               200960    \n",
            "_________________________________________________________________\n",
            "dense_2 (Dense)              (None, 128)               32896     \n",
            "_________________________________________________________________\n",
            "dropout (Dropout)            (None, 128)               0         \n",
            "_________________________________________________________________\n",
            "dense_3 (Dense)              (None, 10)                1290      \n",
            "=================================================================\n",
            "Total params: 850,586\n",
            "Trainable params: 850,586\n",
            "Non-trainable params: 0\n",
            "_________________________________________________________________\n"
          ],
          "name": "stdout"
        }
      ]
    },
    {
      "cell_type": "code",
      "metadata": {
        "id": "AEf6RDMSSQUU",
        "outputId": "626be5aa-a729-4300-ebf5-704ec09506f6",
        "colab": {
          "base_uri": "https://localhost:8080/"
        }
      },
      "source": [
        "# time to optimise the empty baseline model(an empty shell basically) and fit it with our training dataset\n",
        "# passing params into the newly created model and compile it\n",
        "model.compile(optimizer='adam',\n",
        "             loss='categorical_crossentropy',\n",
        "             metrics=['accuracy'])\n",
        "\n",
        "# train the model\n",
        "history = model.fit(x_train, y_train, validation_split=0.2, epochs=15, batch_size=200, verbose=1)"
      ],
      "execution_count": 25,
      "outputs": [
        {
          "output_type": "stream",
          "text": [
            "Epoch 1/15\n",
            "240/240 [==============================] - 1s 4ms/step - loss: 0.3996 - accuracy: 0.8821 - val_loss: 0.1409 - val_accuracy: 0.9588\n",
            "Epoch 2/15\n",
            "240/240 [==============================] - 1s 4ms/step - loss: 0.1351 - accuracy: 0.9609 - val_loss: 0.1069 - val_accuracy: 0.9688\n",
            "Epoch 3/15\n",
            "240/240 [==============================] - 1s 4ms/step - loss: 0.0894 - accuracy: 0.9737 - val_loss: 0.0863 - val_accuracy: 0.9747\n",
            "Epoch 4/15\n",
            "240/240 [==============================] - 1s 4ms/step - loss: 0.0608 - accuracy: 0.9822 - val_loss: 0.0837 - val_accuracy: 0.9764\n",
            "Epoch 5/15\n",
            "240/240 [==============================] - 1s 4ms/step - loss: 0.0455 - accuracy: 0.9864 - val_loss: 0.0825 - val_accuracy: 0.9769\n",
            "Epoch 6/15\n",
            "240/240 [==============================] - 1s 4ms/step - loss: 0.0343 - accuracy: 0.9893 - val_loss: 0.0813 - val_accuracy: 0.9786\n",
            "Epoch 7/15\n",
            "240/240 [==============================] - 1s 4ms/step - loss: 0.0277 - accuracy: 0.9917 - val_loss: 0.0848 - val_accuracy: 0.9781\n",
            "Epoch 8/15\n",
            "240/240 [==============================] - 1s 4ms/step - loss: 0.0231 - accuracy: 0.9928 - val_loss: 0.0940 - val_accuracy: 0.9764\n",
            "Epoch 9/15\n",
            "240/240 [==============================] - 1s 4ms/step - loss: 0.0206 - accuracy: 0.9937 - val_loss: 0.1089 - val_accuracy: 0.9751\n",
            "Epoch 10/15\n",
            "240/240 [==============================] - 1s 4ms/step - loss: 0.0142 - accuracy: 0.9951 - val_loss: 0.0944 - val_accuracy: 0.9792\n",
            "Epoch 11/15\n",
            "240/240 [==============================] - 1s 4ms/step - loss: 0.0183 - accuracy: 0.9944 - val_loss: 0.0968 - val_accuracy: 0.9776\n",
            "Epoch 12/15\n",
            "240/240 [==============================] - 1s 4ms/step - loss: 0.0180 - accuracy: 0.9947 - val_loss: 0.1056 - val_accuracy: 0.9773\n",
            "Epoch 13/15\n",
            "240/240 [==============================] - 1s 4ms/step - loss: 0.0106 - accuracy: 0.9964 - val_loss: 0.0992 - val_accuracy: 0.9797\n",
            "Epoch 14/15\n",
            "240/240 [==============================] - 1s 4ms/step - loss: 0.0114 - accuracy: 0.9962 - val_loss: 0.1071 - val_accuracy: 0.9774\n",
            "Epoch 15/15\n",
            "240/240 [==============================] - 1s 4ms/step - loss: 0.0101 - accuracy: 0.9971 - val_loss: 0.1077 - val_accuracy: 0.9783\n"
          ],
          "name": "stdout"
        }
      ]
    },
    {
      "cell_type": "code",
      "metadata": {
        "id": "G7mw9nVaSpnz",
        "outputId": "69ad59bc-a6ef-41b7-88c3-b0b6d1fc4c54",
        "colab": {
          "base_uri": "https://localhost:8080/"
        }
      },
      "source": [
        "#print the available history keys for use\n",
        "print(history.history.keys()) "
      ],
      "execution_count": 26,
      "outputs": [
        {
          "output_type": "stream",
          "text": [
            "dict_keys(['loss', 'accuracy', 'val_loss', 'val_accuracy'])\n"
          ],
          "name": "stdout"
        }
      ]
    },
    {
      "cell_type": "code",
      "metadata": {
        "id": "8bB9_0TEVuD5",
        "outputId": "8f939bb3-5980-42b4-8d82-dba78cf8ead8",
        "colab": {
          "base_uri": "https://localhost:8080/",
          "height": 295
        }
      },
      "source": [
        "# plot a accuracy and validation loss graph to see the training and validation loss at each epoch\n",
        "loss = history.history['loss']\n",
        "val_loss = history.history['val_loss']\n",
        "epochs = range(1, len(loss) + 1)\n",
        "plt.plot(epochs, loss, 'y', label='Training loss')\n",
        "plt.plot(epochs, val_loss, 'r', label='Validation loss')\n",
        "plt.title('Training and validation loss')\n",
        "plt.xlabel('Epochs')\n",
        "plt.ylabel('Loss')\n",
        "plt.legend()\n",
        "plt.show()"
      ],
      "execution_count": 27,
      "outputs": [
        {
          "output_type": "display_data",
          "data": {
            "image/png": "[encoded data removed]",
            "text/plain": [
              "<Figure size 432x288 with 1 Axes>"
            ]
          },
          "metadata": {
            "tags": [],
            "needs_background": "light"
          }
        }
      ]
    },
    {
      "cell_type": "code",
      "metadata": {
        "id": "oerF-J2eWMON",
        "outputId": "424c2196-1c41-41ba-9df4-57ce609d9ffb",
        "colab": {
          "base_uri": "https://localhost:8080/",
          "height": 295
        }
      },
      "source": [
        "# plot a accuracy and validation accuracy graph to see the training and validation accuracy at each epoch\n",
        "accuracy = history.history['accuracy']\n",
        "val_accuracy = history.history['val_accuracy']\n",
        "plt.plot(epochs, accuracy, 'y', label='Training Accuracy')\n",
        "plt.plot(epochs, val_accuracy, 'r', label='Validation Accuracy')\n",
        "plt.title('Training and validation accuracy')\n",
        "plt.xlabel('Epochs')\n",
        "plt.ylabel('Accuracy')\n",
        "plt.legend()\n",
        "plt.show()"
      ],
      "execution_count": 28,
      "outputs": [
        {
          "output_type": "display_data",
          "data": {
            "image/png": "[encoded data removed]",
            "text/plain": [
              "<Figure size 432x288 with 1 Axes>"
            ]
          },
          "metadata": {
            "tags": [],
            "needs_background": "light"
          }
        }
      ]
    },
    {
      "cell_type": "markdown",
      "metadata": {
        "id": "Xco3EGc2WPTi"
      },
      "source": [
        "### 7.2. CNN Model\n",
        "\n",
        "---\n",
        "\n",
        "Next, we will setup a CNN Model."
      ]
    },
    {
      "cell_type": "code",
      "metadata": {
        "id": "K5yWrRR7Obm3",
        "outputId": "c25c4fae-1d77-4b7f-8d96-d56175393629",
        "colab": {
          "base_uri": "https://localhost:8080/"
        }
      },
      "source": [
        "# create model and give it a name\n",
        "model = Sequential(name=\"cnn_model_sequential\")\n",
        "\n",
        "# add 1st convolutional layer\n",
        "input_shape = (28, 28, 1) # declare input_shape as this is the 1st layer\n",
        "model.add(Conv2D(32, kernel_size=(3,3), input_shape=input_shape, kernel_initializer='he_uniform', activation='relu'))\n",
        "model.add(MaxPooling2D((2,2))) # add in a maxpooling 2d layer to reduce conputational complexity and overfitting\n",
        "          \n",
        "# add 2nd convolutional layer\n",
        "model.add(Conv2D(32, kernel_size=3, activation='relu'))\n",
        "model.add(MaxPooling2D((2,2))) # add in a maxpooling 2d layer to reduce conputational complexity and overfitting       \n",
        "          \n",
        "# add flatten layer\n",
        "model.add(Flatten()) # flatten prev 2d layer output to extract source from image for fully connected layers\n",
        "\n",
        "# add 1st fully connected layer (hidden layer)\n",
        "model.add(Dense(128))\n",
        "model.add(Dropout(0.5)) # add a dropout layer to drop out some neurons during training to prevent overfitting\n",
        "model.add(Activation('relu')) #dropout before activation function in fully connnect layers\n",
        "\n",
        "# add 2nd fully connected layer (hidden layer)\n",
        "model.add(Dense(50))\n",
        "model.add(Dropout(0.5)) # add a dropout layer to drop out some neurons during training to prevent overfitting\n",
        "model.add(Activation('relu')) #dropout before activation function in fully connnect layers\n",
        "          \n",
        "# add output layer\n",
        "model.add(Dense(10, activation=tf.nn.softmax)) # output layer(10 neurons as we only have 10 numbers(0 to 9))       \n",
        "          \n",
        "# get model summary\n",
        "model.summary()"
      ],
      "execution_count": 27,
      "outputs": [
        {
          "output_type": "stream",
          "text": [
            "Model: \"cnn_model_sequential\"\n",
            "_________________________________________________________________\n",
            "Layer (type)                 Output Shape              Param #   \n",
            "=================================================================\n",
            "conv2d (Conv2D)              (None, 26, 26, 32)        320       \n",
            "_________________________________________________________________\n",
            "max_pooling2d (MaxPooling2D) (None, 13, 13, 32)        0         \n",
            "_________________________________________________________________\n",
            "conv2d_1 (Conv2D)            (None, 11, 11, 32)        9248      \n",
            "_________________________________________________________________\n",
            "max_pooling2d_1 (MaxPooling2 (None, 5, 5, 32)          0         \n",
            "_________________________________________________________________\n",
            "flatten (Flatten)            (None, 800)               0         \n",
            "_________________________________________________________________\n",
            "dense (Dense)                (None, 128)               102528    \n",
            "_________________________________________________________________\n",
            "dropout (Dropout)            (None, 128)               0         \n",
            "_________________________________________________________________\n",
            "activation (Activation)      (None, 128)               0         \n",
            "_________________________________________________________________\n",
            "dense_1 (Dense)              (None, 50)                6450      \n",
            "_________________________________________________________________\n",
            "dropout_1 (Dropout)          (None, 50)                0         \n",
            "_________________________________________________________________\n",
            "activation_1 (Activation)    (None, 50)                0         \n",
            "_________________________________________________________________\n",
            "dense_2 (Dense)              (None, 10)                510       \n",
            "=================================================================\n",
            "Total params: 119,056\n",
            "Trainable params: 119,056\n",
            "Non-trainable params: 0\n",
            "_________________________________________________________________\n"
          ],
          "name": "stdout"
        }
      ]
    },
    {
      "cell_type": "code",
      "metadata": {
        "id": "sLLKlKi-ewsG"
      },
      "source": [
        "# reshape x_train and x_test to (n_images, x_shape, y_shape, channels)\n",
        "# we are going to make chanels be 1 as we are not dealing with rgb images.\n",
        "x_train = x_train.reshape(x_train.shape[0], 28, 28, 1)\n",
        "x_test = x_test.reshape(x_test.shape[0], 28, 28, 1)"
      ],
      "execution_count": 28,
      "outputs": []
    },
    {
      "cell_type": "code",
      "metadata": {
        "id": "6OpTrZNAeqK4",
        "outputId": "4b814197-5858-48fd-c4d9-50c55d35066b",
        "colab": {
          "base_uri": "https://localhost:8080/"
        }
      },
      "source": [
        "# time to optimise the empty CNN model(an empty shell basically) and fit it with our training dataset\n",
        "# passing params into the newly created model and compile it\n",
        "model.compile(optimizer='adam',\n",
        "             loss='categorical_crossentropy',\n",
        "             metrics=['accuracy'])\n",
        "\n",
        "# train the model\n",
        "history = model.fit(x_train,y_train, validation_split=0.2, epochs=15, verbose=1, callbacks=[EarlyStopping(monitor='loss', patience=2)])"
      ],
      "execution_count": 29,
      "outputs": [
        {
          "output_type": "stream",
          "text": [
            "Epoch 1/15\n",
            "1500/1500 [==============================] - 5s 4ms/step - loss: 0.4536 - accuracy: 0.8597 - val_loss: 0.0817 - val_accuracy: 0.9781\n",
            "Epoch 2/15\n",
            "1500/1500 [==============================] - 5s 4ms/step - loss: 0.1692 - accuracy: 0.9561 - val_loss: 0.0641 - val_accuracy: 0.9836\n",
            "Epoch 3/15\n",
            "1500/1500 [==============================] - 5s 4ms/step - loss: 0.1195 - accuracy: 0.9692 - val_loss: 0.0598 - val_accuracy: 0.9850\n",
            "Epoch 4/15\n",
            "1500/1500 [==============================] - 5s 3ms/step - loss: 0.1058 - accuracy: 0.9735 - val_loss: 0.0480 - val_accuracy: 0.9875\n",
            "Epoch 5/15\n",
            "1500/1500 [==============================] - 6s 4ms/step - loss: 0.0863 - accuracy: 0.9782 - val_loss: 0.0446 - val_accuracy: 0.9887\n",
            "Epoch 6/15\n",
            "1500/1500 [==============================] - 5s 4ms/step - loss: 0.0756 - accuracy: 0.9809 - val_loss: 0.0538 - val_accuracy: 0.9874\n",
            "Epoch 7/15\n",
            "1500/1500 [==============================] - 5s 4ms/step - loss: 0.0639 - accuracy: 0.9840 - val_loss: 0.0518 - val_accuracy: 0.9893\n",
            "Epoch 8/15\n",
            "1500/1500 [==============================] - 5s 4ms/step - loss: 0.0633 - accuracy: 0.9841 - val_loss: 0.0559 - val_accuracy: 0.9885\n",
            "Epoch 9/15\n",
            "1500/1500 [==============================] - 5s 4ms/step - loss: 0.0592 - accuracy: 0.9837 - val_loss: 0.0490 - val_accuracy: 0.9897\n",
            "Epoch 10/15\n",
            "1500/1500 [==============================] - 5s 4ms/step - loss: 0.0548 - accuracy: 0.9850 - val_loss: 0.0465 - val_accuracy: 0.9900\n",
            "Epoch 11/15\n",
            "1500/1500 [==============================] - 5s 4ms/step - loss: 0.0467 - accuracy: 0.9873 - val_loss: 0.0504 - val_accuracy: 0.9908\n",
            "Epoch 12/15\n",
            "1500/1500 [==============================] - 6s 4ms/step - loss: 0.0459 - accuracy: 0.9877 - val_loss: 0.0445 - val_accuracy: 0.9908\n",
            "Epoch 13/15\n",
            "1500/1500 [==============================] - 5s 4ms/step - loss: 0.0421 - accuracy: 0.9885 - val_loss: 0.0529 - val_accuracy: 0.9903\n",
            "Epoch 14/15\n",
            "1500/1500 [==============================] - 5s 3ms/step - loss: 0.0395 - accuracy: 0.9893 - val_loss: 0.0617 - val_accuracy: 0.9897\n",
            "Epoch 15/15\n",
            "1500/1500 [==============================] - 5s 4ms/step - loss: 0.0398 - accuracy: 0.9896 - val_loss: 0.0643 - val_accuracy: 0.9898\n"
          ],
          "name": "stdout"
        }
      ]
    },
    {
      "cell_type": "code",
      "metadata": {
        "id": "9z8RTDNDfwLs",
        "outputId": "b39f7e85-1307-4930-af7b-c11a9fb502d2",
        "colab": {
          "base_uri": "https://localhost:8080/"
        }
      },
      "source": [
        "#print the available history keys for use\n",
        "print(history.history.keys()) "
      ],
      "execution_count": 30,
      "outputs": [
        {
          "output_type": "stream",
          "text": [
            "dict_keys(['loss', 'accuracy', 'val_loss', 'val_accuracy'])\n"
          ],
          "name": "stdout"
        }
      ]
    },
    {
      "cell_type": "code",
      "metadata": {
        "id": "8aT0rv8Tf0WC",
        "outputId": "abb984b3-e067-4736-9b99-c13dc4cb6e1f",
        "colab": {
          "base_uri": "https://localhost:8080/",
          "height": 295
        }
      },
      "source": [
        "# plot a accuracy and validation loss graph to see the training and validation loss at each epoch\n",
        "loss = history.history['loss']\n",
        "val_loss = history.history['val_loss']\n",
        "epochs = range(1, len(loss) + 1)\n",
        "plt.plot(epochs, loss, 'y', label='Training loss')\n",
        "plt.plot(epochs, val_loss, 'r', label='Validation loss')\n",
        "plt.title('Training and validation loss')\n",
        "plt.xlabel('Epochs')\n",
        "plt.ylabel('Loss')\n",
        "plt.legend()\n",
        "plt.show()"
      ],
      "execution_count": 31,
      "outputs": [
        {
          "output_type": "display_data",
          "data": {
            "image/png": "[encoded data removed]",
            "text/plain": [
              "<Figure size 432x288 with 1 Axes>"
            ]
          },
          "metadata": {
            "tags": [],
            "needs_background": "light"
          }
        }
      ]
    },
    {
      "cell_type": "code",
      "metadata": {
        "id": "KSJNdv7nf3QY",
        "outputId": "16cecca5-acf5-4563-e3bb-78a06e36d2b9",
        "colab": {
          "base_uri": "https://localhost:8080/",
          "height": 295
        }
      },
      "source": [
        "# plot a accuracy and validation accuracy graph to see the training and validation accuracy at each epoch\n",
        "accuracy = history.history['accuracy']\n",
        "val_accuracy = history.history['val_accuracy']\n",
        "plt.plot(epochs, accuracy, 'y', label='Training Accuracy')\n",
        "plt.plot(epochs, val_accuracy, 'r', label='Validation Accuracy')\n",
        "plt.title('Training and validation accuracy')\n",
        "plt.xlabel('Epochs')\n",
        "plt.ylabel('Accuracy')\n",
        "plt.legend()\n",
        "plt.show()"
      ],
      "execution_count": 32,
      "outputs": [
        {
          "output_type": "display_data",
          "data": {
            "image/png": "[encoded data removed]",
            "text/plain": [
              "<Figure size 432x288 with 1 Axes>"
            ]
          },
          "metadata": {
            "tags": [],
            "needs_background": "light"
          }
        }
      ]
    },
    {
      "cell_type": "markdown",
      "metadata": {
        "id": "Il5MVQPrXIGb"
      },
      "source": [
        "---\n",
        "---"
      ]
    },
    {
      "cell_type": "markdown",
      "metadata": {
        "id": "IjU3M0fUWcX5"
      },
      "source": [
        "# 8.Test Accuracy, Loss And Results"
      ]
    },
    {
      "cell_type": "markdown",
      "metadata": {
        "id": "Gd6G1OH4WhAv"
      },
      "source": [
        "### 8.1. Baseline Model Result\n",
        "\n",
        "---\n",
        "\n",
        "Get the result for the baseline model."
      ]
    },
    {
      "cell_type": "code",
      "metadata": {
        "id": "tnmmCdUzWdsk",
        "outputId": "5caee690-a8ab-43ac-d5cf-d30fc61c2bb5",
        "colab": {
          "base_uri": "https://localhost:8080/"
        }
      },
      "source": [
        "# now we shall evaluate the model and see the accuracy\n",
        "score = model.evaluate(x_test,y_test, verbose=1)\n",
        "print(\"Test loss:\", score[0])\n",
        "print(\"Test accuracy:\", score[1])\n",
        "print(\"BaseLine Model Error: %.2f%%\" % (100-score[1]*100))"
      ],
      "execution_count": 29,
      "outputs": [
        {
          "output_type": "stream",
          "text": [
            "313/313 [==============================] - 1s 3ms/step - loss: 0.0928 - accuracy: 0.9803\n",
            "Test loss: 0.09280066192150116\n",
            "Test accuracy: 0.9803000092506409\n",
            "BaseLine Model Error: 1.97%\n"
          ],
          "name": "stdout"
        }
      ]
    },
    {
      "cell_type": "code",
      "metadata": {
        "id": "hRjW__19ZQGK",
        "outputId": "2c125b34-0822-4562-91d4-bcad36ac44f9",
        "colab": {
          "base_uri": "https://localhost:8080/",
          "height": 298
        }
      },
      "source": [
        "# get a random index which we will use it to see what number it is from the test dataset(it shld be a number all the way to 60,000)\n",
        "image_index = 8\n",
        "\n",
        "# see what image it is first\n",
        "plt.imshow(x_test[image_index].reshape(28, 28),cmap=plt.cm.binary) # visually, we identify the number as 6\n",
        "# see the actual label\n",
        "actual_label = (y_test[image_index])\n",
        "print('Actual Label:', actual_label)\n",
        "\n",
        "# now lets try to feed the image_index into x_test and feed it into the trained model\n",
        "pred = model.predict(x_test[image_index].reshape(1,-1)) # changing it to a 1d array first\n",
        "print('Predicted Number:', pred.argmax()) # print out the result"
      ],
      "execution_count": 30,
      "outputs": [
        {
          "output_type": "stream",
          "text": [
            "Actual Label: [0. 0. 0. 0. 0. 1. 0. 0. 0. 0.]\n",
            "Predicted Number: 6\n"
          ],
          "name": "stdout"
        },
        {
          "output_type": "display_data",
          "data": {
            "image/png": "[encoded data removed]",
            "text/plain": [
              "<Figure size 432x288 with 1 Axes>"
            ]
          },
          "metadata": {
            "tags": [],
            "needs_background": "light"
          }
        }
      ]
    },
    {
      "cell_type": "markdown",
      "metadata": {
        "id": "hMwQ_4HMeoLN"
      },
      "source": [
        "### 8.2. CNN Model Result\n",
        "\n",
        "---\n",
        "\n",
        "Get the result for the CNN model."
      ]
    },
    {
      "cell_type": "code",
      "metadata": {
        "id": "yGcNmEGEf8I0",
        "outputId": "827ece0e-4979-4993-af36-de8a7a13159a",
        "colab": {
          "base_uri": "https://localhost:8080/"
        }
      },
      "source": [
        "# now we shall evaluate the model and see the accuracy\n",
        "score = model.evaluate(x_test,y_test)\n",
        "print(\"Test loss:\", score[0])\n",
        "print(\"Test accuracy:\", score[1])\n",
        "print(\"CNN Model Error: %.2f%%\" % (100-score[1]*100))"
      ],
      "execution_count": 33,
      "outputs": [
        {
          "output_type": "stream",
          "text": [
            "313/313 [==============================] - 1s 3ms/step - loss: 0.0617 - accuracy: 0.9883\n",
            "Test loss: 0.06170579791069031\n",
            "Test accuracy: 0.9883000254631042\n",
            "CNN Model Error: 1.17%\n"
          ],
          "name": "stdout"
        }
      ]
    },
    {
      "cell_type": "code",
      "metadata": {
        "id": "9tXbqxbpgETQ",
        "outputId": "509ecafa-958e-4ca1-cf3c-49e6eeb2a529",
        "colab": {
          "base_uri": "https://localhost:8080/",
          "height": 298
        }
      },
      "source": [
        "# from the above result, we can see that we got an accuracy of 96.7% and a loss of 10.7%, which is not bad but can be better improved.\n",
        "# now we shall try to make individual predictions.\n",
        "\n",
        "# get a random index which we will use it to see what number it is from the test dataset(it shld be a number all the way to 60,000)\n",
        "image_index = 8\n",
        "\n",
        "# see what image it is first\n",
        "plt.imshow(x_test[image_index].reshape(28, 28),cmap=plt.cm.binary) # visually, we identify the number as 6\n",
        "# see the actual label\n",
        "actual_label = (y_test[image_index])\n",
        "print('Actual Label:', actual_label)\n",
        "\n",
        "# now lets try to feed the image_index into x_test and feed it into the trained model\n",
        "pred = model.predict(x_test[image_index].reshape(1, 28, 28, 1))\n",
        "print('Predicted Number:', pred.argmax()) # print out the result"
      ],
      "execution_count": 34,
      "outputs": [
        {
          "output_type": "stream",
          "text": [
            "Actual Label: [0. 0. 0. 0. 0. 1. 0. 0. 0. 0.]\n",
            "Predicted Number: 5\n"
          ],
          "name": "stdout"
        },
        {
          "output_type": "display_data",
          "data": {
            "image/png": "[encoded data removed]",
            "text/plain": [
              "<Figure size 432x288 with 1 Axes>"
            ]
          },
          "metadata": {
            "tags": [],
            "needs_background": "light"
          }
        }
      ]
    },
    {
      "cell_type": "markdown",
      "metadata": {
        "id": "5PIPpo7sbNRE"
      },
      "source": [
        "---\n",
        "---"
      ]
    },
    {
      "cell_type": "markdown",
      "metadata": {
        "id": "fuJ322WcbQBu"
      },
      "source": [
        "# 9.References"
      ]
    },
    {
      "cell_type": "markdown",
      "metadata": {
        "id": "8WQh8SimbTVS"
      },
      "source": [
        "## Using Google Colab More Efficiently\n",
        "- [Getting the Most Out of Your Google Colab (Tutorial)](https://medium.com/@oribarel/getting-the-most-out-of-your-google-colab-2b0585f82403)\n",
        "- [Using Google Colab with GitHub](https://colab.research.google.com/github/googlecolab/colabtools/blob/master/notebooks/colab-github-demo.ipynb)\n",
        "\n",
        "## Background Research\n",
        "\n",
        "## Selecting CNN Architecture\n",
        "- [Top 10 CNN Architecture](https://towardsdatascience.com/illustrated-10-cnn-architectures-95d78ace614d#676b)\n",
        "- [AlexNet: The Architecture that Challenged CNNs](https://towardsdatascience.com/alexnet-the-architecture-that-challenged-cnns-e406d5297951)\n",
        "- [How to choose CNN Architecture MNIST](https://www.kaggle.com/cdeotte/how-to-choose-cnn-architecture-mnist#What-is-the-best-CNN-architecture-for-MNIST?)\n",
        "\n",
        "## Some Tutorials on how to build a CNN Model\n",
        "- [Building a Custom Convolutional Neural Network in Keras](https://medium.com/@ODSC/building-a-custom-convolutional-neural-network-in-keras-48171163aa7f)\n",
        "- [The Most Intuitive and Easiest Guide for Convolutional Neural Network](https://towardsdatascience.com/the-most-intuitive-and-easiest-guide-for-convolutional-neural-network-3607be47480)\n",
        "- [MNIST with Keras for Beginners(.99457)](https://www.kaggle.com/adityaecdrid/mnist-with-keras-for-beginners-99457)\n",
        "- [Image Classification in 10 Minutes with MNIST Dataset](https://towardsdatascience.com/image-classification-in-10-minutes-with-mnist-dataset-54c35b77a38d)\n",
        "- [How to Develop a CNN for MNIST Handwritten Digit Classification](https://machinelearningmastery.com/how-to-develop-a-convolutional-neural-network-from-scratch-for-mnist-handwritten-digit-classification/#:~:text=The%20MNIST%20dataset%20is%20an,digits%20between%200%20and%209.)\n",
        "\n",
        "## Feature Engineering\n",
        "- [Why Change Data Dimension Before Feeding Into Keras?](https://stackoverflow.com/a/62991238/12347869)\n",
        "- [Properly Setting the Random Seed in ML Experiments. Not as Simple as You Might Imagine](https://medium.com/@ODSC/properly-setting-the-random-seed-in-ml-experiments-not-as-simple-as-you-might-imagine-219969c84752)\n",
        "- [How to get reproducible results in keras](https://stackoverflow.com/questions/32419510/how-to-get-reproducible-results-in-keras)\n",
        "- [How can I obtain reproducible results using Keras during development?](https://keras.io/getting_started/faq/#how-can-i-obtain-reproducible-results-using-keras-during-development)\n",
        "\n",
        "## Building Layers\n",
        "- [What is the default weight initializer in Keras?](https://stackoverflow.com/questions/54011173/what-is-the-default-weight-initializer-in-keras)\n",
        "- [A Gentle Introduction to Pooling Layers for Convolutional Neural Networks](https://machinelearningmastery.com/pooling-layers-for-convolutional-neural-networks/)\n",
        "- [Using the Keras Flatten Operation in CNN Models with Code Examples](https://missinglink.ai/guides/keras/using-keras-flatten-operation-cnn-models-code-examples/)\n",
        "- [Dropout Neural Network Layer In Keras Explained](https://towardsdatascience.com/machine-learning-part-20-dropout-keras-layers-explained-8c9f6dc4c9ab)\n",
        "- [Changing shape of MNIST for tensorflow CNN](https://stackoverflow.com/questions/50549859/changing-shape-of-mnist-for-tensorflow-cnn)\n",
        "\n",
        "## Model Evaluation \n",
        "- [Sparse_categorical_crossentropy vs categorical_crossentropy (keras, accuracy)](https://datascience.stackexchange.com/questions/41921/sparse-categorical-crossentropy-vs-categorical-crossentropy-keras-accuracy)\n",
        "\n",
        "## Hyper Parameter Tuning With Keras Tuner\n",
        "- [Hyperparameter tuning with Keras Tuner](https://blog.tensorflow.org/2020/01/hyperparameter-tuning-with-keras-tuner.html)\n",
        "- [Why is random search better than grid search for machine learning?](https://analyticsindiamag.com/why-is-random-search-better-than-grid-search-for-machine-learning/#:~:text=Random%20search%20is%20a%20technique,to%20yield%20better%20results%20comparatively.)"
      ]
    }
  ]
}